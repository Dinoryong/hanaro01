{
  "nbformat": 4,
  "nbformat_minor": 0,
  "metadata": {
    "colab": {
      "provenance": [],
      "include_colab_link": true
    },
    "kernelspec": {
      "name": "python3",
      "display_name": "Python 3"
    },
    "language_info": {
      "name": "python"
    }
  },
  "cells": [
    {
      "cell_type": "markdown",
      "metadata": {
        "id": "view-in-github",
        "colab_type": "text"
      },
      "source": [
        "<a href=\"https://colab.research.google.com/github/Dinoryong/hanaro01/blob/main/0525.ipynb\" target=\"_parent\"><img src=\"https://colab.research.google.com/assets/colab-badge.svg\" alt=\"Open In Colab\"/></a>"
      ]
    },
    {
      "cell_type": "markdown",
      "source": [
        "# 판다스 자료 구조"
      ],
      "metadata": {
        "id": "T1Y39Zq1dnB-"
      }
    },
    {
      "cell_type": "markdown",
      "source": [
        "## 시리즈"
      ],
      "metadata": {
        "id": "LxzeemCxdsBD"
      }
    },
    {
      "cell_type": "code",
      "source": [
        "# 라이브러리 불러오기\n",
        "import pandas as pd"
      ],
      "metadata": {
        "id": "ios1d8lBdp2m"
      },
      "execution_count": null,
      "outputs": []
    },
    {
      "cell_type": "code",
      "source": [
        "# 딕셔너리 생성 = 키와 값으로 구성\n",
        "test_dict = {\n",
        "    'a': 1,\n",
        "    'b': 2,\n",
        "    'c': 3\n",
        "}\n",
        "print(test_dict)"
      ],
      "metadata": {
        "colab": {
          "base_uri": "https://localhost:8080/"
        },
        "id": "cSrPvV8MdtJ6",
        "outputId": "1e3af8cc-8c05-46b5-da36-595baad30485"
      },
      "execution_count": null,
      "outputs": [
        {
          "output_type": "stream",
          "name": "stdout",
          "text": [
            "{'a': 1, 'b': 2, 'c': 3}\n"
          ]
        }
      ]
    },
    {
      "cell_type": "code",
      "source": [
        "# 딕셔너리를 시리즈로 변환\n",
        "sr = pd.Series(test_dict)\n",
        "print(sr)\n",
        "# 시리즈의 값은 정수"
      ],
      "metadata": {
        "colab": {
          "base_uri": "https://localhost:8080/"
        },
        "id": "ePz7b3-geMAA",
        "outputId": "cec17937-8bd9-4e04-cbee-f25761e66028"
      },
      "execution_count": null,
      "outputs": [
        {
          "output_type": "stream",
          "name": "stdout",
          "text": [
            "a    1\n",
            "b    2\n",
            "c    3\n",
            "dtype: int64\n"
          ]
        }
      ]
    },
    {
      "cell_type": "code",
      "source": [
        "print(type(sr))"
      ],
      "metadata": {
        "colab": {
          "base_uri": "https://localhost:8080/"
        },
        "id": "sllo7ZUVftWA",
        "outputId": "b4b3efdb-90e0-4493-8030-77f0de6631c0"
      },
      "execution_count": null,
      "outputs": [
        {
          "output_type": "stream",
          "name": "stdout",
          "text": [
            "<class 'pandas.core.series.Series'>\n"
          ]
        }
      ]
    },
    {
      "cell_type": "markdown",
      "source": [
        "## 인덱스"
      ],
      "metadata": {
        "id": "ucuUZPutiE7R"
      }
    },
    {
      "cell_type": "code",
      "execution_count": null,
      "metadata": {
        "colab": {
          "base_uri": "https://localhost:8080/"
        },
        "id": "xCALmezVdjPt",
        "outputId": "dcde86c8-a901-463f-9bb0-9119accdcf8a"
      },
      "outputs": [
        {
          "output_type": "stream",
          "name": "stdout",
          "text": [
            "{'a': 1, 'b': 2, 'c': 3}\n",
            "Index(['a', 'b', 'c'], dtype='object')\n"
          ]
        }
      ],
      "source": [
        "# 이름 = 인덱스 이름 / 라벨\n",
        "test_dict = {\n",
        "    'a': 1,\n",
        "    'b': 2,\n",
        "    'c': 3\n",
        "}\n",
        "print(test_dict)\n",
        "sr = pd.Series(test_dict)\n",
        "# 인덱스 확인\n",
        "print(sr.index)\n",
        "# 데이터 타입이 object = 문자\n",
        "# 인덱스 이름 = a, b, c"
      ]
    },
    {
      "cell_type": "code",
      "source": [
        "# 시리즈가 가진 값이 궁금할때\n",
        "print(sr.values)\n",
        "# 딕셔너리의 키 => 인덱스 이름이 됨\n",
        "# 딕셔너리의 값 => 시리즈의 값이 됨(숫자 int)"
      ],
      "metadata": {
        "colab": {
          "base_uri": "https://localhost:8080/"
        },
        "id": "-UlsgmR-ihIv",
        "outputId": "7aa9e0ea-53ee-4cde-8a17-ea85d171e148"
      },
      "execution_count": null,
      "outputs": [
        {
          "output_type": "stream",
          "name": "stdout",
          "text": [
            "[1 2 3]\n"
          ]
        }
      ]
    },
    {
      "cell_type": "code",
      "source": [
        "# 숫자 = 정수형 위치 인덱스\n",
        "# 리스트 생성\n",
        "# 기본자료형 = 문자열, 숫자열, 불(Bool)\n",
        "test_list = [\"Hello\", 23, 3.14, True]\n",
        "print(test_list)"
      ],
      "metadata": {
        "colab": {
          "base_uri": "https://localhost:8080/"
        },
        "id": "hEd3qyeEiJjz",
        "outputId": "f15b3982-4301-454b-a61d-f59325e33483"
      },
      "execution_count": null,
      "outputs": [
        {
          "output_type": "stream",
          "name": "stdout",
          "text": [
            "['Hello', 23, 3.14, True]\n"
          ]
        }
      ]
    },
    {
      "cell_type": "code",
      "source": [
        "# 리스트를 시리즈로 변환\n",
        "sr = pd.Series(test_list)\n",
        "print(sr)"
      ],
      "metadata": {
        "colab": {
          "base_uri": "https://localhost:8080/"
        },
        "id": "NWt1zJTuiXYD",
        "outputId": "c2cfbaa0-3491-4c6a-cb75-379fc577148b"
      },
      "execution_count": null,
      "outputs": [
        {
          "output_type": "stream",
          "name": "stdout",
          "text": [
            "0    Hello\n",
            "1       23\n",
            "2     3.14\n",
            "3     True\n",
            "dtype: object\n"
          ]
        }
      ]
    },
    {
      "cell_type": "code",
      "source": [
        "# 인덱스 확인\n",
        "print(sr.index)\n",
        "# 값 확인\n",
        "print(sr.values)\n",
        "# 리스트의 인덱스가 => 인덱스 숫자가 되었다\n",
        "# 리스트의 요소 => 값이 되고 => 기본자료형이 됨\n",
        " # Range(정수) : (시작번호, 끝번호-1)"
      ],
      "metadata": {
        "colab": {
          "base_uri": "https://localhost:8080/"
        },
        "id": "QdyuUUEjlA0W",
        "outputId": "6c776ebb-b5ed-4027-b932-1586a9190f49"
      },
      "execution_count": null,
      "outputs": [
        {
          "output_type": "stream",
          "name": "stdout",
          "text": [
            "RangeIndex(start=0, stop=4, step=1)\n",
            "['Hello' 23 3.14 True]\n"
          ]
        }
      ]
    },
    {
      "cell_type": "markdown",
      "source": [
        "# 원소 선택"
      ],
      "metadata": {
        "id": "qwi-JdzdpGYx"
      }
    },
    {
      "cell_type": "code",
      "source": [
        "# 인덱스 사용법\n",
        "# 튜플 생성\n",
        "# 리스트와 유사\n",
        "# 차이점 : 소괄호 사용, 원소(개별 값) 변경 불가\n",
        "# 기본자료형\n",
        "test_tuple = (\"정대만\", 184, 73.5, True)\n",
        "print(test_tuple)"
      ],
      "metadata": {
        "colab": {
          "base_uri": "https://localhost:8080/"
        },
        "id": "FGqt6TDEpJ_x",
        "outputId": "568a2cd5-b738-4839-e637-02d5a9663087"
      },
      "execution_count": null,
      "outputs": [
        {
          "output_type": "stream",
          "name": "stdout",
          "text": [
            "('정대만', 184, 73.5, True)\n"
          ]
        }
      ]
    },
    {
      "cell_type": "code",
      "source": [
        "# 튜플을 시리즈로 변환\n",
        "sr = pd.Series(test_tuple, index = ['이름', '키', '체중', '불꽃남자'])\n",
        "print(sr)"
      ],
      "metadata": {
        "colab": {
          "base_uri": "https://localhost:8080/"
        },
        "id": "wfB-ruzip0-o",
        "outputId": "a6719d39-bae6-42aa-91df-ebafd753e513"
      },
      "execution_count": null,
      "outputs": [
        {
          "output_type": "stream",
          "name": "stdout",
          "text": [
            "이름       정대만\n",
            "키        184\n",
            "체중      73.5\n",
            "불꽃남자    True\n",
            "dtype: object\n"
          ]
        }
      ]
    },
    {
      "cell_type": "code",
      "source": [
        "# 하나의 원소 선택\n",
        "# 숫자로 하나의 원소를 선택\n",
        "print(sr[0]) # 이름\n",
        "print(sr[1]) # 키\n",
        "print(sr[2]) # 체중\n",
        "print(sr[3]) # 불꽃남자"
      ],
      "metadata": {
        "colab": {
          "base_uri": "https://localhost:8080/"
        },
        "id": "AO_4HavQq4l0",
        "outputId": "0b05e7ac-38d6-43eb-dc4e-5d4b34cbd791"
      },
      "execution_count": null,
      "outputs": [
        {
          "output_type": "stream",
          "name": "stdout",
          "text": [
            "정대만\n",
            "184\n",
            "73.5\n",
            "True\n"
          ]
        }
      ]
    },
    {
      "cell_type": "code",
      "source": [
        "# 이름으로 하나의 원소를 선택\n",
        "print(sr['이름']) # 이름\n",
        "print(sr['키']) # 키\n",
        "print(sr['체중']) # 체중\n",
        "print(sr['불꽃남자']) # 불꽃남자"
      ],
      "metadata": {
        "colab": {
          "base_uri": "https://localhost:8080/"
        },
        "id": "hHZm9caksMMq",
        "outputId": "1756f352-1e5c-44f5-f7da-f13efad92711"
      },
      "execution_count": null,
      "outputs": [
        {
          "output_type": "stream",
          "name": "stdout",
          "text": [
            "정대만\n",
            "184\n",
            "73.5\n",
            "True\n"
          ]
        }
      ]
    },
    {
      "cell_type": "code",
      "source": [
        "# 여러 개의 원소 선택 = 리스트 형태로 입력해야 함\n",
        "# 숫자\n",
        "print(sr[[0,3]]) # 이름 ,불꽃남자\n",
        "print(sr[[0,3]]) # 키, 불꽃남자\n",
        "#이름\n",
        "print(sr[['이름', '체중']])\n",
        "print(sr[['키', '불꽃남자']])"
      ],
      "metadata": {
        "colab": {
          "base_uri": "https://localhost:8080/"
        },
        "id": "19cv050DsbMV",
        "outputId": "9171639d-0a69-4460-ed77-081b61fd622b"
      },
      "execution_count": null,
      "outputs": [
        {
          "output_type": "stream",
          "name": "stdout",
          "text": [
            "이름       정대만\n",
            "불꽃남자    True\n",
            "dtype: object\n",
            "이름       정대만\n",
            "불꽃남자    True\n",
            "dtype: object\n",
            "이름     정대만\n",
            "체중    73.5\n",
            "dtype: object\n",
            "키        184\n",
            "불꽃남자    True\n",
            "dtype: object\n"
          ]
        }
      ]
    },
    {
      "cell_type": "code",
      "source": [
        "# 범위를 지정하여 여러개의 원소 선택 = 슬라이싱\n",
        "# 숫자 = 끝 번호 포함하지 않음\n",
        "print(sr[0:2]) # 이름, 키를 뽑기\n",
        "print(sr[0:1+1]) # 위와 같음\n",
        "print(sr[1:4]) # 키, 체중, 불꽃남자\n",
        "print(sr[1:3+1]) # 위와 같음\n",
        "\n",
        "# 이름\n",
        "print(sr['이름':'키']) # 이름, 키\n",
        "print(sr['키':'불꽃남자']) # 키, 체중, 불꽃남자"
      ],
      "metadata": {
        "id": "yfoImLnUtwWo"
      },
      "execution_count": null,
      "outputs": []
    },
    {
      "cell_type": "code",
      "source": [],
      "metadata": {
        "id": "DlYr2z8HxsWY"
      },
      "execution_count": null,
      "outputs": []
    },
    {
      "cell_type": "markdown",
      "source": [
        "## 데이터프레임"
      ],
      "metadata": {
        "id": "wCArNd29xw83"
      }
    },
    {
      "cell_type": "code",
      "source": [
        "# 라이브러리 불러오기\n",
        "import pandas as pd"
      ],
      "metadata": {
        "id": "YkDIggMOxyf1"
      },
      "execution_count": null,
      "outputs": []
    },
    {
      "cell_type": "code",
      "source": [
        "# 딕셔너리 = 키 & 여러 개의 값 (리스트 형태)\n",
        "test_dict = {\n",
        "    'c1' : [1,2,3],\n",
        "    'c2' : [4,5,6],\n",
        "    'c3' : [7,8,9],\n",
        "    'c4' : [10,11,12]\n",
        "}\n",
        "print(test_dict)"
      ],
      "metadata": {
        "colab": {
          "base_uri": "https://localhost:8080/"
        },
        "id": "yAtMiHdVx19t",
        "outputId": "1b332c9a-b2a2-45be-8b70-557e17b235cc"
      },
      "execution_count": null,
      "outputs": [
        {
          "output_type": "stream",
          "name": "stdout",
          "text": [
            "{'c1': [1, 2, 3], 'c2': [4, 5, 6], 'c3': [7, 8, 9], 'c4': [10, 11, 12]}\n"
          ]
        }
      ]
    },
    {
      "cell_type": "code",
      "source": [
        "# 딕셔너리를 데이터 프레임으로 변환\n",
        "df = pd.DataFrame(test_dict)\n",
        "print(df)\n",
        "print(type(df))\n",
        "# 딕셔너리의 키 = 데이터프레임의 열 이름\n",
        "# 딕셔너리의 값 = 데이터프레임의 열 값\n",
        "# 딕셔너리의 값 = 리스트의 요소 개수 = 행 인덱스 "
      ],
      "metadata": {
        "colab": {
          "base_uri": "https://localhost:8080/"
        },
        "id": "jv8S2r7Nyh4s",
        "outputId": "67609471-405f-4a2c-db53-6d2fcc8a094d"
      },
      "execution_count": null,
      "outputs": [
        {
          "output_type": "stream",
          "name": "stdout",
          "text": [
            "   c1  c2  c3  c4\n",
            "0   1   4   7  10\n",
            "1   2   5   8  11\n",
            "2   3   6   9  12\n",
            "<class 'pandas.core.frame.DataFrame'>\n"
          ]
        }
      ]
    },
    {
      "cell_type": "markdown",
      "source": [
        "## 인덱스"
      ],
      "metadata": {
        "id": "rFeQunOzMl7I"
      }
    },
    {
      "cell_type": "code",
      "source": [
        "# 행 인덱스와 열 이름 설정하여 데이터프레임 생성\n",
        "df = pd.DataFrame( [[\"정대만\", 19, 184],\n",
        "                    [\"서태웅\", 17, 187]], \n",
        "                  index = ['선수1', '선수2'],  # 행 인덱스\n",
        "                  columns = ['이름', '나이', '키'] ) # 열 이름 \n",
        "print(df)"
      ],
      "metadata": {
        "colab": {
          "base_uri": "https://localhost:8080/"
        },
        "id": "mmyMId7oFN-3",
        "outputId": "3a82f3c0-952d-4a26-b77b-2223fd0216dd"
      },
      "execution_count": null,
      "outputs": [
        {
          "output_type": "stream",
          "name": "stdout",
          "text": [
            "      이름  나이    키\n",
            "선수1  정대만  19  184\n",
            "선수2  서태웅  17  187\n"
          ]
        }
      ]
    },
    {
      "cell_type": "code",
      "source": [
        "# 행 인덱스 확인\n",
        "print(df.index)\n",
        "\n",
        "# 열 이름 확인\n",
        "print(df.columns)"
      ],
      "metadata": {
        "colab": {
          "base_uri": "https://localhost:8080/"
        },
        "id": "yTDkaGeqGOKJ",
        "outputId": "85cbb5b6-5099-4869-eeba-2ba104ff5bb9"
      },
      "execution_count": null,
      "outputs": [
        {
          "output_type": "stream",
          "name": "stdout",
          "text": [
            "Index(['선수1', '선수2'], dtype='object')\n",
            "Index(['이름', '나이', '키'], dtype='object')\n"
          ]
        }
      ]
    },
    {
      "cell_type": "code",
      "source": [
        "# 행 인덱스, 열 이름 => 이름 변경\n",
        "df.index = ['학생1', '학생2']\n",
        "df.columns = ['성명', '연령', '신장']\n",
        "print(df)"
      ],
      "metadata": {
        "colab": {
          "base_uri": "https://localhost:8080/"
        },
        "id": "ZLp4UqZMGqJb",
        "outputId": "622f0747-4ede-486d-c45f-5d286bedd13e"
      },
      "execution_count": null,
      "outputs": [
        {
          "output_type": "stream",
          "name": "stdout",
          "text": [
            "      성명  연령   신장\n",
            "학생1  정대만  19  184\n",
            "학생2  서태웅  17  187\n"
          ]
        }
      ]
    },
    {
      "cell_type": "code",
      "source": [
        "# 메소드 : 클래스 내의 함수\n",
        "# 행 인덱스, 열이름 => 이름 변경\n",
        "# rename 메소드 함수에 의해 반환되는 값은 새로운 데이터프레임\n",
        "df_new = df.rename(index = {'학생1': '선수1', '학생2': '선수2'})\n",
        "print(df)\n",
        "print(df_new)"
      ],
      "metadata": {
        "colab": {
          "base_uri": "https://localhost:8080/"
        },
        "id": "RFaooF5nIGkB",
        "outputId": "f5a2458b-4536-41b3-ae09-7d1bd21335f3"
      },
      "execution_count": null,
      "outputs": [
        {
          "output_type": "stream",
          "name": "stdout",
          "text": [
            "      이름  나이    키\n",
            "선수1  정대만  19  184\n",
            "선수2  서태웅  17  187\n",
            "      이름  나이    키\n",
            "선수1  정대만  19  184\n",
            "선수2  서태웅  17  187\n"
          ]
        }
      ]
    },
    {
      "cell_type": "code",
      "source": [
        "# 원본을 바로 변경하고자 할땐 rename메소드와 inplace를 사용한다\n",
        "print(df) # 변경 전 모습\n",
        "df.rename(index = {'학생1': '선수1', '학생2': '선수2'}, inplace = True)\n",
        "print(df) # 변경 후 모습"
      ],
      "metadata": {
        "colab": {
          "base_uri": "https://localhost:8080/"
        },
        "id": "WHiCdTWIIqU0",
        "outputId": "3e5a0ef6-7611-4357-fd19-af0fe27e08e5"
      },
      "execution_count": null,
      "outputs": [
        {
          "output_type": "stream",
          "name": "stdout",
          "text": [
            "      성명  연령   신장\n",
            "학생1  정대만  19  184\n",
            "학생2  서태웅  17  187\n",
            "      성명  연령   신장\n",
            "선수1  정대만  19  184\n",
            "선수2  서태웅  17  187\n"
          ]
        }
      ]
    },
    {
      "cell_type": "code",
      "source": [
        "df_new = df.rename(columns = {'성명': '이름', \n",
        "                              '연령': '나이', \n",
        "                              '신장': '키'})\n",
        "print(df)\n",
        "print(df_new)"
      ],
      "metadata": {
        "colab": {
          "base_uri": "https://localhost:8080/"
        },
        "id": "2cvbeIOYKAz8",
        "outputId": "c7f14a02-aaf1-4a04-d654-abcc7f501810"
      },
      "execution_count": null,
      "outputs": [
        {
          "output_type": "stream",
          "name": "stdout",
          "text": [
            "      성명  연령   신장\n",
            "선수1  정대만  19  184\n",
            "선수2  서태웅  17  187\n",
            "      이름  나이    키\n",
            "선수1  정대만  19  184\n",
            "선수2  서태웅  17  187\n"
          ]
        }
      ]
    },
    {
      "cell_type": "code",
      "source": [
        "# 원본을 바로 변경(열이름)\n",
        "print(df) # 변경 전 모습\n",
        "df.rename(columns = {'성명': '이름', \n",
        "                  '연령': '나이', \n",
        "                  '신장': '키'}, inplace = True)\n",
        "print(df) # 변경 후 모습"
      ],
      "metadata": {
        "colab": {
          "base_uri": "https://localhost:8080/"
        },
        "id": "miLtWlN8Ken9",
        "outputId": "1850a9ce-27c7-471a-8b68-4021581ce5e2"
      },
      "execution_count": null,
      "outputs": [
        {
          "output_type": "stream",
          "name": "stdout",
          "text": [
            "      성명  연령   신장\n",
            "선수1  정대만  19  184\n",
            "선수2  서태웅  17  187\n",
            "      이름  나이    키\n",
            "선수1  정대만  19  184\n",
            "선수2  서태웅  17  187\n"
          ]
        }
      ]
    },
    {
      "cell_type": "markdown",
      "source": [
        "### 행과 열 삭제"
      ],
      "metadata": {
        "id": "TVPO0YDtMz_d"
      }
    },
    {
      "cell_type": "code",
      "source": [
        "# drop 메소드 함수 반환 결과는 새로운 데이터프레임\n",
        "score_dict = {\n",
        "    'point3': [24, 3, 9],\n",
        "    'point2': [6, 4, 18],\n",
        "    'ft': [3, 1, 6]\n",
        "}\n",
        "print(score_dict)"
      ],
      "metadata": {
        "colab": {
          "base_uri": "https://localhost:8080/"
        },
        "id": "MKx7_eCVM2ej",
        "outputId": "a840bb06-6b4d-481f-f309-fd6a0e0562eb"
      },
      "execution_count": null,
      "outputs": [
        {
          "output_type": "stream",
          "name": "stdout",
          "text": [
            "{'point3': [24, 3, 9], 'point2': [6, 4, 18], 'ft': [3, 1, 6]}\n"
          ]
        }
      ]
    },
    {
      "cell_type": "code",
      "source": [
        "df = pd.DataFrame(score_dict, index = ['정대만', '강백호', '서태웅'])\n",
        "print(df)"
      ],
      "metadata": {
        "colab": {
          "base_uri": "https://localhost:8080/"
        },
        "id": "Uevh0nxbNdKf",
        "outputId": "34f98277-2697-4b33-d087-771a3f81d74b"
      },
      "execution_count": null,
      "outputs": [
        {
          "output_type": "stream",
          "name": "stdout",
          "text": [
            "     point3  point2  ft\n",
            "정대만      24       6   3\n",
            "강백호       3       4   1\n",
            "서태웅       9      18   6\n"
          ]
        }
      ]
    },
    {
      "cell_type": "code",
      "source": [
        "df1 = df[:]\n",
        "print(df1)"
      ],
      "metadata": {
        "colab": {
          "base_uri": "https://localhost:8080/"
        },
        "id": "peUQsZvtNr60",
        "outputId": "2b6c691b-2b0b-4692-c740-82dae015e2ba"
      },
      "execution_count": null,
      "outputs": [
        {
          "output_type": "stream",
          "name": "stdout",
          "text": [
            "     point3  point2  ft\n",
            "정대만      24       6   3\n",
            "강백호       3       4   1\n",
            "서태웅       9      18   6\n"
          ]
        }
      ]
    },
    {
      "cell_type": "code",
      "source": [
        "# drop 메소드 함수 반환 결과는 새로운 데이터 프레임\n",
        "# 행 삭제 => axis = 0\n",
        "print(df1) # 변경 전\n",
        "df2 = df1.drop('강백호', axis = 0)\n",
        "print(df2) # 변경 후 = 새로운 데이터프레임"
      ],
      "metadata": {
        "colab": {
          "base_uri": "https://localhost:8080/"
        },
        "id": "EJZLFFoWN9lt",
        "outputId": "8bb1c738-4f58-4d6e-970f-56b41c2bff15"
      },
      "execution_count": null,
      "outputs": [
        {
          "output_type": "stream",
          "name": "stdout",
          "text": [
            "     point3  point2  ft\n",
            "정대만      24       6   3\n",
            "강백호       3       4   1\n",
            "서태웅       9      18   6\n",
            "     point3  point2  ft\n",
            "정대만      24       6   3\n",
            "서태웅       9      18   6\n"
          ]
        }
      ]
    },
    {
      "cell_type": "code",
      "source": [
        "print(df1) # 변경 전\n",
        "df1.drop('강백호', axis = 0 , inplace = True)\n",
        "print(df1) # 변경 후 = df1"
      ],
      "metadata": {
        "id": "DEAGlhDCOZ-V"
      },
      "execution_count": null,
      "outputs": []
    },
    {
      "cell_type": "code",
      "source": [
        "# 사본 저장\n",
        "df1 = df[:]\n",
        "# 열 삭제 => axis = 1\n",
        "print(df1) # 변경 전\n",
        "df2 = df1.drop('강백호', axis = 0)\n",
        "print(df2) # 변경 후 = 새로운 데이터프레임\n",
        "print(df1) # 변경 전\n",
        "\n",
        "# inplace = True를 사용하면 원본이 변경된다\n",
        "df1.drop('ft', axis = 1 , inplace = True)\n",
        "print(df1) # 변경 후 = df1"
      ],
      "metadata": {
        "id": "TcpUvc5aTQ5o"
      },
      "execution_count": null,
      "outputs": []
    },
    {
      "cell_type": "code",
      "source": [
        "# 여러 개의 행, 열 삭제 => 리스트로 묶어서 삭제한다\n",
        "# 사본 저장\n",
        "df1 = df[:]\n",
        "print(df1) # 변경 전\n",
        "\n",
        "# 여러 개의 행을 삭제\n",
        "df1.drop(['강백호', '서태웅'], axis = 0, inplace = True)\n",
        "print(df1) # 변경 후\n",
        "\n",
        "# 사본 저장\n",
        "df1 = df[:]\n",
        "print(df1) # 변경 전\n",
        "\n",
        "# 여러 개의 열을 삭제\n",
        "df1.drop(['point2','ft'], axis = 1, inplace = True)\n",
        "print(df1) # 변경 후"
      ],
      "metadata": {
        "id": "KfDtEKx2UcYB"
      },
      "execution_count": null,
      "outputs": []
    },
    {
      "cell_type": "markdown",
      "source": [
        "## 행 선택"
      ],
      "metadata": {
        "id": "WucGQrD_WLBP"
      }
    },
    {
      "cell_type": "code",
      "source": [
        "# 딕셔너리 생성\n",
        "score_dict = {\n",
        "    'point3': [24, 3, 9],\n",
        "    'point2': [6, 4, 18],\n",
        "    'ft': [3, 1, 6]\n",
        "}\n",
        "print(score_dict)"
      ],
      "metadata": {
        "id": "17oHcEZeWNQ_"
      },
      "execution_count": null,
      "outputs": []
    },
    {
      "cell_type": "code",
      "source": [
        "# 딕셔너리를 데이터프레임으로 변환\n",
        "df = pd.DataFrame(score_dict, index = ['정대만', '강백호', '서태웅'])\n",
        "print(df)"
      ],
      "metadata": {
        "id": "uup3pRIkWMX_"
      },
      "execution_count": null,
      "outputs": []
    },
    {
      "cell_type": "code",
      "source": [
        "# loc 인덱서 = 이름\n",
        "print(df.loc['정대만']) # 시리즈 (대괄호 한번)\n",
        "print(df.loc[['정대만']]) # 데이터프레임 (대괄호 두번)\n"
      ],
      "metadata": {
        "colab": {
          "base_uri": "https://localhost:8080/"
        },
        "id": "k966Cg5cW-8_",
        "outputId": "5ae3b200-c8da-41b8-90d5-2cd29a981958"
      },
      "execution_count": null,
      "outputs": [
        {
          "output_type": "stream",
          "name": "stdout",
          "text": [
            "point3    24\n",
            "point2     6\n",
            "ft         3\n",
            "Name: 정대만, dtype: int64\n",
            "     point3  point2  ft\n",
            "정대만      24       6   3\n"
          ]
        }
      ]
    },
    {
      "cell_type": "code",
      "source": [
        "# iloc 인덱서 = 숫자\n",
        "print(df.iloc[0]) #시리즈 \n",
        "print(df.iloc[[0]]) # 데이터프레임"
      ],
      "metadata": {
        "id": "Yv__VGe1YBwL"
      },
      "execution_count": null,
      "outputs": []
    },
    {
      "cell_type": "code",
      "source": [
        "# 여러 개의 행 선택\n",
        "\n",
        "print(df.loc[['정대만','서태웅']]) # 데이터프레임 (대괄호 두번)\n",
        "print(df.iloc[[0,2]]) # 데이터프레임"
      ],
      "metadata": {
        "colab": {
          "base_uri": "https://localhost:8080/"
        },
        "id": "lTR8HzrSYWsl",
        "outputId": "f31f585a-0e37-450a-8495-d7770a8c3e5a"
      },
      "execution_count": null,
      "outputs": [
        {
          "output_type": "stream",
          "name": "stdout",
          "text": [
            "     point3  point2  ft\n",
            "정대만      24       6   3\n",
            "서태웅       9      18   6\n",
            "     point3  point2  ft\n",
            "정대만      24       6   3\n",
            "서태웅       9      18   6\n"
          ]
        }
      ]
    },
    {
      "cell_type": "code",
      "source": [
        "# 여러 개의 행 선택 (범위 지정 = 슬라이싱)\n",
        "\n",
        "print(df.loc['강백호':'서태웅']) # 데이터프레임 (대괄호 두번)\n",
        "print(df.iloc[0:1+1]) # 데이터프레임"
      ],
      "metadata": {
        "colab": {
          "base_uri": "https://localhost:8080/"
        },
        "id": "az2X8P0OYuHf",
        "outputId": "6ec04798-150f-470f-9e89-209128fb30ec"
      },
      "execution_count": null,
      "outputs": [
        {
          "output_type": "stream",
          "name": "stdout",
          "text": [
            "     point3  point2  ft\n",
            "강백호       3       4   1\n",
            "서태웅       9      18   6\n",
            "     point3  point2  ft\n",
            "정대만      24       6   3\n",
            "강백호       3       4   1\n"
          ]
        }
      ]
    },
    {
      "cell_type": "markdown",
      "source": [
        "### 열 선택"
      ],
      "metadata": {
        "id": "5AQ8edKQaGa5"
      }
    },
    {
      "cell_type": "code",
      "source": [
        "# 열 선택하는 방법 3가지\n",
        "# 열 하나 선택\n",
        "print(df['point3']) # 시리즈\n",
        "print(df[['point3']]) # 데이터프레임\n",
        "print(df.point3) # 시리즈\n",
        "\n",
        "# 여러개의 열 선택\n",
        "print(df[['point3', 'ft']]) # 데이터프레임"
      ],
      "metadata": {
        "colab": {
          "base_uri": "https://localhost:8080/"
        },
        "id": "nlNxnkuaaGHS",
        "outputId": "264d4a6d-9658-4073-9e4c-e573d245f408"
      },
      "execution_count": null,
      "outputs": [
        {
          "output_type": "stream",
          "name": "stdout",
          "text": [
            "정대만    24\n",
            "강백호     3\n",
            "서태웅     9\n",
            "Name: point3, dtype: int64\n",
            "     point3\n",
            "정대만      24\n",
            "강백호       3\n",
            "서태웅       9\n",
            "정대만    24\n",
            "강백호     3\n",
            "서태웅     9\n",
            "Name: point3, dtype: int64\n",
            "     point3  ft\n",
            "정대만      24   3\n",
            "강백호       3   1\n",
            "서태웅       9   6\n"
          ]
        }
      ]
    },
    {
      "cell_type": "markdown",
      "source": [
        "### 원소 선택"
      ],
      "metadata": {
        "id": "Qi2aHZv4btH-"
      }
    },
    {
      "cell_type": "code",
      "source": [
        "# = 행과 열을 동시에 선택\n",
        "print(df)"
      ],
      "metadata": {
        "colab": {
          "base_uri": "https://localhost:8080/"
        },
        "id": "IqQrHwNcaPkY",
        "outputId": "5563ec78-6b26-45d9-8aaa-7c481b8e9deb"
      },
      "execution_count": null,
      "outputs": [
        {
          "output_type": "stream",
          "name": "stdout",
          "text": [
            "     point3  point2  ft\n",
            "정대만      24       6   3\n",
            "강백호       3       4   1\n",
            "서태웅       9      18   6\n"
          ]
        }
      ]
    },
    {
      "cell_type": "code",
      "source": [
        "# 행만 선택\n",
        "print(df.loc['정대만'])\n",
        "print(df.iloc[0])"
      ],
      "metadata": {
        "colab": {
          "base_uri": "https://localhost:8080/"
        },
        "id": "xa1hbiz6b6F6",
        "outputId": "5a826bfb-a91e-4639-82ad-084a33dbea18"
      },
      "execution_count": null,
      "outputs": [
        {
          "output_type": "stream",
          "name": "stdout",
          "text": [
            "point3    24\n",
            "point2     6\n",
            "ft         3\n",
            "Name: 정대만, dtype: int64\n",
            "point3    24\n",
            "point2     6\n",
            "ft         3\n",
            "Name: 정대만, dtype: int64\n"
          ]
        }
      ]
    },
    {
      "cell_type": "code",
      "source": [
        "# 열만 선택 [행,열] = 모든 행을 선택\n",
        "\n",
        "print(df.loc[:,'point3'])\n",
        "print(df.iloc[:,0])"
      ],
      "metadata": {
        "colab": {
          "base_uri": "https://localhost:8080/"
        },
        "id": "0pYKU8bBcE76",
        "outputId": "9aded36d-8880-47a8-dcc0-c6c33019b80f"
      },
      "execution_count": null,
      "outputs": [
        {
          "output_type": "stream",
          "name": "stdout",
          "text": [
            "정대만    24\n",
            "강백호     3\n",
            "서태웅     9\n",
            "Name: point3, dtype: int64\n",
            "정대만    24\n",
            "강백호     3\n",
            "서태웅     9\n",
            "Name: point3, dtype: int64\n"
          ]
        }
      ]
    },
    {
      "cell_type": "code",
      "source": [
        "# 행과 열을 동시에 선택\n",
        "print(df.loc['정대만' ,'point3'])\n",
        "print(df.iloc[0,0])"
      ],
      "metadata": {
        "colab": {
          "base_uri": "https://localhost:8080/"
        },
        "id": "-AgS1zWscqUJ",
        "outputId": "eeadec16-26a4-45e6-b8cf-8a5e5c9f1864"
      },
      "execution_count": null,
      "outputs": [
        {
          "output_type": "stream",
          "name": "stdout",
          "text": [
            "24\n",
            "24\n"
          ]
        }
      ]
    },
    {
      "cell_type": "code",
      "source": [
        "# 여러 개의 행과 하나의 열을 선택\n",
        "print(df.loc[['정대만', '서태웅'],'point2'])\n",
        "print(df.iloc[[0,2], 1])"
      ],
      "metadata": {
        "colab": {
          "base_uri": "https://localhost:8080/"
        },
        "id": "uNBc0HEPgCOm",
        "outputId": "33a45c0f-509b-437f-99b1-479b72aea9df"
      },
      "execution_count": null,
      "outputs": [
        {
          "output_type": "stream",
          "name": "stdout",
          "text": [
            "정대만     6\n",
            "서태웅    18\n",
            "Name: point2, dtype: int64\n",
            "정대만     6\n",
            "서태웅    18\n",
            "Name: point2, dtype: int64\n"
          ]
        }
      ]
    },
    {
      "cell_type": "code",
      "source": [
        "# 하나의 행과 여러 개의 열 선택\n",
        "print(df.loc['정대만',['point3','ft']])\n",
        "print(df.iloc[0,[0,2]])"
      ],
      "metadata": {
        "colab": {
          "base_uri": "https://localhost:8080/"
        },
        "id": "DsL6A6AMg0eE",
        "outputId": "9fb0a500-1cad-4fb4-ea14-4ca58701dfc4"
      },
      "execution_count": null,
      "outputs": [
        {
          "output_type": "stream",
          "name": "stdout",
          "text": [
            "point3    24\n",
            "ft         3\n",
            "Name: 정대만, dtype: int64\n",
            "point3    24\n",
            "ft         3\n",
            "Name: 정대만, dtype: int64\n"
          ]
        }
      ]
    },
    {
      "cell_type": "code",
      "source": [
        "# 여러 개의 행과 여러 개의 열 선택\n",
        "print(df.loc[['정대만', '서태웅'],['point3','ft']])\n",
        "print(df.iloc[[0,2], [0,2]])"
      ],
      "metadata": {
        "colab": {
          "base_uri": "https://localhost:8080/"
        },
        "id": "EGiddps1hVqi",
        "outputId": "49a83bf6-3344-41e4-9e07-1f0021159917"
      },
      "execution_count": null,
      "outputs": [
        {
          "output_type": "stream",
          "name": "stdout",
          "text": [
            "     point3  ft\n",
            "정대만      24   3\n",
            "서태웅       9   6\n",
            "     point3  ft\n",
            "정대만      24   3\n",
            "서태웅       9   6\n"
          ]
        }
      ]
    },
    {
      "cell_type": "code",
      "source": [
        "# 여러 개의 행과 여러 개의 열 선택 (by slicing)\n",
        "print(df.loc['정대만':'서태웅','point3':'ft'])\n",
        "print(df.iloc[0:2+1, 0:2+1])"
      ],
      "metadata": {
        "colab": {
          "base_uri": "https://localhost:8080/"
        },
        "id": "RoLjBdDhhwUR",
        "outputId": "580028aa-693e-42c0-bedb-4c8f2a7a7f27"
      },
      "execution_count": null,
      "outputs": [
        {
          "output_type": "stream",
          "name": "stdout",
          "text": [
            "     point3  point2  ft\n",
            "정대만      24       6   3\n",
            "강백호       3       4   1\n",
            "서태웅       9      18   6\n",
            "     point3  point2  ft\n",
            "정대만      24       6   3\n",
            "강백호       3       4   1\n",
            "서태웅       9      18   6\n"
          ]
        }
      ]
    },
    {
      "cell_type": "markdown",
      "source": [
        "### 열 추가"
      ],
      "metadata": {
        "id": "TQiyrD2mjebo"
      }
    },
    {
      "cell_type": "code",
      "source": [
        "print(df)"
      ],
      "metadata": {
        "colab": {
          "base_uri": "https://localhost:8080/"
        },
        "id": "ww_emx5rjdeI",
        "outputId": "9d6433d1-bcf4-4052-924d-e27de91d2f2e"
      },
      "execution_count": null,
      "outputs": [
        {
          "output_type": "stream",
          "name": "stdout",
          "text": [
            "     point3  point2  ft\n",
            "정대만      24       6   3\n",
            "강백호       3       4   1\n",
            "서태웅       9      18   6\n"
          ]
        }
      ]
    },
    {
      "cell_type": "code",
      "source": [
        "# 전부 같은 값을 가진 열 추가\n",
        "df['foul'] = 2\n",
        "print(df)"
      ],
      "metadata": {
        "colab": {
          "base_uri": "https://localhost:8080/"
        },
        "id": "AWnvGCY0jidO",
        "outputId": "e51a7fa9-f623-4f8c-ff1b-60aab07e6c40"
      },
      "execution_count": null,
      "outputs": [
        {
          "output_type": "stream",
          "name": "stdout",
          "text": [
            "     point3  point2  ft  foul\n",
            "정대만      24       6   3     2\n",
            "강백호       3       4   1     2\n",
            "서태웅       9      18   6     2\n"
          ]
        }
      ]
    },
    {
      "cell_type": "code",
      "source": [
        "# 다른 값을 가진 열을 추가 = 리스트 형태로..\n",
        "df['rebound'] = [1, 10, 5]\n",
        "print(df)"
      ],
      "metadata": {
        "colab": {
          "base_uri": "https://localhost:8080/"
        },
        "id": "__4TLvI-j7uF",
        "outputId": "2fe6b469-7d65-4d48-9778-a32aefe725c0"
      },
      "execution_count": null,
      "outputs": [
        {
          "output_type": "stream",
          "name": "stdout",
          "text": [
            "     point3  point2  ft  foul  rebound\n",
            "정대만      24       6   3     2        1\n",
            "강백호       3       4   1     2       10\n",
            "서태웅       9      18   6     2        5\n"
          ]
        }
      ]
    },
    {
      "cell_type": "markdown",
      "source": [
        "### 행 추가"
      ],
      "metadata": {
        "id": "zOzjE-ipkf5K"
      }
    },
    {
      "cell_type": "code",
      "source": [
        "# 행 3* 열 5\n",
        "print(df)"
      ],
      "metadata": {
        "colab": {
          "base_uri": "https://localhost:8080/"
        },
        "id": "juCBpwFNkF3n",
        "outputId": "4abe1a99-b9e1-48ed-f27d-cafe3c8ddd9e"
      },
      "execution_count": null,
      "outputs": [
        {
          "output_type": "stream",
          "name": "stdout",
          "text": [
            "     point3  point2  ft  foul  rebound\n",
            "정대만      24       6   3     2        1\n",
            "강백호       3       4   1     2       10\n",
            "서태웅       9      18   6     2        5\n"
          ]
        }
      ]
    },
    {
      "cell_type": "code",
      "source": [
        "# 전부 같은 값을 가진 행 추가\n",
        "df.loc['채치수'] = 0\n",
        "print(df)"
      ],
      "metadata": {
        "colab": {
          "base_uri": "https://localhost:8080/"
        },
        "id": "VyqqE0vfkj9_",
        "outputId": "01875063-814a-4564-bc31-c122f633fcf3"
      },
      "execution_count": null,
      "outputs": [
        {
          "output_type": "stream",
          "name": "stdout",
          "text": [
            "     point3  point2  ft  foul  rebound\n",
            "정대만      24       6   3     2        1\n",
            "강백호       3       4   1     2       10\n",
            "서태웅       9      18   6     2        5\n",
            "채치수       0       0   0     0        0\n"
          ]
        }
      ]
    },
    {
      "cell_type": "code",
      "source": [
        "# 다른 값을 가진 행 추가 = 리스트 형태\n",
        "df.loc['송태섭'] = [3,10, 6, 3, 0]\n",
        "print(df)\n"
      ],
      "metadata": {
        "id": "wquJKFMGk-6d"
      },
      "execution_count": null,
      "outputs": []
    },
    {
      "cell_type": "markdown",
      "source": [
        "### 원소 값 변경"
      ],
      "metadata": {
        "id": "2Npv-Qz-mHYr"
      }
    },
    {
      "cell_type": "code",
      "source": [
        "# 행과 열을 동시에 선택해서 값을 변경\n",
        "print(df)\n",
        "# 행 5개 * 열 5개"
      ],
      "metadata": {
        "colab": {
          "base_uri": "https://localhost:8080/"
        },
        "id": "Z-toiUSxlQUK",
        "outputId": "7849c67e-cf7a-4247-ab8d-fbbce9223230"
      },
      "execution_count": null,
      "outputs": [
        {
          "output_type": "stream",
          "name": "stdout",
          "text": [
            "     point3  point2  ft  foul  rebound\n",
            "정대만      24       6   3     2        1\n",
            "강백호       3       4   1     2       10\n",
            "서태웅       9      18   6     2        5\n",
            "채치수       0       0   0     0        0\n",
            "송태섭       3      10   6     3        0\n",
            "합계       78      76  32    18       32\n"
          ]
        }
      ]
    },
    {
      "cell_type": "code",
      "source": [
        "# 하나의 행과 하나의 열을 선택하여 값 변경\n",
        "df.loc['채치수','rebound'] = 5\n",
        "print(df)"
      ],
      "metadata": {
        "colab": {
          "base_uri": "https://localhost:8080/"
        },
        "id": "JQWR4gKgmb73",
        "outputId": "e741fdc3-0012-471e-b0e2-9b5e5f1c50e3"
      },
      "execution_count": null,
      "outputs": [
        {
          "output_type": "stream",
          "name": "stdout",
          "text": [
            "     point3  point2  ft  foul  rebound\n",
            "정대만      24       6   3     2        1\n",
            "강백호       3       4   1     2       10\n",
            "서태웅       9      18   6     2        5\n",
            "채치수       0       0   0     0        5\n",
            "송태섭       3      10   6     3        0\n",
            "합계       78      76  32    18       32\n"
          ]
        }
      ]
    },
    {
      "cell_type": "code",
      "source": [
        "df.iloc[4,4] = 1\n",
        "print(df)"
      ],
      "metadata": {
        "colab": {
          "base_uri": "https://localhost:8080/"
        },
        "id": "Iha2HQr2mp3T",
        "outputId": "38b57a28-8f6e-4e6c-d60c-ee53fa72b34b"
      },
      "execution_count": null,
      "outputs": [
        {
          "output_type": "stream",
          "name": "stdout",
          "text": [
            "     point3  point2  ft  foul  rebound\n",
            "정대만      24       6   3     2        1\n",
            "강백호       3       4   1     2       10\n",
            "서태웅       9      18   6     2        5\n",
            "채치수       0       0   0     0        5\n",
            "송태섭       3      10   6     3        1\n",
            "합계       78      76  32    18       32\n"
          ]
        }
      ]
    },
    {
      "cell_type": "code",
      "source": [
        "# 하나의 행과 여러 개의 열을 선택하여 값 변경\n",
        "df.loc['채치수', ['point2', 'foul']] = 2\n",
        "print(df)"
      ],
      "metadata": {
        "colab": {
          "base_uri": "https://localhost:8080/"
        },
        "id": "W1Fcqt75nFmc",
        "outputId": "af4d9edc-321f-4ef5-b98d-da8db98515b7"
      },
      "execution_count": null,
      "outputs": [
        {
          "output_type": "stream",
          "name": "stdout",
          "text": [
            "     point3  point2  ft  foul  rebound\n",
            "정대만      24       6   3     2        1\n",
            "강백호       3       4   1     2       10\n",
            "서태웅       9      18   6     2        5\n",
            "채치수       0       2   0     2        5\n",
            "송태섭       3      10   6     3        1\n",
            "합계       78      76  32    18       32\n"
          ]
        }
      ]
    },
    {
      "cell_type": "code",
      "source": [
        "df.iloc[3, [1, 3]] = 4\n",
        "print(df)"
      ],
      "metadata": {
        "colab": {
          "base_uri": "https://localhost:8080/"
        },
        "id": "ZGE6JpFani72",
        "outputId": "c45d4300-8d60-4ba5-a337-54384e210c93"
      },
      "execution_count": null,
      "outputs": [
        {
          "output_type": "stream",
          "name": "stdout",
          "text": [
            "     point3  point2    ft  foul  rebound    1    3\n",
            "정대만    24.0     6.0   3.0   2.0      1.0  NaN  NaN\n",
            "강백호     3.0     4.0   1.0   2.0     10.0  NaN  NaN\n",
            "서태웅     9.0    18.0   6.0   2.0      5.0  NaN  NaN\n",
            "채치수     0.0     4.0   0.0   4.0      5.0  NaN  NaN\n",
            "송태섭     3.0    10.0   6.0   3.0      1.0  NaN  NaN\n",
            "합계     78.0    76.0  32.0  18.0     32.0  NaN  NaN\n",
            "3       NaN     NaN   NaN   NaN      NaN  4.0  4.0\n"
          ]
        }
      ]
    },
    {
      "cell_type": "code",
      "source": [
        "# 여러 개의 행과 하나의 열을 선택하여 값 변경\n",
        "df.loc[['강백호','채치수'], 'rebound'] = 4\n",
        "print(df)"
      ],
      "metadata": {
        "colab": {
          "base_uri": "https://localhost:8080/"
        },
        "id": "EYO_NUW9vJE5",
        "outputId": "5f6cd027-99b2-46b1-ec3b-d90fd2514d71"
      },
      "execution_count": null,
      "outputs": [
        {
          "output_type": "stream",
          "name": "stdout",
          "text": [
            "     point3  point2    ft  foul  rebound    1    3\n",
            "정대만    24.0     6.0   3.0   2.0      1.0  NaN  NaN\n",
            "강백호     3.0     4.0   2.0   2.0      4.0  NaN  NaN\n",
            "서태웅     9.0    18.0   2.0   2.0      2.0  NaN  NaN\n",
            "채치수     6.0     4.0   2.0   3.0      4.0  NaN  NaN\n",
            "송태섭     6.0     6.0   6.0   3.0      1.0  NaN  NaN\n",
            "합계     78.0    76.0  32.0  18.0     32.0  NaN  NaN\n",
            "3       NaN     NaN   NaN   NaN      NaN  4.0  4.0\n"
          ]
        }
      ]
    },
    {
      "cell_type": "code",
      "source": [
        "df.iloc[[1,3], 4] = 3\n",
        "print(df)"
      ],
      "metadata": {
        "colab": {
          "base_uri": "https://localhost:8080/"
        },
        "id": "mowsRsUPvgsd",
        "outputId": "1c52fe97-4c76-43bb-8a4a-91949b17bd6d"
      },
      "execution_count": null,
      "outputs": [
        {
          "output_type": "stream",
          "name": "stdout",
          "text": [
            "     point3  point2    ft  foul  rebound    1    3\n",
            "정대만    24.0     6.0   3.0   2.0      1.0  NaN  NaN\n",
            "강백호     3.0     4.0   2.0   2.0      3.0  NaN  NaN\n",
            "서태웅     9.0    18.0   2.0   2.0      2.0  NaN  NaN\n",
            "채치수     6.0     4.0   2.0   3.0      3.0  NaN  NaN\n",
            "송태섭     6.0     6.0   6.0   3.0      1.0  NaN  NaN\n",
            "합계     78.0    76.0  32.0  18.0     32.0  NaN  NaN\n",
            "3       NaN     NaN   NaN   NaN      NaN  4.0  4.0\n"
          ]
        }
      ]
    },
    {
      "cell_type": "code",
      "source": [
        "# 여러 개의 행과 여러 개의 열을 선택하여 값을 변경\n",
        "df.loc[['채치수','송태섭'], ['point3', 'point2']]=0\n",
        "print(df)"
      ],
      "metadata": {
        "colab": {
          "base_uri": "https://localhost:8080/"
        },
        "id": "VgzEaTAlo2nT",
        "outputId": "caf68f15-20e0-435f-bbe0-6991e9aeafe7"
      },
      "execution_count": null,
      "outputs": [
        {
          "output_type": "stream",
          "name": "stdout",
          "text": [
            "     point3  point2    ft  foul  rebound    1    3\n",
            "정대만    24.0     6.0   3.0   2.0      1.0  NaN  NaN\n",
            "강백호     3.0     4.0   1.0   2.0     10.0  NaN  NaN\n",
            "서태웅     9.0    18.0   6.0   2.0      5.0  NaN  NaN\n",
            "채치수     0.0     0.0   0.0   4.0      5.0  NaN  NaN\n",
            "송태섭     0.0     0.0   6.0   3.0      1.0  NaN  NaN\n",
            "합계     78.0    76.0  32.0  18.0     32.0  NaN  NaN\n",
            "3       NaN     NaN   NaN   NaN      NaN  4.0  4.0\n"
          ]
        }
      ]
    },
    {
      "cell_type": "code",
      "source": [
        "df.iloc[[3,4], [0,1]] = 6\n",
        "print(df)"
      ],
      "metadata": {
        "colab": {
          "base_uri": "https://localhost:8080/"
        },
        "id": "Sh-w-NX7onhu",
        "outputId": "8fed7f97-34a3-4cfc-dc0f-34b1b468258a"
      },
      "execution_count": null,
      "outputs": [
        {
          "output_type": "stream",
          "name": "stdout",
          "text": [
            "     point3  point2    ft  foul  rebound    1    3\n",
            "정대만    24.0     6.0   3.0   2.0      1.0  NaN  NaN\n",
            "강백호     3.0     4.0   1.0   2.0     10.0  NaN  NaN\n",
            "서태웅     9.0    18.0   6.0   2.0      5.0  NaN  NaN\n",
            "채치수     6.0     6.0   0.0   4.0      5.0  NaN  NaN\n",
            "송태섭     6.0     6.0   6.0   3.0      1.0  NaN  NaN\n",
            "합계     78.0    76.0  32.0  18.0     32.0  NaN  NaN\n",
            "3       NaN     NaN   NaN   NaN      NaN  4.0  4.0\n"
          ]
        }
      ]
    },
    {
      "cell_type": "code",
      "source": [],
      "metadata": {
        "id": "tThzCI8avGur"
      },
      "execution_count": null,
      "outputs": []
    },
    {
      "cell_type": "code",
      "source": [
        "# 여러 개의 행과 여러 개의 열을 선택하여 값을 변경(슬라이싱)\n",
        "df.loc['강백호':'채치수', 'ft':'rebound'] = 1\n",
        "print(df)"
      ],
      "metadata": {
        "colab": {
          "base_uri": "https://localhost:8080/"
        },
        "id": "2Umg7yK8pniK",
        "outputId": "cae7e4a6-16e5-4c0e-e3cd-6f9845f6558a"
      },
      "execution_count": null,
      "outputs": [
        {
          "output_type": "stream",
          "name": "stdout",
          "text": [
            "     point3  point2    ft  foul  rebound    1    3\n",
            "정대만    24.0     6.0   3.0   2.0      1.0  NaN  NaN\n",
            "강백호     3.0     4.0   1.0   1.0      1.0  NaN  NaN\n",
            "서태웅     9.0    18.0   1.0   1.0      1.0  NaN  NaN\n",
            "채치수     6.0     6.0   1.0   1.0      1.0  NaN  NaN\n",
            "송태섭     6.0     6.0   6.0   3.0      1.0  NaN  NaN\n",
            "합계     78.0    76.0  32.0  18.0     32.0  NaN  NaN\n",
            "3       NaN     NaN   NaN   NaN      NaN  4.0  4.0\n"
          ]
        }
      ]
    },
    {
      "cell_type": "code",
      "source": [
        "df.iloc[1:4, 2:5] = 2\n",
        "print(df)"
      ],
      "metadata": {
        "colab": {
          "base_uri": "https://localhost:8080/"
        },
        "id": "0ksULTetqra3",
        "outputId": "6fb18eca-9a57-4e0c-b4aa-e10ebbce22a9"
      },
      "execution_count": null,
      "outputs": [
        {
          "output_type": "stream",
          "name": "stdout",
          "text": [
            "     point3  point2    ft  foul  rebound    1    3\n",
            "정대만    24.0     6.0   3.0   2.0      1.0  NaN  NaN\n",
            "강백호     3.0     4.0   2.0   2.0      2.0  NaN  NaN\n",
            "서태웅     9.0    18.0   2.0   2.0      2.0  NaN  NaN\n",
            "채치수     6.0     6.0   2.0   2.0      2.0  NaN  NaN\n",
            "송태섭     6.0     6.0   6.0   3.0      1.0  NaN  NaN\n",
            "합계     78.0    76.0  32.0  18.0     32.0  NaN  NaN\n",
            "3       NaN     NaN   NaN   NaN      NaN  4.0  4.0\n"
          ]
        }
      ]
    },
    {
      "cell_type": "code",
      "source": [
        "# 다른 값으로 변경\n",
        "# 하나의 행과 여러 개의 열을 선택하여 값 변경\n",
        "df.loc['채치수', ['point2', 'foul']] = [10, 4]\n",
        "print(df)\n",
        "\n"
      ],
      "metadata": {
        "colab": {
          "base_uri": "https://localhost:8080/"
        },
        "id": "FqzcSP-bq23_",
        "outputId": "9566432e-bf7f-4ecb-947d-c0f0dcc93c39"
      },
      "execution_count": null,
      "outputs": [
        {
          "output_type": "stream",
          "name": "stdout",
          "text": [
            "     point3  point2    ft  foul  rebound    1    3\n",
            "정대만    24.0     6.0   3.0   2.0      1.0  NaN  NaN\n",
            "강백호     3.0     4.0   2.0   2.0      2.0  NaN  NaN\n",
            "서태웅     9.0    18.0   2.0   2.0      2.0  NaN  NaN\n",
            "채치수     6.0    10.0   2.0   4.0      2.0  NaN  NaN\n",
            "송태섭     6.0     6.0   6.0   3.0      1.0  NaN  NaN\n",
            "합계     78.0    76.0  32.0  18.0     32.0  NaN  NaN\n",
            "3       NaN     NaN   NaN   NaN      NaN  4.0  4.0\n"
          ]
        }
      ]
    },
    {
      "cell_type": "code",
      "source": [
        " # 튜플 문법 (대괄호 소괄호 생략해서 한번에 할당)\n",
        " df.loc['채치수', ['point2', 'foul']] = 2, 1\n",
        " print(df)"
      ],
      "metadata": {
        "colab": {
          "base_uri": "https://localhost:8080/"
        },
        "id": "gsoGK014uHUl",
        "outputId": "36bad8d3-ffa7-4a1b-96cf-68110a1d255e"
      },
      "execution_count": null,
      "outputs": [
        {
          "output_type": "stream",
          "name": "stdout",
          "text": [
            "     point3  point2    ft  foul  rebound    1    3\n",
            "정대만    24.0     6.0   3.0   2.0      1.0  NaN  NaN\n",
            "강백호     3.0     4.0   2.0   2.0      2.0  NaN  NaN\n",
            "서태웅     9.0    18.0   2.0   2.0      2.0  NaN  NaN\n",
            "채치수     6.0     2.0   2.0   1.0      2.0  NaN  NaN\n",
            "송태섭     6.0     6.0   6.0   3.0      1.0  NaN  NaN\n",
            "합계     78.0    76.0  32.0  18.0     32.0  NaN  NaN\n",
            "3       NaN     NaN   NaN   NaN      NaN  4.0  4.0\n"
          ]
        }
      ]
    },
    {
      "cell_type": "code",
      "source": [
        "df.iloc[3,[1,3]] = [4,3]\n",
        "print(df)"
      ],
      "metadata": {
        "colab": {
          "base_uri": "https://localhost:8080/"
        },
        "id": "xwyw_-yTuyEJ",
        "outputId": "9eba40fb-453a-44c8-ee97-7f423ba3ed95"
      },
      "execution_count": null,
      "outputs": [
        {
          "output_type": "stream",
          "name": "stdout",
          "text": [
            "     point3  point2    ft  foul  rebound    1    3\n",
            "정대만    24.0     6.0   3.0   2.0      1.0  NaN  NaN\n",
            "강백호     3.0     4.0   2.0   2.0      2.0  NaN  NaN\n",
            "서태웅     9.0    18.0   2.0   2.0      2.0  NaN  NaN\n",
            "채치수     6.0     4.0   2.0   3.0      2.0  NaN  NaN\n",
            "송태섭     6.0     6.0   6.0   3.0      1.0  NaN  NaN\n",
            "합계     78.0    76.0  32.0  18.0     32.0  NaN  NaN\n",
            "3       NaN     NaN   NaN   NaN      NaN  4.0  4.0\n"
          ]
        }
      ]
    },
    {
      "cell_type": "code",
      "source": [
        "# 여러 개의 행과 하나의 열을 선택하여 값 변경\n",
        "df.loc[['강백호','채치수'], 'rebound'] = [10, 5]\n",
        "print(df)"
      ],
      "metadata": {
        "id": "jKglTPz9vt79"
      },
      "execution_count": null,
      "outputs": []
    },
    {
      "cell_type": "code",
      "source": [
        "df.iloc[[1,3], 4] = [12, 7]\n",
        "print(df)"
      ],
      "metadata": {
        "id": "FAKcZhA9vt8D"
      },
      "execution_count": null,
      "outputs": []
    },
    {
      "cell_type": "code",
      "source": [
        "# 여러 개의 행과 여러 개의 열을 선택하여 값을 변경\n",
        "df.loc[['채치수','송태섭'], ['point3', 'point2']]=[0, 8], [9, 8]\n",
        "print(df)"
      ],
      "metadata": {
        "colab": {
          "base_uri": "https://localhost:8080/"
        },
        "id": "xIU2QuPWv9C2",
        "outputId": "13f1cd67-9cfe-43c5-efcf-13152920ed09"
      },
      "execution_count": null,
      "outputs": [
        {
          "output_type": "stream",
          "name": "stdout",
          "text": [
            "     point3  point2    ft  foul  rebound    1    3\n",
            "정대만    24.0     6.0   3.0   2.0      1.0  NaN  NaN\n",
            "강백호     3.0     4.0   2.0   2.0     12.0  NaN  NaN\n",
            "서태웅     9.0    18.0   2.0   2.0      2.0  NaN  NaN\n",
            "채치수     0.0     8.0   2.0   3.0      7.0  NaN  NaN\n",
            "송태섭     9.0     8.0   6.0   3.0      1.0  NaN  NaN\n",
            "합계     78.0    76.0  32.0  18.0     32.0  NaN  NaN\n",
            "3       NaN     NaN   NaN   NaN      NaN  4.0  4.0\n"
          ]
        }
      ]
    },
    {
      "cell_type": "code",
      "source": [
        "df.iloc[[3,4],[0,1]] = [1, 4], [3,2]\n",
        "print(df)"
      ],
      "metadata": {
        "colab": {
          "base_uri": "https://localhost:8080/"
        },
        "id": "bxeXAlBWxbVP",
        "outputId": "2552d111-ba40-4bc3-975d-21bc5685e2a5"
      },
      "execution_count": null,
      "outputs": [
        {
          "output_type": "stream",
          "name": "stdout",
          "text": [
            "     point3  point2    ft  foul  rebound    1    3\n",
            "정대만    24.0     6.0   3.0   2.0      1.0  NaN  NaN\n",
            "강백호     3.0     4.0   2.0   2.0     12.0  NaN  NaN\n",
            "서태웅     9.0    18.0   2.0   2.0      2.0  NaN  NaN\n",
            "채치수     1.0     4.0   2.0   3.0      7.0  NaN  NaN\n",
            "송태섭     3.0     2.0   6.0   3.0      1.0  NaN  NaN\n",
            "합계     78.0    76.0  32.0  18.0     32.0  NaN  NaN\n",
            "3       NaN     NaN   NaN   NaN      NaN  4.0  4.0\n"
          ]
        }
      ]
    },
    {
      "cell_type": "code",
      "source": [],
      "metadata": {
        "id": "UBbTYQa-yDlB"
      },
      "execution_count": null,
      "outputs": []
    },
    {
      "cell_type": "markdown",
      "source": [
        "### 행과 열 위치 바꾸기"
      ],
      "metadata": {
        "id": "hweuAGHEzDB6"
      }
    },
    {
      "cell_type": "code",
      "source": [
        "print(df)"
      ],
      "metadata": {
        "colab": {
          "base_uri": "https://localhost:8080/"
        },
        "id": "QhKCASWBzIQj",
        "outputId": "5fe11b97-a737-4c08-e6c4-bafe2dcfd517"
      },
      "execution_count": null,
      "outputs": [
        {
          "output_type": "stream",
          "name": "stdout",
          "text": [
            "     point3  point2    ft  foul  rebound    1    3\n",
            "정대만    24.0     6.0   3.0   2.0      1.0  NaN  NaN\n",
            "강백호     3.0     4.0   2.0   2.0     12.0  NaN  NaN\n",
            "서태웅     9.0    18.0   2.0   2.0      2.0  NaN  NaN\n",
            "채치수     1.0     4.0   2.0   3.0      7.0  NaN  NaN\n",
            "송태섭     3.0     2.0   6.0   3.0      1.0  NaN  NaN\n",
            "합계     78.0    76.0  32.0  18.0     32.0  NaN  NaN\n",
            "3       NaN     NaN   NaN   NaN      NaN  4.0  4.0\n"
          ]
        }
      ]
    },
    {
      "cell_type": "code",
      "source": [
        "print(df.T)"
      ],
      "metadata": {
        "colab": {
          "base_uri": "https://localhost:8080/"
        },
        "id": "wmj0FZIVzQzM",
        "outputId": "a9de37b0-bdb5-4c3c-f34c-91d9bcd89d37"
      },
      "execution_count": null,
      "outputs": [
        {
          "output_type": "stream",
          "name": "stdout",
          "text": [
            "          정대만   강백호   서태웅  채치수  송태섭    합계    3\n",
            "point3   24.0   3.0   9.0  1.0  3.0  78.0  NaN\n",
            "point2    6.0   4.0  18.0  4.0  2.0  76.0  NaN\n",
            "ft        3.0   2.0   2.0  2.0  6.0  32.0  NaN\n",
            "foul      2.0   2.0   2.0  3.0  3.0  18.0  NaN\n",
            "rebound   1.0  12.0   2.0  7.0  1.0  32.0  NaN\n",
            "1         NaN   NaN   NaN  NaN  NaN   NaN  4.0\n",
            "3         NaN   NaN   NaN  NaN  NaN   NaN  4.0\n"
          ]
        }
      ]
    },
    {
      "cell_type": "code",
      "source": [
        "print(df.transpose())"
      ],
      "metadata": {
        "colab": {
          "base_uri": "https://localhost:8080/"
        },
        "id": "G6z_i1yszUKA",
        "outputId": "afb9d623-46bd-4867-a8ea-ba483e464595"
      },
      "execution_count": null,
      "outputs": [
        {
          "output_type": "stream",
          "name": "stdout",
          "text": [
            "          정대만   강백호   서태웅  채치수  송태섭    합계    3\n",
            "point3   24.0   3.0   9.0  1.0  3.0  78.0  NaN\n",
            "point2    6.0   4.0  18.0  4.0  2.0  76.0  NaN\n",
            "ft        3.0   2.0   2.0  2.0  6.0  32.0  NaN\n",
            "foul      2.0   2.0   2.0  3.0  3.0  18.0  NaN\n",
            "rebound   1.0  12.0   2.0  7.0  1.0  32.0  NaN\n",
            "1         NaN   NaN   NaN  NaN  NaN   NaN  4.0\n",
            "3         NaN   NaN   NaN  NaN  NaN   NaN  4.0\n"
          ]
        }
      ]
    },
    {
      "cell_type": "markdown",
      "source": [
        "## 인덱스 활용"
      ],
      "metadata": {
        "id": "8ybc8OWQyLH6"
      }
    },
    {
      "cell_type": "code",
      "source": [
        "import pandas as pd"
      ],
      "metadata": {
        "id": "PMDPTnkKzTSx"
      },
      "execution_count": null,
      "outputs": []
    },
    {
      "cell_type": "code",
      "source": [
        "sd = {\n",
        "    \"이름\": [\"정대만\", \"강백호\", \"채치수\"],\n",
        "    \"키\": [184, 189, 193],\n",
        "    \"나이\": [19, 17, 19],\n",
        "    \"득점\": [28, 1, 20],\n",
        "}\n",
        "print(sd)"
      ],
      "metadata": {
        "colab": {
          "base_uri": "https://localhost:8080/"
        },
        "id": "-klVMIaWzPae",
        "outputId": "9bbae77d-bf96-4260-fff8-e98e685589db"
      },
      "execution_count": null,
      "outputs": [
        {
          "output_type": "stream",
          "name": "stdout",
          "text": [
            "{'이름': ['정대만', '강백호', '채치수'], '키': [184, 189, 193], '나이': [19, 17, 19], '득점': [28, 1, 20]}\n"
          ]
        }
      ]
    },
    {
      "cell_type": "code",
      "source": [
        "df = pd.DataFrame(sd)\n",
        "print(df)"
      ],
      "metadata": {
        "colab": {
          "base_uri": "https://localhost:8080/"
        },
        "id": "-vF-BxbGyMyL",
        "outputId": "0d6a69aa-9b9c-4f11-eaec-42b865f39d08"
      },
      "execution_count": null,
      "outputs": [
        {
          "output_type": "stream",
          "name": "stdout",
          "text": [
            "    이름    키  나이  득점\n",
            "0  정대만  184  19  28\n",
            "1  강백호  189  17   1\n",
            "2  채치수  193  19  20\n"
          ]
        }
      ]
    },
    {
      "cell_type": "markdown",
      "source": [
        "## 특정 열을 행 인덱스로 설정"
      ],
      "metadata": {
        "id": "hjDJa47I0-gK"
      }
    },
    {
      "cell_type": "code",
      "source": [
        "print(df)\n",
        "df_new = df.set_index('이름') # '이름'이라는 열을 인덱스로 사용하게 됨\n",
        "print(df_new)\n",
        "# 원래 행 인덱스(정수)가 없어지고 이름 열이 행 인덱스가 됨"
      ],
      "metadata": {
        "colab": {
          "base_uri": "https://localhost:8080/"
        },
        "id": "BMOhemgf01Vq",
        "outputId": "acd19ce3-c9c0-4dd5-be48-460055ea499e"
      },
      "execution_count": null,
      "outputs": [
        {
          "output_type": "stream",
          "name": "stdout",
          "text": [
            "    이름    키  나이  득점\n",
            "0  정대만  184  19  28\n",
            "1  강백호  189  17   1\n",
            "2  채치수  193  19  20\n",
            "       키  나이  득점\n",
            "이름              \n",
            "정대만  184  19  28\n",
            "강백호  189  17   1\n",
            "채치수  193  19  20\n"
          ]
        }
      ]
    },
    {
      "cell_type": "code",
      "source": [
        "print(df_new)\n",
        "df_new2 = df.set_index('키') # 키 열을 인덱스로 사용\n",
        "print(df_new2)\n",
        "# 키 열이 행 인덱스가 되고 , 행 인덱스였던 이름 열이 다시 열로 돌아옴\n"
      ],
      "metadata": {
        "colab": {
          "base_uri": "https://localhost:8080/"
        },
        "id": "7MQ1XUR-1QNk",
        "outputId": "db12855a-317e-46e1-8ecf-ce236e54c074"
      },
      "execution_count": null,
      "outputs": [
        {
          "output_type": "stream",
          "name": "stdout",
          "text": [
            "       키  나이  득점\n",
            "이름              \n",
            "정대만  184  19  28\n",
            "강백호  189  17   1\n",
            "채치수  193  19  20\n",
            "      이름  나이  득점\n",
            "키               \n",
            "184  정대만  19  28\n",
            "189  강백호  17   1\n",
            "193  채치수  19  20\n"
          ]
        }
      ]
    },
    {
      "cell_type": "code",
      "source": [
        "# 여러 개의 열을 행 인덱스로 설정\n",
        "print(df)\n",
        "df_new = df.set_index(['이름', '키'])\n",
        "print(df_new)"
      ],
      "metadata": {
        "colab": {
          "base_uri": "https://localhost:8080/"
        },
        "id": "OnNUfFdC2Cgp",
        "outputId": "4900610e-5e8d-4035-9791-3bcea3456c08"
      },
      "execution_count": null,
      "outputs": [
        {
          "output_type": "stream",
          "name": "stdout",
          "text": [
            "    이름    키  나이  득점\n",
            "0  정대만  184  19  28\n",
            "1  강백호  189  17   1\n",
            "2  채치수  193  19  20\n",
            "         나이  득점\n",
            "이름  키          \n",
            "정대만 184  19  28\n",
            "강백호 189  17   1\n",
            "채치수 193  19  20\n"
          ]
        }
      ]
    },
    {
      "cell_type": "code",
      "source": [],
      "metadata": {
        "id": "JqCLOho63buu"
      },
      "execution_count": null,
      "outputs": []
    }
  ]
}