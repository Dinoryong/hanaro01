{
  "nbformat": 4,
  "nbformat_minor": 0,
  "metadata": {
    "colab": {
      "provenance": [],
      "include_colab_link": true
    },
    "kernelspec": {
      "name": "python3",
      "display_name": "Python 3"
    },
    "language_info": {
      "name": "python"
    }
  },
  "cells": [
    {
      "cell_type": "markdown",
      "metadata": {
        "id": "view-in-github",
        "colab_type": "text"
      },
      "source": [
        "<a href=\"https://colab.research.google.com/github/Dinoryong/hanaro01/blob/main/Copy_of_0601.ipynb\" target=\"_parent\"><img src=\"https://colab.research.google.com/assets/colab-badge.svg\" alt=\"Open In Colab\"/></a>"
      ]
    },
    {
      "cell_type": "markdown",
      "source": [
        "# 시각화 도구 (계속)"
      ],
      "metadata": {
        "id": "AnZ5_9RxR3jS"
      }
    },
    {
      "cell_type": "markdown",
      "source": [
        "## seaborn (계속)"
      ],
      "metadata": {
        "id": "INL68MW-R-ps"
      }
    },
    {
      "cell_type": "code",
      "execution_count": null,
      "metadata": {
        "id": "XMX8zrvqRkPp"
      },
      "outputs": [],
      "source": [
        "# 한글 폰트 설치\n",
        "!sudo apt-get install -y fonts-nanum\n",
        "!sudo fc-cache -fv\n",
        "!rm ~/.cache/matplotlib -rf\n",
        "# 메뉴 - 런타임 - 런타임 다시 시작"
      ]
    },
    {
      "cell_type": "code",
      "source": [
        "# 라이브러리 불러오기\n",
        "import seaborn as sns"
      ],
      "metadata": {
        "id": "loRrlBpTfawZ"
      },
      "execution_count": null,
      "outputs": []
    },
    {
      "cell_type": "code",
      "source": [
        "# 내장 데이터 불러오기\n",
        "titanic = sns.load_dataset(\"titanic\")\n",
        "print(titanic.head())"
      ],
      "metadata": {
        "id": "E8jHCiJuhQVg"
      },
      "execution_count": null,
      "outputs": []
    },
    {
      "cell_type": "code",
      "source": [
        "# 데이터 정보\n",
        "print(titanic.info())"
      ],
      "metadata": {
        "id": "YzQs_v2bhNNi"
      },
      "execution_count": null,
      "outputs": []
    },
    {
      "cell_type": "markdown",
      "source": [
        "### 비율 막대 그래프"
      ],
      "metadata": {
        "id": "LqvkVKdHSBTp"
      }
    },
    {
      "cell_type": "code",
      "source": [
        "import matplotlib.pyplot as plt\n",
        "# 스타일 테마\n",
        "# darkgrid, whitegrid, dark, white, ticks\n",
        "sns.set_style(\"whitegrid\")"
      ],
      "metadata": {
        "id": "fVS5LJ4fS9vv"
      },
      "execution_count": null,
      "outputs": []
    },
    {
      "cell_type": "code",
      "source": [
        "# 그래프 객체 생성\n",
        "fig = plt.figure(figsize = (12, 5))\n",
        "ax1 = fig.add_subplot(1,3,1)\n",
        "ax2 = fig.add_subplot(1,3,2)\n",
        "ax3 = fig.add_subplot(1,3,3)\n",
        "# 막대 그래프 & 에러바\n",
        "sns.barplot(x = 'sex', y = 'survived', data = titanic, ax = ax1)\n",
        "sns.barplot(x = 'sex', y = 'survived', hue = 'class',\n",
        "            data = titanic, ax = ax2)\n",
        "sns.barplot(x = 'sex', y = 'survived', hue = 'class', dodge = False,\n",
        "            data = titanic, ax = ax3)\n",
        "# 줄 같이 생긴 것 = 에러바 (표준편차, 표준오차, 신뢰구간 등)\n",
        "plt.show()"
      ],
      "metadata": {
        "id": "I_HxWKMsTHGZ"
      },
      "execution_count": null,
      "outputs": []
    },
    {
      "cell_type": "code",
      "source": [
        "# 그래프 객체 생성\n",
        "fig = plt.figure(figsize = (12, 5))\n",
        "ax1 = fig.add_subplot(1,3,1)\n",
        "ax2 = fig.add_subplot(1,3,2)\n",
        "ax3 = fig.add_subplot(1,3,3)\n",
        "# 막대 그래프 & 에러바 없이\n",
        "sns.barplot(x = 'sex', y = 'survived', data = titanic, ax = ax1, errorbar = None)\n",
        "sns.barplot(x = 'sex', y = 'survived', hue = 'class',\n",
        "            data = titanic, ax = ax2, errorbar = None)\n",
        "sns.barplot(x = 'sex', y = 'survived', hue = 'class', dodge = False,\n",
        "            data = titanic, ax = ax3, errorbar = None)\n",
        "# 줄 같이 생긴 것 = 에러바 (표준편차, 표준오차, 신뢰구간 등)\n",
        "plt.show()"
      ],
      "metadata": {
        "id": "7pxUYIAlVIHg"
      },
      "execution_count": null,
      "outputs": []
    },
    {
      "cell_type": "markdown",
      "source": [
        "### 빈도 막대 그래프"
      ],
      "metadata": {
        "id": "2mX9eVPnWXmc"
      }
    },
    {
      "cell_type": "code",
      "source": [
        "# 그래프 객체 생성\n",
        "fig = plt.figure(figsize = (12, 5))\n",
        "ax1 = fig.add_subplot(1,3,1)\n",
        "ax2 = fig.add_subplot(1,3,2)\n",
        "ax3 = fig.add_subplot(1,3,3)\n",
        "# 막대 그래프\n",
        "sns.countplot(x = 'class', data = titanic, ax = ax1)\n",
        "sns.countplot(x = 'class', hue = 'who', \n",
        "              data = titanic, ax = ax2)\n",
        "sns.countplot(x = 'class', hue = 'who', dodge = False, \n",
        "              data = titanic, ax = ax3) # 그래프만 누적\n",
        "# \n",
        "plt.show()"
      ],
      "metadata": {
        "id": "fPXTRaY-Wky_"
      },
      "execution_count": null,
      "outputs": []
    },
    {
      "cell_type": "code",
      "source": [
        "sns.histplot(x = 'class', hue = 'who', multiple='stack', \n",
        "              data = titanic) # 빈도 누적 = 전체합"
      ],
      "metadata": {
        "id": "5FViGDAbZ7-3"
      },
      "execution_count": null,
      "outputs": []
    },
    {
      "cell_type": "markdown",
      "source": [
        "### 상자그림 & 바이올린 그림"
      ],
      "metadata": {
        "id": "spB5-QXWaZ8-"
      }
    },
    {
      "cell_type": "code",
      "source": [
        "# 그래프 객체 생성\n",
        "fig = plt.figure(figsize = (14, 10))\n",
        "ax1 = fig.add_subplot(2,2,1)\n",
        "ax2 = fig.add_subplot(2,2,2)\n",
        "ax3 = fig.add_subplot(2,2,3)\n",
        "ax4 = fig.add_subplot(2,2,4)\n",
        "# 상자 그림\n",
        "sns.boxplot(x = 'alive', y = 'age', data = titanic, ax = ax1)\n",
        "sns.boxplot(x = 'alive', y = 'age', hue = 'sex',\n",
        "            data = titanic, ax = ax2)\n",
        "# 바이올린 그림\n",
        "sns.violinplot(x = 'alive', y = 'age', data = titanic, ax = ax3)\n",
        "sns.violinplot(x = 'alive', y = 'age', hue = 'sex',\n",
        "            data = titanic, ax = ax4)\n",
        "# \n",
        "plt.show()"
      ],
      "metadata": {
        "id": "kP3L2CJmae2-"
      },
      "execution_count": null,
      "outputs": []
    },
    {
      "cell_type": "markdown",
      "source": [
        "### 조인트 그림"
      ],
      "metadata": {
        "id": "xRehLD1sgGbc"
      }
    },
    {
      "cell_type": "code",
      "source": [
        "# 한글 폰트 설정\n",
        "plt.rc(\"font\", family = \"NanumGothic\")\n",
        "# 조인트 그림 - 산점도(기본값)\n",
        "jp1 = sns.jointplot(x = 'age', y = 'fare', data = titanic)\n",
        "# 조인트 그림 - 산점도 + 회귀선\n",
        "jp2 = sns.jointplot(x = 'age', y = 'fare', kind = 'reg', data = titanic)\n",
        "# 조인트 그림 - 육각 산점도\n",
        "jp3 = sns.jointplot(x = 'age', y = 'fare', kind = 'hex', data = titanic)\n",
        "# 조인트 그림 - 밀도 함수\n",
        "jp4 = sns.jointplot(x = 'age', y = 'fare', kind = 'kde', data = titanic)\n",
        "# 제목\n",
        "jp1.fig.suptitle(\"산점도\")\n",
        "jp2.fig.suptitle(\"산점도 + 회귀선\")\n",
        "jp3.fig.suptitle(\"육각 산점도\")\n",
        "jp4.fig.suptitle(\"밀도 함수\")\n",
        "# \n",
        "plt.show()"
      ],
      "metadata": {
        "id": "Gtzem9WxgJx0"
      },
      "execution_count": null,
      "outputs": []
    },
    {
      "cell_type": "markdown",
      "source": [
        "### 그리드 분할"
      ],
      "metadata": {
        "id": "DH19TAodj8cy"
      }
    },
    {
      "cell_type": "code",
      "source": [
        "# 그리드 분할 = 빈도표를 만들듯이 화면을 분할해서 시각화\n",
        "grid = sns.FacetGrid(data = titanic,\n",
        "                     row = 'survived',\n",
        "                     col = 'who')\n",
        "# 그래프 넣기\n",
        "grid.map(plt.hist, 'age')\n",
        "# \n",
        "plt.show()"
      ],
      "metadata": {
        "colab": {
          "base_uri": "https://localhost:8080/",
          "height": 607
        },
        "id": "GivjUXL1kAO9",
        "outputId": "316232ab-e421-4305-bd97-e2b5c06cda26"
      },
      "execution_count": null,
      "outputs": [
        {
          "output_type": "display_data",
          "data": {
            "text/plain": [
              "<Figure size 900x600 with 6 Axes>"
            ],
            "image/png": "[encoded data removed]"
          },
          "metadata": {}
        }
      ]
    },
    {
      "cell_type": "markdown",
      "source": [
        "### pairplot"
      ],
      "metadata": {
        "id": "pmdyLhZYl2cI"
      }
    },
    {
      "cell_type": "code",
      "source": [
        "# 변수들을 2개씩 짝을 지어서 시각화\n",
        "pair_data = titanic[['age', 'pclass', 'fare']]"
      ],
      "metadata": {
        "id": "rZlO2ivWk5JI"
      },
      "execution_count": null,
      "outputs": []
    },
    {
      "cell_type": "code",
      "source": [
        "sns.pairplot(pair_data)\n",
        "# \n",
        "plt.show()"
      ],
      "metadata": {
        "colab": {
          "base_uri": "https://localhost:8080/",
          "height": 758
        },
        "id": "hv9ip6VtmSYj",
        "outputId": "614813ea-d53c-4a0d-d96c-70fe3b7b1aab"
      },
      "execution_count": null,
      "outputs": [
        {
          "output_type": "display_data",
          "data": {
            "text/plain": [
              "<Figure size 750x750 with 12 Axes>"
            ],
            "image/png": "[encoded data removed]"
          },
          "metadata": {}
        }
      ]
    },
    {
      "cell_type": "markdown",
      "source": [
        "## 지도 시각화"
      ],
      "metadata": {
        "id": "L18bN6TqsHcu"
      }
    },
    {
      "cell_type": "code",
      "source": [
        "# 라이브러리 불러오기\n",
        "import folium"
      ],
      "metadata": {
        "id": "wM3_TduQmgD-"
      },
      "execution_count": null,
      "outputs": []
    },
    {
      "cell_type": "code",
      "source": [
        "# 서울 지도 만들기\n",
        "seoul_map = folium.Map(location = [37.55, 126.98], zoom_start = 12)\n",
        "# 파일로 저장\n",
        "seoul_map.save('./seoul_map.html')"
      ],
      "metadata": {
        "id": "q7UWM5cosSd2"
      },
      "execution_count": null,
      "outputs": []
    },
    {
      "cell_type": "code",
      "source": [
        "# 서울 지도 만들기 - 스타일 적용\n",
        "seoul_map = folium.Map(location = [37.55, 126.98], zoom_start = 12,\n",
        "                       tiles = 'Stamen Terrain')\n",
        "# 파일로 저장\n",
        "seoul_map.save('./seoul_map.html')"
      ],
      "metadata": {
        "id": "KlRfXg1RtJss"
      },
      "execution_count": null,
      "outputs": []
    },
    {
      "cell_type": "code",
      "source": [
        "# 서울 지도 만들기 - 스타일 적용\n",
        "seoul_map = folium.Map(location = [37.55, 126.98], zoom_start = 12,\n",
        "                       tiles = 'Stamen Toner')\n",
        "# 파일로 저장\n",
        "seoul_map.save('./seoul_map.html')"
      ],
      "metadata": {
        "id": "xPhNk6R1vGes"
      },
      "execution_count": null,
      "outputs": []
    },
    {
      "cell_type": "markdown",
      "source": [
        "### 마커 표시"
      ],
      "metadata": {
        "id": "lWPQRmECwL-s"
      }
    },
    {
      "cell_type": "code",
      "source": [
        "import pandas as pd"
      ],
      "metadata": {
        "id": "T2NWbCTRxRKk"
      },
      "execution_count": null,
      "outputs": []
    },
    {
      "cell_type": "code",
      "source": [
        "# 데이터 불러오기\n",
        "df = pd.read_excel('/content/drive/MyDrive/hana1/data/서울지역 대학교 위치.xlsx',\n",
        "                   engine = 'openpyxl')\n",
        "df.head()"
      ],
      "metadata": {
        "id": "VOeJO8igw7Yk"
      },
      "execution_count": null,
      "outputs": []
    },
    {
      "cell_type": "code",
      "source": [
        "df = df.set_index('Unnamed: 0')"
      ],
      "metadata": {
        "id": "EA8p5U-9xfXE"
      },
      "execution_count": null,
      "outputs": []
    },
    {
      "cell_type": "code",
      "source": [
        "df.head()"
      ],
      "metadata": {
        "id": "hN0Betufx1W1"
      },
      "execution_count": null,
      "outputs": []
    },
    {
      "cell_type": "code",
      "source": [
        "# 서울 지도 만들기 - 기본 마커\n",
        "seoul_map = folium.Map(location = [37.55, 126.98], zoom_start = 12,\n",
        "                       tiles = 'Stamen Terrain')\n",
        "# 마커 표시\n",
        "for name, lat, lng in zip(df.index, df.위도, df.경도):\n",
        "  folium.Marker([lat,lng], popup = name).add_to(seoul_map)\n",
        "# 파일로 저장\n",
        "seoul_map.save('./seoul_univ.html')"
      ],
      "metadata": {
        "id": "1usNHs3KwPBk"
      },
      "execution_count": null,
      "outputs": []
    },
    {
      "cell_type": "code",
      "source": [
        "# 서울 지도 만들기 - 원형 마커\n",
        "seoul_map = folium.Map(location = [37.55, 126.98], zoom_start = 12,\n",
        "                       tiles = 'Stamen Terrain')\n",
        "# 마커 표시\n",
        "for name, lat, lng in zip(df.index, df.위도, df.경도):\n",
        "  folium.CircleMarker([lat,lng], popup = name,\n",
        "                      radius = 15, # 원 크기(반지름)\n",
        "                      fill_color = 'coral', # 원 내부 색상\n",
        "                      fill = True, # 채우기 활성화 여부\n",
        "                      fill_opacity = 0.3, # 투명도\n",
        "                      color = 'black').add_to(seoul_map) # 원 둘레 색상\n",
        "# 파일로 저장\n",
        "seoul_map.save('./seoul_univ1.html')"
      ],
      "metadata": {
        "id": "uSMT7eoQ0hlH"
      },
      "execution_count": null,
      "outputs": []
    },
    {
      "cell_type": "markdown",
      "source": [
        "### 단계 구분도"
      ],
      "metadata": {
        "id": "4l3j83aPHqFJ"
      }
    },
    {
      "cell_type": "code",
      "source": [
        "import pandas as pd\n",
        "df = pd.read_excel('/content/drive/MyDrive/hana1/data/경기도인구데이터.xlsx',\n",
        "                   index_col = '구분', engine = 'openpyxl')\n",
        "df.head()"
      ],
      "metadata": {
        "colab": {
          "base_uri": "https://localhost:8080/",
          "height": 237
        },
        "id": "Ak9iaSKLHvqg",
        "outputId": "91d15fc0-f168-4d7b-ed45-978895e89144"
      },
      "execution_count": null,
      "outputs": [
        {
          "output_type": "execute_result",
          "data": {
            "text/plain": [
              "          2007    2008    2009    2010    2011    2012    2013    2014  \\\n",
              "구분                                                                       \n",
              "수원시장안구  287474  285803  290798  293692  290999  291757  300908  301196   \n",
              "수원시권선구  310553  308177  304097  306783  321176  332633  331773  339835   \n",
              "수원시팔달구  216945  213235  219833  216503  209772  206794  204805  203479   \n",
              "수원시영통구  252730  260210  258421  260557  266542  289074  310671  329718   \n",
              "성남시수정구  256744  248452  242161  241070  236123  233997  228167  223539   \n",
              "\n",
              "          2015    2016    2017  \n",
              "구분                              \n",
              "수원시장안구  299016  296479  293828  \n",
              "수원시권선구  351053  358393  365653  \n",
              "수원시팔달구  199180  198515  193311  \n",
              "수원시영통구  335375  340654  349836  \n",
              "성남시수정구  219531  232841  236932  "
            ],
            "text/html": [
              "\n",
              "  <div id=\"df-1bb8d79e-0810-4ffd-a46a-7fce479d5f64\">\n",
              "    <div class=\"colab-df-container\">\n",
              "      <div>\n",
              "<style scoped>\n",
              "    .dataframe tbody tr th:only-of-type {\n",
              "        vertical-align: middle;\n",
              "    }\n",
              "\n",
              "    .dataframe tbody tr th {\n",
              "        vertical-align: top;\n",
              "    }\n",
              "\n",
              "    .dataframe thead th {\n",
              "        text-align: right;\n",
              "    }\n",
              "</style>\n",
              "<table border=\"1\" class=\"dataframe\">\n",
              "  <thead>\n",
              "    <tr style=\"text-align: right;\">\n",
              "      <th></th>\n",
              "      <th>2007</th>\n",
              "      <th>2008</th>\n",
              "      <th>2009</th>\n",
              "      <th>2010</th>\n",
              "      <th>2011</th>\n",
              "      <th>2012</th>\n",
              "      <th>2013</th>\n",
              "      <th>2014</th>\n",
              "      <th>2015</th>\n",
              "      <th>2016</th>\n",
              "      <th>2017</th>\n",
              "    </tr>\n",
              "    <tr>\n",
              "      <th>구분</th>\n",
              "      <th></th>\n",
              "      <th></th>\n",
              "      <th></th>\n",
              "      <th></th>\n",
              "      <th></th>\n",
              "      <th></th>\n",
              "      <th></th>\n",
              "      <th></th>\n",
              "      <th></th>\n",
              "      <th></th>\n",
              "      <th></th>\n",
              "    </tr>\n",
              "  </thead>\n",
              "  <tbody>\n",
              "    <tr>\n",
              "      <th>수원시장안구</th>\n",
              "      <td>287474</td>\n",
              "      <td>285803</td>\n",
              "      <td>290798</td>\n",
              "      <td>293692</td>\n",
              "      <td>290999</td>\n",
              "      <td>291757</td>\n",
              "      <td>300908</td>\n",
              "      <td>301196</td>\n",
              "      <td>299016</td>\n",
              "      <td>296479</td>\n",
              "      <td>293828</td>\n",
              "    </tr>\n",
              "    <tr>\n",
              "      <th>수원시권선구</th>\n",
              "      <td>310553</td>\n",
              "      <td>308177</td>\n",
              "      <td>304097</td>\n",
              "      <td>306783</td>\n",
              "      <td>321176</td>\n",
              "      <td>332633</td>\n",
              "      <td>331773</td>\n",
              "      <td>339835</td>\n",
              "      <td>351053</td>\n",
              "      <td>358393</td>\n",
              "      <td>365653</td>\n",
              "    </tr>\n",
              "    <tr>\n",
              "      <th>수원시팔달구</th>\n",
              "      <td>216945</td>\n",
              "      <td>213235</td>\n",
              "      <td>219833</td>\n",
              "      <td>216503</td>\n",
              "      <td>209772</td>\n",
              "      <td>206794</td>\n",
              "      <td>204805</td>\n",
              "      <td>203479</td>\n",
              "      <td>199180</td>\n",
              "      <td>198515</td>\n",
              "      <td>193311</td>\n",
              "    </tr>\n",
              "    <tr>\n",
              "      <th>수원시영통구</th>\n",
              "      <td>252730</td>\n",
              "      <td>260210</td>\n",
              "      <td>258421</td>\n",
              "      <td>260557</td>\n",
              "      <td>266542</td>\n",
              "      <td>289074</td>\n",
              "      <td>310671</td>\n",
              "      <td>329718</td>\n",
              "      <td>335375</td>\n",
              "      <td>340654</td>\n",
              "      <td>349836</td>\n",
              "    </tr>\n",
              "    <tr>\n",
              "      <th>성남시수정구</th>\n",
              "      <td>256744</td>\n",
              "      <td>248452</td>\n",
              "      <td>242161</td>\n",
              "      <td>241070</td>\n",
              "      <td>236123</td>\n",
              "      <td>233997</td>\n",
              "      <td>228167</td>\n",
              "      <td>223539</td>\n",
              "      <td>219531</td>\n",
              "      <td>232841</td>\n",
              "      <td>236932</td>\n",
              "    </tr>\n",
              "  </tbody>\n",
              "</table>\n",
              "</div>\n",
              "      <button class=\"colab-df-convert\" onclick=\"convertToInteractive('df-1bb8d79e-0810-4ffd-a46a-7fce479d5f64')\"\n",
              "              title=\"Convert this dataframe to an interactive table.\"\n",
              "              style=\"display:none;\">\n",
              "        \n",
              "  <svg xmlns=\"http://www.w3.org/2000/svg\" height=\"24px\"viewBox=\"0 0 24 24\"\n",
              "       width=\"24px\">\n",
              "    <path d=\"M0 0h24v24H0V0z\" fill=\"none\"/>\n",
              "    <path d=\"M18.56 5.44l.94 2.06.94-2.06 2.06-.94-2.06-.94-.94-2.06-.94 2.06-2.06.94zm-11 1L8.5 8.5l.94-2.06 2.06-.94-2.06-.94L8.5 2.5l-.94 2.06-2.06.94zm10 10l.94 2.06.94-2.06 2.06-.94-2.06-.94-.94-2.06-.94 2.06-2.06.94z\"/><path d=\"M17.41 7.96l-1.37-1.37c-.4-.4-.92-.59-1.43-.59-.52 0-1.04.2-1.43.59L10.3 9.45l-7.72 7.72c-.78.78-.78 2.05 0 2.83L4 21.41c.39.39.9.59 1.41.59.51 0 1.02-.2 1.41-.59l7.78-7.78 2.81-2.81c.8-.78.8-2.07 0-2.86zM5.41 20L4 18.59l7.72-7.72 1.47 1.35L5.41 20z\"/>\n",
              "  </svg>\n",
              "      </button>\n",
              "      \n",
              "  <style>\n",
              "    .colab-df-container {\n",
              "      display:flex;\n",
              "      flex-wrap:wrap;\n",
              "      gap: 12px;\n",
              "    }\n",
              "\n",
              "    .colab-df-convert {\n",
              "      background-color: #E8F0FE;\n",
              "      border: none;\n",
              "      border-radius: 50%;\n",
              "      cursor: pointer;\n",
              "      display: none;\n",
              "      fill: #1967D2;\n",
              "      height: 32px;\n",
              "      padding: 0 0 0 0;\n",
              "      width: 32px;\n",
              "    }\n",
              "\n",
              "    .colab-df-convert:hover {\n",
              "      background-color: #E2EBFA;\n",
              "      box-shadow: 0px 1px 2px rgba(60, 64, 67, 0.3), 0px 1px 3px 1px rgba(60, 64, 67, 0.15);\n",
              "      fill: #174EA6;\n",
              "    }\n",
              "\n",
              "    [theme=dark] .colab-df-convert {\n",
              "      background-color: #3B4455;\n",
              "      fill: #D2E3FC;\n",
              "    }\n",
              "\n",
              "    [theme=dark] .colab-df-convert:hover {\n",
              "      background-color: #434B5C;\n",
              "      box-shadow: 0px 1px 3px 1px rgba(0, 0, 0, 0.15);\n",
              "      filter: drop-shadow(0px 1px 2px rgba(0, 0, 0, 0.3));\n",
              "      fill: #FFFFFF;\n",
              "    }\n",
              "  </style>\n",
              "\n",
              "      <script>\n",
              "        const buttonEl =\n",
              "          document.querySelector('#df-1bb8d79e-0810-4ffd-a46a-7fce479d5f64 button.colab-df-convert');\n",
              "        buttonEl.style.display =\n",
              "          google.colab.kernel.accessAllowed ? 'block' : 'none';\n",
              "\n",
              "        async function convertToInteractive(key) {\n",
              "          const element = document.querySelector('#df-1bb8d79e-0810-4ffd-a46a-7fce479d5f64');\n",
              "          const dataTable =\n",
              "            await google.colab.kernel.invokeFunction('convertToInteractive',\n",
              "                                                     [key], {});\n",
              "          if (!dataTable) return;\n",
              "\n",
              "          const docLinkHtml = 'Like what you see? Visit the ' +\n",
              "            '<a target=\"_blank\" href=https://colab.research.google.com/notebooks/data_table.ipynb>data table notebook</a>'\n",
              "            + ' to learn more about interactive tables.';\n",
              "          element.innerHTML = '';\n",
              "          dataTable['output_type'] = 'display_data';\n",
              "          await google.colab.output.renderOutput(dataTable, element);\n",
              "          const docLink = document.createElement('div');\n",
              "          docLink.innerHTML = docLinkHtml;\n",
              "          element.appendChild(docLink);\n",
              "        }\n",
              "      </script>\n",
              "    </div>\n",
              "  </div>\n",
              "  "
            ]
          },
          "metadata": {},
          "execution_count": 78
        }
      ]
    },
    {
      "cell_type": "code",
      "source": [
        "import json\n",
        "bnd = json.load(open('/content/drive/MyDrive/hana1/data/경기도행정구역경계.json',\n",
        "                encoding = 'utf-8'))\n",
        "bnd"
      ],
      "metadata": {
        "colab": {
          "base_uri": "https://localhost:8080/"
        },
        "id": "VUdfozW9IE4J",
        "outputId": "72852911-fd4e-4aa1-ac1d-df653c8d6314"
      },
      "execution_count": null,
      "outputs": [
        {
          "output_type": "execute_result",
          "data": {
            "text/plain": [
              "{'type': 'FeatureCollection',\n",
              " 'features': [{'type': 'Feature',\n",
              "   'properties': {'code': 31380,\n",
              "    'name': '양평군',\n",
              "    'name_eng': 'Yangpyeong-gun',\n",
              "    'base_year': 2013},\n",
              "   'geometry': {'type': 'Polygon',\n",
              "    'coordinates': [[[127.56113535909492, 37.6256560539258],\n",
              "      [127.57290963929243, 37.61087369350498],\n",
              "      [127.56366973908277, 37.5842624297699],\n",
              "      [127.52226606559191, 37.5828628697518],\n",
              "      [127.50048767007603, 37.569036373178626],\n",
              "      [127.47687473909174, 37.574448241913856],\n",
              "      [127.47565866803647, 37.60512112601634],\n",
              "      [127.44699730711024, 37.64497584741164],\n",
              "      [127.4272349102434, 37.66284420898682],\n",
              "      [127.40156700708162, 37.64806970784708],\n",
              "      [127.3732642199939, 37.6453987554284],\n",
              "      [127.3542931884407, 37.6250006376975],\n",
              "      [127.34360057873045, 37.588997440929354],\n",
              "      [127.31002843450217, 37.53523876142835],\n",
              "      [127.30923294884336, 37.5135706079458],\n",
              "      [127.32809611134748, 37.53133849534739],\n",
              "      [127.3663244453597, 37.52716845880826],\n",
              "      [127.38286320755414, 37.50147517965334],\n",
              "      [127.39046783039153, 37.47413422098595],\n",
              "      [127.37490698722792, 37.455072688441305],\n",
              "      [127.39174400683049, 37.4256483411369],\n",
              "      [127.40276739880215, 37.41856433413549],\n",
              "      [127.4250053080982, 37.43669952587185],\n",
              "      [127.4817900304572, 37.42084413829662],\n",
              "      [127.51015267026155, 37.43699555518635],\n",
              "      [127.52501209957308, 37.43192043868044],\n",
              "      [127.53910572062166, 37.40849283821634],\n",
              "      [127.60528700481163, 37.416969769508924],\n",
              "      [127.63754040237271, 37.41065607591271],\n",
              "      [127.6491838950862, 37.402042953108506],\n",
              "      [127.66976823475012, 37.40884431255766],\n",
              "      [127.71071536074867, 37.40736583858037],\n",
              "      [127.70347417929173, 37.371054026073324],\n",
              "      [127.76165381178268, 37.36421926003675],\n",
              "      [127.77952402154285, 37.368441789396854],\n",
              "      [127.80397287036232, 37.432516049235865],\n",
              "      [127.79833492163134, 37.460500237870505],\n",
              "      [127.77664798308412, 37.48883635932707],\n",
              "      [127.77611527652192, 37.50328615763377],\n",
              "      [127.80855972024105, 37.53220450961153],\n",
              "      [127.8445769305193, 37.53621789699497],\n",
              "      [127.85162286006927, 37.55037340096326],\n",
              "      [127.81507964099751, 37.5618389022189],\n",
              "      [127.79492564827493, 37.58252978378627],\n",
              "      [127.76838776707211, 37.580178216134605],\n",
              "      [127.75614914198108, 37.589477424718204],\n",
              "      [127.7102810556826, 37.58360128682645],\n",
              "      [127.69869383868397, 37.59757031454811],\n",
              "      [127.65553070991882, 37.61954565135447],\n",
              "      [127.62972032693943, 37.63983122973888],\n",
              "      [127.60450569091653, 37.648548552427314],\n",
              "      [127.58166701442097, 37.63033393389168],\n",
              "      [127.56113535909492, 37.6256560539258]]]}},\n",
              "  {'type': 'Feature',\n",
              "   'properties': {'code': 31370,\n",
              "    'name': '가평군',\n",
              "    'name_eng': 'Gapyeong-gun',\n",
              "    'base_year': 2013},\n",
              "   'geometry': {'type': 'Polygon',\n",
              "    'coordinates': [[[127.44780328408541, 38.048238751068475],\n",
              "      [127.42042182072485, 38.01200319871128],\n",
              "      [127.41516664705571, 37.995046525366845],\n",
              "      [127.39194666896421, 37.97992649728499],\n",
              "      [127.37828420492166, 37.958773972665476],\n",
              "      [127.3864253692493, 37.940789082655876],\n",
              "      [127.35796486335995, 37.918888706648104],\n",
              "      [127.33112989323685, 37.9192732427266],\n",
              "      [127.32585628843694, 37.8708665787365],\n",
              "      [127.31427495278925, 37.86338279582678],\n",
              "      [127.29023239060183, 37.867156223189305],\n",
              "      [127.27621937205707, 37.823925522993584],\n",
              "      [127.28134774958465, 37.81350552459983],\n",
              "      [127.2686525155809, 37.777676803810074],\n",
              "      [127.32070791913966, 37.76445271893134],\n",
              "      [127.34501289752937, 37.7266690692075],\n",
              "      [127.35759057077398, 37.720909295881434],\n",
              "      [127.35557114419971, 37.701041217064585],\n",
              "      [127.38133544278186, 37.67180837890239],\n",
              "      [127.3732642199939, 37.6453987554284],\n",
              "      [127.40156700708162, 37.64806970784708],\n",
              "      [127.4272349102434, 37.66284420898682],\n",
              "      [127.44699730711024, 37.64497584741164],\n",
              "      [127.47565866803647, 37.60512112601634],\n",
              "      [127.47687473909174, 37.574448241913856],\n",
              "      [127.50048767007603, 37.569036373178626],\n",
              "      [127.52226606559191, 37.5828628697518],\n",
              "      [127.56366973908277, 37.5842624297699],\n",
              "      [127.57290963929243, 37.61087369350498],\n",
              "      [127.56113535909492, 37.6256560539258],\n",
              "      [127.53917031861263, 37.64021056192394],\n",
              "      [127.5549605217701, 37.658757758392326],\n",
              "      [127.55230133599949, 37.6826768602848],\n",
              "      [127.5620152520609, 37.72573118147031],\n",
              "      [127.54295591487076, 37.71630823574417],\n",
              "      [127.50979807707056, 37.72791553253582],\n",
              "      [127.5466892772679, 37.757547899640265],\n",
              "      [127.52374487270039, 37.788564076302706],\n",
              "      [127.53790811514408, 37.806297142430786],\n",
              "      [127.5278056459557, 37.8205934650677],\n",
              "      [127.53467866263196, 37.8391134107185],\n",
              "      [127.5645808687282, 37.852710085354005],\n",
              "      [127.586513542654, 37.87296654527047],\n",
              "      [127.60326048844294, 37.87185797528634],\n",
              "      [127.61988365348992, 37.90376621474279],\n",
              "      [127.61592274592837, 37.93662873141094],\n",
              "      [127.60515472290533, 37.95233960186072],\n",
              "      [127.54648191805605, 37.96536690082484],\n",
              "      [127.54189684816376, 37.99843118565868],\n",
              "      [127.50356426725331, 37.99680815824825],\n",
              "      [127.47430810833019, 38.00331531710267],\n",
              "      [127.46013793737187, 38.01348603532302],\n",
              "      [127.44780328408541, 38.048238751068475]]]}},\n",
              "  {'type': 'Feature',\n",
              "   'properties': {'code': 31350,\n",
              "    'name': '연천군',\n",
              "    'name_eng': 'Yeoncheon-gun',\n",
              "    'base_year': 2013},\n",
              "   'geometry': {'type': 'Polygon',\n",
              "    'coordinates': [[[127.1114029794941, 38.289324698353205],\n",
              "      [127.07249919657463, 38.26801218962005],\n",
              "      [127.02801007414642, 38.254549706273764],\n",
              "      [126.99286312502117, 38.234131621017674],\n",
              "      [126.97740008434542, 38.23136042526893],\n",
              "      [126.98606173199121, 38.209401424377816],\n",
              "      [126.96711105593987, 38.19506065700263],\n",
              "      [126.95459011862387, 38.20786522832632],\n",
              "      [126.92781480981668, 38.200854654628984],\n",
              "      [126.8974333001951, 38.20180521598681],\n",
              "      [126.87506682979435, 38.220357253330604],\n",
              "      [126.8278790877819, 38.195486974451406],\n",
              "      [126.77187664076929, 38.15202258772112],\n",
              "      [126.75014823067355, 38.125072772241225],\n",
              "      [126.78709379586621, 38.09626689678258],\n",
              "      [126.79823368085893, 38.079396242822355],\n",
              "      [126.85234589355446, 38.09221072381945],\n",
              "      [126.86904468579002, 38.077582436479354],\n",
              "      [126.89538167413222, 38.071648142471204],\n",
              "      [126.89492205681401, 38.04859999954147],\n",
              "      [126.87463524911628, 38.01581963256826],\n",
              "      [126.85568764143953, 38.02873639803942],\n",
              "      [126.83392985136591, 38.03100700061125],\n",
              "      [126.8252320653152, 38.00913397816309],\n",
              "      [126.83164256576254, 37.99035429677792],\n",
              "      [126.8029965558113, 37.989251239637596],\n",
              "      [126.80659958939793, 37.9680012097748],\n",
              "      [126.8388723334759, 37.96197909365746],\n",
              "      [126.8423229135476, 37.97819760433225],\n",
              "      [126.85859300440933, 37.98329485669624],\n",
              "      [126.8739356423477, 37.968400924665225],\n",
              "      [126.89755470110721, 37.9683523617657],\n",
              "      [126.90034044420747, 37.99438948257985],\n",
              "      [126.93929997962098, 37.9789601448141],\n",
              "      [126.97166918547234, 38.000587999007735],\n",
              "      [126.99425287672854, 38.000624488107924],\n",
              "      [127.01739022262282, 37.989561835400195],\n",
              "      [126.97545924731331, 37.93928140597955],\n",
              "      [127.01215278654801, 37.924817815480985],\n",
              "      [127.02968085272437, 37.9404013715077],\n",
              "      [127.05589127856165, 37.978154747876275],\n",
              "      [127.09382742820131, 37.968691278173],\n",
              "      [127.09290535753887, 37.98459431234087],\n",
              "      [127.12231622589134, 37.976745791642564],\n",
              "      [127.14982270353039, 37.99413348520078],\n",
              "      [127.1474423860908, 38.01290337564081],\n",
              "      [127.11440133420174, 38.04821685684721],\n",
              "      [127.14326850224882, 38.070002354405226],\n",
              "      [127.15086136346409, 38.05496212563221],\n",
              "      [127.1888339288906, 38.06204029940796],\n",
              "      [127.19437916578538, 38.0797568774465],\n",
              "      [127.17503254383571, 38.13882932478672],\n",
              "      [127.18150182398624, 38.181927191525546],\n",
              "      [127.16857086007771, 38.19681089627724],\n",
              "      [127.16461628401596, 38.22949766461027],\n",
              "      [127.15063615800273, 38.239791315402336],\n",
              "      [127.13243747984255, 38.22986476152822],\n",
              "      [127.11224663908298, 38.23944312080941],\n",
              "      [127.11610682730382, 38.26255766722931],\n",
              "      [127.1114029794941, 38.289324698353205]]]}},\n",
              "  {'type': 'Feature',\n",
              "   'properties': {'code': 31280,\n",
              "    'name': '여주시',\n",
              "    'name_eng': 'Yeoju-si',\n",
              "    'base_year': 2013},\n",
              "   'geometry': {'type': 'Polygon',\n",
              "    'coordinates': [[[127.40276739880215, 37.41856433413549],\n",
              "      [127.41955611640327, 37.386674887879835],\n",
              "      [127.44514756834636, 37.3842770721951],\n",
              "      [127.44459662819855, 37.35562085049101],\n",
              "      [127.47263652805968, 37.35869263849808],\n",
              "      [127.49167370715485, 37.339527598960764],\n",
              "      [127.51574229064994, 37.336561285567946],\n",
              "      [127.54853754663094, 37.29860192066929],\n",
              "      [127.53106721989582, 37.27115011578052],\n",
              "      [127.5395160453677, 37.24379045683148],\n",
              "      [127.52770097674612, 37.23765094459253],\n",
              "      [127.53342604855668, 37.19715010635273],\n",
              "      [127.51957698997381, 37.18188687027366],\n",
              "      [127.52893461217018, 37.170618598276],\n",
              "      [127.55830514005798, 37.17381401041668],\n",
              "      [127.5785248984445, 37.186311208078585],\n",
              "      [127.5999013564347, 37.1854997199498],\n",
              "      [127.63091754409567, 37.150947430524305],\n",
              "      [127.66246837559255, 37.13682554779843],\n",
              "      [127.69759568854894, 37.137598675963744],\n",
              "      [127.6981539994774, 37.14931076846793],\n",
              "      [127.73893911466041, 37.20715818139463],\n",
              "      [127.75008528183503, 37.21383642183904],\n",
              "      [127.75102511570132, 37.24464129242011],\n",
              "      [127.76047537750615, 37.25518935399549],\n",
              "      [127.75697503302167, 37.29496921027118],\n",
              "      [127.77073902372764, 37.30499906774147],\n",
              "      [127.76193527300671, 37.32724708852886],\n",
              "      [127.76165381178268, 37.36421926003675],\n",
              "      [127.70347417929173, 37.371054026073324],\n",
              "      [127.71071536074867, 37.40736583858037],\n",
              "      [127.66976823475012, 37.40884431255766],\n",
              "      [127.6491838950862, 37.402042953108506],\n",
              "      [127.63754040237271, 37.41065607591271],\n",
              "      [127.60528700481163, 37.416969769508924],\n",
              "      [127.53910572062166, 37.40849283821634],\n",
              "      [127.52501209957308, 37.43192043868044],\n",
              "      [127.51015267026155, 37.43699555518635],\n",
              "      [127.4817900304572, 37.42084413829662],\n",
              "      [127.4250053080982, 37.43669952587185],\n",
              "      [127.40276739880215, 37.41856433413549]]]}},\n",
              "  {'type': 'Feature',\n",
              "   'properties': {'code': 31270,\n",
              "    'name': '포천시',\n",
              "    'name_eng': 'Pocheonsi',\n",
              "    'base_year': 2013},\n",
              "   'geometry': {'type': 'Polygon',\n",
              "    'coordinates': [[[127.18150182398624, 38.181927191525546],\n",
              "      [127.17503254383571, 38.13882932478672],\n",
              "      [127.19437916578538, 38.0797568774465],\n",
              "      [127.1888339288906, 38.06204029940796],\n",
              "      [127.15086136346409, 38.05496212563221],\n",
              "      [127.14326850224882, 38.070002354405226],\n",
              "      [127.11440133420174, 38.04821685684721],\n",
              "      [127.1474423860908, 38.01290337564081],\n",
              "      [127.14982270353039, 37.99413348520078],\n",
              "      [127.12231622589134, 37.976745791642564],\n",
              "      [127.09290535753887, 37.98459431234087],\n",
              "      [127.09382742820131, 37.968691278173],\n",
              "      [127.1240834119586, 37.913726790414486],\n",
              "      [127.1480788721724, 37.909108279220675],\n",
              "      [127.15777209998105, 37.89291633342494],\n",
              "      [127.14908802054492, 37.87326470277757],\n",
              "      [127.13067707221735, 37.87115064756639],\n",
              "      [127.1113003891929, 37.85708813371199],\n",
              "      [127.12400943178396, 37.82538075264934],\n",
              "      [127.12412178020936, 37.80931541475853],\n",
              "      [127.10645686970089, 37.776897580693586],\n",
              "      [127.14177735342194, 37.76129795333661],\n",
              "      [127.14882403466048, 37.75206030443599],\n",
              "      [127.17524551122212, 37.751938183429424],\n",
              "      [127.18575971970597, 37.76186443408089],\n",
              "      [127.21510645674604, 37.75873586709106],\n",
              "      [127.22719439323131, 37.750666435161854],\n",
              "      [127.26186907661463, 37.765678541736996],\n",
              "      [127.2686525155809, 37.777676803810074],\n",
              "      [127.28134774958465, 37.81350552459983],\n",
              "      [127.27621937205707, 37.823925522993584],\n",
              "      [127.29023239060183, 37.867156223189305],\n",
              "      [127.31427495278925, 37.86338279582678],\n",
              "      [127.32585628843694, 37.8708665787365],\n",
              "      [127.33112989323685, 37.9192732427266],\n",
              "      [127.35796486335995, 37.918888706648104],\n",
              "      [127.3864253692493, 37.940789082655876],\n",
              "      [127.37828420492166, 37.958773972665476],\n",
              "      [127.39194666896421, 37.97992649728499],\n",
              "      [127.41516664705571, 37.995046525366845],\n",
              "      [127.42042182072485, 38.01200319871128],\n",
              "      [127.44780328408541, 38.048238751068475],\n",
              "      [127.44645416125843, 38.09506926769056],\n",
              "      [127.43271157644212, 38.11254491261849],\n",
              "      [127.38575924845978, 38.111650021865444],\n",
              "      [127.32332897924549, 38.09248746131129],\n",
              "      [127.31342794935864, 38.113239178580145],\n",
              "      [127.28533797240796, 38.11374536112377],\n",
              "      [127.27790641954418, 38.13449032094295],\n",
              "      [127.28937067741944, 38.1495974983685],\n",
              "      [127.29146727692374, 38.17417076323154],\n",
              "      [127.27319981021783, 38.1790866530056],\n",
              "      [127.25802935713429, 38.16048880005979],\n",
              "      [127.22539552047925, 38.144128217872485],\n",
              "      [127.19211744512407, 38.157963139766544],\n",
              "      [127.18150182398624, 38.181927191525546]]]}},\n",
              "  {'type': 'Feature',\n",
              "   'properties': {'code': 31260,\n",
              "    'name': '양주시',\n",
              "    'name_eng': 'Yangjusi',\n",
              "    'base_year': 2013},\n",
              "   'geometry': {'type': 'Polygon',\n",
              "    'coordinates': [[[126.97545924731331, 37.93928140597955],\n",
              "      [126.94883433502994, 37.89688479787927],\n",
              "      [126.9484401545115, 37.86422401203834],\n",
              "      [126.93661135445112, 37.843479475117995],\n",
              "      [126.9160273881691, 37.83830532663158],\n",
              "      [126.9073114617216, 37.790560159793145],\n",
              "      [126.93838979622467, 37.771436009953916],\n",
              "      [126.93180653905974, 37.74575671706106],\n",
              "      [126.92470886562188, 37.72916078041937],\n",
              "      [126.92290257733573, 37.66907383915535],\n",
              "      [126.94191948970435, 37.66797237250146],\n",
              "      [126.94689093217877, 37.68234333447953],\n",
              "      [126.96734461801938, 37.68969305565268],\n",
              "      [126.99383903424, 37.676681761199085],\n",
              "      [127.01039666042071, 37.681894589603594],\n",
              "      [127.01795099203432, 37.69824412775662],\n",
              "      [127.01477890845196, 37.722832167524864],\n",
              "      [127.00430024727942, 37.73792676357612],\n",
              "      [127.00437834122181, 37.75999833868866],\n",
              "      [127.02081299427202, 37.76581418787214],\n",
              "      [127.05297245855259, 37.75816755994106],\n",
              "      [127.10645686970089, 37.776897580693586],\n",
              "      [127.12412178020936, 37.80931541475853],\n",
              "      [127.12400943178396, 37.82538075264934],\n",
              "      [127.1113003891929, 37.85708813371199],\n",
              "      [127.09509254572018, 37.86843288571378],\n",
              "      [127.06250430862417, 37.86658619508279],\n",
              "      [127.04837406784853, 37.891090496591005],\n",
              "      [127.01281974367026, 37.90171539201257],\n",
              "      [127.01215278654801, 37.924817815480985],\n",
              "      [126.97545924731331, 37.93928140597955]]]}},\n",
              "  {'type': 'Feature',\n",
              "   'properties': {'code': 31250,\n",
              "    'name': '광주시',\n",
              "    'name_eng': 'Gwangju',\n",
              "    'base_year': 2013},\n",
              "   'geometry': {'type': 'Polygon',\n",
              "    'coordinates': [[[127.30923294884336, 37.5135706079458],\n",
              "      [127.28971082577908, 37.51069218442014],\n",
              "      [127.25539313999657, 37.50044702706516],\n",
              "      [127.26066872639333, 37.4867746581613],\n",
              "      [127.23892819551556, 37.47240158876339],\n",
              "      [127.21785285379218, 37.479493796173465],\n",
              "      [127.1831716097913, 37.47048077053623],\n",
              "      [127.19808034941583, 37.441066604883545],\n",
              "      [127.19594474070001, 37.421269309284035],\n",
              "      [127.17637586604776, 37.40261052326208],\n",
              "      [127.15506886795262, 37.36076173403712],\n",
              "      [127.13605700285002, 37.35565614606753],\n",
              "      [127.13845652996186, 37.336816804055495],\n",
              "      [127.1439713536275, 37.33349026702227],\n",
              "      [127.19373839709431, 37.34441869868583],\n",
              "      [127.21042746205282, 37.32805374935785],\n",
              "      [127.23072982952925, 37.35607967407726],\n",
              "      [127.26708575818817, 37.33990127392118],\n",
              "      [127.28543362549937, 37.3425335272208],\n",
              "      [127.2795205391003, 37.306809952638524],\n",
              "      [127.28383871402815, 37.2658807760632],\n",
              "      [127.32142008240551, 37.27215636613311],\n",
              "      [127.34092967480524, 37.26770614318737],\n",
              "      [127.34227600003884, 37.28528169366774],\n",
              "      [127.37829628277709, 37.317936247676194],\n",
              "      [127.38906532153541, 37.31608103967859],\n",
              "      [127.42277946655206, 37.33526375647856],\n",
              "      [127.44459662819855, 37.35562085049101],\n",
              "      [127.44514756834636, 37.3842770721951],\n",
              "      [127.41955611640327, 37.386674887879835],\n",
              "      [127.40276739880215, 37.41856433413549],\n",
              "      [127.39174400683049, 37.4256483411369],\n",
              "      [127.37490698722792, 37.455072688441305],\n",
              "      [127.39046783039153, 37.47413422098595],\n",
              "      [127.38286320755414, 37.50147517965334],\n",
              "      [127.3663244453597, 37.52716845880826],\n",
              "      [127.32809611134748, 37.53133849534739],\n",
              "      [127.30923294884336, 37.5135706079458]]]}},\n",
              "  {'type': 'Feature',\n",
              "   'properties': {'code': 31240,\n",
              "    'name': '화성시',\n",
              "    'name_eng': 'Hwaseongsi',\n",
              "    'base_year': 2013},\n",
              "   'geometry': {'type': 'Polygon',\n",
              "    'coordinates': [[[126.92946761531998, 37.275967848758626],\n",
              "      [126.9159468889861, 37.28864104563552],\n",
              "      [126.84641021832398, 37.26433293772644],\n",
              "      [126.81930541992186, 37.29590550406618],\n",
              "      [126.77604675292967, 37.28552626562424],\n",
              "      [126.76918029785156, 37.28334098034544],\n",
              "      [126.73210144042969, 37.29098920118597],\n",
              "      [126.71836853027344, 37.286072577028555],\n",
              "      [126.68403625488283, 37.267495764381856],\n",
              "      [126.6510772705078, 37.25328687335229],\n",
              "      [126.66481018066405, 37.21994010868952],\n",
              "      [126.65794372558594, 37.19478361329807],\n",
              "      [126.66271935011406, 37.15926986163073],\n",
              "      [126.6846290670714, 37.14600860455114],\n",
              "      [126.67514463500929, 37.13507063838445],\n",
              "      [126.69054868899676, 37.11326932983634],\n",
              "      [126.7301407699343, 37.135914524793805],\n",
              "      [126.74720764160156, 37.14225609389272],\n",
              "      [126.7719268798828, 37.14663478158564],\n",
              "      [126.79458618164062, 37.14827672411748],\n",
              "      [126.80659259648279, 37.148624224069174],\n",
              "      [126.7547607421875, 37.137329767248794],\n",
              "      [126.72454833984374, 37.11543110112874],\n",
              "      [126.73072814941408, 37.092430683283474],\n",
              "      [126.7327880859375, 37.07544970503028],\n",
              "      [126.75132751464844, 37.0601087778919],\n",
              "      [126.75044219493901, 37.04618007006251],\n",
              "      [126.75308052062115, 37.02639369248519],\n",
              "      [126.79113814421088, 37.02631450535446],\n",
              "      [126.79899352215931, 37.0092005991418],\n",
              "      [126.84014623559027, 37.01079503386266],\n",
              "      [126.85940022959993, 37.022131594683266],\n",
              "      [126.8846211892453, 37.05795114472113],\n",
              "      [126.90291323437098, 37.06724127811693],\n",
              "      [126.94247588185057, 37.057958386286046],\n",
              "      [126.95290081243859, 37.06545814826726],\n",
              "      [126.98672297136514, 37.06879655242586],\n",
              "      [127.00102521866197, 37.08973596266607],\n",
              "      [127.00593012741142, 37.124105707924144],\n",
              "      [127.03746950511537, 37.13336771678679],\n",
              "      [127.03019615684671, 37.16027870494751],\n",
              "      [127.00186863458882, 37.1747343711991],\n",
              "      [127.02929563655235, 37.19787494412135],\n",
              "      [127.06660498380589, 37.19589230774365],\n",
              "      [127.07609473440765, 37.16092553278145],\n",
              "      [127.09596808287752, 37.1566082978686],\n",
              "      [127.10575417734016, 37.1407283236673],\n",
              "      [127.12480483538663, 37.14166379699704],\n",
              "      [127.13469226704495, 37.165565916914176],\n",
              "      [127.16278322754954, 37.17771519608909],\n",
              "      [127.15371679380591, 37.215705679231036],\n",
              "      [127.09106338919456, 37.21351968359228],\n",
              "      [127.06878518378286, 37.23731339587258],\n",
              "      [127.04178611512381, 37.24066886027782],\n",
              "      [127.02475029106094, 37.22207898080851],\n",
              "      [126.97491964707861, 37.22588531228192],\n",
              "      [126.95229769733274, 37.2524826245201],\n",
              "      [126.93110125729105, 37.260824951129344],\n",
              "      [126.92946761531998, 37.275967848758626]]]}},\n",
              "  {'type': 'Feature',\n",
              "   'properties': {'code': 31230,\n",
              "    'name': '김포시',\n",
              "    'name_eng': 'Gimpo-si',\n",
              "    'base_year': 2013},\n",
              "   'geometry': {'type': 'Polygon',\n",
              "    'coordinates': [[[126.67862254618308, 37.697305342702336],\n",
              "      [126.68687028203884, 37.72287270233232],\n",
              "      [126.66907840308846, 37.78174793493798],\n",
              "      [126.64101439012131, 37.77566349630024],\n",
              "      [126.61153655783419, 37.75013666485523],\n",
              "      [126.56882602841813, 37.7532565431125],\n",
              "      [126.55721894228033, 37.76621180168271],\n",
              "      [126.51662409600848, 37.76417822326665],\n",
              "      [126.52807816920034, 37.73531846953613],\n",
              "      [126.52057497424896, 37.70995131425922],\n",
              "      [126.5293420651622, 37.70036377653783],\n",
              "      [126.52504262045373, 37.67373626287928],\n",
              "      [126.53101689696972, 37.65019057730887],\n",
              "      [126.55161765645468, 37.624298554715594],\n",
              "      [126.55623106969898, 37.60651221746275],\n",
              "      [126.57464273966109, 37.58499252358352],\n",
              "      [126.61067265871806, 37.601000735347455],\n",
              "      [126.6298186792055, 37.60410987353396],\n",
              "      [126.63835822769396, 37.62500980457943],\n",
              "      [126.6591800896809, 37.63521787385032],\n",
              "      [126.70070861456485, 37.6146734329379],\n",
              "      [126.72720375328538, 37.589208895921956],\n",
              "      [126.74570339076207, 37.59055779256247],\n",
              "      [126.79575768552907, 37.57881087633202],\n",
              "      [126.80702115023597, 37.60123001013228],\n",
              "      [126.77608157956732, 37.61940269153496],\n",
              "      [126.74300328815525, 37.63613822400079],\n",
              "      [126.6733552623039, 37.67370888254625],\n",
              "      [126.67862254618308, 37.697305342702336]]]}},\n",
              "  {'type': 'Feature',\n",
              "   'properties': {'code': 31220,\n",
              "    'name': '안성시',\n",
              "    'name_eng': 'Anseong-si',\n",
              "    'base_year': 2013},\n",
              "   'geometry': {'type': 'Polygon',\n",
              "    'coordinates': [[[127.4921007211045, 37.04995601187854],\n",
              "      [127.50695269820937, 37.05753483878351],\n",
              "      [127.5183736840388, 37.08503753187909],\n",
              "      [127.50508537419512, 37.115382889205684],\n",
              "      [127.45481750751989, 37.132580597361105],\n",
              "      [127.43195960102275, 37.144888798316245],\n",
              "      [127.4230458143012, 37.123216212193206],\n",
              "      [127.42631296061737, 37.09684636395198],\n",
              "      [127.40130784690913, 37.09245087525459],\n",
              "      [127.36035341650685, 37.104395022706164],\n",
              "      [127.34555940652085, 37.10116608411004],\n",
              "      [127.32884755687247, 37.11659174326816],\n",
              "      [127.3127600393989, 37.10253147019345],\n",
              "      [127.29016455856019, 37.1284169582523],\n",
              "      [127.2524045686932, 37.142247323045744],\n",
              "      [127.25314613987028, 37.120146872115946],\n",
              "      [127.23808463453801, 37.11859194998404],\n",
              "      [127.21070673321714, 37.1015342900424],\n",
              "      [127.19738813790079, 37.08621655572156],\n",
              "      [127.16831604852223, 37.083742477354726],\n",
              "      [127.12516729074011, 37.08849523189945],\n",
              "      [127.12948838054707, 37.04966079815856],\n",
              "      [127.10740090841584, 37.0328875639127],\n",
              "      [127.15517998352519, 37.026613262831916],\n",
              "      [127.14747724307254, 37.0138188945719],\n",
              "      [127.15496570056612, 36.99487383420599],\n",
              "      [127.13779801966723, 36.99041291045364],\n",
              "      [127.1216062947912, 36.96626164975953],\n",
              "      [127.1464102583773, 36.96864576891614],\n",
              "      [127.20400548086619, 36.94924588348929],\n",
              "      [127.2223238977499, 36.92742980980818],\n",
              "      [127.24613652503862, 36.91453164371645],\n",
              "      [127.27227784491541, 36.910372298119825],\n",
              "      [127.2919237698698, 36.89094292918124],\n",
              "      [127.31127137227124, 36.92622202120876],\n",
              "      [127.35186324388168, 36.94969761594173],\n",
              "      [127.38065822509601, 36.94859652718182],\n",
              "      [127.40398967704995, 36.96488092382215],\n",
              "      [127.38707184117484, 36.981534293776996],\n",
              "      [127.39617030040874, 36.99507985079591],\n",
              "      [127.43189913129159, 36.99902770852865],\n",
              "      [127.4488413674345, 37.008168187910805],\n",
              "      [127.46014553759977, 37.01772149607737],\n",
              "      [127.45985706240288, 37.0407398003885],\n",
              "      [127.4921007211045, 37.04995601187854]]]}},\n",
              "  {'type': 'Feature',\n",
              "   'properties': {'code': 31210,\n",
              "    'name': '이천시',\n",
              "    'name_eng': 'Icheon-si',\n",
              "    'base_year': 2013},\n",
              "   'geometry': {'type': 'Polygon',\n",
              "    'coordinates': [[[127.44459662819855, 37.35562085049101],\n",
              "      [127.42277946655206, 37.33526375647856],\n",
              "      [127.38906532153541, 37.31608103967859],\n",
              "      [127.37829628277709, 37.317936247676194],\n",
              "      [127.34227600003884, 37.28528169366774],\n",
              "      [127.34092967480524, 37.26770614318737],\n",
              "      [127.33185727826834, 37.21877880590886],\n",
              "      [127.3504254442421, 37.20158943522061],\n",
              "      [127.38033957366586, 37.19271119046181],\n",
              "      [127.38451468391715, 37.17989930552182],\n",
              "      [127.41620898203362, 37.17029801090558],\n",
              "      [127.41445191048162, 37.152220061925426],\n",
              "      [127.43195960102275, 37.144888798316245],\n",
              "      [127.45481750751989, 37.132580597361105],\n",
              "      [127.50508537419512, 37.115382889205684],\n",
              "      [127.5183736840388, 37.08503753187909],\n",
              "      [127.50695269820937, 37.05753483878351],\n",
              "      [127.4921007211045, 37.04995601187854],\n",
              "      [127.5328452994501, 37.052947456094785],\n",
              "      [127.55489094869193, 37.04147062932325],\n",
              "      [127.56834352033556, 37.06015560613134],\n",
              "      [127.60303992687903, 37.08267817797425],\n",
              "      [127.63326599440494, 37.09343317631327],\n",
              "      [127.6399897481202, 37.13818503173906],\n",
              "      [127.63091754409567, 37.150947430524305],\n",
              "      [127.5999013564347, 37.1854997199498],\n",
              "      [127.5785248984445, 37.186311208078585],\n",
              "      [127.55830514005798, 37.17381401041668],\n",
              "      [127.52893461217018, 37.170618598276],\n",
              "      [127.51957698997381, 37.18188687027366],\n",
              "      [127.53342604855668, 37.19715010635273],\n",
              "      [127.52770097674612, 37.23765094459253],\n",
              "      [127.5395160453677, 37.24379045683148],\n",
              "      [127.53106721989582, 37.27115011578052],\n",
              "      [127.54853754663094, 37.29860192066929],\n",
              "      [127.51574229064994, 37.336561285567946],\n",
              "      [127.49167370715485, 37.339527598960764],\n",
              "      [127.47263652805968, 37.35869263849808],\n",
              "      [127.44459662819855, 37.35562085049101]]]}},\n",
              "  {'type': 'Feature',\n",
              "   'properties': {'code': 31200,\n",
              "    'name': '파주시',\n",
              "    'name_eng': 'Paju-si',\n",
              "    'base_year': 2013},\n",
              "   'geometry': {'type': 'Polygon',\n",
              "    'coordinates': [[[126.8029965558113, 37.989251239637596],\n",
              "      [126.78238542753242, 37.980043641136376],\n",
              "      [126.76520529808869, 37.98230780004701],\n",
              "      [126.7420462951568, 37.96995265840659],\n",
              "      [126.74668441679131, 37.94913356897888],\n",
              "      [126.71646858457899, 37.93722236122983],\n",
              "      [126.69257364928472, 37.941147151072606],\n",
              "      [126.67501771549766, 37.95271495350346],\n",
              "      [126.66763541566303, 37.91838340624898],\n",
              "      [126.67945067210682, 37.89497402505224],\n",
              "      [126.67382346217423, 37.88401755835065],\n",
              "      [126.69348896006609, 37.86442957434648],\n",
              "      [126.6622706417164, 37.83606410322825],\n",
              "      [126.67603874694878, 37.82828427203144],\n",
              "      [126.66423330880171, 37.78738456951397],\n",
              "      [126.66907840308846, 37.78174793493798],\n",
              "      [126.68687028203884, 37.72287270233232],\n",
              "      [126.67862254618308, 37.697305342702336],\n",
              "      [126.69372674409394, 37.687413022894034],\n",
              "      [126.72711651649912, 37.70166318681986],\n",
              "      [126.77635483402547, 37.70188604497484],\n",
              "      [126.79766531143225, 37.730785143520876],\n",
              "      [126.81634118925638, 37.72071803262515],\n",
              "      [126.83772078982989, 37.72529130369535],\n",
              "      [126.85856020555829, 37.73179451375736],\n",
              "      [126.88536540501534, 37.717034664244366],\n",
              "      [126.90425036668735, 37.72565605361581],\n",
              "      [126.91088793086112, 37.74418199544871],\n",
              "      [126.93180653905974, 37.74575671706106],\n",
              "      [126.93838979622467, 37.771436009953916],\n",
              "      [126.9073114617216, 37.790560159793145],\n",
              "      [126.9160273881691, 37.83830532663158],\n",
              "      [126.93661135445112, 37.843479475117995],\n",
              "      [126.9484401545115, 37.86422401203834],\n",
              "      [126.94883433502994, 37.89688479787927],\n",
              "      [126.97545924731331, 37.93928140597955],\n",
              "      [127.01739022262282, 37.989561835400195],\n",
              "      [126.99425287672854, 38.000624488107924],\n",
              "      [126.97166918547234, 38.000587999007735],\n",
              "      [126.93929997962098, 37.9789601448141],\n",
              "      [126.90034044420747, 37.99438948257985],\n",
              "      [126.89755470110721, 37.9683523617657],\n",
              "      [126.8739356423477, 37.968400924665225],\n",
              "      [126.85859300440933, 37.98329485669624],\n",
              "      [126.8423229135476, 37.97819760433225],\n",
              "      [126.8388723334759, 37.96197909365746],\n",
              "      [126.80659958939793, 37.9680012097748],\n",
              "      [126.8029965558113, 37.989251239637596]]]}},\n",
              "  {'type': 'Feature',\n",
              "   'properties': {'code': 31193,\n",
              "    'name': '용인시수지구',\n",
              "    'name_eng': 'Yonginsisujigu',\n",
              "    'base_year': 2013},\n",
              "   'geometry': {'type': 'Polygon',\n",
              "    'coordinates': [[[127.03004539569396, 37.36932312139811],\n",
              "      [127.02090967499298, 37.348741503905366],\n",
              "      [127.03554038078946, 37.341941908872045],\n",
              "      [127.04202153059128, 37.318511731862884],\n",
              "      [127.06304327683587, 37.30610813773979],\n",
              "      [127.06269400142102, 37.293755190822594],\n",
              "      [127.09199113357242, 37.295585212583866],\n",
              "      [127.10392750030913, 37.31946377620277],\n",
              "      [127.13936654068314, 37.321564168361974],\n",
              "      [127.1439713536275, 37.33349026702227],\n",
              "      [127.13845652996186, 37.336816804055495],\n",
              "      [127.11899182435063, 37.33059044022546],\n",
              "      [127.07299151640797, 37.35485426174942],\n",
              "      [127.03004539569396, 37.36932312139811]]]}},\n",
              "  {'type': 'Feature',\n",
              "   'properties': {'code': 31192,\n",
              "    'name': '용인시기흥구',\n",
              "    'name_eng': 'Yonginsigiheunggu',\n",
              "    'base_year': 2013},\n",
              "   'geometry': {'type': 'Polygon',\n",
              "    'coordinates': [[[127.09199113357242, 37.295585212583866],\n",
              "      [127.09104881579566, 37.284308786190785],\n",
              "      [127.06718840393803, 37.26860748709257],\n",
              "      [127.08680542938673, 37.253775982641194],\n",
              "      [127.06878518378286, 37.23731339587258],\n",
              "      [127.09106338919456, 37.21351968359228],\n",
              "      [127.15371679380591, 37.215705679231036],\n",
              "      [127.15133830848096, 37.23783513168847],\n",
              "      [127.17714136480691, 37.255352775734025],\n",
              "      [127.17921513238925, 37.282153169636494],\n",
              "      [127.13936654068314, 37.321564168361974],\n",
              "      [127.10392750030913, 37.31946377620277],\n",
              "      [127.09199113357242, 37.295585212583866]]]}},\n",
              "  {'type': 'Feature',\n",
              "   'properties': {'code': 31191,\n",
              "    'name': '용인시처인구',\n",
              "    'name_eng': 'Yonginsicheoingu',\n",
              "    'base_year': 2013},\n",
              "   'geometry': {'type': 'Polygon',\n",
              "    'coordinates': [[[127.34092967480524, 37.26770614318737],\n",
              "      [127.32142008240551, 37.27215636613311],\n",
              "      [127.28383871402815, 37.2658807760632],\n",
              "      [127.2795205391003, 37.306809952638524],\n",
              "      [127.28543362549937, 37.3425335272208],\n",
              "      [127.26708575818817, 37.33990127392118],\n",
              "      [127.23072982952925, 37.35607967407726],\n",
              "      [127.21042746205282, 37.32805374935785],\n",
              "      [127.19373839709431, 37.34441869868583],\n",
              "      [127.1439713536275, 37.33349026702227],\n",
              "      [127.13936654068314, 37.321564168361974],\n",
              "      [127.17921513238925, 37.282153169636494],\n",
              "      [127.17714136480691, 37.255352775734025],\n",
              "      [127.15133830848096, 37.23783513168847],\n",
              "      [127.15371679380591, 37.215705679231036],\n",
              "      [127.16278322754954, 37.17771519608909],\n",
              "      [127.13469226704495, 37.165565916914176],\n",
              "      [127.12480483538663, 37.14166379699704],\n",
              "      [127.11116461643066, 37.123859739458304],\n",
              "      [127.12516729074011, 37.08849523189945],\n",
              "      [127.16831604852223, 37.083742477354726],\n",
              "      [127.19738813790079, 37.08621655572156],\n",
              "      [127.21070673321714, 37.1015342900424],\n",
              "      [127.23808463453801, 37.11859194998404],\n",
              "      [127.25314613987028, 37.120146872115946],\n",
              "      [127.2524045686932, 37.142247323045744],\n",
              "      [127.29016455856019, 37.1284169582523],\n",
              "      [127.3127600393989, 37.10253147019345],\n",
              "      [127.32884755687247, 37.11659174326816],\n",
              "      [127.34555940652085, 37.10116608411004],\n",
              "      [127.36035341650685, 37.104395022706164],\n",
              "      [127.40130784690913, 37.09245087525459],\n",
              "      [127.42631296061737, 37.09684636395198],\n",
              "      [127.4230458143012, 37.123216212193206],\n",
              "      [127.43195960102275, 37.144888798316245],\n",
              "      [127.41445191048162, 37.152220061925426],\n",
              "      [127.41620898203362, 37.17029801090558],\n",
              "      [127.38451468391715, 37.17989930552182],\n",
              "      [127.38033957366586, 37.19271119046181],\n",
              "      [127.3504254442421, 37.20158943522061],\n",
              "      [127.33185727826834, 37.21877880590886],\n",
              "      [127.34092967480524, 37.26770614318737]]]}},\n",
              "  {'type': 'Feature',\n",
              "   'properties': {'code': 31180,\n",
              "    'name': '하남시',\n",
              "    'name_eng': 'Hanam-si',\n",
              "    'base_year': 2013},\n",
              "   'geometry': {'type': 'Polygon',\n",
              "    'coordinates': [[[127.16683184366129, 37.57672487388627],\n",
              "      [127.18408792330152, 37.55814280369575],\n",
              "      [127.16530984307447, 37.54221851258693],\n",
              "      [127.14672806823502, 37.51415680680291],\n",
              "      [127.1634944215765, 37.497445406097484],\n",
              "      [127.14206058413274, 37.47089819098501],\n",
              "      [127.17807401290999, 37.46939077799968],\n",
              "      [127.1831716097913, 37.47048077053623],\n",
              "      [127.21785285379218, 37.479493796173465],\n",
              "      [127.23892819551556, 37.47240158876339],\n",
              "      [127.26066872639333, 37.4867746581613],\n",
              "      [127.25539313999657, 37.50044702706516],\n",
              "      [127.28971082577908, 37.51069218442014],\n",
              "      [127.28111702399318, 37.523561821461996],\n",
              "      [127.23688890922413, 37.546307321113254],\n",
              "      [127.23635034049964, 37.55494536243556],\n",
              "      [127.20140811211739, 37.58834877432742],\n",
              "      [127.16683184366129, 37.57672487388627]]]}},\n",
              "  {'type': 'Feature',\n",
              "   'properties': {'code': 31170,\n",
              "    'name': '의왕시',\n",
              "    'name_eng': 'Uiwang-si',\n",
              "    'base_year': 2013},\n",
              "   'geometry': {'type': 'Polygon',\n",
              "    'coordinates': [[[127.04377994345505, 37.41281928664435],\n",
              "      [127.0154646349186, 37.411005997724835],\n",
              "      [126.98466887829045, 37.39785909018114],\n",
              "      [126.96423328330341, 37.358735102948096],\n",
              "      [126.94893535067122, 37.32100738175514],\n",
              "      [126.93252071350132, 37.30423856869929],\n",
              "      [126.93504702033805, 37.3002209928663],\n",
              "      [126.96633916587045, 37.29989574204989],\n",
              "      [126.98303616696394, 37.32376927812144],\n",
              "      [127.02090967499298, 37.348741503905366],\n",
              "      [127.03004539569396, 37.36932312139811],\n",
              "      [127.04580444799605, 37.40139072056455],\n",
              "      [127.04377994345505, 37.41281928664435]]]}},\n",
              "  {'type': 'Feature',\n",
              "   'properties': {'code': 31160,\n",
              "    'name': '군포시',\n",
              "    'name_eng': 'Gunpo-si',\n",
              "    'base_year': 2013},\n",
              "   'geometry': {'type': 'Polygon',\n",
              "    'coordinates': [[[126.96423328330341, 37.358735102948096],\n",
              "      [126.9429122120182, 37.37630880537034],\n",
              "      [126.9163870114383, 37.37253977179312],\n",
              "      [126.89932903785872, 37.35524703438324],\n",
              "      [126.88015838809775, 37.316795632219964],\n",
              "      [126.9092771218202, 37.318694910599305],\n",
              "      [126.93252071350132, 37.30423856869929],\n",
              "      [126.94893535067122, 37.32100738175514],\n",
              "      [126.96423328330341, 37.358735102948096]]]}},\n",
              "  {'type': 'Feature',\n",
              "   'properties': {'code': 31150,\n",
              "    'name': '시흥시',\n",
              "    'name_eng': 'Siheung-si',\n",
              "    'base_year': 2013},\n",
              "   'geometry': {'type': 'Polygon',\n",
              "    'coordinates': [[[126.78024890848009, 37.469000573789124],\n",
              "      [126.78043371089171, 37.44800343708732],\n",
              "      [126.77110599967482, 37.42452961090748],\n",
              "      [126.75529287233691, 37.41984217802103],\n",
              "      [126.73861862061078, 37.39261185865545],\n",
              "      [126.7029884306089, 37.352119573644295],\n",
              "      [126.69453406156698, 37.331064777919245],\n",
              "      [126.7248752674955, 37.31058440885402],\n",
              "      [126.74059726902762, 37.32685692943894],\n",
              "      [126.76357575956314, 37.33864505297868],\n",
              "      [126.79105964941944, 37.33699094698096],\n",
              "      [126.82580289305967, 37.360321842249355],\n",
              "      [126.84283747134161, 37.360869895636554],\n",
              "      [126.86691937294266, 37.358697064350324],\n",
              "      [126.88400175928666, 37.37340263600163],\n",
              "      [126.879093453746, 37.399239167854816],\n",
              "      [126.85964157227416, 37.398615706957116],\n",
              "      [126.8484052155556, 37.40965572330444],\n",
              "      [126.8280587234361, 37.456596986921056],\n",
              "      [126.78024890848009, 37.469000573789124]]]}},\n",
              "  {'type': 'Feature',\n",
              "   'properties': {'code': 31140,\n",
              "    'name': '오산시',\n",
              "    'name_eng': 'Osan-si',\n",
              "    'base_year': 2013},\n",
              "   'geometry': {'type': 'Polygon',\n",
              "    'coordinates': [[[127.10575417734016, 37.1407283236673],\n",
              "      [127.09596808287752, 37.1566082978686],\n",
              "      [127.07609473440765, 37.16092553278145],\n",
              "      [127.06660498380589, 37.19589230774365],\n",
              "      [127.02929563655235, 37.19787494412135],\n",
              "      [127.00186863458882, 37.1747343711991],\n",
              "      [127.03019615684671, 37.16027870494751],\n",
              "      [127.03746950511537, 37.13336771678679],\n",
              "      [127.04304406837494, 37.126222304219084],\n",
              "      [127.09127893510457, 37.12882078023335],\n",
              "      [127.10575417734016, 37.1407283236673]]]}},\n",
              "  {'type': 'Feature',\n",
              "   'properties': {'code': 31130,\n",
              "    'name': '남양주시',\n",
              "    'name_eng': 'Namyangju-si',\n",
              "    'base_year': 2013},\n",
              "   'geometry': {'type': 'Polygon',\n",
              "    'coordinates': [[[127.2686525155809, 37.777676803810074],\n",
              "      [127.26186907661463, 37.765678541736996],\n",
              "      [127.22719439323131, 37.750666435161854],\n",
              "      [127.21510645674604, 37.75873586709106],\n",
              "      [127.18575971970597, 37.76186443408089],\n",
              "      [127.17524551122212, 37.751938183429424],\n",
              "      [127.14882403466048, 37.75206030443599],\n",
              "      [127.13060037316637, 37.74504865443316],\n",
              "      [127.12788299600184, 37.72469254066713],\n",
              "      [127.0838752703195, 37.69359534202034],\n",
              "      [127.09706391309695, 37.686383719372294],\n",
              "      [127.09440766298717, 37.64713490473045],\n",
              "      [127.11326795855199, 37.639622905315925],\n",
              "      [127.1523782881412, 37.63663639743511],\n",
              "      [127.14554907981939, 37.61784095180692],\n",
              "      [127.16683184366129, 37.57672487388627],\n",
              "      [127.20140811211739, 37.58834877432742],\n",
              "      [127.23635034049964, 37.55494536243556],\n",
              "      [127.23688890922413, 37.546307321113254],\n",
              "      [127.28111702399318, 37.523561821461996],\n",
              "      [127.28971082577908, 37.51069218442014],\n",
              "      [127.30923294884336, 37.5135706079458],\n",
              "      [127.31002843450217, 37.53523876142835],\n",
              "      [127.34360057873045, 37.588997440929354],\n",
              "      [127.3542931884407, 37.6250006376975],\n",
              "      [127.3732642199939, 37.6453987554284],\n",
              "      [127.38133544278186, 37.67180837890239],\n",
              "      [127.35557114419971, 37.701041217064585],\n",
              "      [127.35759057077398, 37.720909295881434],\n",
              "      [127.34501289752937, 37.7266690692075],\n",
              "      [127.32070791913966, 37.76445271893134],\n",
              "      [127.2686525155809, 37.777676803810074]]]}},\n",
              "  {'type': 'Feature',\n",
              "   'properties': {'code': 31120,\n",
              "    'name': '구리시',\n",
              "    'name_eng': 'Guri-si',\n",
              "    'base_year': 2013},\n",
              "   'geometry': {'type': 'Polygon',\n",
              "    'coordinates': [[[127.11326795855199, 37.639622905315925],\n",
              "      [127.10782277688129, 37.61804244241069],\n",
              "      [127.1201246020114, 37.60178457598188],\n",
              "      [127.10304174249214, 37.57076342290955],\n",
              "      [127.11519584981606, 37.557533180704915],\n",
              "      [127.16683184366129, 37.57672487388627],\n",
              "      [127.14554907981939, 37.61784095180692],\n",
              "      [127.1523782881412, 37.63663639743511],\n",
              "      [127.11326795855199, 37.639622905315925]]]}},\n",
              "  {'type': 'Feature',\n",
              "   'properties': {'code': 31110,\n",
              "    'name': '과천시',\n",
              "    'name_eng': 'Gwacheon-si',\n",
              "    'base_year': 2013},\n",
              "   'geometry': {'type': 'Polygon',\n",
              "    'coordinates': [[[126.99072073195462, 37.455326143310025],\n",
              "      [126.96520439085143, 37.438249784006246],\n",
              "      [126.96342494806345, 37.42289846046814],\n",
              "      [126.98466887829045, 37.39785909018114],\n",
              "      [127.0154646349186, 37.411005997724835],\n",
              "      [127.04377994345505, 37.41281928664435],\n",
              "      [127.04957232987142, 37.42805836845694],\n",
              "      [127.03881782597922, 37.45382039851715],\n",
              "      [126.99072073195462, 37.455326143310025]]]}},\n",
              "  {'type': 'Feature',\n",
              "   'properties': {'code': 31104,\n",
              "    'name': '고양시일산서구',\n",
              "    'name_eng': 'Goyangsiilsanseogu',\n",
              "    'base_year': 2013},\n",
              "   'geometry': {'type': 'Polygon',\n",
              "    'coordinates': [[[126.67862254618308, 37.697305342702336],\n",
              "      [126.6733552623039, 37.67370888254625],\n",
              "      [126.74300328815525, 37.63613822400079],\n",
              "      [126.74294383613385, 37.6511173927548],\n",
              "      [126.77194259250199, 37.665292527690774],\n",
              "      [126.78018904849759, 37.678448868614744],\n",
              "      [126.77635483402547, 37.70188604497484],\n",
              "      [126.72711651649912, 37.70166318681986],\n",
              "      [126.69372674409394, 37.687413022894034],\n",
              "      [126.67862254618308, 37.697305342702336]]]}},\n",
              "  {'type': 'Feature',\n",
              "   'properties': {'code': 31103,\n",
              "    'name': '고양시일산동구',\n",
              "    'name_eng': 'Goyangsiilsandonggu',\n",
              "    'base_year': 2013},\n",
              "   'geometry': {'type': 'Polygon',\n",
              "    'coordinates': [[[126.77635483402547, 37.70188604497484],\n",
              "      [126.78018904849759, 37.678448868614744],\n",
              "      [126.77194259250199, 37.665292527690774],\n",
              "      [126.74294383613385, 37.6511173927548],\n",
              "      [126.74300328815525, 37.63613822400079],\n",
              "      [126.77608157956732, 37.61940269153496],\n",
              "      [126.79710848915354, 37.6372950352041],\n",
              "      [126.83512162789108, 37.680020660541864],\n",
              "      [126.85703023929057, 37.68935027811791],\n",
              "      [126.83772078982989, 37.72529130369535],\n",
              "      [126.81634118925638, 37.72071803262515],\n",
              "      [126.79766531143225, 37.730785143520876],\n",
              "      [126.77635483402547, 37.70188604497484]]]}},\n",
              "  {'type': 'Feature',\n",
              "   'properties': {'code': 31101,\n",
              "    'name': '고양시덕양구',\n",
              "    'name_eng': 'Goyangsideogyanggu',\n",
              "    'base_year': 2013},\n",
              "   'geometry': {'type': 'Polygon',\n",
              "    'coordinates': [[[126.83772078982989, 37.72529130369535],\n",
              "      [126.85703023929057, 37.68935027811791],\n",
              "      [126.83512162789108, 37.680020660541864],\n",
              "      [126.79710848915354, 37.6372950352041],\n",
              "      [126.77608157956732, 37.61940269153496],\n",
              "      [126.80702115023597, 37.60123001013228],\n",
              "      [126.82251438477105, 37.5880430810082],\n",
              "      [126.85984199399667, 37.571847855292745],\n",
              "      [126.88433284773288, 37.588143322880526],\n",
              "      [126.90396681003595, 37.59227403419942],\n",
              "      [126.90303066177668, 37.609977911401344],\n",
              "      [126.91455481429648, 37.64150050996935],\n",
              "      [126.956473797387, 37.652480737339445],\n",
              "      [126.9738864128702, 37.62949634786888],\n",
              "      [126.977175406416, 37.62859715400388],\n",
              "      [126.98672705513869, 37.63377641288196],\n",
              "      [126.9817452676551, 37.65209769387776],\n",
              "      [126.99383903424, 37.676681761199085],\n",
              "      [126.96734461801938, 37.68969305565268],\n",
              "      [126.94689093217877, 37.68234333447953],\n",
              "      [126.94191948970435, 37.66797237250146],\n",
              "      [126.92290257733573, 37.66907383915535],\n",
              "      [126.92470886562188, 37.72916078041937],\n",
              "      [126.93180653905974, 37.74575671706106],\n",
              "      [126.91088793086112, 37.74418199544871],\n",
              "      [126.90425036668735, 37.72565605361581],\n",
              "      [126.88536540501534, 37.717034664244366],\n",
              "      [126.85856020555829, 37.73179451375736],\n",
              "      [126.83772078982989, 37.72529130369535]]]}},\n",
              "  {'type': 'Feature',\n",
              "   'properties': {'code': 31092,\n",
              "    'name': '안산시단원구',\n",
              "    'name_eng': 'Ansansidanwongu',\n",
              "    'base_year': 2013},\n",
              "   'geometry': {'type': 'MultiPolygon',\n",
              "    'coordinates': [[[[126.61008573444688, 37.30616739414492],\n",
              "       [126.58105759521007, 37.2931329422869],\n",
              "       [126.5698046807071, 37.27852472009729],\n",
              "       [126.55067246352256, 37.27712401368454],\n",
              "       [126.56507568780702, 37.25336773744705],\n",
              "       [126.56255063831487, 37.239416423702146],\n",
              "       [126.54375626154638, 37.22229105408503],\n",
              "       [126.546463851695, 37.20350714902179],\n",
              "       [126.5705815554123, 37.2014655738836],\n",
              "       [126.58721308393721, 37.21775435498544],\n",
              "       [126.64889918632674, 37.20793069915704],\n",
              "       [126.65235349062866, 37.22264393643188],\n",
              "       [126.62465751982253, 37.233811135502776],\n",
              "       [126.61085741500113, 37.260209230779175],\n",
              "       [126.59892279766748, 37.25959717398652],\n",
              "       [126.57228115154807, 37.277020701082655],\n",
              "       [126.61008573444688, 37.30616739414492]]],\n",
              "     [[[126.84283747134161, 37.360869895636554],\n",
              "       [126.82580289305967, 37.360321842249355],\n",
              "       [126.79105964941944, 37.33699094698096],\n",
              "       [126.76357575956314, 37.33864505297868],\n",
              "       [126.74059726902762, 37.32685692943894],\n",
              "       [126.7248752674955, 37.31058440885402],\n",
              "       [126.72765029203323, 37.29949771063766],\n",
              "       [126.77466340206773, 37.286577751987956],\n",
              "       [126.8184033400877, 37.295179006004226],\n",
              "       [126.84357462735869, 37.30283998653071],\n",
              "       [126.84283747134161, 37.360869895636554]]]]}},\n",
              "  {'type': 'Feature',\n",
              "   'properties': {'code': 31091,\n",
              "    'name': '안산시상록구',\n",
              "    'name_eng': 'Ansansisangnokgu',\n",
              "    'base_year': 2013},\n",
              "   'geometry': {'type': 'Polygon',\n",
              "    'coordinates': [[[126.84283747134161, 37.360869895636554],\n",
              "      [126.84357462735869, 37.30283998653071],\n",
              "      [126.8184033400877, 37.295179006004226],\n",
              "      [126.84641021832398, 37.26433293772644],\n",
              "      [126.9159468889861, 37.28864104563552],\n",
              "      [126.92946761531998, 37.275967848758626],\n",
              "      [126.93504702033805, 37.3002209928663],\n",
              "      [126.93252071350132, 37.30423856869929],\n",
              "      [126.9092771218202, 37.318694910599305],\n",
              "      [126.88015838809775, 37.316795632219964],\n",
              "      [126.89932903785872, 37.35524703438324],\n",
              "      [126.88400175928666, 37.37340263600163],\n",
              "      [126.86691937294266, 37.358697064350324],\n",
              "      [126.84283747134161, 37.360869895636554]]]}},\n",
              "  {'type': 'Feature',\n",
              "   'properties': {'code': 31080,\n",
              "    'name': '동두천시',\n",
              "    'name_eng': 'Dongducheon-si',\n",
              "    'base_year': 2013},\n",
              "   'geometry': {'type': 'Polygon',\n",
              "    'coordinates': [[[127.01215278654801, 37.924817815480985],\n",
              "      [127.01281974367026, 37.90171539201257],\n",
              "      [127.04837406784853, 37.891090496591005],\n",
              "      [127.06250430862417, 37.86658619508279],\n",
              "      [127.09509254572018, 37.86843288571378],\n",
              "      [127.1113003891929, 37.85708813371199],\n",
              "      [127.13067707221735, 37.87115064756639],\n",
              "      [127.14908802054492, 37.87326470277757],\n",
              "      [127.15777209998105, 37.89291633342494],\n",
              "      [127.1480788721724, 37.909108279220675],\n",
              "      [127.1240834119586, 37.913726790414486],\n",
              "      [127.09382742820131, 37.968691278173],\n",
              "      [127.05589127856165, 37.978154747876275],\n",
              "      [127.02968085272437, 37.9404013715077],\n",
              "      [127.01215278654801, 37.924817815480985]]]}},\n",
              "  {'type': 'Feature',\n",
              "   'properties': {'code': 31070,\n",
              "    'name': '평택시',\n",
              "    'name_eng': 'Pyeongtaek-si',\n",
              "    'base_year': 2013},\n",
              "   'geometry': {'type': 'Polygon',\n",
              "    'coordinates': [[[127.10575417734016, 37.1407283236673],\n",
              "      [127.09127893510457, 37.12882078023335],\n",
              "      [127.04304406837494, 37.126222304219084],\n",
              "      [127.03746950511537, 37.13336771678679],\n",
              "      [127.00593012741142, 37.124105707924144],\n",
              "      [127.00102521866197, 37.08973596266607],\n",
              "      [126.98672297136514, 37.06879655242586],\n",
              "      [126.95290081243859, 37.06545814826726],\n",
              "      [126.94247588185057, 37.057958386286046],\n",
              "      [126.90291323437098, 37.06724127811693],\n",
              "      [126.8846211892453, 37.05795114472113],\n",
              "      [126.85940022959993, 37.022131594683266],\n",
              "      [126.84014623559027, 37.01079503386266],\n",
              "      [126.79899352215931, 37.0092005991418],\n",
              "      [126.79429045878248, 37.002375311346476],\n",
              "      [126.82743835677269, 36.984262588052744],\n",
              "      [126.84836832892641, 36.9565513163949],\n",
              "      [126.86448993272457, 36.94597945683675],\n",
              "      [126.86630821363053, 36.92982214702114],\n",
              "      [126.88907059918661, 36.933221090048846],\n",
              "      [126.90658712032098, 36.92311369494381],\n",
              "      [126.91083667953751, 36.90208156398722],\n",
              "      [126.99750165503437, 36.93264776697853],\n",
              "      [127.03383288513524, 36.925469265383704],\n",
              "      [127.07603768486679, 36.935523531907464],\n",
              "      [127.11553676419611, 36.969747255651924],\n",
              "      [127.1216062947912, 36.96626164975953],\n",
              "      [127.13779801966723, 36.99041291045364],\n",
              "      [127.15496570056612, 36.99487383420599],\n",
              "      [127.14747724307254, 37.0138188945719],\n",
              "      [127.15517998352519, 37.026613262831916],\n",
              "      [127.10740090841584, 37.0328875639127],\n",
              "      [127.12948838054707, 37.04966079815856],\n",
              "      [127.12516729074011, 37.08849523189945],\n",
              "      [127.11116461643066, 37.123859739458304],\n",
              "      [127.12480483538663, 37.14166379699704],\n",
              "      [127.10575417734016, 37.1407283236673]]]}},\n",
              "  {'type': 'Feature',\n",
              "   'properties': {'code': 31060,\n",
              "    'name': '광명시',\n",
              "    'name_eng': 'Gwangmyeong-si',\n",
              "    'base_year': 2013},\n",
              "   'geometry': {'type': 'Polygon',\n",
              "    'coordinates': [[[126.83549485076196, 37.474098236975095],\n",
              "      [126.8280587234361, 37.456596986921056],\n",
              "      [126.8484052155556, 37.40965572330444],\n",
              "      [126.85964157227416, 37.398615706957116],\n",
              "      [126.879093453746, 37.399239167854816],\n",
              "      [126.9025831711697, 37.434549366349124],\n",
              "      [126.87683271502428, 37.482576591607305],\n",
              "      [126.84762676054953, 37.47146723936323],\n",
              "      [126.83549485076196, 37.474098236975095]]]}},\n",
              "  {'type': 'Feature',\n",
              "   'properties': {'code': 31053,\n",
              "    'name': '부천시오정구',\n",
              "    'name_eng': 'Bucheonsiojeonggu',\n",
              "    'base_year': 2013},\n",
              "   'geometry': {'type': 'Polygon',\n",
              "    'coordinates': [[[126.76979180579352, 37.55139183008809],\n",
              "      [126.76241572251033, 37.52129679978721],\n",
              "      [126.76236682035514, 37.51516388559986],\n",
              "      [126.79948253277924, 37.50297839620806],\n",
              "      [126.82504736331406, 37.50302612640443],\n",
              "      [126.82688081517314, 37.50548972232896],\n",
              "      [126.8242331426722, 37.53788078753248],\n",
              "      [126.77324417717703, 37.5459123450554],\n",
              "      [126.76979180579352, 37.55139183008809]]]}},\n",
              "  {'type': 'Feature',\n",
              "   'properties': {'code': 31052,\n",
              "    'name': '부천시소사구',\n",
              "    'name_eng': 'Bucheonsisosagu',\n",
              "    'base_year': 2013},\n",
              "   'geometry': {'type': 'Polygon',\n",
              "    'coordinates': [[[126.82264796791348, 37.4878476492147],\n",
              "      [126.80525536231318, 37.479599517462205],\n",
              "      [126.74449661749888, 37.48568861244349],\n",
              "      [126.76982226270037, 37.468955688388995],\n",
              "      [126.78024890848009, 37.469000573789124],\n",
              "      [126.8280587234361, 37.456596986921056],\n",
              "      [126.83549485076196, 37.474098236975095],\n",
              "      [126.82264796791348, 37.4878476492147]]]}},\n",
              "  {'type': 'Feature',\n",
              "   'properties': {'code': 31051,\n",
              "    'name': '부천시원미구',\n",
              "    'name_eng': 'Bucheonsiwonmigu',\n",
              "    'base_year': 2013},\n",
              "   'geometry': {'type': 'Polygon',\n",
              "    'coordinates': [[[126.76236682035514, 37.51516388559986],\n",
              "      [126.74717949233765, 37.511283448979185],\n",
              "      [126.74449661749888, 37.48568861244349],\n",
              "      [126.80525536231318, 37.479599517462205],\n",
              "      [126.82264796791348, 37.4878476492147],\n",
              "      [126.82504736331406, 37.50302612640443],\n",
              "      [126.79948253277924, 37.50297839620806],\n",
              "      [126.76236682035514, 37.51516388559986]]]}},\n",
              "  {'type': 'Feature',\n",
              "   'properties': {'code': 31042,\n",
              "    'name': '안양시동안구',\n",
              "    'name_eng': 'Anyangsidongangu',\n",
              "    'base_year': 2013},\n",
              "   'geometry': {'type': 'Polygon',\n",
              "    'coordinates': [[[126.95000001010182, 37.43613451165719],\n",
              "      [126.949527627869, 37.419039331795105],\n",
              "      [126.92899112782491, 37.41260755123917],\n",
              "      [126.9429122120182, 37.37630880537034],\n",
              "      [126.96423328330341, 37.358735102948096],\n",
              "      [126.98466887829045, 37.39785909018114],\n",
              "      [126.96342494806345, 37.42289846046814],\n",
              "      [126.96520439085143, 37.438249784006246],\n",
              "      [126.95000001010182, 37.43613451165719]]]}},\n",
              "  {'type': 'Feature',\n",
              "   'properties': {'code': 31041,\n",
              "    'name': '안양시만안구',\n",
              "    'name_eng': 'Anyangsimanangu',\n",
              "    'base_year': 2013},\n",
              "   'geometry': {'type': 'Polygon',\n",
              "    'coordinates': [[[126.93084408056525, 37.447382928333994],\n",
              "      [126.9025831711697, 37.434549366349124],\n",
              "      [126.879093453746, 37.399239167854816],\n",
              "      [126.88400175928666, 37.37340263600163],\n",
              "      [126.89932903785872, 37.35524703438324],\n",
              "      [126.9163870114383, 37.37253977179312],\n",
              "      [126.9429122120182, 37.37630880537034],\n",
              "      [126.92899112782491, 37.41260755123917],\n",
              "      [126.949527627869, 37.419039331795105],\n",
              "      [126.95000001010182, 37.43613451165719],\n",
              "      [126.93084408056525, 37.447382928333994]]]}},\n",
              "  {'type': 'Feature',\n",
              "   'properties': {'code': 31030,\n",
              "    'name': '의정부시',\n",
              "    'name_eng': 'Uijeongbu-si',\n",
              "    'base_year': 2013},\n",
              "   'geometry': {'type': 'Polygon',\n",
              "    'coordinates': [[[127.10645686970089, 37.776897580693586],\n",
              "      [127.05297245855259, 37.75816755994106],\n",
              "      [127.02081299427202, 37.76581418787214],\n",
              "      [127.00437834122181, 37.75999833868866],\n",
              "      [127.00430024727942, 37.73792676357612],\n",
              "      [127.01477890845196, 37.722832167524864],\n",
              "      [127.01795099203432, 37.69824412775662],\n",
              "      [127.05288479710485, 37.68423857084347],\n",
              "      [127.0838752703195, 37.69359534202034],\n",
              "      [127.12788299600184, 37.72469254066713],\n",
              "      [127.13060037316637, 37.74504865443316],\n",
              "      [127.14882403466048, 37.75206030443599],\n",
              "      [127.14177735342194, 37.76129795333661],\n",
              "      [127.10645686970089, 37.776897580693586]]]}},\n",
              "  {'type': 'Feature',\n",
              "   'properties': {'code': 31023,\n",
              "    'name': '성남시분당구',\n",
              "    'name_eng': 'Seongnamsibundanggu',\n",
              "    'base_year': 2013},\n",
              "   'geometry': {'type': 'Polygon',\n",
              "    'coordinates': [[[127.17637586604776, 37.40261052326208],\n",
              "      [127.13644513246508, 37.41439912020601],\n",
              "      [127.12007310029206, 37.41239460373164],\n",
              "      [127.08636547533024, 37.39425612519828],\n",
              "      [127.04580444799605, 37.40139072056455],\n",
              "      [127.03004539569396, 37.36932312139811],\n",
              "      [127.07299151640797, 37.35485426174942],\n",
              "      [127.11899182435063, 37.33059044022546],\n",
              "      [127.13845652996186, 37.336816804055495],\n",
              "      [127.13605700285002, 37.35565614606753],\n",
              "      [127.15506886795262, 37.36076173403712],\n",
              "      [127.17637586604776, 37.40261052326208]]]}},\n",
              "  {'type': 'Feature',\n",
              "   'properties': {'code': 31022,\n",
              "    'name': '성남시중원구',\n",
              "    'name_eng': 'Seongnamsijungwongu',\n",
              "    'base_year': 2013},\n",
              "   'geometry': {'type': 'Polygon',\n",
              "    'coordinates': [[[127.17807401290999, 37.46939077799968],\n",
              "      [127.1582459546436, 37.44164184148139],\n",
              "      [127.12050056435223, 37.429512812695165],\n",
              "      [127.12007310029206, 37.41239460373164],\n",
              "      [127.13644513246508, 37.41439912020601],\n",
              "      [127.17637586604776, 37.40261052326208],\n",
              "      [127.19594474070001, 37.421269309284035],\n",
              "      [127.19808034941583, 37.441066604883545],\n",
              "      [127.1831716097913, 37.47048077053623],\n",
              "      [127.17807401290999, 37.46939077799968]]]}},\n",
              "  {'type': 'Feature',\n",
              "   'properties': {'code': 31021,\n",
              "    'name': '성남시수정구',\n",
              "    'name_eng': 'Seongnamsisujeonggu',\n",
              "    'base_year': 2013},\n",
              "   'geometry': {'type': 'Polygon',\n",
              "    'coordinates': [[[127.17807401290999, 37.46939077799968],\n",
              "      [127.14206058413274, 37.47089819098501],\n",
              "      [127.12440571080893, 37.46240445587048],\n",
              "      [127.09842759318751, 37.45862253857461],\n",
              "      [127.09046928565951, 37.44296826114185],\n",
              "      [127.06778107605433, 37.426197424057314],\n",
              "      [127.04957232987142, 37.42805836845694],\n",
              "      [127.04377994345505, 37.41281928664435],\n",
              "      [127.04580444799605, 37.40139072056455],\n",
              "      [127.08636547533024, 37.39425612519828],\n",
              "      [127.12007310029206, 37.41239460373164],\n",
              "      [127.12050056435223, 37.429512812695165],\n",
              "      [127.1582459546436, 37.44164184148139],\n",
              "      [127.17807401290999, 37.46939077799968]]]}},\n",
              "  {'type': 'Feature',\n",
              "   'properties': {'code': 31014,\n",
              "    'name': '수원시영통구',\n",
              "    'name_eng': 'Suwonsiyeongtonggu',\n",
              "    'base_year': 2013},\n",
              "   'geometry': {'type': 'Polygon',\n",
              "    'coordinates': [[[127.09199113357242, 37.295585212583866],\n",
              "      [127.06269400142102, 37.293755190822594],\n",
              "      [127.06304327683587, 37.30610813773979],\n",
              "      [127.04202153059128, 37.318511731862884],\n",
              "      [127.03603479622558, 37.29037288813064],\n",
              "      [127.04615738146016, 37.271876342625866],\n",
              "      [127.03877682368464, 37.253688200306506],\n",
              "      [127.04178611512381, 37.24066886027782],\n",
              "      [127.06878518378286, 37.23731339587258],\n",
              "      [127.08680542938673, 37.253775982641194],\n",
              "      [127.06718840393803, 37.26860748709257],\n",
              "      [127.09104881579566, 37.284308786190785],\n",
              "      [127.09199113357242, 37.295585212583866]]]}},\n",
              "  {'type': 'Feature',\n",
              "   'properties': {'code': 31013,\n",
              "    'name': '수원시팔달구',\n",
              "    'name_eng': 'Suwonsipaldalgu',\n",
              "    'base_year': 2013},\n",
              "   'geometry': {'type': 'Polygon',\n",
              "    'coordinates': [[[127.03603479622558, 37.29037288813064],\n",
              "      [127.01130838681644, 37.28269167363659],\n",
              "      [126.98086459483812, 37.283743689221225],\n",
              "      [127.03877682368464, 37.253688200306506],\n",
              "      [127.04615738146016, 37.271876342625866],\n",
              "      [127.03603479622558, 37.29037288813064]]]}},\n",
              "  {'type': 'Feature',\n",
              "   'properties': {'code': 31012,\n",
              "    'name': '수원시권선구',\n",
              "    'name_eng': 'Suwonsigwonseongu',\n",
              "    'base_year': 2013},\n",
              "   'geometry': {'type': 'Polygon',\n",
              "    'coordinates': [[[126.96633916587045, 37.29989574204989],\n",
              "      [126.93504702033805, 37.3002209928663],\n",
              "      [126.92946761531998, 37.275967848758626],\n",
              "      [126.93110125729105, 37.260824951129344],\n",
              "      [126.95229769733274, 37.2524826245201],\n",
              "      [126.97491964707861, 37.22588531228192],\n",
              "      [127.02475029106094, 37.22207898080851],\n",
              "      [127.04178611512381, 37.24066886027782],\n",
              "      [127.03877682368464, 37.253688200306506],\n",
              "      [126.98086459483812, 37.283743689221225],\n",
              "      [126.96633916587045, 37.29989574204989]]]}},\n",
              "  {'type': 'Feature',\n",
              "   'properties': {'code': 31011,\n",
              "    'name': '수원시장안구',\n",
              "    'name_eng': 'Suwonsijangangu',\n",
              "    'base_year': 2013},\n",
              "   'geometry': {'type': 'Polygon',\n",
              "    'coordinates': [[[127.02090967499298, 37.348741503905366],\n",
              "      [126.98303616696394, 37.32376927812144],\n",
              "      [126.96633916587045, 37.29989574204989],\n",
              "      [126.98086459483812, 37.283743689221225],\n",
              "      [127.01130838681644, 37.28269167363659],\n",
              "      [127.03603479622558, 37.29037288813064],\n",
              "      [127.04202153059128, 37.318511731862884],\n",
              "      [127.03554038078946, 37.341941908872045],\n",
              "      [127.02090967499298, 37.348741503905366]]]}}]}"
            ]
          },
          "metadata": {},
          "execution_count": 79
        }
      ]
    },
    {
      "cell_type": "code",
      "source": [
        "# 열 이름 데이터 타입을 문자열로 변환\n",
        "df.columns = df.columns.map(str)"
      ],
      "metadata": {
        "id": "hCFR2DJTJfBK"
      },
      "execution_count": null,
      "outputs": []
    },
    {
      "cell_type": "code",
      "source": [
        "bnd"
      ],
      "metadata": {
        "id": "DdXRbpQ_VfLx"
      },
      "execution_count": null,
      "outputs": []
    },
    {
      "cell_type": "code",
      "source": [
        "# 경기도 지도 만들기\n",
        "ggd_map = folium.Map(location = [37.55, 126.98], zoom_start = 9,\n",
        "                       tiles = 'Stamen Terrain')\n",
        "# 단계 구분도 - 2007년\n",
        "year = \"2007\"\n",
        "folium.Choropleth(geo_data = bnd, # 지도 데이터 = 경기도 경계선\n",
        "                  data = df[year], # 인구 데이터 = 색깔로 표현할 값\n",
        "                  columns = [df.index, df[year]], # 지역의 이름, 해당 연도 인구\n",
        "                  fill_color = 'Reds', # ColorBrewer code\n",
        "                  fill_opacity = 0.3, # 다각형 내부 색상 투명도\n",
        "                  line_opacity = 0.5, # 선 투명도\n",
        "                  # 지도 데이터와 인구 데이터를 연결하는 내용 = 지역 이름\n",
        "                  # 원래 features 이지만, 공식 문서 문법 표기상 feature 사용\n",
        "                  key_on = 'feature.properties.name').add_to(ggd_map)\n",
        "# 파일로 저장\n",
        "ggd_map.save('./ggd_' + year + '.html')"
      ],
      "metadata": {
        "id": "J6pMsXCSKDao"
      },
      "execution_count": null,
      "outputs": []
    },
    {
      "cell_type": "code",
      "source": [
        "# 경기도 지도 만들기\n",
        "ggd_map = folium.Map(location = [37.55, 126.98], zoom_start = 9,\n",
        "                       tiles = 'Stamen Terrain')\n",
        "# 단계 구분도 - 2017년\n",
        "year = \"2017\"\n",
        "folium.Choropleth(geo_data = bnd, data = df[year],\n",
        "                  columns = [df.index, df[year]],\n",
        "                  fill_color = 'Reds', # ColorBrewer code\n",
        "                  fill_opacity = 0.3,\n",
        "                  line_opacity = 0.5,\n",
        "                  key_on = 'feature.properties.name').add_to(ggd_map)\n",
        "# 파일로 저장\n",
        "ggd_map.save('./ggd_' + year + '.html')"
      ],
      "metadata": {
        "id": "oWHeDoKcP7OO"
      },
      "execution_count": null,
      "outputs": []
    },
    {
      "cell_type": "markdown",
      "source": [
        "# 데이터 전처리"
      ],
      "metadata": {
        "id": "0y-MmMfuYiX7"
      }
    },
    {
      "cell_type": "markdown",
      "source": [
        "## 널값"
      ],
      "metadata": {
        "id": "0wwyJhKJYkny"
      }
    },
    {
      "cell_type": "code",
      "source": [
        "# 라이브러리 불러오기\n",
        "import pandas as pd\n",
        "import seaborn as sns"
      ],
      "metadata": {
        "id": "5niXByVrY_Sb"
      },
      "execution_count": null,
      "outputs": []
    },
    {
      "cell_type": "markdown",
      "source": [
        "### 널값 확인"
      ],
      "metadata": {
        "id": "n0gv5jWGjret"
      }
    },
    {
      "cell_type": "code",
      "source": [
        "# = 비어 있는 데이터(값) = 누락 데이터\n",
        "df = sns.load_dataset('titanic')\n",
        "df.info()\n",
        "# Non-Null Count\n",
        "# 전체 행 개수가 891개 이므로 Non-Null Count도 891개가 되어야 널값이 없는 것\n",
        "# 891개보다 적으면 널값이 있으니 확인!"
      ],
      "metadata": {
        "id": "Oam8EqmQYzHh"
      },
      "execution_count": null,
      "outputs": []
    },
    {
      "cell_type": "code",
      "source": [
        "# 빈도표 = 해당 열 고유값 & NaN 미포함\n",
        "df['deck'].value_counts()"
      ],
      "metadata": {
        "id": "yBQGSxxNZRmT"
      },
      "execution_count": null,
      "outputs": []
    },
    {
      "cell_type": "code",
      "source": [
        "# 빈도표 = 해당 열 고유값 & NaN 포함\n",
        "df['deck'].value_counts(dropna = False)"
      ],
      "metadata": {
        "id": "BoxqyvPtamiY"
      },
      "execution_count": null,
      "outputs": []
    },
    {
      "cell_type": "code",
      "source": [
        "# 널값을 직접 확인\n",
        "# isnull() 의 결과가 True = 널값, False = 널값이 아님\n",
        "df.head().isnull()"
      ],
      "metadata": {
        "id": "tNB3JftZauE9"
      },
      "execution_count": null,
      "outputs": []
    },
    {
      "cell_type": "code",
      "source": [
        "# isnull() 의 결과가 True = 널값이 아님, False = 널값\n",
        "df.head().notnull()"
      ],
      "metadata": {
        "id": "oOiiExtbbrab"
      },
      "execution_count": null,
      "outputs": []
    },
    {
      "cell_type": "markdown",
      "source": [
        "### 널값 개수"
      ],
      "metadata": {
        "id": "DDPc4wTzjvl4"
      }
    },
    {
      "cell_type": "code",
      "source": [
        "# 널값 개수 합 = 열 단위로 계산하는 것이 기본\n",
        "df.isnull().sum()"
      ],
      "metadata": {
        "id": "1Xkh7aBMc4wo"
      },
      "execution_count": null,
      "outputs": []
    },
    {
      "cell_type": "code",
      "source": [
        "# 열 단위로 계산\n",
        "df.isnull().sum(axis = 0)"
      ],
      "metadata": {
        "id": "DemFh62QdDYV"
      },
      "execution_count": null,
      "outputs": []
    },
    {
      "cell_type": "code",
      "source": [
        "# 행 단위로 계산\n",
        "df.isnull().sum(axis = 1)"
      ],
      "metadata": {
        "id": "5d20AUyEdlqH"
      },
      "execution_count": null,
      "outputs": []
    },
    {
      "cell_type": "code",
      "source": [
        "# 널값 개수\n",
        "# 다음 문법으로는 우리가 원하는 열의 널값 개수를 확인할 수 없음\n",
        "df.isnull().value_counts()\n",
        "df.notnull().value_counts()"
      ],
      "metadata": {
        "id": "5oRWhwsQeCUn"
      },
      "execution_count": null,
      "outputs": []
    },
    {
      "cell_type": "code",
      "source": [
        "# 반복문으로 해결 - 우리가 원하는 열의 널값 개수를 확인 가능\n",
        "for column in df.columns:\n",
        "  print(df[column].isnull().value_counts())"
      ],
      "metadata": {
        "id": "KgoH1cfieegm"
      },
      "execution_count": null,
      "outputs": []
    },
    {
      "cell_type": "markdown",
      "source": [
        "### 널값 제거"
      ],
      "metadata": {
        "id": "2D8IM2cjjx-g"
      }
    },
    {
      "cell_type": "code",
      "source": [
        "df.columns"
      ],
      "metadata": {
        "id": "Ry7Ru9_qkwx2"
      },
      "execution_count": null,
      "outputs": []
    },
    {
      "cell_type": "code",
      "source": [
        "# 특정 개수 이상의 널값이 있는 열 삭제\n",
        "df = df.dropna(axis = 1, thresh = 300)"
      ],
      "metadata": {
        "id": "DrAp7eelj0Er"
      },
      "execution_count": null,
      "outputs": []
    },
    {
      "cell_type": "code",
      "source": [
        "df.columns"
      ],
      "metadata": {
        "id": "YfSFP5U8k0bm"
      },
      "execution_count": null,
      "outputs": []
    },
    {
      "cell_type": "code",
      "source": [
        "# 널값이 있는 행 삭제\n",
        "# any = 행 기준으로 널값이 하나라도 있으면 삭제\n",
        "df.dropna(subset = 'age', how = 'any')\n",
        "# = df.dropna(subset = 'age', how = 'any', axis = 0)"
      ],
      "metadata": {
        "id": "P8ldhnc-lQAD"
      },
      "execution_count": null,
      "outputs": []
    },
    {
      "cell_type": "code",
      "source": [
        "# all = 행 기준으로 모두 널값이면 삭제\n",
        "# df.dropna(subset = 'age', how = 'all')"
      ],
      "metadata": {
        "id": "jmyWwYoGmFAe"
      },
      "execution_count": null,
      "outputs": []
    },
    {
      "cell_type": "markdown",
      "source": [
        "### 널값 대체 imputation"
      ],
      "metadata": {
        "id": "y7k3aUW5n5h0"
      }
    },
    {
      "cell_type": "markdown",
      "source": [
        "#### 평균"
      ],
      "metadata": {
        "id": "fKZMGMuKsynW"
      }
    },
    {
      "cell_type": "code",
      "source": [
        "# 평균으로 대체\n",
        "age_mean = df['age'].mean()"
      ],
      "metadata": {
        "id": "Ujn_BQ5yoBhq"
      },
      "execution_count": null,
      "outputs": []
    },
    {
      "cell_type": "code",
      "source": [
        "df['age'].fillna(age_mean)\n",
        "# df['age'].fillna(age_mean, inplace = True) <= 원본 변경"
      ],
      "metadata": {
        "id": "u8_jfNreoXAa"
      },
      "execution_count": null,
      "outputs": []
    },
    {
      "cell_type": "markdown",
      "source": [
        "#### 최빈값"
      ],
      "metadata": {
        "id": "e4G8X_RXs1Is"
      }
    },
    {
      "cell_type": "code",
      "source": [
        "# 널값을 직접 찾아서 확인\n",
        "df[df['embark_town'].isnull() == True]"
      ],
      "metadata": {
        "id": "I9-E3in6r8fR"
      },
      "execution_count": null,
      "outputs": []
    },
    {
      "cell_type": "code",
      "source": [
        "# 널값 확인\n",
        "df['embark_town'][826:831]"
      ],
      "metadata": {
        "id": "ReXv5mvTsM7Q"
      },
      "execution_count": null,
      "outputs": []
    },
    {
      "cell_type": "code",
      "source": [
        "# 최빈값 가져오기\n",
        "town_mode = df['embark_town'].value_counts().idxmax()"
      ],
      "metadata": {
        "id": "0d6Ak_UjsmVM"
      },
      "execution_count": null,
      "outputs": []
    },
    {
      "cell_type": "code",
      "source": [
        "# 최빈값으로 대체\n",
        "df['embark_town'].fillna(town_mode, inplace = True)"
      ],
      "metadata": {
        "id": "5bMOH6M8snCB"
      },
      "execution_count": null,
      "outputs": []
    },
    {
      "cell_type": "code",
      "source": [
        "# 대체 결과 확인\n",
        "df['embark_town'][826:831]"
      ],
      "metadata": {
        "id": "Wh_VjzZOspmn"
      },
      "execution_count": null,
      "outputs": []
    },
    {
      "cell_type": "code",
      "source": [
        "# 널값 확인\n",
        "df['embark_town'].isnull().value_counts()"
      ],
      "metadata": {
        "id": "yl42bTq_pGVT"
      },
      "execution_count": null,
      "outputs": []
    },
    {
      "cell_type": "code",
      "source": [
        "# 최빈값 확인\n",
        "df['embark_town'].value_counts()"
      ],
      "metadata": {
        "id": "RlTQFdr_qBRB"
      },
      "execution_count": null,
      "outputs": []
    },
    {
      "cell_type": "code",
      "source": [
        "# 최빈값 가져오기\n",
        "town_mode = df['embark_town'].value_counts().idxmax()"
      ],
      "metadata": {
        "id": "6kiNpRSpqacp"
      },
      "execution_count": null,
      "outputs": []
    },
    {
      "cell_type": "code",
      "source": [
        "# 최빈값으로 대체\n",
        "df['embark_town'].fillna(town_mode, inplace = True)"
      ],
      "metadata": {
        "id": "fR2JtIV1qt0h"
      },
      "execution_count": null,
      "outputs": []
    },
    {
      "cell_type": "code",
      "source": [
        "# 대체 결과 확인\n",
        "df['embark_town'].isnull().value_counts()"
      ],
      "metadata": {
        "colab": {
          "base_uri": "https://localhost:8080/"
        },
        "id": "fqigWffXq6Rp",
        "outputId": "28e47a9b-afdf-44be-c03b-b12931aec4c0"
      },
      "execution_count": null,
      "outputs": [
        {
          "output_type": "execute_result",
          "data": {
            "text/plain": [
              "False    891\n",
              "Name: embark_town, dtype: int64"
            ]
          },
          "metadata": {},
          "execution_count": 140
        }
      ]
    },
    {
      "cell_type": "markdown",
      "source": [
        "### 주변의 값"
      ],
      "metadata": {
        "id": "Nf5smjxtxXNv"
      }
    },
    {
      "cell_type": "code",
      "source": [
        "# 널값을 직접 찾아서 확인\n",
        "df[df['embarked'].isnull() == True]"
      ],
      "metadata": {
        "id": "zrCdmyWBxsgZ"
      },
      "execution_count": null,
      "outputs": []
    },
    {
      "cell_type": "code",
      "source": [
        "# 널값 확인\n",
        "df['embarked'][826:831]"
      ],
      "metadata": {
        "id": "4mDi91MyxsgZ"
      },
      "execution_count": null,
      "outputs": []
    },
    {
      "cell_type": "code",
      "source": [
        "# 앞에 있는 값으로 대체\n",
        "df['embarked'].fillna(method = 'ffill')[826:831]"
      ],
      "metadata": {
        "id": "Wh0lCtjQxaAe"
      },
      "execution_count": null,
      "outputs": []
    },
    {
      "cell_type": "code",
      "source": [
        "# 뒤에 있는 값으로 대체\n",
        "df['embarked'].fillna(method = 'bfill')[826:831]"
      ],
      "metadata": {
        "id": "5kJy3JYNxe55"
      },
      "execution_count": null,
      "outputs": []
    },
    {
      "cell_type": "markdown",
      "source": [
        "## 중복 데이터"
      ],
      "metadata": {
        "id": "-PHOtpbgyx67"
      }
    },
    {
      "cell_type": "code",
      "source": [
        "# 중복 데이터 만들기\n",
        "df = pd.DataFrame({'c1': ['a','a','b','a','b'],\n",
        "                   'c2': [1,1,1,2,2],\n",
        "                   'c3': [1,1,2,2,2]})"
      ],
      "metadata": {
        "id": "znOs1Fn8y1cE"
      },
      "execution_count": null,
      "outputs": []
    },
    {
      "cell_type": "code",
      "source": [
        "# 중복 데이터 확인\n",
        "print(df['c1'])\n",
        "print(df['c1'].duplicated()) # True 가 중복이라는 의미"
      ],
      "metadata": {
        "id": "opVoAN5z0Nt-"
      },
      "execution_count": null,
      "outputs": []
    },
    {
      "cell_type": "code",
      "source": [
        "# 중복 데이터 제거\n",
        "print(df['c1'])\n",
        "print(df['c1'].drop_duplicates())"
      ],
      "metadata": {
        "id": "-Bt4m1zY1lok"
      },
      "execution_count": null,
      "outputs": []
    },
    {
      "cell_type": "code",
      "source": [
        "# 중복 데이터 확인\n",
        "print(df)\n",
        "print(df.duplicated()) # True 가 중복이라는 의미"
      ],
      "metadata": {
        "id": "xO-5IAk90c_h"
      },
      "execution_count": null,
      "outputs": []
    },
    {
      "cell_type": "code",
      "source": [
        "# 중복 데이터 제거\n",
        "print(df)\n",
        "print(df.drop_duplicates())"
      ],
      "metadata": {
        "id": "bjNoxJ8-19Zd"
      },
      "execution_count": null,
      "outputs": []
    },
    {
      "cell_type": "code",
      "source": [
        "# 중복 데이터 제거\n",
        "print(df[['c2','c3']])\n",
        "print(df[['c2','c3']].drop_duplicates()) # 부분집합으로 제거\n",
        "print(df.drop_duplicates(subset = ['c2','c3'])) # 전체집합을 유지 & 특정열 중복 데이터 제거"
      ],
      "metadata": {
        "colab": {
          "base_uri": "https://localhost:8080/"
        },
        "id": "RSsjurtt3FYo",
        "outputId": "1d8f8efa-4a31-4069-f38a-7f35810d2f57"
      },
      "execution_count": null,
      "outputs": [
        {
          "output_type": "stream",
          "name": "stdout",
          "text": [
            "   c2  c3\n",
            "0   1   1\n",
            "1   1   1\n",
            "2   1   2\n",
            "3   2   2\n",
            "4   2   2\n",
            "   c2  c3\n",
            "0   1   1\n",
            "2   1   2\n",
            "3   2   2\n",
            "  c1  c2  c3\n",
            "0  a   1   1\n",
            "2  b   1   2\n",
            "3  a   2   2\n"
          ]
        }
      ]
    },
    {
      "cell_type": "markdown",
      "source": [
        "## 데이터 표준화"
      ],
      "metadata": {
        "id": "LPtoz-jM6IOa"
      }
    },
    {
      "cell_type": "markdown",
      "source": [
        "### 단위 환산"
      ],
      "metadata": {
        "id": "QTQ-9Na26T8q"
      }
    },
    {
      "cell_type": "code",
      "source": [
        "# 데이터 불러오기\n",
        "# csv 파일 불러오기 + 열 이름이 없음(header = None)\n",
        "df = pd.read_csv('/content/drive/MyDrive/hana1/data/auto-mpg.csv', header = None)"
      ],
      "metadata": {
        "id": "Qjk9DNGhsZ9t"
      },
      "execution_count": null,
      "outputs": []
    },
    {
      "cell_type": "code",
      "source": [
        "# 열 이름 지정\n",
        "df.columns = ['mpg', 'cylinders', 'displacement', 'horsepower', 'weight', \n",
        "              'acceleration', 'model_year', 'origin', 'car_name']"
      ],
      "metadata": {
        "id": "xkgaRHK1C98k"
      },
      "execution_count": null,
      "outputs": []
    },
    {
      "cell_type": "code",
      "source": [
        "# 연비 mpg = mile per gallon\n",
        "# kpl = kilometer per liter\n",
        "# 1 mpg = 0.425 kpl\n",
        "kpl = 0.425\n",
        "df['kpl'] = df['mpg'] * kpl\n",
        "df['kpl'] = df['kpl'].round(1)"
      ],
      "metadata": {
        "id": "-43fJU5v6ZzB"
      },
      "execution_count": null,
      "outputs": []
    }
  ]
}
