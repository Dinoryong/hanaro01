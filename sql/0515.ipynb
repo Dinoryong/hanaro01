{
  "nbformat": 4,
  "nbformat_minor": 0,
  "metadata": {
    "colab": {
      "provenance": [],
      "authorship_tag": "ABX9TyNtSMUFsDADq/+1wtTXbiWT",
      "include_colab_link": true
    },
    "kernelspec": {
      "name": "python3",
      "display_name": "Python 3"
    },
    "language_info": {
      "name": "python"
    }
  },
  "cells": [
    {
      "cell_type": "markdown",
      "metadata": {
        "id": "view-in-github",
        "colab_type": "text"
      },
      "source": [
        "<a href=\"https://colab.research.google.com/github/Dinoryong/hanaro01/blob/main/0515.ipynb\" target=\"_parent\"><img src=\"https://colab.research.google.com/assets/colab-badge.svg\" alt=\"Open In Colab\"/></a>"
      ]
    },
    {
      "cell_type": "code",
      "source": [
        "list_1 = [1,2,3,4]\n",
        "list_2 = [7,8,9]\n",
        "\n",
        "# 추가 = 뒤에 추가 = 요소(개별값)\n",
        "list_1.append(5)\n",
        "print(list_1)"
      ],
      "metadata": {
        "colab": {
          "base_uri": "https://localhost:8080/"
        },
        "id": "81eqWFax0Yhe",
        "outputId": "d37b6b50-1655-4046-f15f-a50ece587e9e"
      },
      "execution_count": null,
      "outputs": [
        {
          "output_type": "stream",
          "name": "stdout",
          "text": [
            "[1, 2, 3, 4, 5]\n"
          ]
        }
      ]
    },
    {
      "cell_type": "code",
      "execution_count": null,
      "metadata": {
        "colab": {
          "base_uri": "https://localhost:8080/"
        },
        "id": "wM_beMsfwk_v",
        "outputId": "bfaa76a4-f276-4ec8-e497-76e960a654b4"
      },
      "outputs": [
        {
          "output_type": "stream",
          "name": "stdout",
          "text": [
            "[1, 2, 3, 6, 4, 5]\n"
          ]
        }
      ],
      "source": [
        "\n",
        "# 추가 = 중간에 추가 = 원하는 위치(인덱스 번호)에 추가\n",
        "list_1.insert(3,6) # 인덱스 3번 위치에 4라는 값 (요소) 추가\n",
        "print(list_1) # 파괴적 처리"
      ]
    },
    {
      "cell_type": "code",
      "source": [
        "# 추가 = + 연결 & 파괴적 처리\n",
        "list_1.extend(list_2)\n",
        "print(list_1) # 파괴적 처리"
      ],
      "metadata": {
        "colab": {
          "base_uri": "https://localhost:8080/"
        },
        "id": "V3u6WX2vzuQ3",
        "outputId": "1ba7e1bd-ad01-442d-9e61-a3565276d3d0"
      },
      "execution_count": null,
      "outputs": [
        {
          "output_type": "stream",
          "name": "stdout",
          "text": [
            "[1, 2, 3, 6, 4, 5, 7, 8, 9]\n"
          ]
        }
      ]
    },
    {
      "cell_type": "code",
      "source": [
        "# 제거\n",
        "# 인덱스 번호로 제거\n",
        "# del 키워드 = delete\n",
        "del list_1[2]\n",
        "print(list_1)"
      ],
      "metadata": {
        "colab": {
          "base_uri": "https://localhost:8080/"
        },
        "id": "7sDMBlrJzk6v",
        "outputId": "af0cbc96-59ce-49f4-d0c8-5cae49223b13"
      },
      "execution_count": null,
      "outputs": [
        {
          "output_type": "stream",
          "name": "stdout",
          "text": [
            "[1, 4, 7, 8, 9]\n"
          ]
        }
      ]
    },
    {
      "cell_type": "code",
      "source": [
        "# pop 함수\n",
        "list_1.pop(1)\n",
        "print(list_1)\n"
      ],
      "metadata": {
        "colab": {
          "base_uri": "https://localhost:8080/"
        },
        "id": "tZpnxfog3V2q",
        "outputId": "169d031d-eeed-438b-8707-f95a335ec919"
      },
      "execution_count": null,
      "outputs": [
        {
          "output_type": "stream",
          "name": "stdout",
          "text": [
            "[1, 9]\n"
          ]
        }
      ]
    },
    {
      "cell_type": "code",
      "source": [
        "# 값으로 제거\n",
        "# remove 함수\n",
        "\n",
        "list_1.remove(7)\n",
        "print(list_1)"
      ],
      "metadata": {
        "colab": {
          "base_uri": "https://localhost:8080/",
          "height": 231
        },
        "id": "Sas51dT03TiL",
        "outputId": "9e3fc76d-cd3b-4d0d-ddfe-4f47674d033a"
      },
      "execution_count": null,
      "outputs": [
        {
          "output_type": "error",
          "ename": "ValueError",
          "evalue": "ignored",
          "traceback": [
            "\u001b[0;31m---------------------------------------------------------------------------\u001b[0m",
            "\u001b[0;31mValueError\u001b[0m                                Traceback (most recent call last)",
            "\u001b[0;32m<ipython-input-25-54e504152544>\u001b[0m in \u001b[0;36m<cell line: 4>\u001b[0;34m()\u001b[0m\n\u001b[1;32m      2\u001b[0m \u001b[0;31m# remove 함수\u001b[0m\u001b[0;34m\u001b[0m\u001b[0;34m\u001b[0m\u001b[0m\n\u001b[1;32m      3\u001b[0m \u001b[0;34m\u001b[0m\u001b[0m\n\u001b[0;32m----> 4\u001b[0;31m \u001b[0mlist_1\u001b[0m\u001b[0;34m.\u001b[0m\u001b[0mremove\u001b[0m\u001b[0;34m(\u001b[0m\u001b[0;36m7\u001b[0m\u001b[0;34m)\u001b[0m\u001b[0;34m\u001b[0m\u001b[0;34m\u001b[0m\u001b[0m\n\u001b[0m\u001b[1;32m      5\u001b[0m \u001b[0mprint\u001b[0m\u001b[0;34m(\u001b[0m\u001b[0mlist_1\u001b[0m\u001b[0;34m)\u001b[0m\u001b[0;34m\u001b[0m\u001b[0;34m\u001b[0m\u001b[0m\n",
            "\u001b[0;31mValueError\u001b[0m: list.remove(x): x not in list"
          ]
        }
      ]
    },
    {
      "cell_type": "code",
      "source": [
        "# 리스트 안의 모든 요소 제거 = 비우기 = 리스트 구조 살아있음\n",
        "list_1.clear()\n",
        "print(list_1)"
      ],
      "metadata": {
        "colab": {
          "base_uri": "https://localhost:8080/"
        },
        "id": "1c6EEAZS7tB2",
        "outputId": "8a9ea3a4-c3ce-4ed4-ca34-d25b0d9e2f67"
      },
      "execution_count": null,
      "outputs": [
        {
          "output_type": "stream",
          "name": "stdout",
          "text": [
            "[]\n"
          ]
        }
      ]
    },
    {
      "cell_type": "markdown",
      "source": [
        "## 정렲 "
      ],
      "metadata": {
        "id": "9w9l6MTK80G-"
      }
    },
    {
      "cell_type": "code",
      "source": [
        "# 오름차순\n",
        "score = [75, 55,40,90,100]\n",
        "score.sort()\n",
        "print(score)\n",
        "# 내림차순\n",
        "score.sort(reverse=True)\n",
        "print(score)"
      ],
      "metadata": {
        "colab": {
          "base_uri": "https://localhost:8080/"
        },
        "id": "eDd9gi1Y81oE",
        "outputId": "079d990a-76e4-4fcc-e6a8-0e1ef0b11077"
      },
      "execution_count": null,
      "outputs": [
        {
          "output_type": "stream",
          "name": "stdout",
          "text": [
            "[40, 55, 75, 90, 100]\n",
            "[100, 90, 75, 55, 40]\n"
          ]
        }
      ]
    },
    {
      "cell_type": "code",
      "source": [
        "# in & not in\n",
        "print(75 in score)\n",
        "print(0 in score)\n",
        "print(75 not in score)\n",
        "print(0 not in score)"
      ],
      "metadata": {
        "colab": {
          "base_uri": "https://localhost:8080/"
        },
        "id": "tM6_ZqAX9W63",
        "outputId": "eb851442-6397-4e23-f08e-f3216bed1ff6"
      },
      "execution_count": null,
      "outputs": [
        {
          "output_type": "stream",
          "name": "stdout",
          "text": [
            "True\n",
            "False\n",
            "False\n",
            "True\n"
          ]
        }
      ]
    },
    {
      "cell_type": "code",
      "source": [],
      "metadata": {
        "id": "Svy2jSAA9OIZ"
      },
      "execution_count": null,
      "outputs": []
    },
    {
      "cell_type": "code",
      "source": [],
      "metadata": {
        "id": "Vr1aSs3w74iw"
      },
      "execution_count": null,
      "outputs": []
    },
    {
      "cell_type": "code",
      "source": [],
      "metadata": {
        "id": "4JAtSheTJ8v8"
      },
      "execution_count": null,
      "outputs": []
    },
    {
      "cell_type": "code",
      "source": [],
      "metadata": {
        "id": "Euzkw6vLJ853"
      },
      "execution_count": null,
      "outputs": []
    },
    {
      "cell_type": "code",
      "source": [],
      "metadata": {
        "id": "dmJaWtTBJ9AZ"
      },
      "execution_count": null,
      "outputs": []
    },
    {
      "cell_type": "code",
      "source": [
        "# for 반복문\n",
        "for i in range(10):\n",
        "  print(i) # [0,1,2,3,4,5,6,7,8,9]\n",
        "  print(\"반복\") # 10번 반복\n"
      ],
      "metadata": {
        "id": "7Pn4C8qWJ9FP"
      },
      "execution_count": null,
      "outputs": []
    },
    {
      "cell_type": "code",
      "source": [
        "for i in range(1,10):\n",
        "  print(i) # [1,2,3,4,5,6,7,8,9]\n",
        "  print(\"반복\") # 9번 반복\n"
      ],
      "metadata": {
        "colab": {
          "base_uri": "https://localhost:8080/"
        },
        "id": "c9iSqhZIKWs4",
        "outputId": "ef46e6dc-8512-4626-dd5b-e4d1c1b6d7c2"
      },
      "execution_count": null,
      "outputs": [
        {
          "output_type": "stream",
          "name": "stdout",
          "text": [
            "1\n",
            "반복\n",
            "2\n",
            "반복\n",
            "3\n",
            "반복\n",
            "4\n",
            "반복\n",
            "5\n",
            "반복\n",
            "6\n",
            "반복\n",
            "7\n",
            "반복\n",
            "8\n",
            "반복\n",
            "9\n",
            "반복\n"
          ]
        }
      ]
    },
    {
      "cell_type": "code",
      "source": [
        "for i in range(1,10,2):\n",
        "  print(i) # [1,3,5,7,9]\n",
        "  print(\"반복\") # 5번 반복"
      ],
      "metadata": {
        "colab": {
          "base_uri": "https://localhost:8080/"
        },
        "id": "CgDm0nxqKgUE",
        "outputId": "e380e2e2-675c-437c-a153-41f9d394d285"
      },
      "execution_count": null,
      "outputs": [
        {
          "output_type": "stream",
          "name": "stdout",
          "text": [
            "1\n",
            "반복\n",
            "3\n",
            "반복\n",
            "5\n",
            "반복\n",
            "7\n",
            "반복\n",
            "9\n",
            "반복\n"
          ]
        }
      ]
    },
    {
      "cell_type": "code",
      "source": [
        "# 리스트로 반복문\n",
        "list_a = [1,2,3] # 1차원\n",
        "list_b = [[1,2,3],[4,5,6]] # 2차원\n"
      ],
      "metadata": {
        "id": "49xhoNZuKsZq"
      },
      "execution_count": null,
      "outputs": []
    },
    {
      "cell_type": "code",
      "source": [
        "# 3개의 요소를 가지고 있어서 3번 반복\n",
        "for i in list_a:\n",
        "  print(i) # 3번 반복"
      ],
      "metadata": {
        "colab": {
          "base_uri": "https://localhost:8080/"
        },
        "id": "KgwljibcMQRc",
        "outputId": "dbf5b211-2cb8-4b55-ed2b-48f1d661a86f"
      },
      "execution_count": null,
      "outputs": [
        {
          "output_type": "stream",
          "name": "stdout",
          "text": [
            "1\n",
            "2\n",
            "3\n"
          ]
        }
      ]
    },
    {
      "cell_type": "code",
      "source": [
        "# 2 개의 요소를 가지고 있어서 2번 반복\n",
        "# 여전히 리스트 형태로 출력\n",
        "for i in list_b:\n",
        "  print(i) # 2번 반복"
      ],
      "metadata": {
        "colab": {
          "base_uri": "https://localhost:8080/"
        },
        "id": "LhVU3yd6MYFI",
        "outputId": "93b1bc87-87c6-43a6-c8b7-6f54f0d2d6f4"
      },
      "execution_count": null,
      "outputs": [
        {
          "output_type": "stream",
          "name": "stdout",
          "text": [
            "[1, 2, 3]\n",
            "[4, 5, 6]\n"
          ]
        }
      ]
    },
    {
      "cell_type": "code",
      "source": [
        "# \n",
        "for i in list_b:\n",
        "  for j in i:\n",
        "    print(j) # 6번 반복"
      ],
      "metadata": {
        "colab": {
          "base_uri": "https://localhost:8080/"
        },
        "id": "sYAHKzM4MsHy",
        "outputId": "f72ef77e-6ecb-4520-bd44-15d609f93e24"
      },
      "execution_count": null,
      "outputs": [
        {
          "output_type": "stream",
          "name": "stdout",
          "text": [
            "1\n",
            "2\n",
            "3\n",
            "4\n",
            "5\n",
            "6\n"
          ]
        }
      ]
    },
    {
      "cell_type": "code",
      "source": [
        "list_c = [[1,2,3],[4,5,6],7]"
      ],
      "metadata": {
        "id": "E5gt-j7PNCsn"
      },
      "execution_count": null,
      "outputs": []
    },
    {
      "cell_type": "code",
      "source": [
        "for i in list_c:\n",
        "  print(i)\n",
        "  for j in i:\n",
        "    print(j)"
      ],
      "metadata": {
        "colab": {
          "base_uri": "https://localhost:8080/",
          "height": 399
        },
        "id": "wpBq3WBqPgwv",
        "outputId": "46ca296c-3efc-46f2-b2f2-c8786008ea1c"
      },
      "execution_count": null,
      "outputs": [
        {
          "output_type": "stream",
          "name": "stdout",
          "text": [
            "[1, 2, 3]\n",
            "1\n",
            "2\n",
            "3\n",
            "[4, 5, 6]\n",
            "4\n",
            "5\n",
            "6\n",
            "7\n"
          ]
        },
        {
          "output_type": "error",
          "ename": "TypeError",
          "evalue": "ignored",
          "traceback": [
            "\u001b[0;31m---------------------------------------------------------------------------\u001b[0m",
            "\u001b[0;31mTypeError\u001b[0m                                 Traceback (most recent call last)",
            "\u001b[0;32m<ipython-input-42-d804348e8d37>\u001b[0m in \u001b[0;36m<cell line: 1>\u001b[0;34m()\u001b[0m\n\u001b[1;32m      1\u001b[0m \u001b[0;32mfor\u001b[0m \u001b[0mi\u001b[0m \u001b[0;32min\u001b[0m \u001b[0mlist_c\u001b[0m\u001b[0;34m:\u001b[0m\u001b[0;34m\u001b[0m\u001b[0;34m\u001b[0m\u001b[0m\n\u001b[1;32m      2\u001b[0m   \u001b[0mprint\u001b[0m\u001b[0;34m(\u001b[0m\u001b[0mi\u001b[0m\u001b[0;34m)\u001b[0m\u001b[0;34m\u001b[0m\u001b[0;34m\u001b[0m\u001b[0m\n\u001b[0;32m----> 3\u001b[0;31m   \u001b[0;32mfor\u001b[0m \u001b[0mj\u001b[0m \u001b[0;32min\u001b[0m \u001b[0mi\u001b[0m\u001b[0;34m:\u001b[0m\u001b[0;34m\u001b[0m\u001b[0;34m\u001b[0m\u001b[0m\n\u001b[0m\u001b[1;32m      4\u001b[0m     \u001b[0mprint\u001b[0m\u001b[0;34m(\u001b[0m\u001b[0mj\u001b[0m\u001b[0;34m)\u001b[0m\u001b[0;34m\u001b[0m\u001b[0;34m\u001b[0m\u001b[0m\n",
            "\u001b[0;31mTypeError\u001b[0m: 'int' object is not iterable"
          ]
        }
      ]
    },
    {
      "cell_type": "code",
      "source": [
        "for i in list_c:\n",
        "  if type(i) == list:\n",
        "    for j in i:\n",
        "      print(j)\n",
        "    else:\n",
        "      print(i)"
      ],
      "metadata": {
        "id": "Gat3GapYPk2x"
      },
      "execution_count": null,
      "outputs": []
    },
    {
      "cell_type": "code",
      "source": [],
      "metadata": {
        "id": "2cUX9K-PL79A"
      },
      "execution_count": null,
      "outputs": []
    },
    {
      "cell_type": "markdown",
      "source": [
        "## 딕셔너리 \n"
      ],
      "metadata": {
        "id": "SnDLyDu7SUCY"
      }
    },
    {
      "cell_type": "code",
      "source": [
        "# 리스트와 딕셔너리 비교\n",
        "# 딕셔너리 생성\n",
        "sd_dic = {\n",
        "    \"이름\": \"정대만\",\n",
        "    \"나이\":19,\n",
        "    \"키\": 183,\n",
        "    \"몸무게\" : 70\n",
        "}\n",
        "\n",
        "# 리스트\n",
        "sd_list =[\"정대만\",19,183,70]"
      ],
      "metadata": {
        "id": "O_UrQgR1L8MI"
      },
      "execution_count": null,
      "outputs": []
    },
    {
      "cell_type": "code",
      "source": [
        "# 이름 보기\n",
        "print(sd_list[0])\n",
        "print(sd_dic[\"이름\"])"
      ],
      "metadata": {
        "colab": {
          "base_uri": "https://localhost:8080/"
        },
        "id": "ilnoxRggTEAL",
        "outputId": "7067fa47-e665-45a0-854d-67d1a82402ea"
      },
      "execution_count": null,
      "outputs": [
        {
          "output_type": "stream",
          "name": "stdout",
          "text": [
            "정대만\n",
            "정대만\n"
          ]
        }
      ]
    },
    {
      "cell_type": "code",
      "source": [
        "# 값 변경\n",
        "sd_dic[\"키\"] = 185\n",
        "print(sd_dic)"
      ],
      "metadata": {
        "colab": {
          "base_uri": "https://localhost:8080/"
        },
        "id": "6hVKg7TwTSBp",
        "outputId": "80c88308-5901-4979-8fd8-c08843340488"
      },
      "execution_count": null,
      "outputs": [
        {
          "output_type": "stream",
          "name": "stdout",
          "text": [
            "{'이름': '정대만', '나이': 19, '키': 185, '몸무게': 70}\n"
          ]
        }
      ]
    },
    {
      "cell_type": "code",
      "source": [
        "# sd_dic{\"키\"} <= 이렇게 실수하지 말 것"
      ],
      "metadata": {
        "id": "abD32tgvL8TC"
      },
      "execution_count": null,
      "outputs": []
    },
    {
      "cell_type": "code",
      "source": [
        "# 여러 개의 값을 가지는 딕셔너리 생성\n",
        "bs = {\n",
        "    \"선수\" : [\"채치수\", \"정대만\",\"송태섭\",\"강백호\",\"서태웅\"],\n",
        "    \"감독\" : [\"안감독\"],\n",
        "    \"매니저\" : [\"한나\"]\n",
        "}\n",
        "print(bs)"
      ],
      "metadata": {
        "colab": {
          "base_uri": "https://localhost:8080/"
        },
        "id": "Sro7BO_ZL8Xv",
        "outputId": "3f18ef3b-0a7e-4465-a23f-5a1e17c4a1c7"
      },
      "execution_count": null,
      "outputs": [
        {
          "output_type": "stream",
          "name": "stdout",
          "text": [
            "{'선수': ['채치수', '정대만', '송태섭', '강백호', '서태웅'], '감독': ['안감독'], '매니저': ['한나']}\n"
          ]
        }
      ]
    },
    {
      "cell_type": "code",
      "source": [
        "bs[\"선수\"]"
      ],
      "metadata": {
        "colab": {
          "base_uri": "https://localhost:8080/"
        },
        "id": "XsNTk3XonHOE",
        "outputId": "648aa8e4-cfec-4e6d-b53a-c8f1046f066e"
      },
      "execution_count": null,
      "outputs": [
        {
          "output_type": "execute_result",
          "data": {
            "text/plain": [
              "['채치수', '정대만', '송태섭', '강백호', '서태웅']"
            ]
          },
          "metadata": {},
          "execution_count": 50
        }
      ]
    },
    {
      "cell_type": "code",
      "source": [
        "bs[\"선수\"][1]"
      ],
      "metadata": {
        "colab": {
          "base_uri": "https://localhost:8080/",
          "height": 36
        },
        "id": "brEpBAjPnMLc",
        "outputId": "98d742fe-e2d9-48d7-f90e-0d8250ed029c"
      },
      "execution_count": null,
      "outputs": [
        {
          "output_type": "execute_result",
          "data": {
            "text/plain": [
              "'정대만'"
            ],
            "application/vnd.google.colaboratory.intrinsic+json": {
              "type": "string"
            }
          },
          "metadata": {},
          "execution_count": 51
        }
      ]
    },
    {
      "cell_type": "code",
      "source": [
        "# 값 변경\n",
        "bs[\"매니저\"][0] = \"소연\"\n",
        "print(bs)"
      ],
      "metadata": {
        "colab": {
          "base_uri": "https://localhost:8080/"
        },
        "id": "0KthqdHHnWLF",
        "outputId": "d1ec5425-0174-44db-bd36-338f952670eb"
      },
      "execution_count": null,
      "outputs": [
        {
          "output_type": "stream",
          "name": "stdout",
          "text": [
            "{'선수': ['채치수', '정대만', '송태섭', '강백호', '서태웅'], '감독': ['안감독'], '매니저': ['소연']}\n"
          ]
        }
      ]
    },
    {
      "cell_type": "code",
      "source": [
        "# 새로운 키와 값 ㅜ가\n",
        "# 하나의 값\n",
        "bs[\"상태딤\"]=\"산아ㅏㅜ\"\n",
        "print(bs)"
      ],
      "metadata": {
        "colab": {
          "base_uri": "https://localhost:8080/",
          "height": 213
        },
        "id": "w3Uje8z4n3yd",
        "outputId": "b3bb189a-e8b8-42aa-90ea-e46e9177fa7d"
      },
      "execution_count": null,
      "outputs": [
        {
          "output_type": "error",
          "ename": "NameError",
          "evalue": "ignored",
          "traceback": [
            "\u001b[0;31m---------------------------------------------------------------------------\u001b[0m",
            "\u001b[0;31mNameError\u001b[0m                                 Traceback (most recent call last)",
            "\u001b[0;32m<ipython-input-53-ef325dcc9163>\u001b[0m in \u001b[0;36m<cell line: 4>\u001b[0;34m()\u001b[0m\n\u001b[1;32m      2\u001b[0m \u001b[0;31m# 하나의 값\u001b[0m\u001b[0;34m\u001b[0m\u001b[0;34m\u001b[0m\u001b[0m\n\u001b[1;32m      3\u001b[0m \u001b[0mbs\u001b[0m\u001b[0;34m[\u001b[0m\u001b[0;34m\"상태딤\"\u001b[0m\u001b[0;34m]\u001b[0m\u001b[0;34m=\u001b[0m\u001b[0;34m\"산아ㅏㅜ\"\u001b[0m\u001b[0;34m\u001b[0m\u001b[0;34m\u001b[0m\u001b[0m\n\u001b[0;32m----> 4\u001b[0;31m \u001b[0mprnit\u001b[0m\u001b[0;34m(\u001b[0m\u001b[0mbs\u001b[0m\u001b[0;34m)\u001b[0m\u001b[0;34m\u001b[0m\u001b[0;34m\u001b[0m\u001b[0m\n\u001b[0m",
            "\u001b[0;31mNameError\u001b[0m: name 'prnit' is not defined"
          ]
        }
      ]
    },
    {
      "cell_type": "code",
      "source": [
        "# 존재하지 않는 키 사용할 때 발생\n",
        "# 값 보기\n",
        "bs[\"상대팀\"]"
      ],
      "metadata": {
        "colab": {
          "base_uri": "https://localhost:8080/",
          "height": 213
        },
        "id": "qtSByaejnJ5X",
        "outputId": "1e7b3af0-fa99-443d-8e21-655b344fe454"
      },
      "execution_count": null,
      "outputs": [
        {
          "output_type": "error",
          "ename": "KeyError",
          "evalue": "ignored",
          "traceback": [
            "\u001b[0;31m---------------------------------------------------------------------------\u001b[0m",
            "\u001b[0;31mKeyError\u001b[0m                                  Traceback (most recent call last)",
            "\u001b[0;32m<ipython-input-54-108f65961e12>\u001b[0m in \u001b[0;36m<cell line: 3>\u001b[0;34m()\u001b[0m\n\u001b[1;32m      1\u001b[0m \u001b[0;31m# 존재하지 않는 키 사용할 때 발생\u001b[0m\u001b[0;34m\u001b[0m\u001b[0;34m\u001b[0m\u001b[0m\n\u001b[1;32m      2\u001b[0m \u001b[0;31m# 값 보기\u001b[0m\u001b[0;34m\u001b[0m\u001b[0;34m\u001b[0m\u001b[0m\n\u001b[0;32m----> 3\u001b[0;31m \u001b[0mbs\u001b[0m\u001b[0;34m[\u001b[0m\u001b[0;34m\"상대팀\"\u001b[0m\u001b[0;34m]\u001b[0m\u001b[0;34m\u001b[0m\u001b[0;34m\u001b[0m\u001b[0m\n\u001b[0m",
            "\u001b[0;31mKeyError\u001b[0m: '상대팀'"
          ]
        }
      ]
    },
    {
      "cell_type": "code",
      "source": [
        "# 존재하지 않는 키와 값 제거\n",
        "del bs[\"상대팀\"\"]"
      ],
      "metadata": {
        "colab": {
          "base_uri": "https://localhost:8080/",
          "height": 138
        },
        "id": "C9zcgwfUL7Fi",
        "outputId": "ba2a3865-d957-48da-fda1-bae6c4dee98d"
      },
      "execution_count": null,
      "outputs": [
        {
          "output_type": "error",
          "ename": "SyntaxError",
          "evalue": "ignored",
          "traceback": [
            "\u001b[0;36m  File \u001b[0;32m\"<ipython-input-55-edc2f100c54d>\"\u001b[0;36m, line \u001b[0;32m2\u001b[0m\n\u001b[0;31m    del bs[\"상대팀\"\"]\u001b[0m\n\u001b[0m                ^\u001b[0m\n\u001b[0;31mSyntaxError\u001b[0m\u001b[0;31m:\u001b[0m unterminated string literal (detected at line 2)\n"
          ]
        }
      ]
    },
    {
      "cell_type": "code",
      "source": [],
      "metadata": {
        "id": "2NjOtFV2L7Ji"
      },
      "execution_count": null,
      "outputs": []
    },
    {
      "cell_type": "markdown",
      "source": [
        "## NameError \n"
      ],
      "metadata": {
        "id": "HgxCQ7QHsxrJ"
      }
    },
    {
      "cell_type": "code",
      "source": [
        "a = { 이름 : \"강백호\"}\n",
        "print(a)"
      ],
      "metadata": {
        "colab": {
          "base_uri": "https://localhost:8080/",
          "height": 194
        },
        "id": "WsEoW_i-L7Mj",
        "outputId": "e9b44941-ca3b-4fac-f82e-9ae2552ba5c5"
      },
      "execution_count": null,
      "outputs": [
        {
          "output_type": "error",
          "ename": "NameError",
          "evalue": "ignored",
          "traceback": [
            "\u001b[0;31m---------------------------------------------------------------------------\u001b[0m",
            "\u001b[0;31mNameError\u001b[0m                                 Traceback (most recent call last)",
            "\u001b[0;32m<ipython-input-56-dd34efff2f8e>\u001b[0m in \u001b[0;36m<cell line: 1>\u001b[0;34m()\u001b[0m\n\u001b[0;32m----> 1\u001b[0;31m \u001b[0ma\u001b[0m \u001b[0;34m=\u001b[0m \u001b[0;34m{\u001b[0m \u001b[0m이름\u001b[0m \u001b[0;34m:\u001b[0m \u001b[0;34m\"강백호\"\u001b[0m\u001b[0;34m}\u001b[0m\u001b[0;34m\u001b[0m\u001b[0;34m\u001b[0m\u001b[0m\n\u001b[0m\u001b[1;32m      2\u001b[0m \u001b[0mprint\u001b[0m\u001b[0;34m(\u001b[0m\u001b[0ma\u001b[0m\u001b[0;34m)\u001b[0m\u001b[0;34m\u001b[0m\u001b[0;34m\u001b[0m\u001b[0m\n",
            "\u001b[0;31mNameError\u001b[0m: name '이름' is not defined"
          ]
        }
      ]
    },
    {
      "cell_type": "code",
      "source": [
        "# 에러 수정 = 키가 문자열이면 따옴표로 묶어줘야 함\n",
        "a = {\"이름\": \"강백호\"}\n",
        "print(a)"
      ],
      "metadata": {
        "colab": {
          "base_uri": "https://localhost:8080/"
        },
        "id": "x12YIC2m71MA",
        "outputId": "c55e9baf-24c0-4aaa-ee81-d6ae38dfcd7a"
      },
      "execution_count": null,
      "outputs": [
        {
          "output_type": "stream",
          "name": "stdout",
          "text": [
            "{'이름': '강백호'}\n"
          ]
        }
      ]
    },
    {
      "cell_type": "code",
      "source": [],
      "metadata": {
        "id": "_YGWSfSOtKG7"
      },
      "execution_count": null,
      "outputs": []
    },
    {
      "cell_type": "markdown",
      "source": [
        "## in 연산자 \n"
      ],
      "metadata": {
        "id": "grG71PzbuWKq"
      }
    },
    {
      "cell_type": "code",
      "source": [
        "# 찾고 싶은 키\n",
        "\"선수\" in bs"
      ],
      "metadata": {
        "colab": {
          "base_uri": "https://localhost:8080/"
        },
        "id": "yGH9XsRptKTX",
        "outputId": "ccc2b735-dd25-4e7c-f467-48cbd2f85e50"
      },
      "execution_count": null,
      "outputs": [
        {
          "output_type": "execute_result",
          "data": {
            "text/plain": [
              "True"
            ]
          },
          "metadata": {},
          "execution_count": 59
        }
      ]
    },
    {
      "cell_type": "code",
      "source": [
        "\"선생님\" in bs"
      ],
      "metadata": {
        "colab": {
          "base_uri": "https://localhost:8080/"
        },
        "id": "cYFcytO7tKbg",
        "outputId": "23801b78-157e-48eb-9f46-0a722855e52b"
      },
      "execution_count": null,
      "outputs": [
        {
          "output_type": "execute_result",
          "data": {
            "text/plain": [
              "False"
            ]
          },
          "metadata": {},
          "execution_count": 60
        }
      ]
    },
    {
      "cell_type": "code",
      "source": [
        "# 딕셔너리의 키 존재 여부 알려주는 프로그램\n",
        "key = input(\"찾고 싶은 키를 입력하세요\")\n",
        "if key in bs:\n",
        "  print(\"존재하는 키입니다. 해당 값은 \", bs[key])\n",
        "else:\n",
        "  print(\"존재하지 않는 키입니다\")"
      ],
      "metadata": {
        "colab": {
          "base_uri": "https://localhost:8080/"
        },
        "id": "EdODHxi1tKh7",
        "outputId": "6e28e473-f385-49ec-cb9d-2b5315128bad"
      },
      "execution_count": null,
      "outputs": [
        {
          "output_type": "stream",
          "name": "stdout",
          "text": [
            "찾고 싶은 키를 입력하세요선생님\n",
            "존재하지 않는 키입니다\n"
          ]
        }
      ]
    },
    {
      "cell_type": "code",
      "source": [],
      "metadata": {
        "id": "3dOjC1PHtKnv"
      },
      "execution_count": null,
      "outputs": []
    },
    {
      "cell_type": "markdown",
      "source": [
        "## 값을 보여주는 함수 "
      ],
      "metadata": {
        "id": "d4Dvnxpfywtq"
      }
    },
    {
      "cell_type": "markdown",
      "source": [],
      "metadata": {
        "id": "2Jqws9ZzywqO"
      }
    },
    {
      "cell_type": "code",
      "source": [
        "# 존재하는 키로 값 보기\n",
        "bs[\"감독\"]"
      ],
      "metadata": {
        "colab": {
          "base_uri": "https://localhost:8080/"
        },
        "id": "lYan0DuwtKtP",
        "outputId": "28f1c71c-f61b-472f-9428-f53d0877de75"
      },
      "execution_count": null,
      "outputs": [
        {
          "output_type": "execute_result",
          "data": {
            "text/plain": [
              "['안감독']"
            ]
          },
          "metadata": {},
          "execution_count": 65
        }
      ]
    },
    {
      "cell_type": "code",
      "source": [
        "# 존재하지 않는 키로 값 보기 = KeyErro\n",
        "bs[\"감독님\"]\n"
      ],
      "metadata": {
        "colab": {
          "base_uri": "https://localhost:8080/",
          "height": 194
        },
        "id": "WlLLJUDQy21a",
        "outputId": "c05677b8-863a-4790-bfdc-f48a8637cbe2"
      },
      "execution_count": null,
      "outputs": [
        {
          "output_type": "error",
          "ename": "KeyError",
          "evalue": "ignored",
          "traceback": [
            "\u001b[0;31m---------------------------------------------------------------------------\u001b[0m",
            "\u001b[0;31mKeyError\u001b[0m                                  Traceback (most recent call last)",
            "\u001b[0;32m<ipython-input-67-2369dd0e5fbe>\u001b[0m in \u001b[0;36m<cell line: 2>\u001b[0;34m()\u001b[0m\n\u001b[1;32m      1\u001b[0m \u001b[0;31m# 존재하지 않는 키로 값 보기 = KeyErro\u001b[0m\u001b[0;34m\u001b[0m\u001b[0;34m\u001b[0m\u001b[0m\n\u001b[0;32m----> 2\u001b[0;31m \u001b[0mbs\u001b[0m\u001b[0;34m[\u001b[0m\u001b[0;34m\"감독님\"\u001b[0m\u001b[0;34m]\u001b[0m\u001b[0;34m\u001b[0m\u001b[0;34m\u001b[0m\u001b[0m\n\u001b[0m",
            "\u001b[0;31mKeyError\u001b[0m: '감독님'"
          ]
        }
      ]
    },
    {
      "cell_type": "code",
      "source": [
        "# 존재하지 않는 키로 값 보기 = 에러 없이 결과가 없다는 내용\n",
        "bs.get(\"감독\")"
      ],
      "metadata": {
        "colab": {
          "base_uri": "https://localhost:8080/"
        },
        "id": "ipjA6Y2Xzhpu",
        "outputId": "21a1f5b5-721a-4756-ff7b-cc2778979cfe"
      },
      "execution_count": null,
      "outputs": [
        {
          "output_type": "execute_result",
          "data": {
            "text/plain": [
              "['안감독']"
            ]
          },
          "metadata": {},
          "execution_count": 68
        }
      ]
    },
    {
      "cell_type": "code",
      "source": [
        "value = bs.get(\"감독님\")\n",
        "print(value)"
      ],
      "metadata": {
        "colab": {
          "base_uri": "https://localhost:8080/"
        },
        "id": "NflWi-0ezmFW",
        "outputId": "47a847e4-6f42-445f-e2e4-6fb786efd148"
      },
      "execution_count": null,
      "outputs": [
        {
          "output_type": "stream",
          "name": "stdout",
          "text": [
            "None\n"
          ]
        }
      ]
    },
    {
      "cell_type": "code",
      "source": [],
      "metadata": {
        "id": "YLR412G-z0Ik"
      },
      "execution_count": null,
      "outputs": []
    },
    {
      "cell_type": "markdown",
      "source": [
        "## 반복문\n",
        "### 딕셔너리 만들기 "
      ],
      "metadata": {
        "id": "bLwUlG4v1cDL"
      }
    },
    {
      "cell_type": "code",
      "source": [
        "sd_dic = {\n",
        "    \"이름\": \"정대만\",\n",
        "    \"나이\":19,\n",
        "    \"키\": 183,\n",
        "    \"몸무게\" : 70\n",
        "}"
      ],
      "metadata": {
        "id": "hZWbdVIzz1IY"
      },
      "execution_count": null,
      "outputs": []
    },
    {
      "cell_type": "code",
      "source": [
        "# 반복문\n",
        "for i in sd_dic:\n",
        "  #print(i) # 키가 나온다 \n",
        "  print(sd_dic[i]) # 키에 대한 값이 나온다"
      ],
      "metadata": {
        "colab": {
          "base_uri": "https://localhost:8080/"
        },
        "id": "nALEhEa71laN",
        "outputId": "d14284eb-2b7e-46cc-f5ef-d91bf5a490fd"
      },
      "execution_count": null,
      "outputs": [
        {
          "output_type": "stream",
          "name": "stdout",
          "text": [
            "이름\n",
            "정대만\n",
            "나이\n",
            "19\n",
            "키\n",
            "183\n",
            "몸무게\n",
            "70\n"
          ]
        }
      ]
    },
    {
      "cell_type": "code",
      "source": [
        "character = {\n",
        "    \"name\": \"정대만\",\n",
        "    \"number\": 14,\n",
        "    \"records\": {\n",
        "        \"three_point\": 24,\n",
        "        \"rebound\": 1\n",
        "    },\n",
        "    \"schools\": [\n",
        "        \"무석중\", \"죽산고\"\n",
        "    ]\n",
        "}\n"
      ],
      "metadata": {
        "id": "k6AZl4B21-Mi"
      },
      "execution_count": null,
      "outputs": []
    },
    {
      "cell_type": "code",
      "source": [
        "for i in character:\n",
        "  print(character[i])"
      ],
      "metadata": {
        "colab": {
          "base_uri": "https://localhost:8080/"
        },
        "id": "O6eSFXlw2xv1",
        "outputId": "56ac4a4e-5482-4abd-9d8c-b7f95af81959"
      },
      "execution_count": null,
      "outputs": [
        {
          "output_type": "stream",
          "name": "stdout",
          "text": [
            "정대만\n",
            "14\n",
            "{'three_point': 24, 'rebound': 1}\n",
            "['무석중', '죽산고']\n"
          ]
        }
      ]
    },
    {
      "cell_type": "code",
      "source": [
        "for i in character:\n",
        "  if type(character[i]) == dict:\n",
        "    for j in character[i]:\n",
        "      print(character[i][j])\n",
        "  elif type(character[i]) == list:\n",
        "    for k in character[i]:\n",
        "      print(k)\n",
        "  else:\n",
        "    print(character[i])"
      ],
      "metadata": {
        "colab": {
          "base_uri": "https://localhost:8080/"
        },
        "id": "tAYBsAuO3d_G",
        "outputId": "4302705c-c6ed-42fd-a9aa-3d0bc9162208"
      },
      "execution_count": null,
      "outputs": [
        {
          "output_type": "stream",
          "name": "stdout",
          "text": [
            "정대만\n",
            "14\n",
            "24\n",
            "1\n",
            "무석중\n",
            "죽산고\n"
          ]
        }
      ]
    },
    {
      "cell_type": "code",
      "source": [
        "# 매개변수는 정수형이어야 함\n",
        "n = 20\n",
        "range(n)"
      ],
      "metadata": {
        "colab": {
          "base_uri": "https://localhost:8080/"
        },
        "id": "pbvaEdo-7fSA",
        "outputId": "b2416cca-f636-4f14-d531-a5cbf57ae5d6"
      },
      "execution_count": null,
      "outputs": [
        {
          "output_type": "execute_result",
          "data": {
            "text/plain": [
              "range(0, 20)"
            ]
          },
          "metadata": {},
          "execution_count": 86
        }
      ]
    },
    {
      "cell_type": "code",
      "source": [
        "# float형 이기 때문에 에러 발생\n",
        "range(n/2)"
      ],
      "metadata": {
        "colab": {
          "base_uri": "https://localhost:8080/",
          "height": 194
        },
        "id": "uHeiBkXGAeY1",
        "outputId": "cf363ffe-cdba-4275-975f-2fd585cf6e1e"
      },
      "execution_count": null,
      "outputs": [
        {
          "output_type": "error",
          "ename": "TypeError",
          "evalue": "ignored",
          "traceback": [
            "\u001b[0;31m---------------------------------------------------------------------------\u001b[0m",
            "\u001b[0;31mTypeError\u001b[0m                                 Traceback (most recent call last)",
            "\u001b[0;32m<ipython-input-88-8147858878b5>\u001b[0m in \u001b[0;36m<cell line: 2>\u001b[0;34m()\u001b[0m\n\u001b[1;32m      1\u001b[0m \u001b[0;31m# float형 이기 때문에 에러 발생\u001b[0m\u001b[0;34m\u001b[0m\u001b[0;34m\u001b[0m\u001b[0m\n\u001b[0;32m----> 2\u001b[0;31m \u001b[0mrange\u001b[0m\u001b[0;34m(\u001b[0m\u001b[0mn\u001b[0m\u001b[0;34m/\u001b[0m\u001b[0;36m2\u001b[0m\u001b[0;34m)\u001b[0m\u001b[0;34m\u001b[0m\u001b[0;34m\u001b[0m\u001b[0m\n\u001b[0m",
            "\u001b[0;31mTypeError\u001b[0m: 'float' object cannot be interpreted as an integer"
          ]
        }
      ]
    },
    {
      "cell_type": "code",
      "source": [
        "# 나머지\n",
        "range(n % 6)"
      ],
      "metadata": {
        "colab": {
          "base_uri": "https://localhost:8080/"
        },
        "id": "fDDhfVWSAzTh",
        "outputId": "9163fabf-ea98-48d8-ab92-3f09a1c5264c"
      },
      "execution_count": null,
      "outputs": [
        {
          "output_type": "execute_result",
          "data": {
            "text/plain": [
              "range(0, 2)"
            ]
          },
          "metadata": {},
          "execution_count": 89
        }
      ]
    },
    {
      "cell_type": "code",
      "source": [
        "# 몫\n",
        "range(n // 2)"
      ],
      "metadata": {
        "colab": {
          "base_uri": "https://localhost:8080/"
        },
        "id": "a8DziJLTA1qV",
        "outputId": "f08c5678-338d-43fc-d0a7-9ad6257b417a"
      },
      "execution_count": null,
      "outputs": [
        {
          "output_type": "execute_result",
          "data": {
            "text/plain": [
              "range(0, 10)"
            ]
          },
          "metadata": {},
          "execution_count": 90
        }
      ]
    },
    {
      "cell_type": "code",
      "source": [],
      "metadata": {
        "id": "hU_-POS6A5a9"
      },
      "execution_count": null,
      "outputs": []
    },
    {
      "cell_type": "markdown",
      "source": [
        "## 리스트와 범위로 반복문\n"
      ],
      "metadata": {
        "id": "6eSkLUOFBu_o"
      }
    },
    {
      "cell_type": "code",
      "source": [
        "# 인덱스 번호와 값을 동시에 출력\n",
        "list_a = [21,34,11,5,67]"
      ],
      "metadata": {
        "id": "kJClLKRMBxao"
      },
      "execution_count": null,
      "outputs": []
    },
    {
      "cell_type": "code",
      "source": [
        "print(range(len(list_a)))\n",
        "print(list(range(len(list_a))))"
      ],
      "metadata": {
        "colab": {
          "base_uri": "https://localhost:8080/"
        },
        "id": "FQ9HzzXnB2co",
        "outputId": "8b233658-0a56-4b82-a243-cbab789342eb"
      },
      "execution_count": null,
      "outputs": [
        {
          "output_type": "stream",
          "name": "stdout",
          "text": [
            "range(0, 5)\n",
            "[0, 1, 2, 3, 4]\n"
          ]
        }
      ]
    },
    {
      "cell_type": "code",
      "source": [
        "for i in range(len(list_a)):\n",
        "  print(\"인덱스\", i, \"값\", list_a[i])"
      ],
      "metadata": {
        "colab": {
          "base_uri": "https://localhost:8080/"
        },
        "id": "-pOdRzHICIP0",
        "outputId": "0d9b6b01-c433-4da4-bb6e-1e46e1116186"
      },
      "execution_count": null,
      "outputs": [
        {
          "output_type": "stream",
          "name": "stdout",
          "text": [
            "인덱스 0 값 21\n",
            "인덱스 1 값 34\n",
            "인덱스 2 값 11\n",
            "인덱스 3 값 5\n",
            "인덱스 4 값 67\n"
          ]
        }
      ]
    },
    {
      "cell_type": "code",
      "source": [],
      "metadata": {
        "id": "YJ2-OX0mChcn"
      },
      "execution_count": null,
      "outputs": []
    },
    {
      "cell_type": "markdown",
      "source": [
        "## 역반복문\n"
      ],
      "metadata": {
        "id": "rvytuydvEVIl"
      }
    },
    {
      "cell_type": "code",
      "source": [
        "# 역순으로 반복\n",
        "for i in range(5, 0, -1):\n",
        "  print(i) # 5번 반복"
      ],
      "metadata": {
        "colab": {
          "base_uri": "https://localhost:8080/"
        },
        "id": "VIOAYZKrCM3W",
        "outputId": "7fcfe2f0-3b7b-4703-ef8f-69a9f90dcf1c"
      },
      "execution_count": null,
      "outputs": [
        {
          "output_type": "stream",
          "name": "stdout",
          "text": [
            "5\n",
            "4\n",
            "3\n",
            "2\n",
            "1\n"
          ]
        }
      ]
    },
    {
      "cell_type": "code",
      "source": [
        "for i in range(5,0,-2):\n",
        "  print(i) # 3번 반복"
      ],
      "metadata": {
        "colab": {
          "base_uri": "https://localhost:8080/"
        },
        "id": "9co7XRlgEdf2",
        "outputId": "04d17913-df45-47a4-d025-152e425ed878"
      },
      "execution_count": null,
      "outputs": [
        {
          "output_type": "stream",
          "name": "stdout",
          "text": [
            "5\n",
            "3\n",
            "1\n"
          ]
        }
      ]
    },
    {
      "cell_type": "code",
      "source": [
        "for i in reversed(range(1,6)):\n",
        "  print(i)"
      ],
      "metadata": {
        "colab": {
          "base_uri": "https://localhost:8080/"
        },
        "id": "ZYq-jIqzFKtB",
        "outputId": "ebbe33f9-1623-4e54-a5e2-fb13f7848461"
      },
      "execution_count": null,
      "outputs": [
        {
          "output_type": "stream",
          "name": "stdout",
          "text": [
            "5\n",
            "4\n",
            "3\n",
            "2\n",
            "1\n"
          ]
        }
      ]
    },
    {
      "cell_type": "code",
      "source": [],
      "metadata": {
        "id": "avN70Y9QFe9S"
      },
      "execution_count": null,
      "outputs": []
    },
    {
      "cell_type": "markdown",
      "source": [
        "## 반복문 while "
      ],
      "metadata": {
        "id": "BOXyne9uG6eQ"
      }
    },
    {
      "cell_type": "code",
      "source": [
        "# 무한반복\n",
        "while True:\n",
        "  print(\"언제 끝나\")"
      ],
      "metadata": {
        "id": "uyYuZNjoG8W_"
      },
      "execution_count": null,
      "outputs": []
    },
    {
      "cell_type": "code",
      "source": [
        "while True:\n",
        "  print(\"언제 끝나\", end=\"\")"
      ],
      "metadata": {
        "id": "gOx9LEdmHGrK"
      },
      "execution_count": null,
      "outputs": []
    },
    {
      "cell_type": "code",
      "source": [],
      "metadata": {
        "id": "p33cxAMbHr2o"
      },
      "execution_count": null,
      "outputs": []
    },
    {
      "cell_type": "markdown",
      "source": [
        "## while 문으로 for 문처럼 사용 "
      ],
      "metadata": {
        "id": "zxqIkoH5H9-Y"
      }
    },
    {
      "cell_type": "code",
      "source": [
        "# 숫자를 0 ~ 9 까지 출력\n",
        "for i in range(10):\n",
        "  print(i)"
      ],
      "metadata": {
        "colab": {
          "base_uri": "https://localhost:8080/"
        },
        "id": "ATqDJTVCIDq9",
        "outputId": "5357e1c3-ceb6-4c5d-84d7-1c599a4faeff"
      },
      "execution_count": null,
      "outputs": [
        {
          "output_type": "stream",
          "name": "stdout",
          "text": [
            "0\n",
            "1\n",
            "2\n",
            "3\n",
            "4\n",
            "5\n",
            "6\n",
            "7\n",
            "8\n",
            "9\n"
          ]
        }
      ]
    },
    {
      "cell_type": "code",
      "source": [
        "# while 문으로 재현\n",
        "i = 0\n",
        "while i < 10:\n",
        "  print(i)\n",
        "  i += 1"
      ],
      "metadata": {
        "id": "ylx71i3cIRhT"
      },
      "execution_count": null,
      "outputs": []
    },
    {
      "cell_type": "code",
      "source": [],
      "metadata": {
        "id": "7v7otmVcIVs4"
      },
      "execution_count": null,
      "outputs": []
    },
    {
      "cell_type": "markdown",
      "source": [
        "### 값이 있는 동안에 반복 "
      ],
      "metadata": {
        "id": "17GQpWUkKaqn"
      }
    },
    {
      "cell_type": "code",
      "source": [
        "list_a = [1,2,3,2,4,2,5]\n",
        "value = 2\n",
        "while value in list_a:\n",
        "  list_a.remove(value)\n",
        "\n",
        "print(list_a)"
      ],
      "metadata": {
        "colab": {
          "base_uri": "https://localhost:8080/"
        },
        "id": "fjnCq1NUKc9E",
        "outputId": "ab036c1d-7708-4e2b-f0e3-7dc143483503"
      },
      "execution_count": null,
      "outputs": [
        {
          "output_type": "stream",
          "name": "stdout",
          "text": [
            "[1, 3, 4, 5]\n"
          ]
        }
      ]
    },
    {
      "cell_type": "code",
      "source": [],
      "metadata": {
        "id": "wcT5JtYOKrtR"
      },
      "execution_count": null,
      "outputs": []
    },
    {
      "cell_type": "markdown",
      "source": [
        "## 시간 기반으로 반복 "
      ],
      "metadata": {
        "id": "8KrUIFQyOF_2"
      }
    },
    {
      "cell_type": "code",
      "source": [
        "import time\n",
        "number = 0\n",
        "target = time.time() + 3\n",
        "while time.time() < target:\n",
        "  number += 1\n",
        "print(number)"
      ],
      "metadata": {
        "colab": {
          "base_uri": "https://localhost:8080/"
        },
        "id": "6dZXmDADOHuP",
        "outputId": "5585ba58-fc8d-4076-f3ba-bfb2b8b65e26"
      },
      "execution_count": null,
      "outputs": [
        {
          "output_type": "stream",
          "name": "stdout",
          "text": [
            "12374589\n"
          ]
        }
      ]
    },
    {
      "cell_type": "code",
      "source": [
        "#@title ### break / continue \n",
        "### break / continue "
      ],
      "metadata": {
        "id": "3EQsLdSaOfMo"
      },
      "execution_count": null,
      "outputs": []
    },
    {
      "cell_type": "code",
      "source": [
        "i = 0\n",
        "while True:\n",
        "  print(i)\n",
        "  i += 1\n",
        "  yn = input(\"종료할까요 ? (종료를 원하시면 Y나 y를 입력하세요)> \")\n",
        "  if yn in [\"Y\", \"y\"]:\n",
        "    print(\"반복 종료\")\n",
        "    break\n"
      ],
      "metadata": {
        "colab": {
          "base_uri": "https://localhost:8080/"
        },
        "id": "0kFMpoisPNFy",
        "outputId": "23c5df42-a598-4884-9bcc-41f5c8da0e55"
      },
      "execution_count": null,
      "outputs": [
        {
          "output_type": "stream",
          "name": "stdout",
          "text": [
            "0\n",
            "종료할까요 ? (종료를 원하시면 Y나 y를 입력하세요)> n\n",
            "1\n",
            "종료할까요 ? (종료를 원하시면 Y나 y를 입력하세요)> no\n",
            "2\n",
            "종료할까요 ? (종료를 원하시면 Y나 y를 입력하세요)> nnn\n",
            "3\n",
            "종료할까요 ? (종료를 원하시면 Y나 y를 입력하세요)> nnn\n",
            "4\n",
            "종료할까요 ? (종료를 원하시면 Y나 y를 입력하세요)> Y\n",
            "반복 종료\n"
          ]
        }
      ]
    },
    {
      "cell_type": "code",
      "source": [
        "# 현재 반복을 생략하고 다음 반복으로 \n",
        "# continue\n",
        "list_a = [100,20,150,50,200]\n",
        "for i in list_a:\n",
        "  if i < 100:\n",
        "    continue\n",
        "  print(i)"
      ],
      "metadata": {
        "colab": {
          "base_uri": "https://localhost:8080/"
        },
        "id": "8kp_v-pvQNi6",
        "outputId": "3d290559-cd49-4057-99e9-5b5d8138c627"
      },
      "execution_count": null,
      "outputs": [
        {
          "output_type": "stream",
          "name": "stdout",
          "text": [
            "100\n",
            "150\n",
            "200\n"
          ]
        }
      ]
    },
    {
      "cell_type": "code",
      "source": [],
      "metadata": {
        "id": "fEjRUaNeRdry"
      },
      "execution_count": null,
      "outputs": []
    },
    {
      "cell_type": "markdown",
      "source": [
        "## 문자열, 리스트, 딕셔너리와 관련된 함수 "
      ],
      "metadata": {
        "id": "1nhaNusnSe-h"
      }
    },
    {
      "cell_type": "code",
      "source": [
        "list_a = [1,2,3,4,5]\n",
        "print(min(list_a))"
      ],
      "metadata": {
        "colab": {
          "base_uri": "https://localhost:8080/"
        },
        "id": "fSbv0UjPSioo",
        "outputId": "90b4344c-6aad-4b37-9448-02e1a450a549"
      },
      "execution_count": null,
      "outputs": [
        {
          "output_type": "stream",
          "name": "stdout",
          "text": [
            "1\n"
          ]
        }
      ]
    },
    {
      "cell_type": "code",
      "source": [
        "list_a = [1,2,3,4,5]\n",
        "print(max(list_a))"
      ],
      "metadata": {
        "colab": {
          "base_uri": "https://localhost:8080/"
        },
        "id": "R3NC6aEPStUe",
        "outputId": "9029b59e-442e-4826-aa86-1b8849c43bde"
      },
      "execution_count": null,
      "outputs": [
        {
          "output_type": "stream",
          "name": "stdout",
          "text": [
            "5\n"
          ]
        }
      ]
    },
    {
      "cell_type": "code",
      "source": [
        "list_a = [1,2,3,4,5]\n",
        "print(sum(list_a))"
      ],
      "metadata": {
        "colab": {
          "base_uri": "https://localhost:8080/"
        },
        "id": "YmBnhdbMSwlN",
        "outputId": "c95b3faa-f037-4865-d24d-c5f819a50b0a"
      },
      "execution_count": null,
      "outputs": [
        {
          "output_type": "stream",
          "name": "stdout",
          "text": [
            "15\n"
          ]
        }
      ]
    },
    {
      "cell_type": "code",
      "source": [
        "# 역순\n",
        "list_a = [1,2,3,4,5]\n",
        "list_b = reversed(list_a)\n",
        "print(list_a)\n",
        "print(list_b) # 이터레이터 객체\n",
        "print(list(list_b))\n",
        "\n",
        "# 역반복문\n",
        "for i in reversed(list_a):\n",
        "  print(i)"
      ],
      "metadata": {
        "colab": {
          "base_uri": "https://localhost:8080/"
        },
        "id": "OlDy9Ee8SyOf",
        "outputId": "b89a7f4c-ca6c-4342-e812-43f6b19e5597"
      },
      "execution_count": null,
      "outputs": [
        {
          "output_type": "stream",
          "name": "stdout",
          "text": [
            "[1, 2, 3, 4, 5]\n",
            "<list_reverseiterator object at 0x7f5e2dee3a90>\n",
            "[5, 4, 3, 2, 1]\n",
            "5\n",
            "4\n",
            "3\n",
            "2\n",
            "1\n"
          ]
        }
      ]
    },
    {
      "cell_type": "code",
      "source": [
        "# 인덱스와 값을 동시에 출력 => 함수로 해결\n",
        "\n",
        "list_a = [21,34,11,5,67]\n",
        "\n"
      ],
      "metadata": {
        "id": "MGQiTVafUdkv"
      },
      "execution_count": null,
      "outputs": []
    },
    {
      "cell_type": "code",
      "source": [
        "# 1) 리스트\n",
        "i = 0\n",
        "for j in list_a:\n",
        "  print(\"인덱스\", i, \"값\", j)\n",
        "  i += 1"
      ],
      "metadata": {
        "colab": {
          "base_uri": "https://localhost:8080/"
        },
        "id": "YmExLuFkUSCM",
        "outputId": "025aa42a-db68-4c68-f06e-c97c76188fef"
      },
      "execution_count": null,
      "outputs": [
        {
          "output_type": "stream",
          "name": "stdout",
          "text": [
            "인덱스 0 값 21\n",
            "인덱스 1 값 34\n",
            "인덱스 2 값 11\n",
            "인덱스 3 값 5\n",
            "인덱스 4 값 67\n"
          ]
        }
      ]
    },
    {
      "cell_type": "code",
      "source": [
        "# 2) 리스트 & 범위\n",
        "for i in range(len(list_a)):\n",
        "  print(\"인덱스\",i,\"값\",list_a[i])"
      ],
      "metadata": {
        "colab": {
          "base_uri": "https://localhost:8080/"
        },
        "id": "Cx34vgQrV_CQ",
        "outputId": "a0e5dbc2-4095-439d-9b1e-32c5999d84c2"
      },
      "execution_count": null,
      "outputs": [
        {
          "output_type": "stream",
          "name": "stdout",
          "text": [
            "인덱스 0 값 21\n",
            "인덱스 1 값 34\n",
            "인덱스 2 값 11\n",
            "인덱스 3 값 5\n",
            "인덱스 4 값 67\n"
          ]
        }
      ]
    },
    {
      "cell_type": "code",
      "source": [
        "# 3) enumerate 함수\n",
        "list(enumerate(list_a))"
      ],
      "metadata": {
        "colab": {
          "base_uri": "https://localhost:8080/"
        },
        "id": "cXja7x3xTVna",
        "outputId": "a280ed8c-c4c0-4dc5-898e-40ae248367c5"
      },
      "execution_count": null,
      "outputs": [
        {
          "output_type": "execute_result",
          "data": {
            "text/plain": [
              "[(0, 21), (1, 34), (2, 11), (3, 5), (4, 67)]"
            ]
          },
          "metadata": {},
          "execution_count": 127
        }
      ]
    },
    {
      "cell_type": "code",
      "source": [
        "for i, j in enumerate(list_a):\n",
        "  print(\"인덱스\",i,\"값\",j)"
      ],
      "metadata": {
        "colab": {
          "base_uri": "https://localhost:8080/"
        },
        "id": "hme0GToGWl8h",
        "outputId": "699804ae-a4cb-406f-e65e-4d4477f3d067"
      },
      "execution_count": null,
      "outputs": [
        {
          "output_type": "stream",
          "name": "stdout",
          "text": [
            "인덱스 0 값 21\n",
            "인덱스 1 값 34\n",
            "인덱스 2 값 11\n",
            "인덱스 3 값 5\n",
            "인덱스 4 값 67\n"
          ]
        }
      ]
    },
    {
      "cell_type": "code",
      "source": [
        "# 4) items 함수 with 딕셔너리\n",
        "# 키와 값을 동시에 출력\n",
        "sd_dic = {\n",
        "    \"이름\": \"정대만\",\n",
        "    \"나이\": 19,\n",
        "    \"키\": 183,\n",
        "    \"몸무게\": 70\n",
        "}\n",
        "\n",
        "sd_dic.items()\n"
      ],
      "metadata": {
        "colab": {
          "base_uri": "https://localhost:8080/"
        },
        "id": "NaE18HfjXsTa",
        "outputId": "5cb67267-6bed-4a30-fcd9-4a2918f9b7bb"
      },
      "execution_count": null,
      "outputs": [
        {
          "output_type": "execute_result",
          "data": {
            "text/plain": [
              "dict_items([('이름', '정대만'), ('나이', 19), ('키', 183), ('몸무게', 70)])"
            ]
          },
          "metadata": {},
          "execution_count": 131
        }
      ]
    },
    {
      "cell_type": "code",
      "source": [
        "for i, j in sd_dic.items():\n",
        "  print(\"키\",i,\"값\",j)"
      ],
      "metadata": {
        "colab": {
          "base_uri": "https://localhost:8080/"
        },
        "id": "5RONBHKdb_hB",
        "outputId": "ca69cb03-cf14-43d4-99c8-54a3fb749e97"
      },
      "execution_count": null,
      "outputs": [
        {
          "output_type": "stream",
          "name": "stdout",
          "text": [
            "키 이름 값 정대만\n",
            "키 나이 값 19\n",
            "키 키 값 183\n",
            "키 몸무게 값 70\n"
          ]
        }
      ]
    },
    {
      "cell_type": "markdown",
      "source": [
        "## 리스트 내포 "
      ],
      "metadata": {
        "id": "Z2k38kIddbHC"
      }
    },
    {
      "cell_type": "code",
      "source": [
        "list_a = []\n",
        "list_b = []\n",
        "for i in range(1,6):\n",
        "  list_a.append(i)\n",
        "  list_b.append(i ** 2)\n",
        "print(list_a);print(list_b)"
      ],
      "metadata": {
        "colab": {
          "base_uri": "https://localhost:8080/"
        },
        "id": "65pWDHIzdco3",
        "outputId": "91752c9b-1d68-4b2b-cd57-69005cac06fe"
      },
      "execution_count": null,
      "outputs": [
        {
          "output_type": "stream",
          "name": "stdout",
          "text": [
            "[1, 2, 3, 4, 5]\n",
            "[1, 4, 9, 16, 25]\n"
          ]
        }
      ]
    },
    {
      "cell_type": "code",
      "source": [
        "# 리스트 내포로 재현\n",
        "list_c = [i ** 2 for i in range(1,6)]\n",
        "print(list_c)"
      ],
      "metadata": {
        "colab": {
          "base_uri": "https://localhost:8080/"
        },
        "id": "jbDF-vqHeIhy",
        "outputId": "a39d1c52-4c21-4f8d-898e-6625966314a6"
      },
      "execution_count": null,
      "outputs": [
        {
          "output_type": "stream",
          "name": "stdout",
          "text": [
            "[1, 4, 9, 16, 25]\n"
          ]
        }
      ]
    },
    {
      "cell_type": "code",
      "source": [
        "# 리스트 내포에 조건문 추가\n",
        "# 과일만 리스트로 저장\n",
        "list_a = [\"사과\", \"참외\", \"수박\", \"토마토\"]\n",
        "fruit = [i # 표현식 (값 표현)\n",
        "         for i in list_a # 반복문\n",
        "         if i != \"토마토\" ] # 조건문\n",
        "print(fruit)"
      ],
      "metadata": {
        "colab": {
          "base_uri": "https://localhost:8080/"
        },
        "id": "cxKx7FY0eqDl",
        "outputId": "f3de2125-2c7e-4d23-c250-af91e0253d6d"
      },
      "execution_count": null,
      "outputs": [
        {
          "output_type": "stream",
          "name": "stdout",
          "text": [
            "['사과', '참외', '수박']\n"
          ]
        }
      ]
    },
    {
      "cell_type": "code",
      "source": [],
      "metadata": {
        "id": "QE58WZregrqD"
      },
      "execution_count": null,
      "outputs": []
    },
    {
      "cell_type": "code",
      "source": [],
      "metadata": {
        "id": "bt203bZPgmHc"
      },
      "execution_count": null,
      "outputs": []
    },
    {
      "cell_type": "code",
      "source": [],
      "metadata": {
        "id": "0S8YtvmJgHGH"
      },
      "execution_count": null,
      "outputs": []
    },
    {
      "cell_type": "code",
      "source": [],
      "metadata": {
        "id": "OagWWEnjfqEy"
      },
      "execution_count": null,
      "outputs": []
    },
    {
      "cell_type": "code",
      "source": [],
      "metadata": {
        "id": "Wi3HLSzIeHFl"
      },
      "execution_count": null,
      "outputs": []
    },
    {
      "cell_type": "code",
      "source": [],
      "metadata": {
        "id": "4LquLzWPeDb-"
      },
      "execution_count": null,
      "outputs": []
    },
    {
      "cell_type": "code",
      "source": [],
      "metadata": {
        "id": "ftEirgdGeC4x"
      },
      "execution_count": null,
      "outputs": []
    },
    {
      "cell_type": "code",
      "source": [],
      "metadata": {
        "id": "X_g8f95Jcg8X"
      },
      "execution_count": null,
      "outputs": []
    },
    {
      "cell_type": "code",
      "source": [],
      "metadata": {
        "id": "Ci4-N1jbcWnu"
      },
      "execution_count": null,
      "outputs": []
    },
    {
      "cell_type": "code",
      "source": [],
      "metadata": {
        "id": "0saVfFBtTUGM"
      },
      "execution_count": null,
      "outputs": []
    },
    {
      "cell_type": "markdown",
      "source": [],
      "metadata": {
        "id": "TjB2P0fIXldP"
      }
    },
    {
      "cell_type": "code",
      "source": [],
      "metadata": {
        "id": "rSmPcFFPTRAa"
      },
      "execution_count": null,
      "outputs": []
    },
    {
      "cell_type": "code",
      "source": [],
      "metadata": {
        "id": "z7EkFbWtTL3_"
      },
      "execution_count": null,
      "outputs": []
    },
    {
      "cell_type": "code",
      "source": [],
      "metadata": {
        "id": "4eC0tjOcPvI7"
      },
      "execution_count": null,
      "outputs": []
    },
    {
      "cell_type": "code",
      "source": [],
      "metadata": {
        "id": "p1Sa0U6iKmqp"
      },
      "execution_count": null,
      "outputs": []
    },
    {
      "cell_type": "code",
      "source": [],
      "metadata": {
        "id": "TuGTrBiwEbgD"
      },
      "execution_count": null,
      "outputs": []
    },
    {
      "cell_type": "code",
      "source": [],
      "metadata": {
        "id": "u-fSKuHHB8SY"
      },
      "execution_count": null,
      "outputs": []
    },
    {
      "cell_type": "code",
      "source": [],
      "metadata": {
        "id": "cgDOoeCYB5ld"
      },
      "execution_count": null,
      "outputs": []
    },
    {
      "cell_type": "code",
      "source": [],
      "metadata": {
        "id": "2zai1QLIB3zh"
      },
      "execution_count": null,
      "outputs": []
    },
    {
      "cell_type": "code",
      "source": [],
      "metadata": {
        "id": "eckO86c7AgkG"
      },
      "execution_count": null,
      "outputs": []
    },
    {
      "cell_type": "code",
      "source": [],
      "metadata": {
        "id": "pOI7yrig7dmC"
      },
      "execution_count": null,
      "outputs": []
    },
    {
      "cell_type": "code",
      "source": [],
      "metadata": {
        "id": "2GcQA9Vc7bkB"
      },
      "execution_count": null,
      "outputs": []
    },
    {
      "cell_type": "code",
      "source": [],
      "metadata": {
        "id": "vcGcBgzX3cBz"
      },
      "execution_count": null,
      "outputs": []
    },
    {
      "cell_type": "code",
      "source": [],
      "metadata": {
        "id": "q1cXyDAU3Ze7"
      },
      "execution_count": null,
      "outputs": []
    },
    {
      "cell_type": "code",
      "source": [],
      "metadata": {
        "id": "_RyjwVHz3WuD"
      },
      "execution_count": null,
      "outputs": []
    },
    {
      "cell_type": "code",
      "source": [],
      "metadata": {
        "id": "1KzFETsM3Vem"
      },
      "execution_count": null,
      "outputs": []
    },
    {
      "cell_type": "code",
      "source": [],
      "metadata": {
        "id": "ZAlg_72T19Rm"
      },
      "execution_count": null,
      "outputs": []
    },
    {
      "cell_type": "code",
      "source": [],
      "metadata": {
        "id": "QH7kRdVz1699"
      },
      "execution_count": null,
      "outputs": []
    },
    {
      "cell_type": "code",
      "source": [],
      "metadata": {
        "id": "z8ioOA6P1y0X"
      },
      "execution_count": null,
      "outputs": []
    },
    {
      "cell_type": "code",
      "source": [],
      "metadata": {
        "id": "Oa5Tn6Ptz1ST"
      },
      "execution_count": null,
      "outputs": []
    },
    {
      "cell_type": "code",
      "source": [],
      "metadata": {
        "id": "FBxSZWssz2hu"
      },
      "execution_count": null,
      "outputs": []
    },
    {
      "cell_type": "code",
      "source": [],
      "metadata": {
        "id": "36tflpBnz2pg"
      },
      "execution_count": null,
      "outputs": []
    },
    {
      "cell_type": "code",
      "source": [],
      "metadata": {
        "id": "bsfCUB9tz2yZ"
      },
      "execution_count": null,
      "outputs": []
    },
    {
      "cell_type": "code",
      "source": [],
      "metadata": {
        "id": "PxvxA0lLz26i"
      },
      "execution_count": null,
      "outputs": []
    },
    {
      "cell_type": "code",
      "source": [],
      "metadata": {
        "id": "W_I5Nwerz3Bn"
      },
      "execution_count": null,
      "outputs": []
    },
    {
      "cell_type": "code",
      "source": [],
      "metadata": {
        "id": "UlFboloFz3JB"
      },
      "execution_count": null,
      "outputs": []
    },
    {
      "cell_type": "code",
      "source": [],
      "metadata": {
        "id": "gr4cdGR3z3QE"
      },
      "execution_count": null,
      "outputs": []
    },
    {
      "cell_type": "code",
      "source": [],
      "metadata": {
        "id": "SOW6TE-Fz3W5"
      },
      "execution_count": null,
      "outputs": []
    },
    {
      "cell_type": "code",
      "source": [],
      "metadata": {
        "id": "n2TfErBjz3dU"
      },
      "execution_count": null,
      "outputs": []
    },
    {
      "cell_type": "code",
      "source": [],
      "metadata": {
        "id": "xFA3BR9-z3jV"
      },
      "execution_count": null,
      "outputs": []
    },
    {
      "cell_type": "code",
      "source": [],
      "metadata": {
        "id": "Lp_SzHUgzprb"
      },
      "execution_count": null,
      "outputs": []
    },
    {
      "cell_type": "code",
      "source": [
        "\n"
      ],
      "metadata": {
        "id": "gmSkEA09zqFR"
      },
      "execution_count": null,
      "outputs": []
    },
    {
      "cell_type": "code",
      "source": [],
      "metadata": {
        "id": "W8Zmz-Y_tKyv"
      },
      "execution_count": null,
      "outputs": []
    }
  ]
}