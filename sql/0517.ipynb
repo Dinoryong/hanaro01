{
  "nbformat": 4,
  "nbformat_minor": 0,
  "metadata": {
    "colab": {
      "provenance": [],
      "mount_file_id": "1Ukg19s-EuYvKtKy8y2ViVJmUVT9kYJ61",
      "authorship_tag": "ABX9TyMRxJVioH5UgCSVsgPyq7r9",
      "include_colab_link": true
    },
    "kernelspec": {
      "name": "python3",
      "display_name": "Python 3"
    },
    "language_info": {
      "name": "python"
    }
  },
  "cells": [
    {
      "cell_type": "markdown",
      "metadata": {
        "id": "view-in-github",
        "colab_type": "text"
      },
      "source": [
        "<a href=\"https://colab.research.google.com/github/Dinoryong/hanaro01/blob/main/0517.ipynb\" target=\"_parent\"><img src=\"https://colab.research.google.com/assets/colab-badge.svg\" alt=\"Open In Colab\"/></a>"
      ]
    },
    {
      "cell_type": "markdown",
      "source": [
        "## 리스트에서 사용했던 함수를 딕셔너리에서 사용하는 방법\n"
      ],
      "metadata": {
        "id": "6RaewI9lCSOo"
      }
    },
    {
      "cell_type": "markdown",
      "source": [
        "## 최소값, 최대값"
      ],
      "metadata": {
        "id": "3y4LTrzuJAAx"
      }
    },
    {
      "cell_type": "code",
      "source": [
        "# 딕셔너리\n",
        "players = [{\"이름\": \"강백호\", \n",
        "            \"신장\": 189},\n",
        "           {\"이름\": \"서태웅\",\n",
        "            \"신장\": 188},\n",
        "           {\"이름\": \"채치수\",\n",
        "            \"신장\": 195}]\n",
        "\n",
        "def height(i):        # i 가 딕셔너리 players\n",
        "  return i[\"신장\"]    # = players[\"신장\"]\n",
        "\n",
        "# min, max 함수 안에서\n",
        "# key 에서 사용하고 있는 함수의 매개변수로 딕셔너리 players 사용\n",
        "print(min(players, key = height)) # 최소값\n",
        "print(max(players, key = height)) # 최대값"
      ],
      "metadata": {
        "colab": {
          "base_uri": "https://localhost:8080/"
        },
        "id": "3RS8ZFYVCYui",
        "outputId": "740071ae-e9bb-4321-9e05-3e9ebc8d8f79"
      },
      "execution_count": null,
      "outputs": [
        {
          "output_type": "stream",
          "name": "stdout",
          "text": [
            "{'이름': '서태웅', '신장': 188}\n",
            "{'이름': '채치수', '신장': 195}\n"
          ]
        }
      ]
    },
    {
      "cell_type": "code",
      "source": [
        "# 람다로 변경\n",
        "players = [{\"이름\": \"강백호\", \n",
        "            \"신장\": 189},\n",
        "           {\"이름\": \"서태웅\",\n",
        "            \"신장\": 188},\n",
        "           {\"이름\": \"채치수\",\n",
        "            \"신장\": 195}]\n",
        "\n",
        "# 매개변수 이름을 player 로 변경되어도 똑같다\n",
        "print(min(players, key = lambda player: player[\"신장\"])) # 최소값\n",
        "print(max(players, key = lambda x: x[\"신장\"])) # 최대값"
      ],
      "metadata": {
        "colab": {
          "base_uri": "https://localhost:8080/"
        },
        "id": "L_LZn9LeGibO",
        "outputId": "8cdce549-0c4e-461b-a990-00b9f1ed79ee"
      },
      "execution_count": null,
      "outputs": [
        {
          "output_type": "stream",
          "name": "stdout",
          "text": [
            "{'이름': '서태웅', '신장': 188}\n",
            "{'이름': '채치수', '신장': 195}\n"
          ]
        }
      ]
    },
    {
      "cell_type": "markdown",
      "source": [
        "## 정렬  "
      ],
      "metadata": {
        "id": "gdxvcVyBI8wI"
      }
    },
    {
      "cell_type": "code",
      "source": [
        "# 리스트 정렬\n",
        "# 오름차순\n",
        "a = [1, 45, 72, 23, 8]\n",
        "a.sort() # 원본이 변경되는 파괴적 처리\n",
        "print(a)"
      ],
      "metadata": {
        "colab": {
          "base_uri": "https://localhost:8080/"
        },
        "id": "HTphfy7uIL8V",
        "outputId": "d178d33f-d326-4cba-e9f6-0ff6df7db44f"
      },
      "execution_count": null,
      "outputs": [
        {
          "output_type": "stream",
          "name": "stdout",
          "text": [
            "[1, 8, 23, 45, 72]\n"
          ]
        }
      ]
    },
    {
      "cell_type": "code",
      "source": [
        "# 내림차순\n",
        "a = [1, 45, 72, 23, 8]\n",
        "a.sort(reverse=True) # 원본이 변경되는 파괴적 처리\n",
        "print(a)"
      ],
      "metadata": {
        "colab": {
          "base_uri": "https://localhost:8080/"
        },
        "id": "17FsRrSsJRSU",
        "outputId": "31154f93-ca9f-4dad-8fda-ff41ed9f3ab4"
      },
      "execution_count": null,
      "outputs": [
        {
          "output_type": "stream",
          "name": "stdout",
          "text": [
            "[72, 45, 23, 8, 1]\n"
          ]
        }
      ]
    },
    {
      "cell_type": "code",
      "source": [
        "# 오름차순\n",
        "players = [{\"이름\": \"강백호\", \n",
        "            \"신장\": 189},\n",
        "           {\"이름\": \"서태웅\",\n",
        "            \"신장\": 188},\n",
        "           {\"이름\": \"채치수\",\n",
        "            \"신장\": 195}]\n",
        "\n",
        "players.sort(key = lambda x: x[\"신장\"])\n",
        "print(players)"
      ],
      "metadata": {
        "colab": {
          "base_uri": "https://localhost:8080/"
        },
        "id": "shhBtEuoLFPT",
        "outputId": "902640af-9578-456b-bd61-57a98f819a31"
      },
      "execution_count": null,
      "outputs": [
        {
          "output_type": "stream",
          "name": "stdout",
          "text": [
            "[{'이름': '서태웅', '신장': 188}, {'이름': '강백호', '신장': 189}, {'이름': '채치수', '신장': 195}]\n"
          ]
        }
      ]
    },
    {
      "cell_type": "code",
      "source": [
        "# 내림차순\n",
        "players = [{\"이름\": \"강백호\", \n",
        "            \"신장\": 189},\n",
        "           {\"이름\": \"서태웅\",\n",
        "            \"신장\": 188},\n",
        "           {\"이름\": \"채치수\",\n",
        "            \"신장\": 195}]\n",
        "\n",
        "players.sort(key = lambda x: x[\"신장\"], reverse=True)\n",
        "print(players)"
      ],
      "metadata": {
        "colab": {
          "base_uri": "https://localhost:8080/"
        },
        "id": "pxEJ4zUCJagZ",
        "outputId": "88071965-9fe1-4ccb-a17d-615c65f30358"
      },
      "execution_count": null,
      "outputs": [
        {
          "output_type": "stream",
          "name": "stdout",
          "text": [
            "[{'이름': '채치수', '신장': 195}, {'이름': '강백호', '신장': 189}, {'이름': '서태웅', '신장': 188}]\n"
          ]
        }
      ]
    },
    {
      "cell_type": "markdown",
      "source": [
        "# 텍스트 파일 처리  "
      ],
      "metadata": {
        "id": "y2xYb9qTPHal"
      }
    },
    {
      "cell_type": "markdown",
      "source": [
        "## 파일 열기 & 닫기 "
      ],
      "metadata": {
        "id": "XEvXFJJoPJjO"
      }
    },
    {
      "cell_type": "code",
      "source": [
        "# 파일 열기\n",
        "file = open('base.txt',\"w\")\n",
        "\n",
        "# 텍스트 쓰기\n",
        "file.write(\"안녕 파이썬 재밌니?\")\n",
        "\n",
        "# 파일 닫기\n",
        "file.close()"
      ],
      "metadata": {
        "id": "ekgj4RBgKFrF"
      },
      "execution_count": null,
      "outputs": []
    },
    {
      "cell_type": "code",
      "source": [
        "# 파일을 열고 닫는 과정에 코드가 많이 생기면 파일을 닫지 않는 실수를 한다\n",
        "# 이를 방지하기 위해서 with 사용\n",
        "\n",
        "with open('base.txt', \"w\") as file:\n",
        "  # 텍스트 쓰기\n",
        "  file.write(\"안녕 파이썬 재밌니?\")\n",
        "# with 문이 끝나면 자동으로 파일이 닫힌다"
      ],
      "metadata": {
        "id": "zYdG0gaAJYUy"
      },
      "execution_count": null,
      "outputs": []
    },
    {
      "cell_type": "markdown",
      "source": [
        "## 텍스트를 파일 한 줄씩 읽기 "
      ],
      "metadata": {
        "id": "pgV18OvoSWQw"
      }
    },
    {
      "cell_type": "code",
      "source": [
        "# 이름, 키, 몸무게 => csv 텍스트 파일로 저장\n",
        "import random\n",
        "hangul = list(\"가나다라마바사아자차타파하\")\n",
        "with open('info.txt', \"w\") as file:\n",
        "  for i in range(1000):\n",
        "    name = random.choice(hangul) + random.choice(hangul) + random.choice(hangul)\n",
        "    height = random.randrange(140,200)\n",
        "    weight = random.randrange(40,150)\n",
        "    file.write(\"{}, {}, {}\\n\".format(name, height, weight))"
      ],
      "metadata": {
        "id": "MN11yqbhH5k9"
      },
      "execution_count": null,
      "outputs": []
    },
    {
      "cell_type": "code",
      "source": [
        "# 텍스트 파일 한줄씩 읽기 & 새로운 변수 생성 및 출력\n",
        "with open('info.txt', \"r\") as file:\n",
        "  for line in file:\n",
        "    name, height, weight = line.strip().split(\", \")\n",
        "    if (not name) or (not height) or (not weight):\n",
        "      continue\n",
        "    bmi = int(weight) / (int(height)/100)**2\n",
        "    result = \"\"\n",
        "\n",
        "    # 25 보다 크거나 같으면 과체중\n",
        "    # 18.5 보다 크거나 같으면 정상''\n",
        "    # 나머지 저체중\n",
        "    if bmi >= 25:\n",
        "      result = \"과체중\"\n",
        "    elif bmi >= 18.5:\n",
        "      result = \"정상\"\n",
        "    else:\n",
        "      result = \"저체중\" \n",
        "    # print(\"이름: {}, 키: {}, 몸무게: {}, BMI: {}, 결과: {}\".format(name,height,weight,bmi,result))  \n",
        "    print(\"\\n\".join([\"이름: {}\", \"키: {}\", \"몸무게: {}\", \"BMI: {}\", \"결과: {}\"]).format(name,height,weight,bmi,result))\n",
        "    print(\"-\")\n",
        "\n",
        "\n"
      ],
      "metadata": {
        "id": "Kvpd9xMNURiz"
      },
      "execution_count": null,
      "outputs": []
    },
    {
      "cell_type": "markdown",
      "source": [
        "# 예외 처리\n"
      ],
      "metadata": {
        "id": "32TrX5areva4"
      }
    },
    {
      "cell_type": "markdown",
      "source": [
        "## 구문 오류 syntax error "
      ],
      "metadata": {
        "id": "tMGqc1DJfTmh"
      }
    },
    {
      "cell_type": "code",
      "source": [
        "# 오타가 일반적 = SyntaxError\n",
        "# 프로그램 실행 전에 발생하는 오류 \n",
        "print(\"안녕 점심시간 배고프니)"
      ],
      "metadata": {
        "colab": {
          "base_uri": "https://localhost:8080/",
          "height": 138
        },
        "id": "MEmo3GnVd79o",
        "outputId": "bd58cc47-ca86-4a5c-ceea-791805eee364"
      },
      "execution_count": null,
      "outputs": [
        {
          "output_type": "error",
          "ename": "SyntaxError",
          "evalue": "ignored",
          "traceback": [
            "\u001b[0;36m  File \u001b[0;32m\"<ipython-input-27-768a91e2b0fe>\"\u001b[0;36m, line \u001b[0;32m2\u001b[0m\n\u001b[0;31m    print(\"안녕 점심시간 배고프니)\u001b[0m\n\u001b[0m          ^\u001b[0m\n\u001b[0;31mSyntaxError\u001b[0m\u001b[0;31m:\u001b[0m unterminated string literal (detected at line 2)\n"
          ]
        }
      ]
    },
    {
      "cell_type": "markdown",
      "source": [
        "## 예외"
      ],
      "metadata": {
        "id": "wJE3w9sAfexJ"
      }
    },
    {
      "cell_type": "code",
      "source": [
        "# = 런타임 오류\n",
        "# 프로그램 실행 중에 발생하는 오류\n",
        "list_z[0]"
      ],
      "metadata": {
        "colab": {
          "base_uri": "https://localhost:8080/",
          "height": 213
        },
        "id": "K10LYiijfXrm",
        "outputId": "f2c388a7-a2de-41be-e6b8-4ae26af1279a"
      },
      "execution_count": null,
      "outputs": [
        {
          "output_type": "error",
          "ename": "NameError",
          "evalue": "ignored",
          "traceback": [
            "\u001b[0;31m---------------------------------------------------------------------------\u001b[0m",
            "\u001b[0;31mNameError\u001b[0m                                 Traceback (most recent call last)",
            "\u001b[0;32m<ipython-input-28-928aeb0254c6>\u001b[0m in \u001b[0;36m<cell line: 3>\u001b[0;34m()\u001b[0m\n\u001b[1;32m      1\u001b[0m \u001b[0;31m# = 런타임 오류\u001b[0m\u001b[0;34m\u001b[0m\u001b[0;34m\u001b[0m\u001b[0m\n\u001b[1;32m      2\u001b[0m \u001b[0;31m# 프로그램 실행 중에 발생하는 오류\u001b[0m\u001b[0;34m\u001b[0m\u001b[0;34m\u001b[0m\u001b[0m\n\u001b[0;32m----> 3\u001b[0;31m \u001b[0mlist_z\u001b[0m\u001b[0;34m[\u001b[0m\u001b[0;36m0\u001b[0m\u001b[0;34m]\u001b[0m\u001b[0;34m\u001b[0m\u001b[0;34m\u001b[0m\u001b[0m\n\u001b[0m",
            "\u001b[0;31mNameError\u001b[0m: name 'list_z' is not defined"
          ]
        }
      ]
    },
    {
      "cell_type": "code",
      "source": [
        "# 예외를 수정\n",
        "list_z = [1,2]\n",
        "list_z[0]"
      ],
      "metadata": {
        "colab": {
          "base_uri": "https://localhost:8080/"
        },
        "id": "5uR0rFyqYzEs",
        "outputId": "4d4db9d6-42f5-4a41-9012-45d7d0dabf06"
      },
      "execution_count": null,
      "outputs": [
        {
          "output_type": "execute_result",
          "data": {
            "text/plain": [
              "1"
            ]
          },
          "metadata": {},
          "execution_count": 30
        }
      ]
    },
    {
      "cell_type": "markdown",
      "source": [
        "## 예외 상황 "
      ],
      "metadata": {
        "id": "rZkbwnLBgjYV"
      }
    },
    {
      "cell_type": "code",
      "source": [
        "# 원의 반지름을 입력해서 원의 둘레와 넓이 계산해주는 프로그램\n",
        "# 실수나 문자를 포함한 숫자를 입력해서 예외 상황 만들기\n",
        "number = (input(\"원의 반지름을 입력하세요, 단, 정수  \"))\n",
        "pi = 3.14\n",
        "print(\"원의 반지름\", number)\n",
        "print(\"원의 둘레\", 2 * pi * int(number))\n",
        "print(\"원의 넓이\", pi * int(number) * int(number))"
      ],
      "metadata": {
        "id": "9AdBiCEnf6wV"
      },
      "execution_count": null,
      "outputs": []
    },
    {
      "cell_type": "code",
      "source": [
        "# 조건문으로 예외 처리\n",
        "number = (input(\"원의 반지름을 입력하세요, 단, 정수  \"))\n",
        "pi = 3.14\n",
        "if number.isdigit(): # 숫자로 변환할 수 있는 경우\n",
        "  print(\"원의 반지름\", number)\n",
        "  print(\"원의 둘레\", 2 * pi * int(number))\n",
        "  print(\"원의 넓이\", pi * int(number) * int(number))\n",
        "else:\n",
        "  print(\"정수를 입력해주시겠어요?\")"
      ],
      "metadata": {
        "colab": {
          "base_uri": "https://localhost:8080/"
        },
        "id": "OD2ItoTHXkFL",
        "outputId": "d00f6d74-204c-40fe-932e-8de0bbaa5efe"
      },
      "execution_count": null,
      "outputs": [
        {
          "output_type": "stream",
          "name": "stdout",
          "text": [
            "원의 반지름을 입력하세요, 단, 정수  123ㅈ4\n",
            "정수를 입력해주시겠어요?\n"
          ]
        }
      ]
    },
    {
      "cell_type": "markdown",
      "source": [
        "## try ~ except "
      ],
      "metadata": {
        "id": "BpJ-VMITkmyb"
      }
    },
    {
      "cell_type": "code",
      "source": [
        "# try ~ except 구문\n",
        "try:\n",
        "  number = (input(\"원의 반지름을 입력하세요, 단, 정수  \"))\n",
        "  pi = 3.14\n",
        "  number = int(number)\n",
        "  print(\"원의 반지름\", number)\n",
        "  print(\"원의 둘레\", 2 * pi * (number))\n",
        "  print(\"원의 넓이\", pi * (number) * (number))\n",
        "except:\n",
        "  print(\"정수를 입력해주시겠어요?\")"
      ],
      "metadata": {
        "colab": {
          "base_uri": "https://localhost:8080/"
        },
        "id": "XRHKXLLejJS7",
        "outputId": "22e83b12-c45a-4774-bd50-2287238e606b"
      },
      "execution_count": null,
      "outputs": [
        {
          "output_type": "stream",
          "name": "stdout",
          "text": [
            "원의 반지름을 입력하세요, 단, 정수  345fd\n",
            "정수를 입력해주시겠어요?\n"
          ]
        }
      ]
    },
    {
      "cell_type": "code",
      "source": [
        "# 예외 강제 발생\n",
        "try:\n",
        "  number = (input(\"원의 반지름을 입력하세요, 단, 정수  \"))\n",
        "  pi = 3.14\n",
        "  number = int(number)\n",
        "  print(\"원의 반지름\", number)\n",
        "  print(\"원의 둘레\", 2 * pi * (number))\n",
        "  print(\"원의 넓이\", pi * (number) * (number))\n",
        "except:\n",
        "  raise NotImplementedError"
      ],
      "metadata": {
        "id": "pJ6lPQj3HLL4"
      },
      "execution_count": null,
      "outputs": []
    },
    {
      "cell_type": "markdown",
      "source": [
        "## try ~ except ~ else "
      ],
      "metadata": {
        "id": "htNcnndrnFvE"
      }
    },
    {
      "cell_type": "code",
      "source": [
        "try:\n",
        "  number = (input(\"원의 반지름을 입력하세요, 단, 정수  \"))\n",
        "  pi = 3.14\n",
        "  number = int(number)\n",
        "\n",
        "except:\n",
        "  print(\"정수를 입력해주시겠어요?\")\n",
        "else:\n",
        "  print(\"원의 반지름\", number)\n",
        "  print(\"원의 둘레\", 2 * pi * (number))\n",
        "  print(\"원의 넓이\", pi * (number) * (number))"
      ],
      "metadata": {
        "id": "arwuwFA4V8b_"
      },
      "execution_count": null,
      "outputs": []
    },
    {
      "cell_type": "code",
      "source": [
        "try: # 예외 발생할 수 있는 코드 입력\n",
        "  number = (input(\"원의 반지름을 입력하세요, 단, 정수  \"))\n",
        "  pi = 3.14\n",
        "  number = int(number)\n",
        "\n",
        "except: # 예외 발생할 때 처리할 코드\n",
        "  print(\"정수를 입력해주시겠어요?\")\n",
        "else: # 예외 발생핮 않을 때 처리할 코드\n",
        "  print(\"원의 반지름\", number)\n",
        "  print(\"원의 둘레\", 2 * pi * (number))\n",
        "  print(\"원의 넓이\", pi * (number) * (number))\n",
        "finally:\n",
        "  print(\"하여튼 프로그램이 정상적으로 종료되엇어요\")"
      ],
      "metadata": {
        "colab": {
          "base_uri": "https://localhost:8080/"
        },
        "id": "dlP5-_pxVeAL",
        "outputId": "7111c980-ce0c-4614-98cb-b80c576b73be"
      },
      "execution_count": null,
      "outputs": [
        {
          "output_type": "stream",
          "name": "stdout",
          "text": [
            "원의 반지름을 입력하세요, 단, 정수  52522\n",
            "원의 반지름 52522\n",
            "원의 둘레 329838.16000000003\n",
            "원의 넓이 8661879919.76\n",
            "하여튼 프로그램이 정상적으로 종료되엇어요\n"
          ]
        }
      ]
    },
    {
      "cell_type": "markdown",
      "source": [
        "## 예외 객체 "
      ],
      "metadata": {
        "id": "88OtcVYG7bDj"
      }
    },
    {
      "cell_type": "code",
      "source": [
        "# 예외 정보를 저장하는 객체\n",
        "try:\n",
        "  number = (input(\"원의 반지름을 입력하세요, 단, 정수  \"))\n",
        "  pi = 3.14\n",
        "  number = int(number)\n",
        "  print(\"원의 반지름\", number)\n",
        "  print(\"원의 둘레\", 2 * pi * (number))\n",
        "  print(\"원의 넓이\", pi * (number) * (number))\n",
        "except Exception as exception:\n",
        "  print(\"예외종류: \", type(exception))\n",
        "  print(\"예외객체: \", exception)"
      ],
      "metadata": {
        "colab": {
          "base_uri": "https://localhost:8080/"
        },
        "id": "xlETXPMo42zu",
        "outputId": "891884f9-c66d-4559-c026-3b2f06c485e2"
      },
      "execution_count": null,
      "outputs": [
        {
          "output_type": "stream",
          "name": "stdout",
          "text": [
            "원의 반지름을 입력하세요, 단, 정수  5sd\n",
            "예외종류:  <class 'ValueError'>\n",
            "예외객체:  invalid literal for int() with base 10: '5sd'\n"
          ]
        }
      ]
    },
    {
      "cell_type": "code",
      "source": [
        "from os import execvpe\n",
        "from logging import exception\n",
        "# 여러가지 예외 상황 (2가지)\n",
        "a = [1,2,3,4,5]\n",
        "try:    \n",
        "  # 1 번째 예외 상항 : 정수가 아닌 것을 입력  (4번째 입력)\n",
        "  number = int(input(\"정수를 입력하세요 > \"))\n",
        "  # 2 번째 예외 상황 : 인덱스에 없는 정수 번호르 입력한 경우 (10 입력)\n",
        "  print(\"{} 번째 요소는 {}입이다.\".format(number, a[number]))\n",
        "except ValueError:\n",
        "  prnit(\"정수를 쓰라ㅣ고오오\")\n",
        "\n",
        "except IndexError:\n",
        "  print(\"정수를 잘 입력하셨지만 인덱스 범위에 있는 정수ㅡㄹ 입력해주헤요\")\n",
        "# try 구문에서 코드를 계쏙 입력한다고 가정\n",
        "# 어떤 예외가 발생할지 모름 = 대처가 안된다\n"
      ],
      "metadata": {
        "id": "0dfckIGrH2Lo"
      },
      "execution_count": null,
      "outputs": []
    },
    {
      "cell_type": "code",
      "source": [
        "# 예상할 수 없는 예외도 대처\n",
        "a = [1,2,3,4,5]\n",
        "try:    \n",
        "  # 1 번째 예외 상항 : 정수가 아닌 것을 입력  (4번째 입력)\n",
        "  number = int(input(\"정수를 입력하세요 > \"))\n",
        "  # 2 번째 예외 상황 : 인덱스에 없는 정수 번호르 입력한 경우 (10 입력)\n",
        "  print(\"{} 번째 요소는 {}입이다.\".format(number, a[number]))\n",
        "except ValueError:\n",
        "  prnit(\"정수를 쓰라ㅣ고오오\")\n",
        "  print(\"예외 객체: \", exception)\n",
        "\n",
        "except IndexError:\n",
        "  print(\"정수를 잘 입력하셨지만 인덱스 범위에 있는 정수를 입력해주헤요\")\n",
        "  print(\"예외 객체: \", exception)\n",
        "\n",
        "except Exceptipn as exception:\n",
        "  print(\"예외 종류: \", type(exception))\n",
        "  print(\"예외 객체: \", exception)\n",
        "\n",
        "\n",
        "# try 구문에서 코드를 계쏙 입력한다고 가정\n",
        "# 어떤 예외가 발생할지 모름 = 대처가 안된다"
      ],
      "metadata": {
        "id": "pVV8CgRGF36D"
      },
      "execution_count": null,
      "outputs": []
    },
    {
      "cell_type": "code",
      "source": [
        "# 예상할 수 없는 예외도 대처\n",
        "a = [1,2,3,4,5]\n",
        "try:    \n",
        "  # 1 번째 예외 상항 : 정수가 아닌 것을 입력  (4번째라고 입력)\n",
        "  number = int(input(\"정수를 입력하세요 > \"))\n",
        "  # 2 번째 예외 상황 : 인덱스에 없는 정수 번호르 입력한 경우 (10 입력)\n",
        "  print(\"{} 번째 요소는 {}입이다.\".format(number, a[number]))\n",
        "  # 3 번째 예외 상황 : 식별자에 없는 이름 사용 (3 입력)\n",
        "  예외발생해라()\n",
        "except ValueError as exception:\n",
        "  print(\"정수를 쓰라ㅣ고오오\")\n",
        "  print(\"예외 객체: \", exception)\n",
        "except IndexError as exception:\n",
        "  print(\"정수를 잘 입력하셨지만 인덱스 범위에 있는 정수를 입력해주헤요\")\n",
        "  print(\"예외 객체: \", exception)\n",
        "except Exceptipn as exception:\n",
        "  print(\"예외 종류: \", type(exception))\n",
        "  print(\"예외 객체: \", exception)"
      ],
      "metadata": {
        "colab": {
          "base_uri": "https://localhost:8080/"
        },
        "id": "NKi4F2uFFpUv",
        "outputId": "06ffba29-69ae-45c7-f46e-800c23ef2259"
      },
      "execution_count": null,
      "outputs": [
        {
          "output_type": "stream",
          "name": "stdout",
          "text": [
            "정수를 입력하세요 > 5678\n",
            "정수를 잘 입력하셨지만 인덱스 범위에 있는 정수를 입력해주헤요\n",
            "예외 객체:  list index out of range\n"
          ]
        }
      ]
    },
    {
      "cell_type": "markdown",
      "source": [
        "# 모듈 "
      ],
      "metadata": {
        "id": "gHyaQYFmJN0S"
      }
    },
    {
      "cell_type": "markdown",
      "source": [
        "## 표준 모듈 "
      ],
      "metadata": {
        "id": "cPN_Oc7AJQrt"
      }
    },
    {
      "cell_type": "code",
      "source": [
        "# = 내장 모듈\n",
        "import math"
      ],
      "metadata": {
        "id": "YH2uPa_xJPkn"
      },
      "execution_count": null,
      "outputs": []
    },
    {
      "cell_type": "code",
      "source": [
        "math.sin(1)\n"
      ],
      "metadata": {
        "colab": {
          "base_uri": "https://localhost:8080/"
        },
        "id": "UyICdhe8FjoL",
        "outputId": "73ec8e46-1920-49b7-fb30-2d509692cd84"
      },
      "execution_count": null,
      "outputs": [
        {
          "output_type": "execute_result",
          "data": {
            "text/plain": [
              "0.8414709848078965"
            ]
          },
          "metadata": {},
          "execution_count": 10
        }
      ]
    },
    {
      "cell_type": "code",
      "source": [
        "math.cos(1)"
      ],
      "metadata": {
        "colab": {
          "base_uri": "https://localhost:8080/"
        },
        "id": "KHaJgge9JmIY",
        "outputId": "cce7d089-6247-403d-d2d2-464ebfc1e293"
      },
      "execution_count": null,
      "outputs": [
        {
          "output_type": "execute_result",
          "data": {
            "text/plain": [
              "0.5403023058681398"
            ]
          },
          "metadata": {},
          "execution_count": 11
        }
      ]
    },
    {
      "cell_type": "code",
      "source": [
        "math.tan(1)"
      ],
      "metadata": {
        "colab": {
          "base_uri": "https://localhost:8080/"
        },
        "id": "vtikScYtJm_O",
        "outputId": "b40fe2d6-3628-490a-8e3b-3c2f83b2b9fb"
      },
      "execution_count": null,
      "outputs": [
        {
          "output_type": "execute_result",
          "data": {
            "text/plain": [
              "1.5574077246549023"
            ]
          },
          "metadata": {},
          "execution_count": 12
        }
      ]
    },
    {
      "cell_type": "code",
      "source": [
        "math.floor(3.14)"
      ],
      "metadata": {
        "colab": {
          "base_uri": "https://localhost:8080/"
        },
        "id": "CJMw8RTIEQ1D",
        "outputId": "f0f7674d-dc9b-446b-a83c-54a1864e2cb1"
      },
      "execution_count": null,
      "outputs": [
        {
          "output_type": "execute_result",
          "data": {
            "text/plain": [
              "3"
            ]
          },
          "metadata": {},
          "execution_count": 15
        }
      ]
    },
    {
      "cell_type": "code",
      "source": [
        "math.ceil(3.14)"
      ],
      "metadata": {
        "colab": {
          "base_uri": "https://localhost:8080/"
        },
        "id": "WaMzRwL3JvmH",
        "outputId": "cb5c40a6-a503-4ebb-e2bd-05a427b15693"
      },
      "execution_count": null,
      "outputs": [
        {
          "output_type": "execute_result",
          "data": {
            "text/plain": [
              "4"
            ]
          },
          "metadata": {},
          "execution_count": 16
        }
      ]
    },
    {
      "cell_type": "code",
      "source": [
        "import math as m\n",
        "m.sin(1)"
      ],
      "metadata": {
        "colab": {
          "base_uri": "https://localhost:8080/"
        },
        "id": "Wpwf1bZFJ5C0",
        "outputId": "1698deca-b651-4d7b-80dd-84ad9032ef16"
      },
      "execution_count": null,
      "outputs": [
        {
          "output_type": "execute_result",
          "data": {
            "text/plain": [
              "0.8414709848078965"
            ]
          },
          "metadata": {},
          "execution_count": 17
        }
      ]
    },
    {
      "cell_type": "code",
      "source": [
        "m.cos(1)"
      ],
      "metadata": {
        "colab": {
          "base_uri": "https://localhost:8080/"
        },
        "id": "Q5YMrq0oKiQy",
        "outputId": "1a3b3586-e573-4a2a-9674-38a135260390"
      },
      "execution_count": null,
      "outputs": [
        {
          "output_type": "execute_result",
          "data": {
            "text/plain": [
              "0.5403023058681398"
            ]
          },
          "metadata": {},
          "execution_count": 18
        }
      ]
    },
    {
      "cell_type": "code",
      "source": [
        "m.tan(1)"
      ],
      "metadata": {
        "colab": {
          "base_uri": "https://localhost:8080/"
        },
        "id": "f2GlvcwPKy7c",
        "outputId": "413e1e19-6b0b-407f-b0df-a3185dd91840"
      },
      "execution_count": null,
      "outputs": [
        {
          "output_type": "execute_result",
          "data": {
            "text/plain": [
              "1.5574077246549023"
            ]
          },
          "metadata": {},
          "execution_count": 19
        }
      ]
    },
    {
      "cell_type": "code",
      "source": [
        "m.floor(3.1432)"
      ],
      "metadata": {
        "colab": {
          "base_uri": "https://localhost:8080/"
        },
        "id": "x5D6YTSwK0ky",
        "outputId": "7ad6b850-6e7e-4a81-db95-3b7e2cdfd211"
      },
      "execution_count": null,
      "outputs": [
        {
          "output_type": "execute_result",
          "data": {
            "text/plain": [
              "3"
            ]
          },
          "metadata": {},
          "execution_count": 20
        }
      ]
    },
    {
      "cell_type": "code",
      "source": [
        "m.ceil(3.123456)"
      ],
      "metadata": {
        "colab": {
          "base_uri": "https://localhost:8080/"
        },
        "id": "-eOAA-UoK2WD",
        "outputId": "69525a4b-c14a-414a-cf6a-c1946fe67fb9"
      },
      "execution_count": null,
      "outputs": [
        {
          "output_type": "execute_result",
          "data": {
            "text/plain": [
              "4"
            ]
          },
          "metadata": {},
          "execution_count": 21
        }
      ]
    },
    {
      "cell_type": "code",
      "source": [
        "from math import sin, cos, tan\n",
        "\n",
        "sin(1)"
      ],
      "metadata": {
        "colab": {
          "base_uri": "https://localhost:8080/"
        },
        "id": "vonOjeBeK4I0",
        "outputId": "4c64570e-a186-469c-c03d-427b9b3dd6cb"
      },
      "execution_count": null,
      "outputs": [
        {
          "output_type": "execute_result",
          "data": {
            "text/plain": [
              "0.8414709848078965"
            ]
          },
          "metadata": {},
          "execution_count": 27
        }
      ]
    },
    {
      "cell_type": "code",
      "source": [
        "import random "
      ],
      "metadata": {
        "id": "SrvcbBiTK_p5"
      },
      "execution_count": null,
      "outputs": []
    },
    {
      "cell_type": "code",
      "source": [
        "random.random() # 실수"
      ],
      "metadata": {
        "colab": {
          "base_uri": "https://localhost:8080/"
        },
        "id": "Pi-Ur1_VK7iS",
        "outputId": "9d59fa98-f7f0-4b42-b4df-da5f9c2a2d3b"
      },
      "execution_count": null,
      "outputs": [
        {
          "output_type": "execute_result",
          "data": {
            "text/plain": [
              "0.19767923076980143"
            ]
          },
          "metadata": {},
          "execution_count": 31
        }
      ]
    },
    {
      "cell_type": "code",
      "source": [
        "random.uniform(10,20) # 범위에 있는 실수"
      ],
      "metadata": {
        "colab": {
          "base_uri": "https://localhost:8080/"
        },
        "id": "ifbrUmnyNMw5",
        "outputId": "a0ed8113-1281-4c21-e9ec-2da066154dd0"
      },
      "execution_count": null,
      "outputs": [
        {
          "output_type": "execute_result",
          "data": {
            "text/plain": [
              "10.495553570300657"
            ]
          },
          "metadata": {},
          "execution_count": 33
        }
      ]
    },
    {
      "cell_type": "code",
      "source": [
        "random.randrange(130,210) # 범위에 있는 정수"
      ],
      "metadata": {
        "colab": {
          "base_uri": "https://localhost:8080/"
        },
        "id": "gXpRA6R2NX_a",
        "outputId": "d84f9971-dc1e-4f70-eceb-18acb5af9476"
      },
      "execution_count": null,
      "outputs": [
        {
          "output_type": "execute_result",
          "data": {
            "text/plain": [
              "146"
            ]
          },
          "metadata": {},
          "execution_count": 34
        }
      ]
    },
    {
      "cell_type": "code",
      "source": [
        "random.randrange(10) ㄱ무시작번호 생략 => 처음부터 0부터\n"
      ],
      "metadata": {
        "colab": {
          "base_uri": "https://localhost:8080/"
        },
        "id": "QtMQsbwzNevP",
        "outputId": "8197841a-c4d1-4ec9-8f0b-cb961c1da126"
      },
      "execution_count": null,
      "outputs": [
        {
          "output_type": "execute_result",
          "data": {
            "text/plain": [
              "7"
            ]
          },
          "metadata": {},
          "execution_count": 35
        }
      ]
    },
    {
      "cell_type": "code",
      "source": [
        "random.choice([1,2,3,4,5])"
      ],
      "metadata": {
        "colab": {
          "base_uri": "https://localhost:8080/"
        },
        "id": "WINVg84BN1Nx",
        "outputId": "8386ae1d-beac-4c1d-c8b5-65dbd90b279e"
      },
      "execution_count": null,
      "outputs": [
        {
          "output_type": "execute_result",
          "data": {
            "text/plain": [
              "2"
            ]
          },
          "metadata": {},
          "execution_count": 36
        }
      ]
    },
    {
      "cell_type": "code",
      "source": [
        "random.shuffle([1,2,3,4,5])"
      ],
      "metadata": {
        "id": "c50xzWtcN_w9"
      },
      "execution_count": null,
      "outputs": []
    },
    {
      "cell_type": "code",
      "source": [
        "a = [1,2,3,4,5]\n",
        "random.shuffle(a)\n",
        "print(a)"
      ],
      "metadata": {
        "colab": {
          "base_uri": "https://localhost:8080/"
        },
        "id": "CEs_34Y6OM67",
        "outputId": "490f6d26-988d-4713-856d-77efc315eb9c"
      },
      "execution_count": null,
      "outputs": [
        {
          "output_type": "stream",
          "name": "stdout",
          "text": [
            "[5, 4, 3, 2, 1]\n"
          ]
        }
      ]
    },
    {
      "cell_type": "code",
      "source": [
        "random.sample(a, k = 2)"
      ],
      "metadata": {
        "colab": {
          "base_uri": "https://localhost:8080/"
        },
        "id": "P1N5ArLWOUyJ",
        "outputId": "cdb85d41-f50a-4d5e-e9e1-33822e381f11"
      },
      "execution_count": null,
      "outputs": [
        {
          "output_type": "execute_result",
          "data": {
            "text/plain": [
              "[1, 2]"
            ]
          },
          "metadata": {},
          "execution_count": 41
        }
      ]
    },
    {
      "cell_type": "code",
      "source": [
        "import sys"
      ],
      "metadata": {
        "id": "5GbFzSRjOl20"
      },
      "execution_count": null,
      "outputs": []
    },
    {
      "cell_type": "code",
      "source": [
        "sys.argv\n"
      ],
      "metadata": {
        "colab": {
          "base_uri": "https://localhost:8080/"
        },
        "id": "9LOoGFVnPgns",
        "outputId": "3e1a24e5-5f72-4936-f18a-2b1e64b47376"
      },
      "execution_count": null,
      "outputs": [
        {
          "output_type": "execute_result",
          "data": {
            "text/plain": [
              "['/usr/local/lib/python3.10/dist-packages/ipykernel_launcher.py',\n",
              " '-f',\n",
              " '/root/.local/share/jupyter/runtime/kernel-bb29c10f-22fe-4aff-9082-339ada31630e.json']"
            ]
          },
          "metadata": {},
          "execution_count": 43
        }
      ]
    },
    {
      "cell_type": "code",
      "source": [
        "sys.copyright"
      ],
      "metadata": {
        "colab": {
          "base_uri": "https://localhost:8080/",
          "height": 73
        },
        "id": "XOlQnvCnOSv5",
        "outputId": "b38729e9-10d3-4afd-ec69-09f9b62faeb5"
      },
      "execution_count": null,
      "outputs": [
        {
          "output_type": "execute_result",
          "data": {
            "text/plain": [
              "'Copyright (c) 2001-2023 Python Software Foundation.\\nAll Rights Reserved.\\n\\nCopyright (c) 2000 BeOpen.com.\\nAll Rights Reserved.\\n\\nCopyright (c) 1995-2001 Corporation for National Research Initiatives.\\nAll Rights Reserved.\\n\\nCopyright (c) 1991-1995 Stichting Mathematisch Centrum, Amsterdam.\\nAll Rights Reserved.'"
            ],
            "application/vnd.google.colaboratory.intrinsic+json": {
              "type": "string"
            }
          },
          "metadata": {},
          "execution_count": 45
        }
      ]
    },
    {
      "cell_type": "code",
      "source": [
        "sys.version"
      ],
      "metadata": {
        "colab": {
          "base_uri": "https://localhost:8080/",
          "height": 36
        },
        "id": "26hCUYC0Pn9_",
        "outputId": "e787c8dc-8c1e-4c49-e2d8-991c96a6cf87"
      },
      "execution_count": null,
      "outputs": [
        {
          "output_type": "execute_result",
          "data": {
            "text/plain": [
              "'3.10.11 (main, Apr  5 2023, 14:15:10) [GCC 9.4.0]'"
            ],
            "application/vnd.google.colaboratory.intrinsic+json": {
              "type": "string"
            }
          },
          "metadata": {},
          "execution_count": 46
        }
      ]
    },
    {
      "cell_type": "code",
      "source": [
        "import os"
      ],
      "metadata": {
        "id": "REzgZvQTEEew"
      },
      "execution_count": null,
      "outputs": []
    },
    {
      "cell_type": "code",
      "source": [
        "os.name"
      ],
      "metadata": {
        "colab": {
          "base_uri": "https://localhost:8080/",
          "height": 36
        },
        "id": "QqfnXHZRTpKZ",
        "outputId": "edf917a1-946a-4149-a533-edd7c3001394"
      },
      "execution_count": null,
      "outputs": [
        {
          "output_type": "execute_result",
          "data": {
            "text/plain": [
              "'posix'"
            ],
            "application/vnd.google.colaboratory.intrinsic+json": {
              "type": "string"
            }
          },
          "metadata": {},
          "execution_count": 48
        }
      ]
    },
    {
      "cell_type": "code",
      "source": [
        "os.getcwd()\n"
      ],
      "metadata": {
        "colab": {
          "base_uri": "https://localhost:8080/",
          "height": 36
        },
        "id": "hyttGScoTqR4",
        "outputId": "d60d7b8a-3a5b-4726-80c4-6e7c095c47a1"
      },
      "execution_count": null,
      "outputs": [
        {
          "output_type": "execute_result",
          "data": {
            "text/plain": [
              "'/content'"
            ],
            "application/vnd.google.colaboratory.intrinsic+json": {
              "type": "string"
            }
          },
          "metadata": {},
          "execution_count": 50
        }
      ]
    },
    {
      "cell_type": "code",
      "source": [
        "os.listdir()"
      ],
      "metadata": {
        "colab": {
          "base_uri": "https://localhost:8080/"
        },
        "id": "30VJtP9wT4fC",
        "outputId": "9dd8fc41-eb10-40a6-a48a-331143df4514"
      },
      "execution_count": null,
      "outputs": [
        {
          "output_type": "execute_result",
          "data": {
            "text/plain": [
              "['.config', 'drive', 'sample_data']"
            ]
          },
          "metadata": {},
          "execution_count": 51
        }
      ]
    },
    {
      "cell_type": "code",
      "source": [
        "os.mkdir(\"hello\")"
      ],
      "metadata": {
        "id": "sK9pEv3YUJNG"
      },
      "execution_count": null,
      "outputs": []
    },
    {
      "cell_type": "code",
      "source": [
        "os.rmdir(\"hello\")"
      ],
      "metadata": {
        "id": "4CcMy1cNT1wU"
      },
      "execution_count": null,
      "outputs": []
    },
    {
      "cell_type": "code",
      "source": [
        "with open(\"test.txt\", \"w\") as file:\n",
        "  file.write(\"이제 파이썬 끝나간다\")\n",
        "  os.rename(\"test.txt\", \"new.txt\")"
      ],
      "metadata": {
        "id": "RHxl5K6PU2yB"
      },
      "execution_count": null,
      "outputs": []
    },
    {
      "cell_type": "code",
      "source": [
        "os.remove(\"new.txt\")"
      ],
      "metadata": {
        "id": "wEAR7Nf2Vj2x"
      },
      "execution_count": null,
      "outputs": []
    },
    {
      "cell_type": "code",
      "source": [
        "import datetime"
      ],
      "metadata": {
        "id": "oomFdbWJVltP"
      },
      "execution_count": null,
      "outputs": []
    },
    {
      "cell_type": "code",
      "source": [
        "now = datetime.datetime.now()\n",
        "print(now.year)\n",
        "print(now.month)\n",
        "print(now.day)\n",
        "print(now.hour)\n",
        "print(now.minute)\n",
        "print(now.second)"
      ],
      "metadata": {
        "colab": {
          "base_uri": "https://localhost:8080/"
        },
        "id": "tlRlSbEAWjO-",
        "outputId": "2254e730-5acb-438a-c02a-09eb0a0740bc"
      },
      "execution_count": null,
      "outputs": [
        {
          "output_type": "stream",
          "name": "stdout",
          "text": [
            "2023\n",
            "5\n",
            "17\n",
            "6\n",
            "17\n",
            "0\n"
          ]
        }
      ]
    },
    {
      "cell_type": "code",
      "source": [
        "import time"
      ],
      "metadata": {
        "id": "o8ODTrxVWs7g"
      },
      "execution_count": null,
      "outputs": []
    },
    {
      "cell_type": "code",
      "source": [
        "print(\"지금부터 3초동안 얼음 freeze\")\n",
        "time.sleep(3)\n",
        "print(\"얼음 땡\")"
      ],
      "metadata": {
        "colab": {
          "base_uri": "https://localhost:8080/"
        },
        "id": "7FKU3aznW9l3",
        "outputId": "cc089bdf-28ae-4f82-8dff-f193727de190"
      },
      "execution_count": null,
      "outputs": [
        {
          "output_type": "stream",
          "name": "stdout",
          "text": [
            "지금부터 3초동안 얼음 freeze\n",
            "얼음 땡\n"
          ]
        }
      ]
    },
    {
      "cell_type": "code",
      "source": [
        "from urllib import request"
      ],
      "metadata": {
        "id": "yFfj2LE2XKil"
      },
      "execution_count": null,
      "outputs": []
    },
    {
      "cell_type": "code",
      "source": [
        "url_target = request.urlopen(\"https://www.google.com/\")\n",
        "output = url_target.read()\n",
        "print(output)"
      ],
      "metadata": {
        "colab": {
          "base_uri": "https://localhost:8080/"
        },
        "id": "_COjFV3QX0sU",
        "outputId": "f18bea11-ef7b-4442-9e34-542858393efb"
      },
      "execution_count": null,
      "outputs": [
        {
          "output_type": "stream",
          "name": "stdout",
          "text": [
            "b'<!doctype html><html itemscope=\"\" itemtype=\"http://schema.org/WebPage\" lang=\"en\"><head><meta content=\"Search the world\\'s information, including webpages, images, videos and more. Google has many special features to help you find exactly what you\\'re looking for.\" name=\"description\"><meta content=\"noodp\" name=\"robots\"><meta content=\"text/html; charset=UTF-8\" http-equiv=\"Content-Type\"><meta content=\"/images/branding/googleg/1x/googleg_standard_color_128dp.png\" itemprop=\"image\"><title>Google</title><script nonce=\"ClkfVAoO_jSQfnVVeh3eVA\">(function(){window.google={kEI:\\'A3NkZOn2E4T8wbkP-pKA0AI\\',kEXPI:\\'0,1359409,6058,207,4804,2316,383,246,5,1129120,1197789,380702,16114,28684,22430,1362,284,12031,17584,4998,13228,3847,35733,5583,2891,3926,214,8220,29843,28444,17727,432,3,346,1244,1,16916,2652,4,1528,2304,29062,13064,13659,2980,1457,16786,5821,2536,4094,7596,1,14263,27891,2,14022,2373,342,23024,5679,1021,31121,4569,6258,23418,1252,5835,14967,4333,7484,445,2,2,1,10957,15675,8155,7381,2,3,15965,873,6577,1252,1796,10008,7,1922,9779,22899,13255,6305,2007,18192,927,19209,14,82,7651,8863,3692,109,2412,1549,4307,3785,4263,10940,5375,3030,6111,5040,4665,1804,7734,2738,2884,162,6996,498,4820,7265,7421,2602,935,2365,662,1251,381,2173,311,3317,2,981,893,3,270,892,1388,2192,1438,586,543,3148,4195,426,763,764,4,439,7,476,1490,151,999,2207,3027,188,208,204,139,129,2205,2009,321,3,601,469,2,2705,1977,170,507,265,600,531,537,8,3,13,52,236,1093,919,98,259,1963,640,3,223,95,9,36,209,56,135,198,567,460,79,602,372,1105,2,98,2,14,534,198,2280,5206423,556,45,5,8798237,3452,795,2,19735,346,5095,46,553,43,8,112,9,81,26,17,3,12,27,23944452,4042143,1964,1007,15666,2893,6250,14715,283,742,2781,3091,1409184,146986,113503,23498779,685,83,94,134,816,156,611,446,68,235,270,2,443,107,344,422,100,374,1440,5,1,36,2,160,453,469,1,2511,409,270,218,620,63,115,97,354,688,335,165,1687,1,1,18,8,3,226,617,101,53,230,2,159,50,19,1,345,62,61,362,268,49,436,1,197,283,147,303,9,899,489,5,2331,2260,776,999\\',kBL:\\'Txd6\\',kOPI:89978449};google.sn=\\'webhp\\';google.kHL=\\'en\\';})();(function(){\\nvar h=this||self;function l(){return void 0!==window.google&&void 0!==window.google.kOPI&&0!==window.google.kOPI?window.google.kOPI:null};var m,n=[];function p(a){for(var b;a&&(!a.getAttribute||!(b=a.getAttribute(\"eid\")));)a=a.parentNode;return b||m}function q(a){for(var b=null;a&&(!a.getAttribute||!(b=a.getAttribute(\"leid\")));)a=a.parentNode;return b}function r(a){/^http:/i.test(a)&&\"https:\"===window.location.protocol&&(google.ml&&google.ml(Error(\"a\"),!1,{src:a,glmm:1}),a=\"\");return a}\\nfunction t(a,b,c,d,k){var e=\"\";-1===b.search(\"&ei=\")&&(e=\"&ei=\"+p(d),-1===b.search(\"&lei=\")&&(d=q(d))&&(e+=\"&lei=\"+d));d=\"\";var g=-1===b.search(\"&cshid=\")&&\"slh\"!==a,f=[];f.push([\"zx\",Date.now().toString()]);h._cshid&&g&&f.push([\"cshid\",h._cshid]);c=c();null!=c&&f.push([\"opi\",c.toString()]);for(c=0;c<f.length;c++){if(0===c||0<c)d+=\"&\";d+=f[c][0]+\"=\"+f[c][1]}return\"/\"+(k||\"gen_204\")+\"?atyp=i&ct=\"+String(a)+\"&cad=\"+(b+e+d)};m=google.kEI;google.getEI=p;google.getLEI=q;google.ml=function(){return null};google.log=function(a,b,c,d,k,e){e=void 0===e?l:e;c||(c=t(a,b,e,d,k));if(c=r(c)){a=new Image;var g=n.length;n[g]=a;a.onerror=a.onload=a.onabort=function(){delete n[g]};a.src=c}};google.logUrl=function(a,b){b=void 0===b?l:b;return t(\"\",a,b)};}).call(this);(function(){google.y={};google.sy=[];google.x=function(a,b){if(a)var c=a.id;else{do c=Math.random();while(google.y[c])}google.y[c]=[a,b];return!1};google.sx=function(a){google.sy.push(a)};google.lm=[];google.plm=function(a){google.lm.push.apply(google.lm,a)};google.lq=[];google.load=function(a,b,c){google.lq.push([[a],b,c])};google.loadAll=function(a,b){google.lq.push([a,b])};google.bx=!1;google.lx=function(){};}).call(this);google.f={};(function(){\\ndocument.documentElement.addEventListener(\"submit\",function(b){var a;if(a=b.target){var c=a.getAttribute(\"data-submitfalse\");a=\"1\"===c||\"q\"===c&&!a.elements.q.value?!0:!1}else a=!1;a&&(b.preventDefault(),b.stopPropagation())},!0);document.documentElement.addEventListener(\"click\",function(b){var a;a:{for(a=b.target;a&&a!==document.documentElement;a=a.parentElement)if(\"A\"===a.tagName){a=\"1\"===a.getAttribute(\"data-nohref\");break a}a=!1}a&&b.preventDefault()},!0);}).call(this);</script><style>#gbar,#guser{font-size:13px;padding-top:1px !important;}#gbar{height:22px}#guser{padding-bottom:7px !important;text-align:right}.gbh,.gbd{border-top:1px solid #c9d7f1;font-size:1px}.gbh{height:0;position:absolute;top:24px;width:100%}@media all{.gb1{height:22px;margin-right:.5em;vertical-align:top}#gbar{float:left}}a.gb1,a.gb4{text-decoration:underline !important}a.gb1,a.gb4{color:#00c !important}.gbi .gb4{color:#dd8e27 !important}.gbf .gb4{color:#900 !important}\\n</style><style>body,td,a,p,.h{font-family:arial,sans-serif}body{margin:0;overflow-y:scroll}#gog{padding:3px 8px 0}td{line-height:.8em}.gac_m td{line-height:17px}form{margin-bottom:20px}.h{color:#1558d6}em{font-weight:bold;font-style:normal}.lst{height:25px;width:496px}.gsfi,.lst{font:18px arial,sans-serif}.gsfs{font:17px arial,sans-serif}.ds{display:inline-box;display:inline-block;margin:3px 0 4px;margin-left:4px}input{font-family:inherit}body{background:#fff;color:#000}a{color:#4b11a8;text-decoration:none}a:hover,a:active{text-decoration:underline}.fl a{color:#1558d6}a:visited{color:#4b11a8}.sblc{padding-top:5px}.sblc a{display:block;margin:2px 0;margin-left:13px;font-size:11px}.lsbb{background:#f8f9fa;border:solid 1px;border-color:#dadce0 #70757a #70757a #dadce0;height:30px}.lsbb{display:block}#WqQANb a{display:inline-block;margin:0 12px}.lsb{background:url(/images/nav_logo229.png) 0 -261px repeat-x;border:none;color:#000;cursor:pointer;height:30px;margin:0;outline:0;font:15px arial,sans-serif;vertical-align:top}.lsb:active{background:#dadce0}.lst:focus{outline:none}</style><script nonce=\"ClkfVAoO_jSQfnVVeh3eVA\">(function(){window.google.erd={jsr:1,bv:1795,de:true};\\nvar h=this||self;var k,l=null!=(k=h.mei)?k:1,n,p=null!=(n=h.sdo)?n:!0,q=0,r,t=google.erd,v=t.jsr;google.ml=function(a,b,d,m,e){e=void 0===e?2:e;b&&(r=a&&a.message);if(google.dl)return google.dl(a,e,d),null;if(0>v){window.console&&console.error(a,d);if(-2===v)throw a;b=!1}else b=!a||!a.message||\"Error loading script\"===a.message||q>=l&&!m?!1:!0;if(!b)return null;q++;d=d||{};b=encodeURIComponent;var c=\"/gen_204?atyp=i&ei=\"+b(google.kEI);google.kEXPI&&(c+=\"&jexpid=\"+b(google.kEXPI));c+=\"&srcpg=\"+b(google.sn)+\"&jsr=\"+b(t.jsr)+\"&bver=\"+b(t.bv);var f=a.lineNumber;void 0!==f&&(c+=\"&line=\"+f);var g=\\na.fileName;g&&(0<g.indexOf(\"-extension:/\")&&(e=3),c+=\"&script=\"+b(g),f&&g===window.location.href&&(f=document.documentElement.outerHTML.split(\"\\\\n\")[f],c+=\"&cad=\"+b(f?f.substring(0,300):\"No script found.\")));c+=\"&jsel=\"+e;for(var u in d)c+=\"&\",c+=b(u),c+=\"=\",c+=b(d[u]);c=c+\"&emsg=\"+b(a.name+\": \"+a.message);c=c+\"&jsst=\"+b(a.stack||\"N/A\");12288<=c.length&&(c=c.substr(0,12288));a=c;m||google.log(0,\"\",a);return a};window.onerror=function(a,b,d,m,e){r!==a&&(a=e instanceof Error?e:Error(a),void 0===d||\"lineNumber\"in a||(a.lineNumber=d),void 0===b||\"fileName\"in a||(a.fileName=b),google.ml(a,!1,void 0,!1,\"SyntaxError\"===a.name||\"SyntaxError\"===a.message.substring(0,11)||-1!==a.message.indexOf(\"Script error\")?3:0));r=null;p&&q>=l&&(window.onerror=null)};})();</script></head><body bgcolor=\"#fff\"><script nonce=\"ClkfVAoO_jSQfnVVeh3eVA\">(function(){var src=\\'/images/nav_logo229.png\\';var iesg=false;document.body.onload = function(){window.n && window.n();if (document.images){new Image().src=src;}\\nif (!iesg){document.f&&document.f.q.focus();document.gbqf&&document.gbqf.q.focus();}\\n}\\n})();</script><div id=\"mngb\"><div id=gbar><nobr><b class=gb1>Search</b> <a class=gb1 href=\"https://www.google.com/imghp?hl=en&tab=wi\">Images</a> <a class=gb1 href=\"https://maps.google.com/maps?hl=en&tab=wl\">Maps</a> <a class=gb1 href=\"https://play.google.com/?hl=en&tab=w8\">Play</a> <a class=gb1 href=\"https://www.youtube.com/?tab=w1\">YouTube</a> <a class=gb1 href=\"https://news.google.com/?tab=wn\">News</a> <a class=gb1 href=\"https://mail.google.com/mail/?tab=wm\">Gmail</a> <a class=gb1 href=\"https://drive.google.com/?tab=wo\">Drive</a> <a class=gb1 style=\"text-decoration:none\" href=\"https://www.google.com/intl/en/about/products?tab=wh\"><u>More</u> &raquo;</a></nobr></div><div id=guser width=100%><nobr><span id=gbn class=gbi></span><span id=gbf class=gbf></span><span id=gbe></span><a href=\"http://www.google.com/history/optout?hl=en\" class=gb4>Web History</a> | <a  href=\"/preferences?hl=en\" class=gb4>Settings</a> | <a target=_top id=gb_70 href=\"https://accounts.google.com/ServiceLogin?hl=en&passive=true&continue=https://www.google.com/&ec=GAZAAQ\" class=gb4>Sign in</a></nobr></div><div class=gbh style=left:0></div><div class=gbh style=right:0></div></div><center><br clear=\"all\" id=\"lgpd\"><div id=\"lga\"><img alt=\"Google\" height=\"92\" src=\"/images/branding/googlelogo/1x/googlelogo_white_background_color_272x92dp.png\" style=\"padding:28px 0 14px\" width=\"272\" id=\"hplogo\"><br><br></div><form action=\"/search\" name=\"f\"><table cellpadding=\"0\" cellspacing=\"0\"><tr valign=\"top\"><td width=\"25%\">&nbsp;</td><td align=\"center\" nowrap=\"\"><input name=\"ie\" value=\"ISO-8859-1\" type=\"hidden\"><input value=\"en\" name=\"hl\" type=\"hidden\"><input name=\"source\" type=\"hidden\" value=\"hp\"><input name=\"biw\" type=\"hidden\"><input name=\"bih\" type=\"hidden\"><div class=\"ds\" style=\"height:32px;margin:4px 0\"><input class=\"lst\" style=\"margin:0;padding:5px 8px 0 6px;vertical-align:top;color:#000\" autocomplete=\"off\" value=\"\" title=\"Google Search\" maxlength=\"2048\" name=\"q\" size=\"57\"></div><br style=\"line-height:0\"><span class=\"ds\"><span class=\"lsbb\"><input class=\"lsb\" value=\"Google Search\" name=\"btnG\" type=\"submit\"></span></span><span class=\"ds\"><span class=\"lsbb\"><input class=\"lsb\" id=\"tsuid_1\" value=\"I\\'m Feeling Lucky\" name=\"btnI\" type=\"submit\"><script nonce=\"ClkfVAoO_jSQfnVVeh3eVA\">(function(){var id=\\'tsuid_1\\';document.getElementById(id).onclick = function(){if (this.form.q.value){this.checked = 1;if (this.form.iflsig)this.form.iflsig.disabled = false;}\\nelse top.location=\\'/doodles/\\';};})();</script><input value=\"AOEireoAAAAAZGSBE5701kZGR0Cm5_TrQl29ZSue30I0\" name=\"iflsig\" type=\"hidden\"></span></span></td><td class=\"fl sblc\" align=\"left\" nowrap=\"\" width=\"25%\"><a href=\"/advanced_search?hl=en&amp;authuser=0\">Advanced search</a></td></tr></table><input id=\"gbv\" name=\"gbv\" type=\"hidden\" value=\"1\"><script nonce=\"ClkfVAoO_jSQfnVVeh3eVA\">(function(){var a,b=\"1\";if(document&&document.getElementById)if(\"undefined\"!=typeof XMLHttpRequest)b=\"2\";else if(\"undefined\"!=typeof ActiveXObject){var c,d,e=[\"MSXML2.XMLHTTP.6.0\",\"MSXML2.XMLHTTP.3.0\",\"MSXML2.XMLHTTP\",\"Microsoft.XMLHTTP\"];for(c=0;d=e[c++];)try{new ActiveXObject(d),b=\"2\"}catch(h){}}a=b;if(\"2\"==a&&-1==location.search.indexOf(\"&gbv=2\")){var f=google.gbvu,g=document.getElementById(\"gbv\");g&&(g.value=a);f&&window.setTimeout(function(){location.href=f},0)};}).call(this);</script></form><div id=\"gac_scont\"></div><div style=\"font-size:83%;min-height:3.5em\"><br><div id=\"prm\"><style>.szppmdbYutt__middle-slot-promo{font-size:small;margin-bottom:32px}.szppmdbYutt__middle-slot-promo a.ZIeIlb{display:inline-block;text-decoration:none}.szppmdbYutt__middle-slot-promo img{border:none;margin-right:5px;vertical-align:middle}</style><div class=\"szppmdbYutt__middle-slot-promo\" data-ved=\"0ahUKEwiphNbf2_v-AhUEfjABHXoJACoQnIcBCAQ\"><span>This Mental Health Awareness Month, </span><a class=\"NKcBbd\" href=\"https://www.google.com/url?q=https://blog.google/technology/health/mental-health-awareness-month-2023/%3Futm_source%3Dhpp%26utm_medium%3Dreferral%26utm_campaign%3Dmham2023&amp;source=hpp&amp;id=19035292&amp;ct=3&amp;usg=AOvVaw31dybyDlq9PGpKMQqic-My&amp;sa=X&amp;ved=0ahUKEwiphNbf2_v-AhUEfjABHXoJACoQ8IcBCAU\" rel=\"nofollow\">find more supportive resources on Google</a></div></div></div><span id=\"footer\"><div style=\"font-size:10pt\"><div style=\"margin:19px auto;text-align:center\" id=\"WqQANb\"><a href=\"/intl/en/ads/\">Advertising</a><a href=\"/services/\">Business Solutions</a><a href=\"/intl/en/about.html\">About Google</a></div></div><p style=\"font-size:8pt;color:#70757a\">&copy; 2023 - <a href=\"/intl/en/policies/privacy/\">Privacy</a> - <a href=\"/intl/en/policies/terms/\">Terms</a></p></span></center><script nonce=\"ClkfVAoO_jSQfnVVeh3eVA\">(function(){window.google.cdo={height:757,width:1440};(function(){var a=window.innerWidth,b=window.innerHeight;if(!a||!b){var c=window.document,d=\"CSS1Compat\"==c.compatMode?c.documentElement:c.body;a=d.clientWidth;b=d.clientHeight}\\nif(a&&b&&(a!=google.cdo.width||b!=google.cdo.height)){var e=google,f=e.log,g=\"/client_204?&atyp=i&biw=\"+a+\"&bih=\"+b+\"&ei=\"+google.kEI,h=\"\",k=[],l=void 0!==window.google&&void 0!==window.google.kOPI&&0!==window.google.kOPI?window.google.kOPI:null;null!=l&&k.push([\"opi\",l.toString()]);for(var m=0;m<k.length;m++){if(0===m||0<m)h+=\"&\";h+=k[m][0]+\"=\"+k[m][1]}f.call(e,\"\",\"\",g+h)};}).call(this);})();</script> <script nonce=\"ClkfVAoO_jSQfnVVeh3eVA\">(function(){google.xjs={ck:\\'xjs.hp.vUsZk7fd8do.L.X.O\\',cs:\\'ACT90oGO4bG_aM3bRMKBlSbRFiQGAUEEnA\\',csss:\\'ACT90oFTlYdZgeTNRRv0p7IiIE5xP1O-og\\',excm:[],sepcss:false};})();</script>  <script nonce=\"ClkfVAoO_jSQfnVVeh3eVA\">(function(){var u=\\'/xjs/_/js/k\\\\x3dxjs.hp.en.njMsnXoEFb4.O/am\\\\x3dAAAA6AQAUABgAQ/d\\\\x3d1/ed\\\\x3d1/rs\\\\x3dACT90oGoLEVOT3jMhWKoX27GdGoefs4o1Q/m\\\\x3dsb_he,d\\';var amd=0;\\nvar e=this||self,f=function(c){return c};var g;var k=function(c){this.g=c};k.prototype.toString=function(){return this.g+\"\"};var m={};\\nfunction q(){var c=u,n=function(){};google.lx=google.stvsc?n:function(){google.timers&&google.timers.load&&google.tick&&google.tick(\"load\",\"xjsls\");var a=document;var b=\"SCRIPT\";\"application/xhtml+xml\"===a.contentType&&(b=b.toLowerCase());b=a.createElement(b);a=null===c?\"null\":void 0===c?\"undefined\":c;if(void 0===g){var d=null;var l=e.trustedTypes;if(l&&l.createPolicy){try{d=l.createPolicy(\"goog#html\",{createHTML:f,createScript:f,createScriptURL:f})}catch(r){e.console&&e.console.error(r.message)}g=\\nd}else g=d}a=(d=g)?d.createScriptURL(a):a;a=new k(a,m);b.src=a instanceof k&&a.constructor===k?a.g:\"type_error:TrustedResourceUrl\";var h,p;(h=(a=null==(p=(h=(b.ownerDocument&&b.ownerDocument.defaultView||window).document).querySelector)?void 0:p.call(h,\"script[nonce]\"))?a.nonce||a.getAttribute(\"nonce\")||\"\":\"\")&&b.setAttribute(\"nonce\",h);document.body.appendChild(b);google.psa=!0;google.lx=n};google.bx||google.lx()};google.xjsu=u;e._F_jsUrl=u;setTimeout(function(){0<amd?google.caft(function(){return q()},amd):q()},0);})();window._ = window._ || {};window._DumpException = _._DumpException = function(e){throw e;};window._s = window._s || {};_s._DumpException = _._DumpException;window._qs = window._qs || {};_qs._DumpException = _._DumpException;function _F_installCss(c){}\\n(function(){google.jl={blt:\\'none\\',chnk:0,dw:false,dwu:true,emtn:0,end:0,ico:false,ikb:0,ine:false,injs:\\'none\\',injt:0,injth:0,injv2:false,lls:\\'default\\',pdt:0,rep:0,snet:true,strt:0,ubm:false,uwp:true};})();(function(){var pmc=\\'{\\\\x22d\\\\x22:{},\\\\x22sb_he\\\\x22:{\\\\x22agen\\\\x22:true,\\\\x22cgen\\\\x22:true,\\\\x22client\\\\x22:\\\\x22heirloom-hp\\\\x22,\\\\x22dh\\\\x22:true,\\\\x22ds\\\\x22:\\\\x22\\\\x22,\\\\x22fl\\\\x22:true,\\\\x22host\\\\x22:\\\\x22google.com\\\\x22,\\\\x22jsonp\\\\x22:true,\\\\x22msgs\\\\x22:{\\\\x22cibl\\\\x22:\\\\x22Clear Search\\\\x22,\\\\x22dym\\\\x22:\\\\x22Did you mean:\\\\x22,\\\\x22lcky\\\\x22:\\\\x22I\\\\\\\\u0026#39;m Feeling Lucky\\\\x22,\\\\x22lml\\\\x22:\\\\x22Learn more\\\\x22,\\\\x22psrc\\\\x22:\\\\x22This search was removed from your \\\\\\\\u003Ca href\\\\x3d\\\\\\\\\\\\x22/history\\\\\\\\\\\\x22\\\\\\\\u003EWeb History\\\\\\\\u003C/a\\\\\\\\u003E\\\\x22,\\\\x22psrl\\\\x22:\\\\x22Remove\\\\x22,\\\\x22sbit\\\\x22:\\\\x22Search by image\\\\x22,\\\\x22srch\\\\x22:\\\\x22Google Search\\\\x22},\\\\x22ovr\\\\x22:{},\\\\x22pq\\\\x22:\\\\x22\\\\x22,\\\\x22rfs\\\\x22:[],\\\\x22sbas\\\\x22:\\\\x220 3px 8px 0 rgba(0,0,0,0.2),0 0 0 1px rgba(0,0,0,0.08)\\\\x22,\\\\x22stok\\\\x22:\\\\x22nVptvip40S0TRxQ9QBKJZbf7-Vo\\\\x22}}\\';google.pmc=JSON.parse(pmc);})();(function(){\\nvar b=function(a){var c=0;return function(){return c<a.length?{done:!1,value:a[c++]}:{done:!0}}},e=this||self;var g,h;a:{for(var k=[\"CLOSURE_FLAGS\"],l=e,n=0;n<k.length;n++)if(l=l[k[n]],null==l){h=null;break a}h=l}var p=h&&h[610401301];g=null!=p?p:!1;var q,r=e.navigator;q=r?r.userAgentData||null:null;function t(a){return g?q?q.brands.some(function(c){return(c=c.brand)&&-1!=c.indexOf(a)}):!1:!1}function u(a){var c;a:{if(c=e.navigator)if(c=c.userAgent)break a;c=\"\"}return-1!=c.indexOf(a)};function v(){return g?!!q&&0<q.brands.length:!1}function w(){return u(\"Safari\")&&!(x()||(v()?0:u(\"Coast\"))||(v()?0:u(\"Opera\"))||(v()?0:u(\"Edge\"))||(v()?t(\"Microsoft Edge\"):u(\"Edg/\"))||(v()?t(\"Opera\"):u(\"OPR\"))||u(\"Firefox\")||u(\"FxiOS\")||u(\"Silk\")||u(\"Android\"))}function x(){return v()?t(\"Chromium\"):(u(\"Chrome\")||u(\"CriOS\"))&&!(v()?0:u(\"Edge\"))||u(\"Silk\")}function y(){return u(\"Android\")&&!(x()||u(\"Firefox\")||u(\"FxiOS\")||(v()?0:u(\"Opera\"))||u(\"Silk\"))};var z=v()?!1:u(\"Trident\")||u(\"MSIE\");y();x();w();var A=!z&&!w(),D=function(a){if(/-[a-z]/.test(\"ved\"))return null;if(A&&a.dataset){if(y()&&!(\"ved\"in a.dataset))return null;a=a.dataset.ved;return void 0===a?null:a}return a.getAttribute(\"data-\"+\"ved\".replace(/([A-Z])/g,\"-$1\").toLowerCase())};var E=[],F=null;function G(a){a=a.target;var c=performance.now(),f=[],H=f.concat,d=E;if(!(d instanceof Array)){var m=\"undefined\"!=typeof Symbol&&Symbol.iterator&&d[Symbol.iterator];if(m)d=m.call(d);else if(\"number\"==typeof d.length)d={next:b(d)};else throw Error(\"a`\"+String(d));for(var B=[];!(m=d.next()).done;)B.push(m.value);d=B}E=H.call(f,d,[c]);if(a&&a instanceof HTMLElement)if(a===F){if(c=4<=E.length)c=5>(E[E.length-1]-E[E.length-4])/1E3;if(c){c=google.getEI(a);a.hasAttribute(\"data-ved\")?f=a?D(a)||\"\":\"\":f=(f=\\na.closest(\"[data-ved]\"))?D(f)||\"\":\"\";f=f||\"\";if(a.hasAttribute(\"jsname\"))a=a.getAttribute(\"jsname\");else{var C;a=null==(C=a.closest(\"[jsname]\"))?void 0:C.getAttribute(\"jsname\")}google.log(\"rcm\",\"&ei=\"+c+\"&ved=\"+f+\"&jsname=\"+(a||\"\"))}}else F=a,E=[c]}window.document.addEventListener(\"DOMContentLoaded\",function(){document.body.addEventListener(\"click\",G)});}).call(this);</script></body></html>'\n"
          ]
        }
      ]
    },
    {
      "cell_type": "markdown",
      "source": [
        "                                                                                                                                                                                        ㄹㄴ"
      ],
      "metadata": {
        "id": "3amt4XvcbsUQ"
      }
    },
    {
      "cell_type": "code",
      "source": [
        "# 객체 생성\n",
        "players = [\n",
        "    {\"name\" : \"정대만\", \"point3\": 24, \"point2\": 6, \"rebound\": 2},\n",
        "    {\"name\" : \"강백호\", \"point3\": 0, \"point2\": 4, \"rebound\": 10},\n",
        "    {\"name\": \"채치수\", \"point3\": 12, \"point2\": 16, \"rebound\": 5}\n",
        "    ]\n",
        "\n",
        "\n",
        "for player in players:\n",
        "  score_sum = player[\"point3\"] + player[\"point2\"]\n",
        "\n",
        "# \n",
        "def create_pllyaper"
      ],
      "metadata": {
        "colab": {
          "base_uri": "https://localhost:8080/",
          "height": 138
        },
        "id": "EZgdxcQ0brxq",
        "outputId": "fbae4894-41ad-4df6-b36a-609755f66a6d"
      },
      "execution_count": null,
      "outputs": [
        {
          "output_type": "error",
          "ename": "SyntaxError",
          "evalue": "ignored",
          "traceback": [
            "\u001b[0;36m  File \u001b[0;32m\"<ipython-input-77-57bc49651588>\"\u001b[0;36m, line \u001b[0;32m10\u001b[0m\n\u001b[0;31m    score_sum player player[\"point3\"] + player[\"point2\"]\u001b[0m\n\u001b[0m              ^\u001b[0m\n\u001b[0;31mSyntaxError\u001b[0m\u001b[0;31m:\u001b[0m invalid syntax\n"
          ]
        }
      ]
    },
    {
      "cell_type": "code",
      "source": [
        "# 함수로 객체 만들기\n",
        "def create_player(name, point3, point2, rebound):\n",
        "  return {\"name\": name,\n",
        "          \"point3\": point3,\n",
        "          \"point2\": point2,\n",
        "          \"rebound\": rebound}\n",
        "players = [\n",
        "    create_player(\"정대만\",24,6,1),\n",
        "    create_player(\"강백호\",0,4,10),\n",
        "    create_player(\"서태웅\",12,16,5)]\n",
        "\n",
        "for player in players:\n",
        "  score_num = player[\"point3\"] + player[\"point2\"]\n",
        "  print(player[\"name\"],score_sum())"
      ],
      "metadata": {
        "id": "geaIzO7ncwrd"
      },
      "execution_count": null,
      "outputs": []
    },
    {
      "cell_type": "code",
      "source": [
        "def create_player(name, point3, point2, rebound):\n",
        "  return {\"name\": name,\n",
        "          \"point3\": point3,\n",
        "          \"point2\": point2,\n",
        "          \"rebound\": rebound}\n",
        "\n",
        "def score_sum(player):\n",
        "  return player[\"point3\"] + player[\"point2\"]\n",
        "\n",
        "players = [\n",
        "    create_player(\"정대만\",24,6,1),\n",
        "    create_player(\"강백호\",0,4,10),\n",
        "    create_player(\"서태웅\",12,16,5)]\n",
        "\n",
        "for player in players:\n",
        "  print(player[\"name\"], score_sum())"
      ],
      "metadata": {
        "colab": {
          "base_uri": "https://localhost:8080/",
          "height": 213
        },
        "id": "Ci9suNPHYUCQ",
        "outputId": "8db073b2-21b0-470c-f95f-f304fa354991"
      },
      "execution_count": null,
      "outputs": [
        {
          "output_type": "error",
          "ename": "TypeError",
          "evalue": "ignored",
          "traceback": [
            "\u001b[0;31m---------------------------------------------------------------------------\u001b[0m",
            "\u001b[0;31mTypeError\u001b[0m                                 Traceback (most recent call last)",
            "\u001b[0;32m<ipython-input-75-fe61c964f6e9>\u001b[0m in \u001b[0;36m<cell line: 15>\u001b[0;34m()\u001b[0m\n\u001b[1;32m     14\u001b[0m \u001b[0;34m\u001b[0m\u001b[0m\n\u001b[1;32m     15\u001b[0m \u001b[0;32mfor\u001b[0m \u001b[0mplayer\u001b[0m \u001b[0;32min\u001b[0m \u001b[0mplayers\u001b[0m\u001b[0;34m:\u001b[0m\u001b[0;34m\u001b[0m\u001b[0;34m\u001b[0m\u001b[0m\n\u001b[0;32m---> 16\u001b[0;31m   \u001b[0mprint\u001b[0m\u001b[0;34m(\u001b[0m\u001b[0mplayer\u001b[0m\u001b[0;34m[\u001b[0m\u001b[0;34m\"name\"\u001b[0m\u001b[0;34m]\u001b[0m\u001b[0;34m,\u001b[0m\u001b[0mscore_sum\u001b[0m\u001b[0;34m(\u001b[0m\u001b[0;34m)\u001b[0m\u001b[0;34m)\u001b[0m\u001b[0;34m\u001b[0m\u001b[0;34m\u001b[0m\u001b[0m\n\u001b[0m",
            "\u001b[0;31mTypeError\u001b[0m: score_sum() missing 1 required positional argument: 'player'"
          ]
        }
      ]
    },
    {
      "cell_type": "markdown",
      "source": [
        "# 클래스 "
      ],
      "metadata": {
        "id": "rIIgOkt-ioxz"
      }
    },
    {
      "cell_type": "code",
      "source": [
        "# 클래스\n",
        "class Player:\n",
        "  def __init__(self, name, point3, point2, rebound):\n",
        "    self.name = name\n",
        "    self.point3 = point3\n",
        "    self.point2 = point2\n",
        "    self.rebound = rebound\n",
        "\n",
        "players = [\n",
        "    Player(\"정대만\",24,6,1),\n",
        "    Player(\"강백호\",0,4,10),\n",
        "    Player(\"서태웅\",12,16,5)\n",
        "]\n",
        "\n",
        "print(players[0].name)\n",
        "print(players[0].point3)\n",
        "print(players[0].point2)\n",
        "print(players[0].rebound)"
      ],
      "metadata": {
        "colab": {
          "base_uri": "https://localhost:8080/"
        },
        "id": "4B2KCYXbYSMm",
        "outputId": "2a82142d-0591-4326-b746-352731ead0e8"
      },
      "execution_count": null,
      "outputs": [
        {
          "output_type": "stream",
          "name": "stdout",
          "text": [
            "정대만\n",
            "24\n",
            "6\n",
            "1\n"
          ]
        }
      ]
    },
    {
      "cell_type": "code",
      "source": [
        "# 클래스 안의 함수 = 메소드, 메서드\n",
        "\n",
        "class Player:\n",
        "  def __init__(self, name, point3, point2, rebound):\n",
        "    self.name = name\n",
        "    self.point3 = point3\n",
        "    self.point2 = point2\n",
        "    self.rebound = rebound\n",
        "  def score_sum(self):\n",
        "    return self.point3 + self.point\n",
        "\n",
        "players = [\n",
        "    Player(\"정대만\",24,6,1),\n",
        "    Player(\"강백호\",0,4,10),\n",
        "    Player(\"서태웅\",12,16,5)\n",
        "]\n",
        "\n",
        "for player in players:\n",
        "  print(player.name, player.score_sum())"
      ],
      "metadata": {
        "colab": {
          "base_uri": "https://localhost:8080/"
        },
        "id": "3_gj9G4gYO57",
        "outputId": "f92554d6-e5b7-4174-8977-68246ed2fc0d"
      },
      "execution_count": null,
      "outputs": [
        {
          "output_type": "stream",
          "name": "stdout",
          "text": [
            "정대만 30\n",
            "강백호 4\n",
            "서태웅 28\n"
          ]
        }
      ]
    },
    {
      "cell_type": "code",
      "source": [],
      "metadata": {
        "id": "BpIMyJxMYJXW"
      },
      "execution_count": null,
      "outputs": []
    },
    {
      "cell_type": "code",
      "source": [],
      "metadata": {
        "id": "u1h1FrQ7Xb5-"
      },
      "execution_count": null,
      "outputs": []
    },
    {
      "cell_type": "code",
      "source": [],
      "metadata": {
        "id": "jkpAX1dCXahc"
      },
      "execution_count": null,
      "outputs": []
    },
    {
      "cell_type": "code",
      "source": [],
      "metadata": {
        "id": "xxXlUqpEXHiQ"
      },
      "execution_count": null,
      "outputs": []
    },
    {
      "cell_type": "code",
      "source": [],
      "metadata": {
        "id": "nCkugIjoXBjC"
      },
      "execution_count": null,
      "outputs": []
    }
  ]
}