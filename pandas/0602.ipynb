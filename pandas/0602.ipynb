{
  "nbformat": 4,
  "nbformat_minor": 0,
  "metadata": {
    "colab": {
      "provenance": [],
      "include_colab_link": true
    },
    "kernelspec": {
      "name": "python3",
      "display_name": "Python 3"
    },
    "language_info": {
      "name": "python"
    }
  },
  "cells": [
    {
      "cell_type": "markdown",
      "metadata": {
        "id": "view-in-github",
        "colab_type": "text"
      },
      "source": [
        "<a href=\"https://colab.research.google.com/github/Dinoryong/hanaro01/blob/main/0602.ipynb\" target=\"_parent\"><img src=\"https://colab.research.google.com/assets/colab-badge.svg\" alt=\"Open In Colab\"/></a>"
      ]
    },
    {
      "cell_type": "markdown",
      "source": [
        "# 데이터 전처리"
      ],
      "metadata": {
        "id": "0y-MmMfuYiX7"
      }
    },
    {
      "cell_type": "markdown",
      "source": [
        "### 단위 환산"
      ],
      "metadata": {
        "id": "QTQ-9Na26T8q"
      }
    },
    {
      "cell_type": "code",
      "source": [
        "# 라이브러리 불러오기\n",
        "import pandas as pd"
      ],
      "metadata": {
        "id": "gsNweHsfd57I"
      },
      "execution_count": null,
      "outputs": []
    },
    {
      "cell_type": "code",
      "source": [
        "# 데이터 불러오기\n",
        "# csv 파일 불러오기 + 열 이름이 없음(header = None)\n",
        "df = pd.read_csv('/content/drive/MyDrive/HANARO/auto-mpg.csv', header = None)"
      ],
      "metadata": {
        "id": "Qjk9DNGhsZ9t"
      },
      "execution_count": null,
      "outputs": []
    },
    {
      "cell_type": "code",
      "source": [
        "from google.colab import drive\n",
        "drive.mount('/content/drive')"
      ],
      "metadata": {
        "colab": {
          "base_uri": "https://localhost:8080/"
        },
        "id": "FCgse-xDIcNl",
        "outputId": "2eb7cb51-0b56-4b9e-fc2e-a939f8aed132"
      },
      "execution_count": null,
      "outputs": [
        {
          "output_type": "stream",
          "name": "stdout",
          "text": [
            "Drive already mounted at /content/drive; to attempt to forcibly remount, call drive.mount(\"/content/drive\", force_remount=True).\n"
          ]
        }
      ]
    },
    {
      "cell_type": "code",
      "source": [
        "# 열 이름 지정\n",
        "df.columns = ['mpg', 'cylinders', 'displacement', 'horsepower', 'weight', \n",
        "              'acceleration', 'model_year', 'origin', 'car_name']"
      ],
      "metadata": {
        "id": "xkgaRHK1C98k"
      },
      "execution_count": null,
      "outputs": []
    },
    {
      "cell_type": "code",
      "source": [
        "\n",
        "df['mpg']"
      ],
      "metadata": {
        "id": "DfqWoFCLeGLo",
        "colab": {
          "base_uri": "https://localhost:8080/"
        },
        "outputId": "228efad1-9866-431a-baa1-230300ef80e4"
      },
      "execution_count": null,
      "outputs": [
        {
          "output_type": "execute_result",
          "data": {
            "text/plain": [
              "0      18.0\n",
              "1      15.0\n",
              "2      18.0\n",
              "3      16.0\n",
              "4      17.0\n",
              "       ... \n",
              "393    27.0\n",
              "394    44.0\n",
              "395    32.0\n",
              "396    28.0\n",
              "397    31.0\n",
              "Name: mpg, Length: 398, dtype: float64"
            ]
          },
          "metadata": {},
          "execution_count": 7
        }
      ]
    },
    {
      "cell_type": "code",
      "source": [
        "# 연비 mpg = mile per gallon\n",
        "# kpl = kilometer per liter\n",
        "# 1 mpg = 0.425 kpl\n",
        "kpl = 0.425\n",
        "df['kpl'] = df['mpg'] * kpl\n",
        "df['kpl'] = df['kpl'].round(1)\n",
        "print(df.head())"
      ],
      "metadata": {
        "id": "-43fJU5v6ZzB",
        "colab": {
          "base_uri": "https://localhost:8080/"
        },
        "outputId": "8882552e-9f0f-4e4a-e9e7-2fd62981f275"
      },
      "execution_count": null,
      "outputs": [
        {
          "output_type": "stream",
          "name": "stdout",
          "text": [
            "    mpg  cylinders  displacement horsepower  weight  acceleration  model_year  \\\n",
            "0  18.0          8         307.0      130.0  3504.0          12.0          70   \n",
            "1  15.0          8         350.0      165.0  3693.0          11.5          70   \n",
            "2  18.0          8         318.0      150.0  3436.0          11.0          70   \n",
            "3  16.0          8         304.0      150.0  3433.0          12.0          70   \n",
            "4  17.0          8         302.0      140.0  3449.0          10.5          70   \n",
            "\n",
            "   origin                   car_name  kpl  \n",
            "0       1  chevrolet chevelle malibu  7.6  \n",
            "1       1          buick skylark 320  6.4  \n",
            "2       1         plymouth satellite  7.6  \n",
            "3       1              amc rebel sst  6.8  \n",
            "4       1                ford torino  7.2  \n"
          ]
        }
      ]
    },
    {
      "cell_type": "markdown",
      "source": [
        "## 자료형 변환"
      ],
      "metadata": {
        "id": "wZAuzy6resz-"
      }
    },
    {
      "cell_type": "code",
      "source": [
        "df.head()"
      ],
      "metadata": {
        "id": "QctnBScAfg38",
        "colab": {
          "base_uri": "https://localhost:8080/",
          "height": 206
        },
        "outputId": "8e5d9c4f-252e-4ceb-c734-857df0b4969b"
      },
      "execution_count": null,
      "outputs": [
        {
          "output_type": "execute_result",
          "data": {
            "text/plain": [
              "    mpg  cylinders  displacement horsepower  weight  acceleration  model_year  \\\n",
              "0  18.0          8         307.0      130.0  3504.0          12.0          70   \n",
              "1  15.0          8         350.0      165.0  3693.0          11.5          70   \n",
              "2  18.0          8         318.0      150.0  3436.0          11.0          70   \n",
              "3  16.0          8         304.0      150.0  3433.0          12.0          70   \n",
              "4  17.0          8         302.0      140.0  3449.0          10.5          70   \n",
              "\n",
              "   origin                   car_name  kpl  \n",
              "0       1  chevrolet chevelle malibu  7.6  \n",
              "1       1          buick skylark 320  6.4  \n",
              "2       1         plymouth satellite  7.6  \n",
              "3       1              amc rebel sst  6.8  \n",
              "4       1                ford torino  7.2  "
            ],
            "text/html": [
              "\n",
              "  <div id=\"df-d5a0dc30-3366-487e-aaf1-e913b70619a1\">\n",
              "    <div class=\"colab-df-container\">\n",
              "      <div>\n",
              "<style scoped>\n",
              "    .dataframe tbody tr th:only-of-type {\n",
              "        vertical-align: middle;\n",
              "    }\n",
              "\n",
              "    .dataframe tbody tr th {\n",
              "        vertical-align: top;\n",
              "    }\n",
              "\n",
              "    .dataframe thead th {\n",
              "        text-align: right;\n",
              "    }\n",
              "</style>\n",
              "<table border=\"1\" class=\"dataframe\">\n",
              "  <thead>\n",
              "    <tr style=\"text-align: right;\">\n",
              "      <th></th>\n",
              "      <th>mpg</th>\n",
              "      <th>cylinders</th>\n",
              "      <th>displacement</th>\n",
              "      <th>horsepower</th>\n",
              "      <th>weight</th>\n",
              "      <th>acceleration</th>\n",
              "      <th>model_year</th>\n",
              "      <th>origin</th>\n",
              "      <th>car_name</th>\n",
              "      <th>kpl</th>\n",
              "    </tr>\n",
              "  </thead>\n",
              "  <tbody>\n",
              "    <tr>\n",
              "      <th>0</th>\n",
              "      <td>18.0</td>\n",
              "      <td>8</td>\n",
              "      <td>307.0</td>\n",
              "      <td>130.0</td>\n",
              "      <td>3504.0</td>\n",
              "      <td>12.0</td>\n",
              "      <td>70</td>\n",
              "      <td>1</td>\n",
              "      <td>chevrolet chevelle malibu</td>\n",
              "      <td>7.6</td>\n",
              "    </tr>\n",
              "    <tr>\n",
              "      <th>1</th>\n",
              "      <td>15.0</td>\n",
              "      <td>8</td>\n",
              "      <td>350.0</td>\n",
              "      <td>165.0</td>\n",
              "      <td>3693.0</td>\n",
              "      <td>11.5</td>\n",
              "      <td>70</td>\n",
              "      <td>1</td>\n",
              "      <td>buick skylark 320</td>\n",
              "      <td>6.4</td>\n",
              "    </tr>\n",
              "    <tr>\n",
              "      <th>2</th>\n",
              "      <td>18.0</td>\n",
              "      <td>8</td>\n",
              "      <td>318.0</td>\n",
              "      <td>150.0</td>\n",
              "      <td>3436.0</td>\n",
              "      <td>11.0</td>\n",
              "      <td>70</td>\n",
              "      <td>1</td>\n",
              "      <td>plymouth satellite</td>\n",
              "      <td>7.6</td>\n",
              "    </tr>\n",
              "    <tr>\n",
              "      <th>3</th>\n",
              "      <td>16.0</td>\n",
              "      <td>8</td>\n",
              "      <td>304.0</td>\n",
              "      <td>150.0</td>\n",
              "      <td>3433.0</td>\n",
              "      <td>12.0</td>\n",
              "      <td>70</td>\n",
              "      <td>1</td>\n",
              "      <td>amc rebel sst</td>\n",
              "      <td>6.8</td>\n",
              "    </tr>\n",
              "    <tr>\n",
              "      <th>4</th>\n",
              "      <td>17.0</td>\n",
              "      <td>8</td>\n",
              "      <td>302.0</td>\n",
              "      <td>140.0</td>\n",
              "      <td>3449.0</td>\n",
              "      <td>10.5</td>\n",
              "      <td>70</td>\n",
              "      <td>1</td>\n",
              "      <td>ford torino</td>\n",
              "      <td>7.2</td>\n",
              "    </tr>\n",
              "  </tbody>\n",
              "</table>\n",
              "</div>\n",
              "      <button class=\"colab-df-convert\" onclick=\"convertToInteractive('df-d5a0dc30-3366-487e-aaf1-e913b70619a1')\"\n",
              "              title=\"Convert this dataframe to an interactive table.\"\n",
              "              style=\"display:none;\">\n",
              "        \n",
              "  <svg xmlns=\"http://www.w3.org/2000/svg\" height=\"24px\"viewBox=\"0 0 24 24\"\n",
              "       width=\"24px\">\n",
              "    <path d=\"M0 0h24v24H0V0z\" fill=\"none\"/>\n",
              "    <path d=\"M18.56 5.44l.94 2.06.94-2.06 2.06-.94-2.06-.94-.94-2.06-.94 2.06-2.06.94zm-11 1L8.5 8.5l.94-2.06 2.06-.94-2.06-.94L8.5 2.5l-.94 2.06-2.06.94zm10 10l.94 2.06.94-2.06 2.06-.94-2.06-.94-.94-2.06-.94 2.06-2.06.94z\"/><path d=\"M17.41 7.96l-1.37-1.37c-.4-.4-.92-.59-1.43-.59-.52 0-1.04.2-1.43.59L10.3 9.45l-7.72 7.72c-.78.78-.78 2.05 0 2.83L4 21.41c.39.39.9.59 1.41.59.51 0 1.02-.2 1.41-.59l7.78-7.78 2.81-2.81c.8-.78.8-2.07 0-2.86zM5.41 20L4 18.59l7.72-7.72 1.47 1.35L5.41 20z\"/>\n",
              "  </svg>\n",
              "      </button>\n",
              "      \n",
              "  <style>\n",
              "    .colab-df-container {\n",
              "      display:flex;\n",
              "      flex-wrap:wrap;\n",
              "      gap: 12px;\n",
              "    }\n",
              "\n",
              "    .colab-df-convert {\n",
              "      background-color: #E8F0FE;\n",
              "      border: none;\n",
              "      border-radius: 50%;\n",
              "      cursor: pointer;\n",
              "      display: none;\n",
              "      fill: #1967D2;\n",
              "      height: 32px;\n",
              "      padding: 0 0 0 0;\n",
              "      width: 32px;\n",
              "    }\n",
              "\n",
              "    .colab-df-convert:hover {\n",
              "      background-color: #E2EBFA;\n",
              "      box-shadow: 0px 1px 2px rgba(60, 64, 67, 0.3), 0px 1px 3px 1px rgba(60, 64, 67, 0.15);\n",
              "      fill: #174EA6;\n",
              "    }\n",
              "\n",
              "    [theme=dark] .colab-df-convert {\n",
              "      background-color: #3B4455;\n",
              "      fill: #D2E3FC;\n",
              "    }\n",
              "\n",
              "    [theme=dark] .colab-df-convert:hover {\n",
              "      background-color: #434B5C;\n",
              "      box-shadow: 0px 1px 3px 1px rgba(0, 0, 0, 0.15);\n",
              "      filter: drop-shadow(0px 1px 2px rgba(0, 0, 0, 0.3));\n",
              "      fill: #FFFFFF;\n",
              "    }\n",
              "  </style>\n",
              "\n",
              "      <script>\n",
              "        const buttonEl =\n",
              "          document.querySelector('#df-d5a0dc30-3366-487e-aaf1-e913b70619a1 button.colab-df-convert');\n",
              "        buttonEl.style.display =\n",
              "          google.colab.kernel.accessAllowed ? 'block' : 'none';\n",
              "\n",
              "        async function convertToInteractive(key) {\n",
              "          const element = document.querySelector('#df-d5a0dc30-3366-487e-aaf1-e913b70619a1');\n",
              "          const dataTable =\n",
              "            await google.colab.kernel.invokeFunction('convertToInteractive',\n",
              "                                                     [key], {});\n",
              "          if (!dataTable) return;\n",
              "\n",
              "          const docLinkHtml = 'Like what you see? Visit the ' +\n",
              "            '<a target=\"_blank\" href=https://colab.research.google.com/notebooks/data_table.ipynb>data table notebook</a>'\n",
              "            + ' to learn more about interactive tables.';\n",
              "          element.innerHTML = '';\n",
              "          dataTable['output_type'] = 'display_data';\n",
              "          await google.colab.output.renderOutput(dataTable, element);\n",
              "          const docLink = document.createElement('div');\n",
              "          docLink.innerHTML = docLinkHtml;\n",
              "          element.appendChild(docLink);\n",
              "        }\n",
              "      </script>\n",
              "    </div>\n",
              "  </div>\n",
              "  "
            ]
          },
          "metadata": {},
          "execution_count": 9
        }
      ]
    },
    {
      "cell_type": "code",
      "source": [
        "# 1) 숫자가 문자열로 저장되어 있다면 숫자로 변환 => 수치형 변수\n",
        "# 데이터 자료형\n",
        "df.dtypes"
      ],
      "metadata": {
        "id": "XONIhGXEewL4",
        "colab": {
          "base_uri": "https://localhost:8080/"
        },
        "outputId": "9aba375c-0f92-47d0-dfaa-ed5022d65f3c"
      },
      "execution_count": null,
      "outputs": [
        {
          "output_type": "execute_result",
          "data": {
            "text/plain": [
              "mpg             float64\n",
              "cylinders         int64\n",
              "displacement    float64\n",
              "horsepower       object\n",
              "weight          float64\n",
              "acceleration    float64\n",
              "model_year        int64\n",
              "origin            int64\n",
              "car_name         object\n",
              "kpl             float64\n",
              "dtype: object"
            ]
          },
          "metadata": {},
          "execution_count": 10
        }
      ]
    },
    {
      "cell_type": "code",
      "source": [
        "\n",
        "# 어떤 문자열이 들어갔는지 확인하는 방법\n",
        "df['horsepower'].unique()"
      ],
      "metadata": {
        "id": "99HkQnpvfaFA",
        "colab": {
          "base_uri": "https://localhost:8080/"
        },
        "outputId": "9163f976-ce7b-40ce-e0d5-3793a491f35a"
      },
      "execution_count": null,
      "outputs": [
        {
          "output_type": "execute_result",
          "data": {
            "text/plain": [
              "array(['130.0', '165.0', '150.0', '140.0', '198.0', '220.0', '215.0',\n",
              "       '225.0', '190.0', '170.0', '160.0', '95.00', '97.00', '85.00',\n",
              "       '88.00', '46.00', '87.00', '90.00', '113.0', '200.0', '210.0',\n",
              "       '193.0', '?', '100.0', '105.0', '175.0', '153.0', '180.0', '110.0',\n",
              "       '72.00', '86.00', '70.00', '76.00', '65.00', '69.00', '60.00',\n",
              "       '80.00', '54.00', '208.0', '155.0', '112.0', '92.00', '145.0',\n",
              "       '137.0', '158.0', '167.0', '94.00', '107.0', '230.0', '49.00',\n",
              "       '75.00', '91.00', '122.0', '67.00', '83.00', '78.00', '52.00',\n",
              "       '61.00', '93.00', '148.0', '129.0', '96.00', '71.00', '98.00',\n",
              "       '115.0', '53.00', '81.00', '79.00', '120.0', '152.0', '102.0',\n",
              "       '108.0', '68.00', '58.00', '149.0', '89.00', '63.00', '48.00',\n",
              "       '66.00', '139.0', '103.0', '125.0', '133.0', '138.0', '135.0',\n",
              "       '142.0', '77.00', '62.00', '132.0', '84.00', '64.00', '74.00',\n",
              "       '116.0', '82.00'], dtype=object)"
            ]
          },
          "metadata": {},
          "execution_count": 11
        }
      ]
    },
    {
      "cell_type": "code",
      "source": [
        "import numpy as np\n",
        "# ? => NaN\n",
        "df['horsepower'].replace(\"?\", np.nan, inplace = True)\n",
        "df['horsepower'].unique()"
      ],
      "metadata": {
        "id": "tYTMdpMOgF-P",
        "colab": {
          "base_uri": "https://localhost:8080/"
        },
        "outputId": "ea9dc581-1537-447e-e825-a131f1b03ccd"
      },
      "execution_count": null,
      "outputs": [
        {
          "output_type": "execute_result",
          "data": {
            "text/plain": [
              "array(['130.0', '165.0', '150.0', '140.0', '198.0', '220.0', '215.0',\n",
              "       '225.0', '190.0', '170.0', '160.0', '95.00', '97.00', '85.00',\n",
              "       '88.00', '46.00', '87.00', '90.00', '113.0', '200.0', '210.0',\n",
              "       '193.0', nan, '100.0', '105.0', '175.0', '153.0', '180.0', '110.0',\n",
              "       '72.00', '86.00', '70.00', '76.00', '65.00', '69.00', '60.00',\n",
              "       '80.00', '54.00', '208.0', '155.0', '112.0', '92.00', '145.0',\n",
              "       '137.0', '158.0', '167.0', '94.00', '107.0', '230.0', '49.00',\n",
              "       '75.00', '91.00', '122.0', '67.00', '83.00', '78.00', '52.00',\n",
              "       '61.00', '93.00', '148.0', '129.0', '96.00', '71.00', '98.00',\n",
              "       '115.0', '53.00', '81.00', '79.00', '120.0', '152.0', '102.0',\n",
              "       '108.0', '68.00', '58.00', '149.0', '89.00', '63.00', '48.00',\n",
              "       '66.00', '139.0', '103.0', '125.0', '133.0', '138.0', '135.0',\n",
              "       '142.0', '77.00', '62.00', '132.0', '84.00', '64.00', '74.00',\n",
              "       '116.0', '82.00'], dtype=object)"
            ]
          },
          "metadata": {},
          "execution_count": 12
        }
      ]
    },
    {
      "cell_type": "code",
      "source": [
        "# NaN 행 삭제\n",
        "df.dropna(subset = 'horsepower', axis = 0, inplace = True)\n",
        "df['horsepower'].unique()"
      ],
      "metadata": {
        "id": "4fQYJ_McguPR",
        "colab": {
          "base_uri": "https://localhost:8080/"
        },
        "outputId": "d2b5c3a9-38b7-4e06-9b40-bb4d72812f79"
      },
      "execution_count": null,
      "outputs": [
        {
          "output_type": "execute_result",
          "data": {
            "text/plain": [
              "array(['130.0', '165.0', '150.0', '140.0', '198.0', '220.0', '215.0',\n",
              "       '225.0', '190.0', '170.0', '160.0', '95.00', '97.00', '85.00',\n",
              "       '88.00', '46.00', '87.00', '90.00', '113.0', '200.0', '210.0',\n",
              "       '193.0', '100.0', '105.0', '175.0', '153.0', '180.0', '110.0',\n",
              "       '72.00', '86.00', '70.00', '76.00', '65.00', '69.00', '60.00',\n",
              "       '80.00', '54.00', '208.0', '155.0', '112.0', '92.00', '145.0',\n",
              "       '137.0', '158.0', '167.0', '94.00', '107.0', '230.0', '49.00',\n",
              "       '75.00', '91.00', '122.0', '67.00', '83.00', '78.00', '52.00',\n",
              "       '61.00', '93.00', '148.0', '129.0', '96.00', '71.00', '98.00',\n",
              "       '115.0', '53.00', '81.00', '79.00', '120.0', '152.0', '102.0',\n",
              "       '108.0', '68.00', '58.00', '149.0', '89.00', '63.00', '48.00',\n",
              "       '66.00', '139.0', '103.0', '125.0', '133.0', '138.0', '135.0',\n",
              "       '142.0', '77.00', '62.00', '132.0', '84.00', '64.00', '74.00',\n",
              "       '116.0', '82.00'], dtype=object)"
            ]
          },
          "metadata": {},
          "execution_count": 13
        }
      ]
    },
    {
      "cell_type": "code",
      "source": [
        "# 문자열을 숫자로 변환\n",
        "df['horsepower'] = df['horsepower'].astype('float')\n",
        "df.dtypes"
      ],
      "metadata": {
        "id": "sWXO6LP1hTkn",
        "colab": {
          "base_uri": "https://localhost:8080/"
        },
        "outputId": "3caaeb32-33bc-4476-92de-2c433c27fdc1"
      },
      "execution_count": null,
      "outputs": [
        {
          "output_type": "execute_result",
          "data": {
            "text/plain": [
              "mpg             float64\n",
              "cylinders         int64\n",
              "displacement    float64\n",
              "horsepower      float64\n",
              "weight          float64\n",
              "acceleration    float64\n",
              "model_year        int64\n",
              "origin            int64\n",
              "car_name         object\n",
              "kpl             float64\n",
              "dtype: object"
            ]
          },
          "metadata": {},
          "execution_count": 14
        }
      ]
    },
    {
      "cell_type": "code",
      "source": [
        "# 2) 숫자가 숫자의 의미가 아닌 경우 => 범주형 변수\n",
        "# origin 변수는 1, 2, 3 숫자를 가지고 있음\n",
        "# 1: 미국, 2: 유럽, 3: 일본\n",
        "df['origin'].unique()"
      ],
      "metadata": {
        "id": "6yP7ZrWehkHZ",
        "colab": {
          "base_uri": "https://localhost:8080/"
        },
        "outputId": "d0c5667e-c19c-4d67-cdb5-6ddba240bcc6"
      },
      "execution_count": null,
      "outputs": [
        {
          "output_type": "execute_result",
          "data": {
            "text/plain": [
              "array([1, 3, 2])"
            ]
          },
          "metadata": {},
          "execution_count": 15
        }
      ]
    },
    {
      "cell_type": "code",
      "source": [
        "# 특정 열의 자료형\n",
        "df['origin'].dtypes"
      ],
      "metadata": {
        "id": "3MLJkJf5jYTX",
        "colab": {
          "base_uri": "https://localhost:8080/"
        },
        "outputId": "d6ecd6b1-5144-4cd8-9c95-503b29ba9553"
      },
      "execution_count": null,
      "outputs": [
        {
          "output_type": "execute_result",
          "data": {
            "text/plain": [
              "dtype('int64')"
            ]
          },
          "metadata": {},
          "execution_count": 16
        }
      ]
    },
    {
      "cell_type": "code",
      "source": [
        "# 숫자를 범주형으로 변환\n",
        "df['origin'] = df['origin'].astype('category')\n",
        "df['origin'].dtypes"
      ],
      "metadata": {
        "id": "Onyu-TBOjjNR",
        "colab": {
          "base_uri": "https://localhost:8080/"
        },
        "outputId": "bcf3ca4f-8b91-4190-c89a-b92e6ab5407c"
      },
      "execution_count": null,
      "outputs": [
        {
          "output_type": "execute_result",
          "data": {
            "text/plain": [
              "CategoricalDtype(categories=[1, 2, 3], ordered=False)"
            ]
          },
          "metadata": {},
          "execution_count": 17
        }
      ]
    },
    {
      "cell_type": "code",
      "source": [
        "df['model_year'].unique()"
      ],
      "metadata": {
        "id": "CVXYAyPtj7Cn",
        "colab": {
          "base_uri": "https://localhost:8080/"
        },
        "outputId": "73f841a8-aeb4-43ff-c454-03d735f35cc4"
      },
      "execution_count": null,
      "outputs": [
        {
          "output_type": "execute_result",
          "data": {
            "text/plain": [
              "array([70, 71, 72, 73, 74, 75, 76, 77, 78, 79, 80, 81, 82])"
            ]
          },
          "metadata": {},
          "execution_count": 18
        }
      ]
    },
    {
      "cell_type": "code",
      "source": [
        "df['model_year'].dtypes"
      ],
      "metadata": {
        "id": "cuD0WP8akRL3",
        "colab": {
          "base_uri": "https://localhost:8080/"
        },
        "outputId": "fa2bf1f4-48d4-496c-c886-39eb14ef0ecd"
      },
      "execution_count": null,
      "outputs": [
        {
          "output_type": "execute_result",
          "data": {
            "text/plain": [
              "dtype('int64')"
            ]
          },
          "metadata": {},
          "execution_count": 19
        }
      ]
    },
    {
      "cell_type": "code",
      "source": [
        "df['model_year'] = df['model_year'].astype('category')\n",
        "df['model_year'].dtypes"
      ],
      "metadata": {
        "id": "nf5YA8oJkVje",
        "colab": {
          "base_uri": "https://localhost:8080/"
        },
        "outputId": "b8a19fc2-ff72-4cc1-9920-e14f4003e21c"
      },
      "execution_count": null,
      "outputs": [
        {
          "output_type": "execute_result",
          "data": {
            "text/plain": [
              "CategoricalDtype(categories=[70, 71, 72, 73, 74, 75, 76, 77, 78, 79, 80, 81, 82], ordered=False)"
            ]
          },
          "metadata": {},
          "execution_count": 20
        }
      ]
    },
    {
      "cell_type": "markdown",
      "source": [
        "## 구간 분할"
      ],
      "metadata": {
        "id": "K_uaAnnko_f9"
      }
    },
    {
      "cell_type": "code",
      "source": [
        "# 마력 실수형 = 수치형 변수 => 범주형 변수\n",
        "print(df.horsepower.dtypes)\n",
        "print(df.horsepower[:5])"
      ],
      "metadata": {
        "id": "xmDNnJYepCFv",
        "colab": {
          "base_uri": "https://localhost:8080/"
        },
        "outputId": "58b857bf-1af9-4b5a-d0ab-e0be42956c5d"
      },
      "execution_count": null,
      "outputs": [
        {
          "output_type": "stream",
          "name": "stdout",
          "text": [
            "float64\n",
            "0    130.0\n",
            "1    165.0\n",
            "2    150.0\n",
            "3    150.0\n",
            "4    140.0\n",
            "Name: horsepower, dtype: float64\n"
          ]
        }
      ]
    },
    {
      "cell_type": "code",
      "source": [
        "# 구간 설정\n",
        "# 1) 선행 연구 등 참고\n",
        "# 2) 데이터 기반 정의 = 예) 히스토그램 구간 설정\n",
        "import numpy as np\n",
        "# 히스토그램 이용해서 빈도과 구간 가져오기\n",
        "count, bins = np.histogram(df['horsepower'], bins = 3) # 기본값 bins 10개"
      ],
      "metadata": {
        "id": "lo2P3azOpV58"
      },
      "execution_count": null,
      "outputs": []
    },
    {
      "cell_type": "code",
      "source": [
        "print(count, bins)"
      ],
      "metadata": {
        "id": "hNrswBBoqktx",
        "colab": {
          "base_uri": "https://localhost:8080/"
        },
        "outputId": "7144b2e1-4ace-42db-dbc3-051f796d9fbe"
      },
      "execution_count": null,
      "outputs": [
        {
          "output_type": "stream",
          "name": "stdout",
          "text": [
            "[257 103  32] [ 46.         107.33333333 168.66666667 230.        ]\n"
          ]
        }
      ]
    },
    {
      "cell_type": "code",
      "source": [
        "# 범주형 변환\n",
        "bins_name = [\"저출력\",\"보통출력\",\"고출력\"]\n",
        "df['hp_cat'] = pd.cut(x = df['horsepower'], # 데이터 = 사용할 열\n",
        "                      bins = bins, # 구간의 값\n",
        "                      labels = bins_name, # 구간의 이름\n",
        "                      include_lowest = True) # 구간의 시작값 포함"
      ],
      "metadata": {
        "id": "Dn_7whXQq0bF"
      },
      "execution_count": null,
      "outputs": []
    },
    {
      "cell_type": "code",
      "source": [
        "print(bins);print(df[['horsepower','hp_cat']])"
      ],
      "metadata": {
        "id": "gB5VwR68sQJ_",
        "colab": {
          "base_uri": "https://localhost:8080/"
        },
        "outputId": "69aee804-d18d-457e-bf62-7d1bd53d757e"
      },
      "execution_count": null,
      "outputs": [
        {
          "output_type": "stream",
          "name": "stdout",
          "text": [
            "[ 46.         107.33333333 168.66666667 230.        ]\n",
            "     horsepower hp_cat\n",
            "0         130.0   보통출력\n",
            "1         165.0   보통출력\n",
            "2         150.0   보통출력\n",
            "3         150.0   보통출력\n",
            "4         140.0   보통출력\n",
            "..          ...    ...\n",
            "393        86.0    저출력\n",
            "394        52.0    저출력\n",
            "395        84.0    저출력\n",
            "396        79.0    저출력\n",
            "397        82.0    저출력\n",
            "\n",
            "[392 rows x 2 columns]\n"
          ]
        }
      ]
    },
    {
      "cell_type": "markdown",
      "source": [
        "## 더미변수"
      ],
      "metadata": {
        "id": "8GbzES8YwlT8"
      }
    },
    {
      "cell_type": "code",
      "source": [
        "hp_dm = pd.get_dummies(df['hp_cat'])\n",
        "print(df['hp_cat']);print(hp_dm)"
      ],
      "metadata": {
        "colab": {
          "base_uri": "https://localhost:8080/"
        },
        "id": "rw57Id1ownmE",
        "outputId": "d1ca72ac-4bcb-4c55-bccf-9edb06d48a9a"
      },
      "execution_count": null,
      "outputs": [
        {
          "output_type": "stream",
          "name": "stdout",
          "text": [
            "0      보통출력\n",
            "1      보통출력\n",
            "2      보통출력\n",
            "3      보통출력\n",
            "4      보통출력\n",
            "       ... \n",
            "393     저출력\n",
            "394     저출력\n",
            "395     저출력\n",
            "396     저출력\n",
            "397     저출력\n",
            "Name: hp_cat, Length: 392, dtype: category\n",
            "Categories (3, object): ['저출력' < '보통출력' < '고출력']\n",
            "     저출력  보통출력  고출력\n",
            "0      0     1    0\n",
            "1      0     1    0\n",
            "2      0     1    0\n",
            "3      0     1    0\n",
            "4      0     1    0\n",
            "..   ...   ...  ...\n",
            "393    1     0    0\n",
            "394    1     0    0\n",
            "395    1     0    0\n",
            "396    1     0    0\n",
            "397    1     0    0\n",
            "\n",
            "[392 rows x 3 columns]\n"
          ]
        }
      ]
    },
    {
      "cell_type": "code",
      "source": [
        "# 사이킷런으로 더미변수 만들기\n",
        "from sklearn import preprocessing\n",
        "# 전처리 엔코더 객체\n",
        "label_encoder = preprocessing.LabelEncoder()\n",
        "onehot_encoder = preprocessing.OneHotEncoder()"
      ],
      "metadata": {
        "id": "TtdSpeRLxmxR"
      },
      "execution_count": null,
      "outputs": []
    },
    {
      "cell_type": "code",
      "source": [
        "# 문자열 범주를 숫자 범주로 변환 = LabelEncoder\n",
        "labels = label_encoder.fit_transform(df['hp_cat'])\n",
        "print(df['hp_cat'][:15])\n",
        "print(labels)\n",
        "# 고출력 - 보통출력 - 저출력 (글자 순서대로 정렬)\n",
        "# 0 - 1 - 2"
      ],
      "metadata": {
        "id": "enPfnblcyOAk",
        "colab": {
          "base_uri": "https://localhost:8080/"
        },
        "outputId": "ebacb5c1-9e14-4b7f-fde0-3a4439cac2c0"
      },
      "execution_count": null,
      "outputs": [
        {
          "output_type": "stream",
          "name": "stdout",
          "text": [
            "0     보통출력\n",
            "1     보통출력\n",
            "2     보통출력\n",
            "3     보통출력\n",
            "4     보통출력\n",
            "5      고출력\n",
            "6      고출력\n",
            "7      고출력\n",
            "8      고출력\n",
            "9      고출력\n",
            "10     고출력\n",
            "11    보통출력\n",
            "12    보통출력\n",
            "13     고출력\n",
            "14     저출력\n",
            "Name: hp_cat, dtype: category\n",
            "Categories (3, object): ['저출력' < '보통출력' < '고출력']\n",
            "[1 1 1 1 1 0 0 0 0 0 0 1 1 0 2 2 2 2 2 2 2 2 2 1 2 0 0 0 0 2 2 2 2 2 2 2 2\n",
            " 1 0 1 1 0 0 0 1 2 2 2 2 2 2 2 2 2 2 2 2 2 2 2 2 1 0 1 1 1 0 1 1 0 2 1 1 1\n",
            " 1 1 2 2 2 2 2 2 2 2 0 1 1 1 1 0 1 1 1 0 0 0 2 2 2 2 2 2 1 1 0 0 2 2 2 2 2\n",
            " 2 2 2 1 0 2 2 2 1 1 1 1 0 2 2 2 2 2 2 2 2 1 2 1 1 1 1 1 2 2 2 2 2 2 2 2 2\n",
            " 2 2 2 2 2 2 0 1 1 1 1 2 1 2 1 1 1 2 2 2 2 2 2 2 2 2 2 2 2 2 1 2 2 2 2 2 2\n",
            " 1 1 1 1 2 2 2 2 2 2 2 2 2 2 1 2 2 2 2 2 2 1 2 1 1 0 1 1 1 2 2 2 2 2 1 1 1\n",
            " 1 1 2 2 2 0 0 0 1 2 2 2 2 2 2 2 2 2 1 1 2 2 2 2 2 1 1 1 2 2 2 2 2 2 2 2 1\n",
            " 1 1 1 1 1 2 2 2 2 2 2 2 2 2 1 1 1 2 2 1 2 2 2 1 1 1 1 1 1 1 1 1 2 2 2 2 2\n",
            " 1 2 2 2 2 2 2 2 1 1 2 2 2 2 2 2 2 2 2 2 2 2 2 2 2 2 2 2 2 2 2 2 2 2 1 2 2\n",
            " 2 2 2 2 1 2 2 2 2 2 2 2 2 2 2 2 2 2 2 2 2 2 2 1 1 1 2 2 2 2 2 2 2 2 2 2 2\n",
            " 2 2 2 2 2 2 2 2 2 2 1 2 2 1 2 2 2 2 2 2 2 2]\n"
          ]
        }
      ]
    },
    {
      "cell_type": "code",
      "source": [
        "# 1차원 배열을 2차원 배열로 변환 => 392개의 행과 1개의 열\n",
        "reshaped = labels.reshape(len(labels), 1)\n",
        "print(len(reshaped))"
      ],
      "metadata": {
        "id": "I-emLL_X5ri7",
        "colab": {
          "base_uri": "https://localhost:8080/"
        },
        "outputId": "6b3814e9-e7f4-4135-9374-ac295407e9a4"
      },
      "execution_count": null,
      "outputs": [
        {
          "output_type": "stream",
          "name": "stdout",
          "text": [
            "392\n"
          ]
        }
      ]
    },
    {
      "cell_type": "code",
      "source": [
        "# 모든 행 = -1\n",
        "reshaped = labels.reshape(-1, 1)\n",
        "print(len(reshaped))"
      ],
      "metadata": {
        "id": "62-ETf_y6V_i",
        "colab": {
          "base_uri": "https://localhost:8080/"
        },
        "outputId": "c626da25-f4a6-4bba-9012-6f860e79c5ae"
      },
      "execution_count": null,
      "outputs": [
        {
          "output_type": "stream",
          "name": "stdout",
          "text": [
            "392\n"
          ]
        }
      ]
    },
    {
      "cell_type": "code",
      "source": [
        "# 원-핫 엔코딩\n",
        "# 희소행렬 = (행, 열) 좌표 & 값(1)\n",
        "# 0 숫자 열 = 고출력, 1 숫자 열 = 보통 출력 , 2 숫자 열 = 저출력\n",
        "# (14, 2)\t1.0 => 행 인덱스 번호 14에서 2 라는 숫자(저출력) 가지고 있는 열의 값이 1\n",
        "# = 14번 행의 값은 저출력\n",
        "oh = onehot_encoder.fit_transform(reshaped)"
      ],
      "metadata": {
        "id": "V7G2uCVN7j_0"
      },
      "execution_count": null,
      "outputs": []
    },
    {
      "cell_type": "code",
      "source": [
        "print(df['hp_cat'][:15], labels[:15], oh[:15])"
      ],
      "metadata": {
        "id": "4LptBRd175Ta",
        "colab": {
          "base_uri": "https://localhost:8080/"
        },
        "outputId": "a739137e-eaa6-4d03-f587-682702f359f5"
      },
      "execution_count": null,
      "outputs": [
        {
          "output_type": "stream",
          "name": "stdout",
          "text": [
            "0     보통출력\n",
            "1     보통출력\n",
            "2     보통출력\n",
            "3     보통출력\n",
            "4     보통출력\n",
            "5      고출력\n",
            "6      고출력\n",
            "7      고출력\n",
            "8      고출력\n",
            "9      고출력\n",
            "10     고출력\n",
            "11    보통출력\n",
            "12    보통출력\n",
            "13     고출력\n",
            "14     저출력\n",
            "Name: hp_cat, dtype: category\n",
            "Categories (3, object): ['저출력' < '보통출력' < '고출력'] [1 1 1 1 1 0 0 0 0 0 0 1 1 0 2]   (0, 1)\t1.0\n",
            "  (1, 1)\t1.0\n",
            "  (2, 1)\t1.0\n",
            "  (3, 1)\t1.0\n",
            "  (4, 1)\t1.0\n",
            "  (5, 0)\t1.0\n",
            "  (6, 0)\t1.0\n",
            "  (7, 0)\t1.0\n",
            "  (8, 0)\t1.0\n",
            "  (9, 0)\t1.0\n",
            "  (10, 0)\t1.0\n",
            "  (11, 1)\t1.0\n",
            "  (12, 1)\t1.0\n",
            "  (13, 0)\t1.0\n",
            "  (14, 2)\t1.0\n"
          ]
        }
      ]
    },
    {
      "cell_type": "code",
      "source": [
        "type(oh)"
      ],
      "metadata": {
        "colab": {
          "base_uri": "https://localhost:8080/"
        },
        "id": "tRBZq8dl-0bZ",
        "outputId": "b0a15e15-abf9-4673-cd61-c0bbfb917c55"
      },
      "execution_count": null,
      "outputs": [
        {
          "output_type": "execute_result",
          "data": {
            "text/plain": [
              "scipy.sparse._csr.csr_matrix"
            ]
          },
          "metadata": {},
          "execution_count": 33
        }
      ]
    },
    {
      "cell_type": "markdown",
      "source": [
        "## 정규화"
      ],
      "metadata": {
        "id": "qsd4NtMXRrAp"
      }
    },
    {
      "cell_type": "code",
      "source": [
        "# 최대절대값 정규화\n",
        "# = 관측치/절대값(최대값)\n",
        "# 양수와 음수가 섞여 있다면, => 관측치/관측치의 절대값의 최대값\n",
        "# 음수 - 관측치 = - 최대값 => -1\n",
        "# 양수 - 관측치 = + 최대값 => 1\n",
        "# -1 ~ 1 사이의 값을 가짐\n",
        "df['hp_nmz1'] = df['horsepower']/abs(df['horsepower'].max())\n",
        "# df['hp_nmz1'] = df['horsepower']/abs(df['horsepower']).max()\n",
        "df['hp_nmz1'].describe()"
      ],
      "metadata": {
        "id": "QWfK0oV1R1wh",
        "colab": {
          "base_uri": "https://localhost:8080/"
        },
        "outputId": "2053f84e-e5b2-4e5c-a135-c4a813613409"
      },
      "execution_count": null,
      "outputs": [
        {
          "output_type": "execute_result",
          "data": {
            "text/plain": [
              "count    392.000000\n",
              "mean       0.454215\n",
              "std        0.167353\n",
              "min        0.200000\n",
              "25%        0.326087\n",
              "50%        0.406522\n",
              "75%        0.547826\n",
              "max        1.000000\n",
              "Name: hp_nmz1, dtype: float64"
            ]
          },
          "metadata": {},
          "execution_count": 34
        }
      ]
    },
    {
      "cell_type": "code",
      "source": [
        "df['horsepower'].min()"
      ],
      "metadata": {
        "id": "gca93M2dTUme",
        "colab": {
          "base_uri": "https://localhost:8080/"
        },
        "outputId": "0f08f1f1-b69b-4cba-aa64-65f019bd22b8"
      },
      "execution_count": null,
      "outputs": [
        {
          "output_type": "execute_result",
          "data": {
            "text/plain": [
              "46.0"
            ]
          },
          "metadata": {},
          "execution_count": 35
        }
      ]
    },
    {
      "cell_type": "code",
      "source": [
        "# 최소값-최대값 정규화\n",
        "# = (관측치 - 최소값)/(최대값 - 최소값)\n",
        "# 관측치 = 최소값 => 0\n",
        "# 관측치 = 최대값 => 1\n",
        "# 0 ~ 1 사이의 값을 가짐\n",
        "df['hp_nmz2'] = (df['horsepower'] - df['horsepower'].min())/ \\\n",
        "                (df['horsepower'].max() - df['horsepower'].min())\n",
        "df['hp_nmz2'].describe()"
      ],
      "metadata": {
        "colab": {
          "base_uri": "https://localhost:8080/"
        },
        "id": "F9d2t0apSmyF",
        "outputId": "84771b81-0cac-4768-a9d2-26732d37f28a"
      },
      "execution_count": null,
      "outputs": [
        {
          "output_type": "execute_result",
          "data": {
            "text/plain": [
              "count    392.000000\n",
              "mean       0.317768\n",
              "std        0.209191\n",
              "min        0.000000\n",
              "25%        0.157609\n",
              "50%        0.258152\n",
              "75%        0.434783\n",
              "max        1.000000\n",
              "Name: hp_nmz2, dtype: float64"
            ]
          },
          "metadata": {},
          "execution_count": 36
        }
      ]
    },
    {
      "cell_type": "markdown",
      "source": [
        "## 시계열 데이터"
      ],
      "metadata": {
        "id": "SD6VjXk8VZGH"
      }
    },
    {
      "cell_type": "markdown",
      "source": [
        "### 시계열 객체 변환"
      ],
      "metadata": {
        "id": "Yt7qn56ZVeIf"
      }
    },
    {
      "cell_type": "code",
      "source": [
        "import pandas as pd"
      ],
      "metadata": {
        "id": "VuwFNajmX2vq"
      },
      "execution_count": null,
      "outputs": []
    },
    {
      "cell_type": "code",
      "source": [
        "# Timestamp\n",
        "df = pd.read_csv('/content/drive/MyDrive/HANARO/pandas datas/ch6/stock-data.csv')\n",
        "df.head()"
      ],
      "metadata": {
        "id": "HWetkT9zVi_3",
        "colab": {
          "base_uri": "https://localhost:8080/",
          "height": 206
        },
        "outputId": "e35f73ec-56f0-4291-afe7-c688a6ab0fe4"
      },
      "execution_count": null,
      "outputs": [
        {
          "output_type": "execute_result",
          "data": {
            "text/plain": [
              "         Date  Close  Start   High    Low  Volume\n",
              "0  2018-07-02  10100  10850  10900  10000  137977\n",
              "1  2018-06-29  10700  10550  10900   9990  170253\n",
              "2  2018-06-28  10400  10900  10950  10150  155769\n",
              "3  2018-06-27  10900  10800  11050  10500  133548\n",
              "4  2018-06-26  10800  10900  11000  10700   63039"
            ],
            "text/html": [
              "\n",
              "  <div id=\"df-b58031e1-73d1-40e0-b799-8db65c709885\">\n",
              "    <div class=\"colab-df-container\">\n",
              "      <div>\n",
              "<style scoped>\n",
              "    .dataframe tbody tr th:only-of-type {\n",
              "        vertical-align: middle;\n",
              "    }\n",
              "\n",
              "    .dataframe tbody tr th {\n",
              "        vertical-align: top;\n",
              "    }\n",
              "\n",
              "    .dataframe thead th {\n",
              "        text-align: right;\n",
              "    }\n",
              "</style>\n",
              "<table border=\"1\" class=\"dataframe\">\n",
              "  <thead>\n",
              "    <tr style=\"text-align: right;\">\n",
              "      <th></th>\n",
              "      <th>Date</th>\n",
              "      <th>Close</th>\n",
              "      <th>Start</th>\n",
              "      <th>High</th>\n",
              "      <th>Low</th>\n",
              "      <th>Volume</th>\n",
              "    </tr>\n",
              "  </thead>\n",
              "  <tbody>\n",
              "    <tr>\n",
              "      <th>0</th>\n",
              "      <td>2018-07-02</td>\n",
              "      <td>10100</td>\n",
              "      <td>10850</td>\n",
              "      <td>10900</td>\n",
              "      <td>10000</td>\n",
              "      <td>137977</td>\n",
              "    </tr>\n",
              "    <tr>\n",
              "      <th>1</th>\n",
              "      <td>2018-06-29</td>\n",
              "      <td>10700</td>\n",
              "      <td>10550</td>\n",
              "      <td>10900</td>\n",
              "      <td>9990</td>\n",
              "      <td>170253</td>\n",
              "    </tr>\n",
              "    <tr>\n",
              "      <th>2</th>\n",
              "      <td>2018-06-28</td>\n",
              "      <td>10400</td>\n",
              "      <td>10900</td>\n",
              "      <td>10950</td>\n",
              "      <td>10150</td>\n",
              "      <td>155769</td>\n",
              "    </tr>\n",
              "    <tr>\n",
              "      <th>3</th>\n",
              "      <td>2018-06-27</td>\n",
              "      <td>10900</td>\n",
              "      <td>10800</td>\n",
              "      <td>11050</td>\n",
              "      <td>10500</td>\n",
              "      <td>133548</td>\n",
              "    </tr>\n",
              "    <tr>\n",
              "      <th>4</th>\n",
              "      <td>2018-06-26</td>\n",
              "      <td>10800</td>\n",
              "      <td>10900</td>\n",
              "      <td>11000</td>\n",
              "      <td>10700</td>\n",
              "      <td>63039</td>\n",
              "    </tr>\n",
              "  </tbody>\n",
              "</table>\n",
              "</div>\n",
              "      <button class=\"colab-df-convert\" onclick=\"convertToInteractive('df-b58031e1-73d1-40e0-b799-8db65c709885')\"\n",
              "              title=\"Convert this dataframe to an interactive table.\"\n",
              "              style=\"display:none;\">\n",
              "        \n",
              "  <svg xmlns=\"http://www.w3.org/2000/svg\" height=\"24px\"viewBox=\"0 0 24 24\"\n",
              "       width=\"24px\">\n",
              "    <path d=\"M0 0h24v24H0V0z\" fill=\"none\"/>\n",
              "    <path d=\"M18.56 5.44l.94 2.06.94-2.06 2.06-.94-2.06-.94-.94-2.06-.94 2.06-2.06.94zm-11 1L8.5 8.5l.94-2.06 2.06-.94-2.06-.94L8.5 2.5l-.94 2.06-2.06.94zm10 10l.94 2.06.94-2.06 2.06-.94-2.06-.94-.94-2.06-.94 2.06-2.06.94z\"/><path d=\"M17.41 7.96l-1.37-1.37c-.4-.4-.92-.59-1.43-.59-.52 0-1.04.2-1.43.59L10.3 9.45l-7.72 7.72c-.78.78-.78 2.05 0 2.83L4 21.41c.39.39.9.59 1.41.59.51 0 1.02-.2 1.41-.59l7.78-7.78 2.81-2.81c.8-.78.8-2.07 0-2.86zM5.41 20L4 18.59l7.72-7.72 1.47 1.35L5.41 20z\"/>\n",
              "  </svg>\n",
              "      </button>\n",
              "      \n",
              "  <style>\n",
              "    .colab-df-container {\n",
              "      display:flex;\n",
              "      flex-wrap:wrap;\n",
              "      gap: 12px;\n",
              "    }\n",
              "\n",
              "    .colab-df-convert {\n",
              "      background-color: #E8F0FE;\n",
              "      border: none;\n",
              "      border-radius: 50%;\n",
              "      cursor: pointer;\n",
              "      display: none;\n",
              "      fill: #1967D2;\n",
              "      height: 32px;\n",
              "      padding: 0 0 0 0;\n",
              "      width: 32px;\n",
              "    }\n",
              "\n",
              "    .colab-df-convert:hover {\n",
              "      background-color: #E2EBFA;\n",
              "      box-shadow: 0px 1px 2px rgba(60, 64, 67, 0.3), 0px 1px 3px 1px rgba(60, 64, 67, 0.15);\n",
              "      fill: #174EA6;\n",
              "    }\n",
              "\n",
              "    [theme=dark] .colab-df-convert {\n",
              "      background-color: #3B4455;\n",
              "      fill: #D2E3FC;\n",
              "    }\n",
              "\n",
              "    [theme=dark] .colab-df-convert:hover {\n",
              "      background-color: #434B5C;\n",
              "      box-shadow: 0px 1px 3px 1px rgba(0, 0, 0, 0.15);\n",
              "      filter: drop-shadow(0px 1px 2px rgba(0, 0, 0, 0.3));\n",
              "      fill: #FFFFFF;\n",
              "    }\n",
              "  </style>\n",
              "\n",
              "      <script>\n",
              "        const buttonEl =\n",
              "          document.querySelector('#df-b58031e1-73d1-40e0-b799-8db65c709885 button.colab-df-convert');\n",
              "        buttonEl.style.display =\n",
              "          google.colab.kernel.accessAllowed ? 'block' : 'none';\n",
              "\n",
              "        async function convertToInteractive(key) {\n",
              "          const element = document.querySelector('#df-b58031e1-73d1-40e0-b799-8db65c709885');\n",
              "          const dataTable =\n",
              "            await google.colab.kernel.invokeFunction('convertToInteractive',\n",
              "                                                     [key], {});\n",
              "          if (!dataTable) return;\n",
              "\n",
              "          const docLinkHtml = 'Like what you see? Visit the ' +\n",
              "            '<a target=\"_blank\" href=https://colab.research.google.com/notebooks/data_table.ipynb>data table notebook</a>'\n",
              "            + ' to learn more about interactive tables.';\n",
              "          element.innerHTML = '';\n",
              "          dataTable['output_type'] = 'display_data';\n",
              "          await google.colab.output.renderOutput(dataTable, element);\n",
              "          const docLink = document.createElement('div');\n",
              "          docLink.innerHTML = docLinkHtml;\n",
              "          element.appendChild(docLink);\n",
              "        }\n",
              "      </script>\n",
              "    </div>\n",
              "  </div>\n",
              "  "
            ]
          },
          "metadata": {},
          "execution_count": 38
        }
      ]
    },
    {
      "cell_type": "code",
      "source": [
        "df.info()"
      ],
      "metadata": {
        "id": "7oofUesBYKOn",
        "colab": {
          "base_uri": "https://localhost:8080/"
        },
        "outputId": "42e904de-72a5-4690-e37b-fed76d989852"
      },
      "execution_count": null,
      "outputs": [
        {
          "output_type": "stream",
          "name": "stdout",
          "text": [
            "<class 'pandas.core.frame.DataFrame'>\n",
            "RangeIndex: 20 entries, 0 to 19\n",
            "Data columns (total 6 columns):\n",
            " #   Column  Non-Null Count  Dtype \n",
            "---  ------  --------------  ----- \n",
            " 0   Date    20 non-null     object\n",
            " 1   Close   20 non-null     int64 \n",
            " 2   Start   20 non-null     int64 \n",
            " 3   High    20 non-null     int64 \n",
            " 4   Low     20 non-null     int64 \n",
            " 5   Volume  20 non-null     int64 \n",
            "dtypes: int64(5), object(1)\n",
            "memory usage: 1.1+ KB\n"
          ]
        }
      ]
    },
    {
      "cell_type": "code",
      "source": [
        "# 현재 날짜가 문자열 object => datetime64[ns]\n",
        "df['Date'] = pd.to_datetime(df['Date'])\n",
        "df.head()"
      ],
      "metadata": {
        "id": "AC4X8X8sYWts",
        "colab": {
          "base_uri": "https://localhost:8080/",
          "height": 206
        },
        "outputId": "fca275b3-166f-4aa6-f65a-8855766fc868"
      },
      "execution_count": null,
      "outputs": [
        {
          "output_type": "execute_result",
          "data": {
            "text/plain": [
              "        Date  Close  Start   High    Low  Volume\n",
              "0 2018-07-02  10100  10850  10900  10000  137977\n",
              "1 2018-06-29  10700  10550  10900   9990  170253\n",
              "2 2018-06-28  10400  10900  10950  10150  155769\n",
              "3 2018-06-27  10900  10800  11050  10500  133548\n",
              "4 2018-06-26  10800  10900  11000  10700   63039"
            ],
            "text/html": [
              "\n",
              "  <div id=\"df-5babe0e8-6328-465c-a080-9d62bdfee343\">\n",
              "    <div class=\"colab-df-container\">\n",
              "      <div>\n",
              "<style scoped>\n",
              "    .dataframe tbody tr th:only-of-type {\n",
              "        vertical-align: middle;\n",
              "    }\n",
              "\n",
              "    .dataframe tbody tr th {\n",
              "        vertical-align: top;\n",
              "    }\n",
              "\n",
              "    .dataframe thead th {\n",
              "        text-align: right;\n",
              "    }\n",
              "</style>\n",
              "<table border=\"1\" class=\"dataframe\">\n",
              "  <thead>\n",
              "    <tr style=\"text-align: right;\">\n",
              "      <th></th>\n",
              "      <th>Date</th>\n",
              "      <th>Close</th>\n",
              "      <th>Start</th>\n",
              "      <th>High</th>\n",
              "      <th>Low</th>\n",
              "      <th>Volume</th>\n",
              "    </tr>\n",
              "  </thead>\n",
              "  <tbody>\n",
              "    <tr>\n",
              "      <th>0</th>\n",
              "      <td>2018-07-02</td>\n",
              "      <td>10100</td>\n",
              "      <td>10850</td>\n",
              "      <td>10900</td>\n",
              "      <td>10000</td>\n",
              "      <td>137977</td>\n",
              "    </tr>\n",
              "    <tr>\n",
              "      <th>1</th>\n",
              "      <td>2018-06-29</td>\n",
              "      <td>10700</td>\n",
              "      <td>10550</td>\n",
              "      <td>10900</td>\n",
              "      <td>9990</td>\n",
              "      <td>170253</td>\n",
              "    </tr>\n",
              "    <tr>\n",
              "      <th>2</th>\n",
              "      <td>2018-06-28</td>\n",
              "      <td>10400</td>\n",
              "      <td>10900</td>\n",
              "      <td>10950</td>\n",
              "      <td>10150</td>\n",
              "      <td>155769</td>\n",
              "    </tr>\n",
              "    <tr>\n",
              "      <th>3</th>\n",
              "      <td>2018-06-27</td>\n",
              "      <td>10900</td>\n",
              "      <td>10800</td>\n",
              "      <td>11050</td>\n",
              "      <td>10500</td>\n",
              "      <td>133548</td>\n",
              "    </tr>\n",
              "    <tr>\n",
              "      <th>4</th>\n",
              "      <td>2018-06-26</td>\n",
              "      <td>10800</td>\n",
              "      <td>10900</td>\n",
              "      <td>11000</td>\n",
              "      <td>10700</td>\n",
              "      <td>63039</td>\n",
              "    </tr>\n",
              "  </tbody>\n",
              "</table>\n",
              "</div>\n",
              "      <button class=\"colab-df-convert\" onclick=\"convertToInteractive('df-5babe0e8-6328-465c-a080-9d62bdfee343')\"\n",
              "              title=\"Convert this dataframe to an interactive table.\"\n",
              "              style=\"display:none;\">\n",
              "        \n",
              "  <svg xmlns=\"http://www.w3.org/2000/svg\" height=\"24px\"viewBox=\"0 0 24 24\"\n",
              "       width=\"24px\">\n",
              "    <path d=\"M0 0h24v24H0V0z\" fill=\"none\"/>\n",
              "    <path d=\"M18.56 5.44l.94 2.06.94-2.06 2.06-.94-2.06-.94-.94-2.06-.94 2.06-2.06.94zm-11 1L8.5 8.5l.94-2.06 2.06-.94-2.06-.94L8.5 2.5l-.94 2.06-2.06.94zm10 10l.94 2.06.94-2.06 2.06-.94-2.06-.94-.94-2.06-.94 2.06-2.06.94z\"/><path d=\"M17.41 7.96l-1.37-1.37c-.4-.4-.92-.59-1.43-.59-.52 0-1.04.2-1.43.59L10.3 9.45l-7.72 7.72c-.78.78-.78 2.05 0 2.83L4 21.41c.39.39.9.59 1.41.59.51 0 1.02-.2 1.41-.59l7.78-7.78 2.81-2.81c.8-.78.8-2.07 0-2.86zM5.41 20L4 18.59l7.72-7.72 1.47 1.35L5.41 20z\"/>\n",
              "  </svg>\n",
              "      </button>\n",
              "      \n",
              "  <style>\n",
              "    .colab-df-container {\n",
              "      display:flex;\n",
              "      flex-wrap:wrap;\n",
              "      gap: 12px;\n",
              "    }\n",
              "\n",
              "    .colab-df-convert {\n",
              "      background-color: #E8F0FE;\n",
              "      border: none;\n",
              "      border-radius: 50%;\n",
              "      cursor: pointer;\n",
              "      display: none;\n",
              "      fill: #1967D2;\n",
              "      height: 32px;\n",
              "      padding: 0 0 0 0;\n",
              "      width: 32px;\n",
              "    }\n",
              "\n",
              "    .colab-df-convert:hover {\n",
              "      background-color: #E2EBFA;\n",
              "      box-shadow: 0px 1px 2px rgba(60, 64, 67, 0.3), 0px 1px 3px 1px rgba(60, 64, 67, 0.15);\n",
              "      fill: #174EA6;\n",
              "    }\n",
              "\n",
              "    [theme=dark] .colab-df-convert {\n",
              "      background-color: #3B4455;\n",
              "      fill: #D2E3FC;\n",
              "    }\n",
              "\n",
              "    [theme=dark] .colab-df-convert:hover {\n",
              "      background-color: #434B5C;\n",
              "      box-shadow: 0px 1px 3px 1px rgba(0, 0, 0, 0.15);\n",
              "      filter: drop-shadow(0px 1px 2px rgba(0, 0, 0, 0.3));\n",
              "      fill: #FFFFFF;\n",
              "    }\n",
              "  </style>\n",
              "\n",
              "      <script>\n",
              "        const buttonEl =\n",
              "          document.querySelector('#df-5babe0e8-6328-465c-a080-9d62bdfee343 button.colab-df-convert');\n",
              "        buttonEl.style.display =\n",
              "          google.colab.kernel.accessAllowed ? 'block' : 'none';\n",
              "\n",
              "        async function convertToInteractive(key) {\n",
              "          const element = document.querySelector('#df-5babe0e8-6328-465c-a080-9d62bdfee343');\n",
              "          const dataTable =\n",
              "            await google.colab.kernel.invokeFunction('convertToInteractive',\n",
              "                                                     [key], {});\n",
              "          if (!dataTable) return;\n",
              "\n",
              "          const docLinkHtml = 'Like what you see? Visit the ' +\n",
              "            '<a target=\"_blank\" href=https://colab.research.google.com/notebooks/data_table.ipynb>data table notebook</a>'\n",
              "            + ' to learn more about interactive tables.';\n",
              "          element.innerHTML = '';\n",
              "          dataTable['output_type'] = 'display_data';\n",
              "          await google.colab.output.renderOutput(dataTable, element);\n",
              "          const docLink = document.createElement('div');\n",
              "          docLink.innerHTML = docLinkHtml;\n",
              "          element.appendChild(docLink);\n",
              "        }\n",
              "      </script>\n",
              "    </div>\n",
              "  </div>\n",
              "  "
            ]
          },
          "metadata": {},
          "execution_count": 40
        }
      ]
    },
    {
      "cell_type": "code",
      "source": [
        "df.info()"
      ],
      "metadata": {
        "id": "KKH8T22zYr8I",
        "colab": {
          "base_uri": "https://localhost:8080/"
        },
        "outputId": "6d53b0d6-909b-4ab0-8af7-1eb3b20f4807"
      },
      "execution_count": null,
      "outputs": [
        {
          "output_type": "stream",
          "name": "stdout",
          "text": [
            "<class 'pandas.core.frame.DataFrame'>\n",
            "RangeIndex: 20 entries, 0 to 19\n",
            "Data columns (total 6 columns):\n",
            " #   Column  Non-Null Count  Dtype         \n",
            "---  ------  --------------  -----         \n",
            " 0   Date    20 non-null     datetime64[ns]\n",
            " 1   Close   20 non-null     int64         \n",
            " 2   Start   20 non-null     int64         \n",
            " 3   High    20 non-null     int64         \n",
            " 4   Low     20 non-null     int64         \n",
            " 5   Volume  20 non-null     int64         \n",
            "dtypes: datetime64[ns](1), int64(5)\n",
            "memory usage: 1.1 KB\n"
          ]
        }
      ]
    },
    {
      "cell_type": "code",
      "source": [
        "type(df['Date'][0])\n",
        "# datetime64[ns] <= Timestamp 의 자료형"
      ],
      "metadata": {
        "id": "Gs8CL1sEY-Wv",
        "colab": {
          "base_uri": "https://localhost:8080/"
        },
        "outputId": "72eb04ee-837c-4b10-f60f-c60dd6abefa2"
      },
      "execution_count": null,
      "outputs": [
        {
          "output_type": "execute_result",
          "data": {
            "text/plain": [
              "pandas._libs.tslibs.timestamps.Timestamp"
            ]
          },
          "metadata": {},
          "execution_count": 42
        }
      ]
    },
    {
      "cell_type": "code",
      "source": [
        "# 행 인덱스\n",
        "df.set_index('Date', inplace = True)"
      ],
      "metadata": {
        "id": "J0Hmlh9gZ_rU"
      },
      "execution_count": null,
      "outputs": []
    },
    {
      "cell_type": "code",
      "source": [
        "df.head()"
      ],
      "metadata": {
        "id": "IXuZTGLaaLbT",
        "colab": {
          "base_uri": "https://localhost:8080/",
          "height": 237
        },
        "outputId": "24f86c99-8920-4954-e610-30710448508b"
      },
      "execution_count": null,
      "outputs": [
        {
          "output_type": "execute_result",
          "data": {
            "text/plain": [
              "            Close  Start   High    Low  Volume\n",
              "Date                                          \n",
              "2018-07-02  10100  10850  10900  10000  137977\n",
              "2018-06-29  10700  10550  10900   9990  170253\n",
              "2018-06-28  10400  10900  10950  10150  155769\n",
              "2018-06-27  10900  10800  11050  10500  133548\n",
              "2018-06-26  10800  10900  11000  10700   63039"
            ],
            "text/html": [
              "\n",
              "  <div id=\"df-6097b5f1-7bf7-4046-a3fc-3d349fb2a9c1\">\n",
              "    <div class=\"colab-df-container\">\n",
              "      <div>\n",
              "<style scoped>\n",
              "    .dataframe tbody tr th:only-of-type {\n",
              "        vertical-align: middle;\n",
              "    }\n",
              "\n",
              "    .dataframe tbody tr th {\n",
              "        vertical-align: top;\n",
              "    }\n",
              "\n",
              "    .dataframe thead th {\n",
              "        text-align: right;\n",
              "    }\n",
              "</style>\n",
              "<table border=\"1\" class=\"dataframe\">\n",
              "  <thead>\n",
              "    <tr style=\"text-align: right;\">\n",
              "      <th></th>\n",
              "      <th>Close</th>\n",
              "      <th>Start</th>\n",
              "      <th>High</th>\n",
              "      <th>Low</th>\n",
              "      <th>Volume</th>\n",
              "    </tr>\n",
              "    <tr>\n",
              "      <th>Date</th>\n",
              "      <th></th>\n",
              "      <th></th>\n",
              "      <th></th>\n",
              "      <th></th>\n",
              "      <th></th>\n",
              "    </tr>\n",
              "  </thead>\n",
              "  <tbody>\n",
              "    <tr>\n",
              "      <th>2018-07-02</th>\n",
              "      <td>10100</td>\n",
              "      <td>10850</td>\n",
              "      <td>10900</td>\n",
              "      <td>10000</td>\n",
              "      <td>137977</td>\n",
              "    </tr>\n",
              "    <tr>\n",
              "      <th>2018-06-29</th>\n",
              "      <td>10700</td>\n",
              "      <td>10550</td>\n",
              "      <td>10900</td>\n",
              "      <td>9990</td>\n",
              "      <td>170253</td>\n",
              "    </tr>\n",
              "    <tr>\n",
              "      <th>2018-06-28</th>\n",
              "      <td>10400</td>\n",
              "      <td>10900</td>\n",
              "      <td>10950</td>\n",
              "      <td>10150</td>\n",
              "      <td>155769</td>\n",
              "    </tr>\n",
              "    <tr>\n",
              "      <th>2018-06-27</th>\n",
              "      <td>10900</td>\n",
              "      <td>10800</td>\n",
              "      <td>11050</td>\n",
              "      <td>10500</td>\n",
              "      <td>133548</td>\n",
              "    </tr>\n",
              "    <tr>\n",
              "      <th>2018-06-26</th>\n",
              "      <td>10800</td>\n",
              "      <td>10900</td>\n",
              "      <td>11000</td>\n",
              "      <td>10700</td>\n",
              "      <td>63039</td>\n",
              "    </tr>\n",
              "  </tbody>\n",
              "</table>\n",
              "</div>\n",
              "      <button class=\"colab-df-convert\" onclick=\"convertToInteractive('df-6097b5f1-7bf7-4046-a3fc-3d349fb2a9c1')\"\n",
              "              title=\"Convert this dataframe to an interactive table.\"\n",
              "              style=\"display:none;\">\n",
              "        \n",
              "  <svg xmlns=\"http://www.w3.org/2000/svg\" height=\"24px\"viewBox=\"0 0 24 24\"\n",
              "       width=\"24px\">\n",
              "    <path d=\"M0 0h24v24H0V0z\" fill=\"none\"/>\n",
              "    <path d=\"M18.56 5.44l.94 2.06.94-2.06 2.06-.94-2.06-.94-.94-2.06-.94 2.06-2.06.94zm-11 1L8.5 8.5l.94-2.06 2.06-.94-2.06-.94L8.5 2.5l-.94 2.06-2.06.94zm10 10l.94 2.06.94-2.06 2.06-.94-2.06-.94-.94-2.06-.94 2.06-2.06.94z\"/><path d=\"M17.41 7.96l-1.37-1.37c-.4-.4-.92-.59-1.43-.59-.52 0-1.04.2-1.43.59L10.3 9.45l-7.72 7.72c-.78.78-.78 2.05 0 2.83L4 21.41c.39.39.9.59 1.41.59.51 0 1.02-.2 1.41-.59l7.78-7.78 2.81-2.81c.8-.78.8-2.07 0-2.86zM5.41 20L4 18.59l7.72-7.72 1.47 1.35L5.41 20z\"/>\n",
              "  </svg>\n",
              "      </button>\n",
              "      \n",
              "  <style>\n",
              "    .colab-df-container {\n",
              "      display:flex;\n",
              "      flex-wrap:wrap;\n",
              "      gap: 12px;\n",
              "    }\n",
              "\n",
              "    .colab-df-convert {\n",
              "      background-color: #E8F0FE;\n",
              "      border: none;\n",
              "      border-radius: 50%;\n",
              "      cursor: pointer;\n",
              "      display: none;\n",
              "      fill: #1967D2;\n",
              "      height: 32px;\n",
              "      padding: 0 0 0 0;\n",
              "      width: 32px;\n",
              "    }\n",
              "\n",
              "    .colab-df-convert:hover {\n",
              "      background-color: #E2EBFA;\n",
              "      box-shadow: 0px 1px 2px rgba(60, 64, 67, 0.3), 0px 1px 3px 1px rgba(60, 64, 67, 0.15);\n",
              "      fill: #174EA6;\n",
              "    }\n",
              "\n",
              "    [theme=dark] .colab-df-convert {\n",
              "      background-color: #3B4455;\n",
              "      fill: #D2E3FC;\n",
              "    }\n",
              "\n",
              "    [theme=dark] .colab-df-convert:hover {\n",
              "      background-color: #434B5C;\n",
              "      box-shadow: 0px 1px 3px 1px rgba(0, 0, 0, 0.15);\n",
              "      filter: drop-shadow(0px 1px 2px rgba(0, 0, 0, 0.3));\n",
              "      fill: #FFFFFF;\n",
              "    }\n",
              "  </style>\n",
              "\n",
              "      <script>\n",
              "        const buttonEl =\n",
              "          document.querySelector('#df-6097b5f1-7bf7-4046-a3fc-3d349fb2a9c1 button.colab-df-convert');\n",
              "        buttonEl.style.display =\n",
              "          google.colab.kernel.accessAllowed ? 'block' : 'none';\n",
              "\n",
              "        async function convertToInteractive(key) {\n",
              "          const element = document.querySelector('#df-6097b5f1-7bf7-4046-a3fc-3d349fb2a9c1');\n",
              "          const dataTable =\n",
              "            await google.colab.kernel.invokeFunction('convertToInteractive',\n",
              "                                                     [key], {});\n",
              "          if (!dataTable) return;\n",
              "\n",
              "          const docLinkHtml = 'Like what you see? Visit the ' +\n",
              "            '<a target=\"_blank\" href=https://colab.research.google.com/notebooks/data_table.ipynb>data table notebook</a>'\n",
              "            + ' to learn more about interactive tables.';\n",
              "          element.innerHTML = '';\n",
              "          dataTable['output_type'] = 'display_data';\n",
              "          await google.colab.output.renderOutput(dataTable, element);\n",
              "          const docLink = document.createElement('div');\n",
              "          docLink.innerHTML = docLinkHtml;\n",
              "          element.appendChild(docLink);\n",
              "        }\n",
              "      </script>\n",
              "    </div>\n",
              "  </div>\n",
              "  "
            ]
          },
          "metadata": {},
          "execution_count": 44
        }
      ]
    },
    {
      "cell_type": "code",
      "source": [
        "# Period 날짜의 기간\n",
        "dates = [\"2020-01-01\",\"2021-03-01\",\"2022-06-01\"]"
      ],
      "metadata": {
        "id": "36kSA6aVaVas"
      },
      "execution_count": null,
      "outputs": []
    },
    {
      "cell_type": "code",
      "source": [
        "dates"
      ],
      "metadata": {
        "colab": {
          "base_uri": "https://localhost:8080/"
        },
        "id": "iDYyxoh-bAXE",
        "outputId": "ac3438ed-40d0-4b6b-f060-f99e6a405a96"
      },
      "execution_count": null,
      "outputs": [
        {
          "output_type": "execute_result",
          "data": {
            "text/plain": [
              "['2020-01-01', '2021-03-01', '2022-06-01']"
            ]
          },
          "metadata": {},
          "execution_count": 46
        }
      ]
    },
    {
      "cell_type": "code",
      "source": [
        "\n",
        "# 1) Timestamp 로 먼저 변환해야 함\n",
        "dates_ts = pd.to_datetime(dates)"
      ],
      "metadata": {
        "id": "0vVuIWCzaqPc"
      },
      "execution_count": null,
      "outputs": []
    },
    {
      "cell_type": "code",
      "source": [
        "dates_ts"
      ],
      "metadata": {
        "colab": {
          "base_uri": "https://localhost:8080/"
        },
        "id": "yQ0ug9ufa8Aq",
        "outputId": "d4303ed3-c855-43da-fae9-8a3b9db40bc6"
      },
      "execution_count": null,
      "outputs": [
        {
          "output_type": "execute_result",
          "data": {
            "text/plain": [
              "DatetimeIndex(['2020-01-01', '2021-03-01', '2022-06-01'], dtype='datetime64[ns]', freq=None)"
            ]
          },
          "metadata": {},
          "execution_count": 48
        }
      ]
    },
    {
      "cell_type": "code",
      "source": [
        "# 2) Period 로 변환\n",
        "dates_ts.to_period(freq = 'D') # 연월일"
      ],
      "metadata": {
        "colab": {
          "base_uri": "https://localhost:8080/"
        },
        "id": "l1f4DvtLbG9F",
        "outputId": "8887ec4a-1fc1-4dc5-9866-c72196325126"
      },
      "execution_count": null,
      "outputs": [
        {
          "output_type": "execute_result",
          "data": {
            "text/plain": [
              "PeriodIndex(['2020-01-01', '2021-03-01', '2022-06-01'], dtype='period[D]')"
            ]
          },
          "metadata": {},
          "execution_count": 49
        }
      ]
    },
    {
      "cell_type": "code",
      "source": [
        "dates_ts.to_period(freq = 'M') # 연월"
      ],
      "metadata": {
        "colab": {
          "base_uri": "https://localhost:8080/"
        },
        "id": "ck6zZ8EibVJF",
        "outputId": "70dd73a2-e563-4145-90c5-0fd6c5dfbe47"
      },
      "execution_count": null,
      "outputs": [
        {
          "output_type": "execute_result",
          "data": {
            "text/plain": [
              "PeriodIndex(['2020-01', '2021-03', '2022-06'], dtype='period[M]')"
            ]
          },
          "metadata": {},
          "execution_count": 50
        }
      ]
    },
    {
      "cell_type": "code",
      "source": [
        "dates_ts.to_period(freq = 'A') # 연"
      ],
      "metadata": {
        "colab": {
          "base_uri": "https://localhost:8080/"
        },
        "id": "K3mW6n2sbcub",
        "outputId": "8b896470-6604-4333-92a5-bc336c550cd7"
      },
      "execution_count": null,
      "outputs": [
        {
          "output_type": "execute_result",
          "data": {
            "text/plain": [
              "PeriodIndex(['2020', '2021', '2022'], dtype='period[A-DEC]')"
            ]
          },
          "metadata": {},
          "execution_count": 51
        }
      ]
    },
    {
      "cell_type": "markdown",
      "source": [
        "https://pandas.pydata.org/docs/user_guide/timeseries.html#timeseries-offset-aliases"
      ],
      "metadata": {
        "id": "uGs1WJEacD5F"
      }
    },
    {
      "cell_type": "markdown",
      "source": [
        "### 시계열 데이터 만들기"
      ],
      "metadata": {
        "id": "7xdZFv97gB-q"
      }
    },
    {
      "cell_type": "code",
      "source": [
        "# Timestamp 배열 = range()\n",
        "sd_ts = pd.date_range(start = \"2022-01-01\", # 시작 날짜\n",
        "                      end = None, # 끝 날짜\n",
        "                      periods = 12, # Timestamp 개수\n",
        "                      freq = 'MS', # 월 간격, 월 시작일\n",
        "                      tz = 'Asia/Seoul')\n",
        "print(sd_ts)"
      ],
      "metadata": {
        "id": "aKh-bRbpcFJE",
        "colab": {
          "base_uri": "https://localhost:8080/"
        },
        "outputId": "9a8e9658-8622-45a4-a2ac-8e903a439edb"
      },
      "execution_count": null,
      "outputs": [
        {
          "output_type": "stream",
          "name": "stdout",
          "text": [
            "DatetimeIndex(['2022-01-01 00:00:00+09:00', '2022-02-01 00:00:00+09:00',\n",
            "               '2022-03-01 00:00:00+09:00', '2022-04-01 00:00:00+09:00',\n",
            "               '2022-05-01 00:00:00+09:00', '2022-06-01 00:00:00+09:00',\n",
            "               '2022-07-01 00:00:00+09:00', '2022-08-01 00:00:00+09:00',\n",
            "               '2022-09-01 00:00:00+09:00', '2022-10-01 00:00:00+09:00',\n",
            "               '2022-11-01 00:00:00+09:00', '2022-12-01 00:00:00+09:00'],\n",
            "              dtype='datetime64[ns, Asia/Seoul]', freq='MS')\n"
          ]
        }
      ]
    },
    {
      "cell_type": "code",
      "source": [
        "sd_ts = pd.date_range(start = \"2022-01-01\", # 시작 날짜\n",
        "                      end = None, # 끝 날짜\n",
        "                      periods = 12, # Timestamp 개수\n",
        "                      freq = 'M', # 월 간격, 월 마지막일\n",
        "                      tz = 'Asia/Seoul')\n",
        "print(sd_ts)"
      ],
      "metadata": {
        "id": "vP75QPA0g1uy",
        "colab": {
          "base_uri": "https://localhost:8080/"
        },
        "outputId": "59b9c2ab-5cbf-41f0-8dca-85960e181df4"
      },
      "execution_count": null,
      "outputs": [
        {
          "output_type": "stream",
          "name": "stdout",
          "text": [
            "DatetimeIndex(['2022-01-31 00:00:00+09:00', '2022-02-28 00:00:00+09:00',\n",
            "               '2022-03-31 00:00:00+09:00', '2022-04-30 00:00:00+09:00',\n",
            "               '2022-05-31 00:00:00+09:00', '2022-06-30 00:00:00+09:00',\n",
            "               '2022-07-31 00:00:00+09:00', '2022-08-31 00:00:00+09:00',\n",
            "               '2022-09-30 00:00:00+09:00', '2022-10-31 00:00:00+09:00',\n",
            "               '2022-11-30 00:00:00+09:00', '2022-12-31 00:00:00+09:00'],\n",
            "              dtype='datetime64[ns, Asia/Seoul]', freq='M')\n"
          ]
        }
      ]
    },
    {
      "cell_type": "code",
      "source": [
        "sd_ts = pd.date_range(start = \"2022-01-01\", # 시작 날짜\n",
        "                      end = None, # 끝 날짜\n",
        "                      periods = 12, # Timestamp 개수\n",
        "                      freq = '3M', # 3개월 간격, 월 마지막일\n",
        "                      tz = 'Asia/Seoul')\n",
        "print(sd_ts)"
      ],
      "metadata": {
        "colab": {
          "base_uri": "https://localhost:8080/"
        },
        "id": "mbMTP0Ewh6Qm",
        "outputId": "defe13e0-2e73-4a82-a061-9d93b09a667a"
      },
      "execution_count": null,
      "outputs": [
        {
          "output_type": "stream",
          "name": "stdout",
          "text": [
            "DatetimeIndex(['2022-01-31 00:00:00+09:00', '2022-04-30 00:00:00+09:00',\n",
            "               '2022-07-31 00:00:00+09:00', '2022-10-31 00:00:00+09:00',\n",
            "               '2023-01-31 00:00:00+09:00', '2023-04-30 00:00:00+09:00',\n",
            "               '2023-07-31 00:00:00+09:00', '2023-10-31 00:00:00+09:00',\n",
            "               '2024-01-31 00:00:00+09:00', '2024-04-30 00:00:00+09:00',\n",
            "               '2024-07-31 00:00:00+09:00', '2024-10-31 00:00:00+09:00'],\n",
            "              dtype='datetime64[ns, Asia/Seoul]', freq='3M')\n"
          ]
        }
      ]
    },
    {
      "cell_type": "code",
      "source": [
        "# Period 배열\n",
        "sd_prd = pd.period_range(start = \"2022-01-01\", # 시작 날짜\n",
        "                      end = None, # 끝 날짜\n",
        "                      periods = 6, # Period 개수 + 1 = 날짜 개수\n",
        "                      freq = 'M') # 월 간격\n",
        "print(sd_prd)"
      ],
      "metadata": {
        "id": "zuPvhEULjGxT",
        "colab": {
          "base_uri": "https://localhost:8080/"
        },
        "outputId": "7d9fcb82-5e36-4420-9b53-3bf8f6b1cb09"
      },
      "execution_count": null,
      "outputs": [
        {
          "output_type": "stream",
          "name": "stdout",
          "text": [
            "PeriodIndex(['2022-01', '2022-02', '2022-03', '2022-04', '2022-05', '2022-06'], dtype='period[M]')\n"
          ]
        }
      ]
    },
    {
      "cell_type": "code",
      "source": [
        "sd_prd = pd.period_range(start = \"2022-01-01\", # 시작 날짜\n",
        "                      end = None, # 끝 날짜\n",
        "                      periods = 6, # Period 개수 + 1 = 날짜 개수\n",
        "                      freq = 'H') # 1시간 간격\n",
        "print(sd_prd)"
      ],
      "metadata": {
        "id": "1K0Mi8sxj5Cz",
        "colab": {
          "base_uri": "https://localhost:8080/"
        },
        "outputId": "a5825358-415a-4d90-d72a-9d8e4dd57003"
      },
      "execution_count": null,
      "outputs": [
        {
          "output_type": "stream",
          "name": "stdout",
          "text": [
            "PeriodIndex(['2022-01-01 00:00', '2022-01-01 01:00', '2022-01-01 02:00',\n",
            "             '2022-01-01 03:00', '2022-01-01 04:00', '2022-01-01 05:00'],\n",
            "            dtype='period[H]')\n"
          ]
        }
      ]
    },
    {
      "cell_type": "code",
      "source": [
        "sd_prd = pd.period_range(start = \"2022-01-01\", # 시작 날짜\n",
        "                      end = None, # 끝 날짜\n",
        "                      periods = 6, # Period 개수 + 1 = 날짜 개수\n",
        "                      freq = '2H') # 2시간 간격\n",
        "print(sd_prd)"
      ],
      "metadata": {
        "colab": {
          "base_uri": "https://localhost:8080/"
        },
        "id": "IomH5xo0kJB6",
        "outputId": "a5dee63d-1c4e-48c0-8f1d-d3ffd341765a"
      },
      "execution_count": null,
      "outputs": [
        {
          "output_type": "stream",
          "name": "stdout",
          "text": [
            "PeriodIndex(['2022-01-01 00:00', '2022-01-01 02:00', '2022-01-01 04:00',\n",
            "             '2022-01-01 06:00', '2022-01-01 08:00', '2022-01-01 10:00'],\n",
            "            dtype='period[2H]')\n"
          ]
        }
      ]
    },
    {
      "cell_type": "markdown",
      "source": [
        "### 날짜 데이터 분리"
      ],
      "metadata": {
        "id": "J3Y69m4nsQqp"
      }
    },
    {
      "cell_type": "code",
      "source": [
        "df = pd.read_csv('/content/drive/MyDrive/HANARO/pandas datas/ch6/stock-data.csv')"
      ],
      "metadata": {
        "id": "847jWb2LsTsJ"
      },
      "execution_count": null,
      "outputs": []
    },
    {
      "cell_type": "code",
      "source": [
        "\n",
        "df.info()"
      ],
      "metadata": {
        "id": "vy_RGKuvs0hI",
        "colab": {
          "base_uri": "https://localhost:8080/"
        },
        "outputId": "e7fe0f12-129e-49cd-bd5b-b43236543093"
      },
      "execution_count": null,
      "outputs": [
        {
          "output_type": "stream",
          "name": "stdout",
          "text": [
            "<class 'pandas.core.frame.DataFrame'>\n",
            "RangeIndex: 20 entries, 0 to 19\n",
            "Data columns (total 6 columns):\n",
            " #   Column  Non-Null Count  Dtype \n",
            "---  ------  --------------  ----- \n",
            " 0   Date    20 non-null     object\n",
            " 1   Close   20 non-null     int64 \n",
            " 2   Start   20 non-null     int64 \n",
            " 3   High    20 non-null     int64 \n",
            " 4   Low     20 non-null     int64 \n",
            " 5   Volume  20 non-null     int64 \n",
            "dtypes: int64(5), object(1)\n",
            "memory usage: 1.1+ KB\n"
          ]
        }
      ]
    },
    {
      "cell_type": "code",
      "source": [
        "df['Date_new'] = pd.to_datetime(df['Date'])"
      ],
      "metadata": {
        "id": "SCVjxTDws3bb"
      },
      "execution_count": null,
      "outputs": []
    },
    {
      "cell_type": "code",
      "source": [
        "df.info()"
      ],
      "metadata": {
        "id": "GFQIgmC_tITU",
        "colab": {
          "base_uri": "https://localhost:8080/"
        },
        "outputId": "f44289a3-d5c5-40f4-9288-7d5b5aeacd75"
      },
      "execution_count": null,
      "outputs": [
        {
          "output_type": "stream",
          "name": "stdout",
          "text": [
            "<class 'pandas.core.frame.DataFrame'>\n",
            "RangeIndex: 20 entries, 0 to 19\n",
            "Data columns (total 7 columns):\n",
            " #   Column    Non-Null Count  Dtype         \n",
            "---  ------    --------------  -----         \n",
            " 0   Date      20 non-null     object        \n",
            " 1   Close     20 non-null     int64         \n",
            " 2   Start     20 non-null     int64         \n",
            " 3   High      20 non-null     int64         \n",
            " 4   Low       20 non-null     int64         \n",
            " 5   Volume    20 non-null     int64         \n",
            " 6   Date_new  20 non-null     datetime64[ns]\n",
            "dtypes: datetime64[ns](1), int64(5), object(1)\n",
            "memory usage: 1.2+ KB\n"
          ]
        }
      ]
    },
    {
      "cell_type": "code",
      "source": [
        "# Timestamp\n",
        "# 연-월-일 데이터에서 연, 월, 일 추출\n",
        "print(df['Date_new'])\n",
        "print(df['Date_new'].dt.year)"
      ],
      "metadata": {
        "id": "4Hz1jTlbtM06",
        "colab": {
          "base_uri": "https://localhost:8080/"
        },
        "outputId": "87b58e6b-0e07-421e-a1d5-a37ea01ae52d"
      },
      "execution_count": null,
      "outputs": [
        {
          "output_type": "stream",
          "name": "stdout",
          "text": [
            "0    2018-07-02\n",
            "1    2018-06-29\n",
            "2    2018-06-28\n",
            "3    2018-06-27\n",
            "4    2018-06-26\n",
            "5    2018-06-25\n",
            "6    2018-06-22\n",
            "7    2018-06-21\n",
            "8    2018-06-20\n",
            "9    2018-06-19\n",
            "10   2018-06-18\n",
            "11   2018-06-15\n",
            "12   2018-06-14\n",
            "13   2018-06-12\n",
            "14   2018-06-11\n",
            "15   2018-06-08\n",
            "16   2018-06-07\n",
            "17   2018-06-05\n",
            "18   2018-06-04\n",
            "19   2018-06-01\n",
            "Name: Date_new, dtype: datetime64[ns]\n",
            "0     2018\n",
            "1     2018\n",
            "2     2018\n",
            "3     2018\n",
            "4     2018\n",
            "5     2018\n",
            "6     2018\n",
            "7     2018\n",
            "8     2018\n",
            "9     2018\n",
            "10    2018\n",
            "11    2018\n",
            "12    2018\n",
            "13    2018\n",
            "14    2018\n",
            "15    2018\n",
            "16    2018\n",
            "17    2018\n",
            "18    2018\n",
            "19    2018\n",
            "Name: Date_new, dtype: int64\n"
          ]
        }
      ]
    },
    {
      "cell_type": "code",
      "source": [
        "print(df['Date_new'])\n",
        "print(df['Date_new'].dt.month)"
      ],
      "metadata": {
        "id": "fFl7mNQGthKi",
        "colab": {
          "base_uri": "https://localhost:8080/"
        },
        "outputId": "ddcdf26f-d8c1-41cd-a85d-7f96c09771a2"
      },
      "execution_count": null,
      "outputs": [
        {
          "output_type": "stream",
          "name": "stdout",
          "text": [
            "0    2018-07-02\n",
            "1    2018-06-29\n",
            "2    2018-06-28\n",
            "3    2018-06-27\n",
            "4    2018-06-26\n",
            "5    2018-06-25\n",
            "6    2018-06-22\n",
            "7    2018-06-21\n",
            "8    2018-06-20\n",
            "9    2018-06-19\n",
            "10   2018-06-18\n",
            "11   2018-06-15\n",
            "12   2018-06-14\n",
            "13   2018-06-12\n",
            "14   2018-06-11\n",
            "15   2018-06-08\n",
            "16   2018-06-07\n",
            "17   2018-06-05\n",
            "18   2018-06-04\n",
            "19   2018-06-01\n",
            "Name: Date_new, dtype: datetime64[ns]\n",
            "0     7\n",
            "1     6\n",
            "2     6\n",
            "3     6\n",
            "4     6\n",
            "5     6\n",
            "6     6\n",
            "7     6\n",
            "8     6\n",
            "9     6\n",
            "10    6\n",
            "11    6\n",
            "12    6\n",
            "13    6\n",
            "14    6\n",
            "15    6\n",
            "16    6\n",
            "17    6\n",
            "18    6\n",
            "19    6\n",
            "Name: Date_new, dtype: int64\n"
          ]
        }
      ]
    },
    {
      "cell_type": "code",
      "source": [
        "print(df['Date_new'])\n",
        "print(df['Date_new'].dt.day)"
      ],
      "metadata": {
        "id": "VCr6l1V2t0hC",
        "colab": {
          "base_uri": "https://localhost:8080/"
        },
        "outputId": "9a3c211b-f236-4856-cde0-a8b2564d9fb4"
      },
      "execution_count": null,
      "outputs": [
        {
          "output_type": "stream",
          "name": "stdout",
          "text": [
            "0    2018-07-02\n",
            "1    2018-06-29\n",
            "2    2018-06-28\n",
            "3    2018-06-27\n",
            "4    2018-06-26\n",
            "5    2018-06-25\n",
            "6    2018-06-22\n",
            "7    2018-06-21\n",
            "8    2018-06-20\n",
            "9    2018-06-19\n",
            "10   2018-06-18\n",
            "11   2018-06-15\n",
            "12   2018-06-14\n",
            "13   2018-06-12\n",
            "14   2018-06-11\n",
            "15   2018-06-08\n",
            "16   2018-06-07\n",
            "17   2018-06-05\n",
            "18   2018-06-04\n",
            "19   2018-06-01\n",
            "Name: Date_new, dtype: datetime64[ns]\n",
            "0      2\n",
            "1     29\n",
            "2     28\n",
            "3     27\n",
            "4     26\n",
            "5     25\n",
            "6     22\n",
            "7     21\n",
            "8     20\n",
            "9     19\n",
            "10    18\n",
            "11    15\n",
            "12    14\n",
            "13    12\n",
            "14    11\n",
            "15     8\n",
            "16     7\n",
            "17     5\n",
            "18     4\n",
            "19     1\n",
            "Name: Date_new, dtype: int64\n"
          ]
        }
      ]
    },
    {
      "cell_type": "code",
      "source": [
        "# Period\n",
        "print(df['Date_new'])\n",
        "print(df['Date_new'].dt.to_period(freq = 'A')) # 연"
      ],
      "metadata": {
        "id": "n2p7TK7dul_q",
        "colab": {
          "base_uri": "https://localhost:8080/"
        },
        "outputId": "252cffbd-759b-4e58-d962-9cc489c18b00"
      },
      "execution_count": null,
      "outputs": [
        {
          "output_type": "stream",
          "name": "stdout",
          "text": [
            "0    2018-07-02\n",
            "1    2018-06-29\n",
            "2    2018-06-28\n",
            "3    2018-06-27\n",
            "4    2018-06-26\n",
            "5    2018-06-25\n",
            "6    2018-06-22\n",
            "7    2018-06-21\n",
            "8    2018-06-20\n",
            "9    2018-06-19\n",
            "10   2018-06-18\n",
            "11   2018-06-15\n",
            "12   2018-06-14\n",
            "13   2018-06-12\n",
            "14   2018-06-11\n",
            "15   2018-06-08\n",
            "16   2018-06-07\n",
            "17   2018-06-05\n",
            "18   2018-06-04\n",
            "19   2018-06-01\n",
            "Name: Date_new, dtype: datetime64[ns]\n",
            "0     2018\n",
            "1     2018\n",
            "2     2018\n",
            "3     2018\n",
            "4     2018\n",
            "5     2018\n",
            "6     2018\n",
            "7     2018\n",
            "8     2018\n",
            "9     2018\n",
            "10    2018\n",
            "11    2018\n",
            "12    2018\n",
            "13    2018\n",
            "14    2018\n",
            "15    2018\n",
            "16    2018\n",
            "17    2018\n",
            "18    2018\n",
            "19    2018\n",
            "Name: Date_new, dtype: period[A-DEC]\n"
          ]
        }
      ]
    },
    {
      "cell_type": "code",
      "source": [
        "print(df['Date_new'])\n",
        "print(df['Date_new'].dt.to_period(freq = 'M')) # 연월"
      ],
      "metadata": {
        "id": "gLR1I3ifu6f0",
        "colab": {
          "base_uri": "https://localhost:8080/"
        },
        "outputId": "20567b8b-2464-4ce2-aa0e-c79d6fda5a36"
      },
      "execution_count": null,
      "outputs": [
        {
          "output_type": "stream",
          "name": "stdout",
          "text": [
            "0    2018-07-02\n",
            "1    2018-06-29\n",
            "2    2018-06-28\n",
            "3    2018-06-27\n",
            "4    2018-06-26\n",
            "5    2018-06-25\n",
            "6    2018-06-22\n",
            "7    2018-06-21\n",
            "8    2018-06-20\n",
            "9    2018-06-19\n",
            "10   2018-06-18\n",
            "11   2018-06-15\n",
            "12   2018-06-14\n",
            "13   2018-06-12\n",
            "14   2018-06-11\n",
            "15   2018-06-08\n",
            "16   2018-06-07\n",
            "17   2018-06-05\n",
            "18   2018-06-04\n",
            "19   2018-06-01\n",
            "Name: Date_new, dtype: datetime64[ns]\n",
            "0     2018-07\n",
            "1     2018-06\n",
            "2     2018-06\n",
            "3     2018-06\n",
            "4     2018-06\n",
            "5     2018-06\n",
            "6     2018-06\n",
            "7     2018-06\n",
            "8     2018-06\n",
            "9     2018-06\n",
            "10    2018-06\n",
            "11    2018-06\n",
            "12    2018-06\n",
            "13    2018-06\n",
            "14    2018-06\n",
            "15    2018-06\n",
            "16    2018-06\n",
            "17    2018-06\n",
            "18    2018-06\n",
            "19    2018-06\n",
            "Name: Date_new, dtype: period[M]\n"
          ]
        }
      ]
    },
    {
      "cell_type": "markdown",
      "source": [
        "### 날짜 인덱싱"
      ],
      "metadata": {
        "id": "KKrOgkYEruE3"
      }
    },
    {
      "cell_type": "code",
      "source": [
        "df.set_index('Date_new', inplace = True)"
      ],
      "metadata": {
        "id": "Z8e0k1L6rxLR"
      },
      "execution_count": null,
      "outputs": []
    },
    {
      "cell_type": "code",
      "source": [
        "df['2018'] # 연"
      ],
      "metadata": {
        "id": "t4uRpun-vlt_",
        "colab": {
          "base_uri": "https://localhost:8080/",
          "height": 764
        },
        "outputId": "84d363dc-89f0-4af6-ce00-49ba0be10090"
      },
      "execution_count": null,
      "outputs": [
        {
          "output_type": "stream",
          "name": "stderr",
          "text": [
            "<ipython-input-68-e175e568a30b>:1: FutureWarning: Indexing a DataFrame with a datetimelike index using a single string to slice the rows, like `frame[string]`, is deprecated and will be removed in a future version. Use `frame.loc[string]` instead.\n",
            "  df['2018'] # 연\n"
          ]
        },
        {
          "output_type": "execute_result",
          "data": {
            "text/plain": [
              "                  Date  Close  Start   High    Low  Volume\n",
              "Date_new                                                  \n",
              "2018-07-02  2018-07-02  10100  10850  10900  10000  137977\n",
              "2018-06-29  2018-06-29  10700  10550  10900   9990  170253\n",
              "2018-06-28  2018-06-28  10400  10900  10950  10150  155769\n",
              "2018-06-27  2018-06-27  10900  10800  11050  10500  133548\n",
              "2018-06-26  2018-06-26  10800  10900  11000  10700   63039\n",
              "2018-06-25  2018-06-25  11150  11400  11450  11000   55519\n",
              "2018-06-22  2018-06-22  11300  11250  11450  10750  134805\n",
              "2018-06-21  2018-06-21  11200  11350  11750  11200  133002\n",
              "2018-06-20  2018-06-20  11550  11200  11600  10900  308596\n",
              "2018-06-19  2018-06-19  11300  11850  11950  11300  180656\n",
              "2018-06-18  2018-06-18  12000  13400  13400  12000  309787\n",
              "2018-06-15  2018-06-15  13400  13600  13600  12900  201376\n",
              "2018-06-14  2018-06-14  13450  13200  13700  13150  347451\n",
              "2018-06-12  2018-06-12  13200  12200  13300  12050  558148\n",
              "2018-06-11  2018-06-11  11950  12000  12250  11950   62293\n",
              "2018-06-08  2018-06-08  11950  11950  12200  11800   59258\n",
              "2018-06-07  2018-06-07  11950  12200  12300  11900   49088\n",
              "2018-06-05  2018-06-05  12150  11800  12250  11800   42485\n",
              "2018-06-04  2018-06-04  11900  11900  12200  11700   25171\n",
              "2018-06-01  2018-06-01  11900  11800  12100  11750   32062"
            ],
            "text/html": [
              "\n",
              "  <div id=\"df-a587530f-48d9-4331-864c-6d4e9833587d\">\n",
              "    <div class=\"colab-df-container\">\n",
              "      <div>\n",
              "<style scoped>\n",
              "    .dataframe tbody tr th:only-of-type {\n",
              "        vertical-align: middle;\n",
              "    }\n",
              "\n",
              "    .dataframe tbody tr th {\n",
              "        vertical-align: top;\n",
              "    }\n",
              "\n",
              "    .dataframe thead th {\n",
              "        text-align: right;\n",
              "    }\n",
              "</style>\n",
              "<table border=\"1\" class=\"dataframe\">\n",
              "  <thead>\n",
              "    <tr style=\"text-align: right;\">\n",
              "      <th></th>\n",
              "      <th>Date</th>\n",
              "      <th>Close</th>\n",
              "      <th>Start</th>\n",
              "      <th>High</th>\n",
              "      <th>Low</th>\n",
              "      <th>Volume</th>\n",
              "    </tr>\n",
              "    <tr>\n",
              "      <th>Date_new</th>\n",
              "      <th></th>\n",
              "      <th></th>\n",
              "      <th></th>\n",
              "      <th></th>\n",
              "      <th></th>\n",
              "      <th></th>\n",
              "    </tr>\n",
              "  </thead>\n",
              "  <tbody>\n",
              "    <tr>\n",
              "      <th>2018-07-02</th>\n",
              "      <td>2018-07-02</td>\n",
              "      <td>10100</td>\n",
              "      <td>10850</td>\n",
              "      <td>10900</td>\n",
              "      <td>10000</td>\n",
              "      <td>137977</td>\n",
              "    </tr>\n",
              "    <tr>\n",
              "      <th>2018-06-29</th>\n",
              "      <td>2018-06-29</td>\n",
              "      <td>10700</td>\n",
              "      <td>10550</td>\n",
              "      <td>10900</td>\n",
              "      <td>9990</td>\n",
              "      <td>170253</td>\n",
              "    </tr>\n",
              "    <tr>\n",
              "      <th>2018-06-28</th>\n",
              "      <td>2018-06-28</td>\n",
              "      <td>10400</td>\n",
              "      <td>10900</td>\n",
              "      <td>10950</td>\n",
              "      <td>10150</td>\n",
              "      <td>155769</td>\n",
              "    </tr>\n",
              "    <tr>\n",
              "      <th>2018-06-27</th>\n",
              "      <td>2018-06-27</td>\n",
              "      <td>10900</td>\n",
              "      <td>10800</td>\n",
              "      <td>11050</td>\n",
              "      <td>10500</td>\n",
              "      <td>133548</td>\n",
              "    </tr>\n",
              "    <tr>\n",
              "      <th>2018-06-26</th>\n",
              "      <td>2018-06-26</td>\n",
              "      <td>10800</td>\n",
              "      <td>10900</td>\n",
              "      <td>11000</td>\n",
              "      <td>10700</td>\n",
              "      <td>63039</td>\n",
              "    </tr>\n",
              "    <tr>\n",
              "      <th>2018-06-25</th>\n",
              "      <td>2018-06-25</td>\n",
              "      <td>11150</td>\n",
              "      <td>11400</td>\n",
              "      <td>11450</td>\n",
              "      <td>11000</td>\n",
              "      <td>55519</td>\n",
              "    </tr>\n",
              "    <tr>\n",
              "      <th>2018-06-22</th>\n",
              "      <td>2018-06-22</td>\n",
              "      <td>11300</td>\n",
              "      <td>11250</td>\n",
              "      <td>11450</td>\n",
              "      <td>10750</td>\n",
              "      <td>134805</td>\n",
              "    </tr>\n",
              "    <tr>\n",
              "      <th>2018-06-21</th>\n",
              "      <td>2018-06-21</td>\n",
              "      <td>11200</td>\n",
              "      <td>11350</td>\n",
              "      <td>11750</td>\n",
              "      <td>11200</td>\n",
              "      <td>133002</td>\n",
              "    </tr>\n",
              "    <tr>\n",
              "      <th>2018-06-20</th>\n",
              "      <td>2018-06-20</td>\n",
              "      <td>11550</td>\n",
              "      <td>11200</td>\n",
              "      <td>11600</td>\n",
              "      <td>10900</td>\n",
              "      <td>308596</td>\n",
              "    </tr>\n",
              "    <tr>\n",
              "      <th>2018-06-19</th>\n",
              "      <td>2018-06-19</td>\n",
              "      <td>11300</td>\n",
              "      <td>11850</td>\n",
              "      <td>11950</td>\n",
              "      <td>11300</td>\n",
              "      <td>180656</td>\n",
              "    </tr>\n",
              "    <tr>\n",
              "      <th>2018-06-18</th>\n",
              "      <td>2018-06-18</td>\n",
              "      <td>12000</td>\n",
              "      <td>13400</td>\n",
              "      <td>13400</td>\n",
              "      <td>12000</td>\n",
              "      <td>309787</td>\n",
              "    </tr>\n",
              "    <tr>\n",
              "      <th>2018-06-15</th>\n",
              "      <td>2018-06-15</td>\n",
              "      <td>13400</td>\n",
              "      <td>13600</td>\n",
              "      <td>13600</td>\n",
              "      <td>12900</td>\n",
              "      <td>201376</td>\n",
              "    </tr>\n",
              "    <tr>\n",
              "      <th>2018-06-14</th>\n",
              "      <td>2018-06-14</td>\n",
              "      <td>13450</td>\n",
              "      <td>13200</td>\n",
              "      <td>13700</td>\n",
              "      <td>13150</td>\n",
              "      <td>347451</td>\n",
              "    </tr>\n",
              "    <tr>\n",
              "      <th>2018-06-12</th>\n",
              "      <td>2018-06-12</td>\n",
              "      <td>13200</td>\n",
              "      <td>12200</td>\n",
              "      <td>13300</td>\n",
              "      <td>12050</td>\n",
              "      <td>558148</td>\n",
              "    </tr>\n",
              "    <tr>\n",
              "      <th>2018-06-11</th>\n",
              "      <td>2018-06-11</td>\n",
              "      <td>11950</td>\n",
              "      <td>12000</td>\n",
              "      <td>12250</td>\n",
              "      <td>11950</td>\n",
              "      <td>62293</td>\n",
              "    </tr>\n",
              "    <tr>\n",
              "      <th>2018-06-08</th>\n",
              "      <td>2018-06-08</td>\n",
              "      <td>11950</td>\n",
              "      <td>11950</td>\n",
              "      <td>12200</td>\n",
              "      <td>11800</td>\n",
              "      <td>59258</td>\n",
              "    </tr>\n",
              "    <tr>\n",
              "      <th>2018-06-07</th>\n",
              "      <td>2018-06-07</td>\n",
              "      <td>11950</td>\n",
              "      <td>12200</td>\n",
              "      <td>12300</td>\n",
              "      <td>11900</td>\n",
              "      <td>49088</td>\n",
              "    </tr>\n",
              "    <tr>\n",
              "      <th>2018-06-05</th>\n",
              "      <td>2018-06-05</td>\n",
              "      <td>12150</td>\n",
              "      <td>11800</td>\n",
              "      <td>12250</td>\n",
              "      <td>11800</td>\n",
              "      <td>42485</td>\n",
              "    </tr>\n",
              "    <tr>\n",
              "      <th>2018-06-04</th>\n",
              "      <td>2018-06-04</td>\n",
              "      <td>11900</td>\n",
              "      <td>11900</td>\n",
              "      <td>12200</td>\n",
              "      <td>11700</td>\n",
              "      <td>25171</td>\n",
              "    </tr>\n",
              "    <tr>\n",
              "      <th>2018-06-01</th>\n",
              "      <td>2018-06-01</td>\n",
              "      <td>11900</td>\n",
              "      <td>11800</td>\n",
              "      <td>12100</td>\n",
              "      <td>11750</td>\n",
              "      <td>32062</td>\n",
              "    </tr>\n",
              "  </tbody>\n",
              "</table>\n",
              "</div>\n",
              "      <button class=\"colab-df-convert\" onclick=\"convertToInteractive('df-a587530f-48d9-4331-864c-6d4e9833587d')\"\n",
              "              title=\"Convert this dataframe to an interactive table.\"\n",
              "              style=\"display:none;\">\n",
              "        \n",
              "  <svg xmlns=\"http://www.w3.org/2000/svg\" height=\"24px\"viewBox=\"0 0 24 24\"\n",
              "       width=\"24px\">\n",
              "    <path d=\"M0 0h24v24H0V0z\" fill=\"none\"/>\n",
              "    <path d=\"M18.56 5.44l.94 2.06.94-2.06 2.06-.94-2.06-.94-.94-2.06-.94 2.06-2.06.94zm-11 1L8.5 8.5l.94-2.06 2.06-.94-2.06-.94L8.5 2.5l-.94 2.06-2.06.94zm10 10l.94 2.06.94-2.06 2.06-.94-2.06-.94-.94-2.06-.94 2.06-2.06.94z\"/><path d=\"M17.41 7.96l-1.37-1.37c-.4-.4-.92-.59-1.43-.59-.52 0-1.04.2-1.43.59L10.3 9.45l-7.72 7.72c-.78.78-.78 2.05 0 2.83L4 21.41c.39.39.9.59 1.41.59.51 0 1.02-.2 1.41-.59l7.78-7.78 2.81-2.81c.8-.78.8-2.07 0-2.86zM5.41 20L4 18.59l7.72-7.72 1.47 1.35L5.41 20z\"/>\n",
              "  </svg>\n",
              "      </button>\n",
              "      \n",
              "  <style>\n",
              "    .colab-df-container {\n",
              "      display:flex;\n",
              "      flex-wrap:wrap;\n",
              "      gap: 12px;\n",
              "    }\n",
              "\n",
              "    .colab-df-convert {\n",
              "      background-color: #E8F0FE;\n",
              "      border: none;\n",
              "      border-radius: 50%;\n",
              "      cursor: pointer;\n",
              "      display: none;\n",
              "      fill: #1967D2;\n",
              "      height: 32px;\n",
              "      padding: 0 0 0 0;\n",
              "      width: 32px;\n",
              "    }\n",
              "\n",
              "    .colab-df-convert:hover {\n",
              "      background-color: #E2EBFA;\n",
              "      box-shadow: 0px 1px 2px rgba(60, 64, 67, 0.3), 0px 1px 3px 1px rgba(60, 64, 67, 0.15);\n",
              "      fill: #174EA6;\n",
              "    }\n",
              "\n",
              "    [theme=dark] .colab-df-convert {\n",
              "      background-color: #3B4455;\n",
              "      fill: #D2E3FC;\n",
              "    }\n",
              "\n",
              "    [theme=dark] .colab-df-convert:hover {\n",
              "      background-color: #434B5C;\n",
              "      box-shadow: 0px 1px 3px 1px rgba(0, 0, 0, 0.15);\n",
              "      filter: drop-shadow(0px 1px 2px rgba(0, 0, 0, 0.3));\n",
              "      fill: #FFFFFF;\n",
              "    }\n",
              "  </style>\n",
              "\n",
              "      <script>\n",
              "        const buttonEl =\n",
              "          document.querySelector('#df-a587530f-48d9-4331-864c-6d4e9833587d button.colab-df-convert');\n",
              "        buttonEl.style.display =\n",
              "          google.colab.kernel.accessAllowed ? 'block' : 'none';\n",
              "\n",
              "        async function convertToInteractive(key) {\n",
              "          const element = document.querySelector('#df-a587530f-48d9-4331-864c-6d4e9833587d');\n",
              "          const dataTable =\n",
              "            await google.colab.kernel.invokeFunction('convertToInteractive',\n",
              "                                                     [key], {});\n",
              "          if (!dataTable) return;\n",
              "\n",
              "          const docLinkHtml = 'Like what you see? Visit the ' +\n",
              "            '<a target=\"_blank\" href=https://colab.research.google.com/notebooks/data_table.ipynb>data table notebook</a>'\n",
              "            + ' to learn more about interactive tables.';\n",
              "          element.innerHTML = '';\n",
              "          dataTable['output_type'] = 'display_data';\n",
              "          await google.colab.output.renderOutput(dataTable, element);\n",
              "          const docLink = document.createElement('div');\n",
              "          docLink.innerHTML = docLinkHtml;\n",
              "          element.appendChild(docLink);\n",
              "        }\n",
              "      </script>\n",
              "    </div>\n",
              "  </div>\n",
              "  "
            ]
          },
          "metadata": {},
          "execution_count": 68
        }
      ]
    },
    {
      "cell_type": "code",
      "source": [
        "df['2018-06'] # 연월"
      ],
      "metadata": {
        "id": "UHRui_Q-vwkD",
        "colab": {
          "base_uri": "https://localhost:8080/",
          "height": 733
        },
        "outputId": "278f7d55-654e-47c8-93ee-9735c3431c56"
      },
      "execution_count": null,
      "outputs": [
        {
          "output_type": "stream",
          "name": "stderr",
          "text": [
            "<ipython-input-69-debd18025e03>:1: FutureWarning: Indexing a DataFrame with a datetimelike index using a single string to slice the rows, like `frame[string]`, is deprecated and will be removed in a future version. Use `frame.loc[string]` instead.\n",
            "  df['2018-06'] # 연월\n"
          ]
        },
        {
          "output_type": "execute_result",
          "data": {
            "text/plain": [
              "                  Date  Close  Start   High    Low  Volume\n",
              "Date_new                                                  \n",
              "2018-06-29  2018-06-29  10700  10550  10900   9990  170253\n",
              "2018-06-28  2018-06-28  10400  10900  10950  10150  155769\n",
              "2018-06-27  2018-06-27  10900  10800  11050  10500  133548\n",
              "2018-06-26  2018-06-26  10800  10900  11000  10700   63039\n",
              "2018-06-25  2018-06-25  11150  11400  11450  11000   55519\n",
              "2018-06-22  2018-06-22  11300  11250  11450  10750  134805\n",
              "2018-06-21  2018-06-21  11200  11350  11750  11200  133002\n",
              "2018-06-20  2018-06-20  11550  11200  11600  10900  308596\n",
              "2018-06-19  2018-06-19  11300  11850  11950  11300  180656\n",
              "2018-06-18  2018-06-18  12000  13400  13400  12000  309787\n",
              "2018-06-15  2018-06-15  13400  13600  13600  12900  201376\n",
              "2018-06-14  2018-06-14  13450  13200  13700  13150  347451\n",
              "2018-06-12  2018-06-12  13200  12200  13300  12050  558148\n",
              "2018-06-11  2018-06-11  11950  12000  12250  11950   62293\n",
              "2018-06-08  2018-06-08  11950  11950  12200  11800   59258\n",
              "2018-06-07  2018-06-07  11950  12200  12300  11900   49088\n",
              "2018-06-05  2018-06-05  12150  11800  12250  11800   42485\n",
              "2018-06-04  2018-06-04  11900  11900  12200  11700   25171\n",
              "2018-06-01  2018-06-01  11900  11800  12100  11750   32062"
            ],
            "text/html": [
              "\n",
              "  <div id=\"df-333b559b-fff8-4aaa-a2e6-5e3135a275e6\">\n",
              "    <div class=\"colab-df-container\">\n",
              "      <div>\n",
              "<style scoped>\n",
              "    .dataframe tbody tr th:only-of-type {\n",
              "        vertical-align: middle;\n",
              "    }\n",
              "\n",
              "    .dataframe tbody tr th {\n",
              "        vertical-align: top;\n",
              "    }\n",
              "\n",
              "    .dataframe thead th {\n",
              "        text-align: right;\n",
              "    }\n",
              "</style>\n",
              "<table border=\"1\" class=\"dataframe\">\n",
              "  <thead>\n",
              "    <tr style=\"text-align: right;\">\n",
              "      <th></th>\n",
              "      <th>Date</th>\n",
              "      <th>Close</th>\n",
              "      <th>Start</th>\n",
              "      <th>High</th>\n",
              "      <th>Low</th>\n",
              "      <th>Volume</th>\n",
              "    </tr>\n",
              "    <tr>\n",
              "      <th>Date_new</th>\n",
              "      <th></th>\n",
              "      <th></th>\n",
              "      <th></th>\n",
              "      <th></th>\n",
              "      <th></th>\n",
              "      <th></th>\n",
              "    </tr>\n",
              "  </thead>\n",
              "  <tbody>\n",
              "    <tr>\n",
              "      <th>2018-06-29</th>\n",
              "      <td>2018-06-29</td>\n",
              "      <td>10700</td>\n",
              "      <td>10550</td>\n",
              "      <td>10900</td>\n",
              "      <td>9990</td>\n",
              "      <td>170253</td>\n",
              "    </tr>\n",
              "    <tr>\n",
              "      <th>2018-06-28</th>\n",
              "      <td>2018-06-28</td>\n",
              "      <td>10400</td>\n",
              "      <td>10900</td>\n",
              "      <td>10950</td>\n",
              "      <td>10150</td>\n",
              "      <td>155769</td>\n",
              "    </tr>\n",
              "    <tr>\n",
              "      <th>2018-06-27</th>\n",
              "      <td>2018-06-27</td>\n",
              "      <td>10900</td>\n",
              "      <td>10800</td>\n",
              "      <td>11050</td>\n",
              "      <td>10500</td>\n",
              "      <td>133548</td>\n",
              "    </tr>\n",
              "    <tr>\n",
              "      <th>2018-06-26</th>\n",
              "      <td>2018-06-26</td>\n",
              "      <td>10800</td>\n",
              "      <td>10900</td>\n",
              "      <td>11000</td>\n",
              "      <td>10700</td>\n",
              "      <td>63039</td>\n",
              "    </tr>\n",
              "    <tr>\n",
              "      <th>2018-06-25</th>\n",
              "      <td>2018-06-25</td>\n",
              "      <td>11150</td>\n",
              "      <td>11400</td>\n",
              "      <td>11450</td>\n",
              "      <td>11000</td>\n",
              "      <td>55519</td>\n",
              "    </tr>\n",
              "    <tr>\n",
              "      <th>2018-06-22</th>\n",
              "      <td>2018-06-22</td>\n",
              "      <td>11300</td>\n",
              "      <td>11250</td>\n",
              "      <td>11450</td>\n",
              "      <td>10750</td>\n",
              "      <td>134805</td>\n",
              "    </tr>\n",
              "    <tr>\n",
              "      <th>2018-06-21</th>\n",
              "      <td>2018-06-21</td>\n",
              "      <td>11200</td>\n",
              "      <td>11350</td>\n",
              "      <td>11750</td>\n",
              "      <td>11200</td>\n",
              "      <td>133002</td>\n",
              "    </tr>\n",
              "    <tr>\n",
              "      <th>2018-06-20</th>\n",
              "      <td>2018-06-20</td>\n",
              "      <td>11550</td>\n",
              "      <td>11200</td>\n",
              "      <td>11600</td>\n",
              "      <td>10900</td>\n",
              "      <td>308596</td>\n",
              "    </tr>\n",
              "    <tr>\n",
              "      <th>2018-06-19</th>\n",
              "      <td>2018-06-19</td>\n",
              "      <td>11300</td>\n",
              "      <td>11850</td>\n",
              "      <td>11950</td>\n",
              "      <td>11300</td>\n",
              "      <td>180656</td>\n",
              "    </tr>\n",
              "    <tr>\n",
              "      <th>2018-06-18</th>\n",
              "      <td>2018-06-18</td>\n",
              "      <td>12000</td>\n",
              "      <td>13400</td>\n",
              "      <td>13400</td>\n",
              "      <td>12000</td>\n",
              "      <td>309787</td>\n",
              "    </tr>\n",
              "    <tr>\n",
              "      <th>2018-06-15</th>\n",
              "      <td>2018-06-15</td>\n",
              "      <td>13400</td>\n",
              "      <td>13600</td>\n",
              "      <td>13600</td>\n",
              "      <td>12900</td>\n",
              "      <td>201376</td>\n",
              "    </tr>\n",
              "    <tr>\n",
              "      <th>2018-06-14</th>\n",
              "      <td>2018-06-14</td>\n",
              "      <td>13450</td>\n",
              "      <td>13200</td>\n",
              "      <td>13700</td>\n",
              "      <td>13150</td>\n",
              "      <td>347451</td>\n",
              "    </tr>\n",
              "    <tr>\n",
              "      <th>2018-06-12</th>\n",
              "      <td>2018-06-12</td>\n",
              "      <td>13200</td>\n",
              "      <td>12200</td>\n",
              "      <td>13300</td>\n",
              "      <td>12050</td>\n",
              "      <td>558148</td>\n",
              "    </tr>\n",
              "    <tr>\n",
              "      <th>2018-06-11</th>\n",
              "      <td>2018-06-11</td>\n",
              "      <td>11950</td>\n",
              "      <td>12000</td>\n",
              "      <td>12250</td>\n",
              "      <td>11950</td>\n",
              "      <td>62293</td>\n",
              "    </tr>\n",
              "    <tr>\n",
              "      <th>2018-06-08</th>\n",
              "      <td>2018-06-08</td>\n",
              "      <td>11950</td>\n",
              "      <td>11950</td>\n",
              "      <td>12200</td>\n",
              "      <td>11800</td>\n",
              "      <td>59258</td>\n",
              "    </tr>\n",
              "    <tr>\n",
              "      <th>2018-06-07</th>\n",
              "      <td>2018-06-07</td>\n",
              "      <td>11950</td>\n",
              "      <td>12200</td>\n",
              "      <td>12300</td>\n",
              "      <td>11900</td>\n",
              "      <td>49088</td>\n",
              "    </tr>\n",
              "    <tr>\n",
              "      <th>2018-06-05</th>\n",
              "      <td>2018-06-05</td>\n",
              "      <td>12150</td>\n",
              "      <td>11800</td>\n",
              "      <td>12250</td>\n",
              "      <td>11800</td>\n",
              "      <td>42485</td>\n",
              "    </tr>\n",
              "    <tr>\n",
              "      <th>2018-06-04</th>\n",
              "      <td>2018-06-04</td>\n",
              "      <td>11900</td>\n",
              "      <td>11900</td>\n",
              "      <td>12200</td>\n",
              "      <td>11700</td>\n",
              "      <td>25171</td>\n",
              "    </tr>\n",
              "    <tr>\n",
              "      <th>2018-06-01</th>\n",
              "      <td>2018-06-01</td>\n",
              "      <td>11900</td>\n",
              "      <td>11800</td>\n",
              "      <td>12100</td>\n",
              "      <td>11750</td>\n",
              "      <td>32062</td>\n",
              "    </tr>\n",
              "  </tbody>\n",
              "</table>\n",
              "</div>\n",
              "      <button class=\"colab-df-convert\" onclick=\"convertToInteractive('df-333b559b-fff8-4aaa-a2e6-5e3135a275e6')\"\n",
              "              title=\"Convert this dataframe to an interactive table.\"\n",
              "              style=\"display:none;\">\n",
              "        \n",
              "  <svg xmlns=\"http://www.w3.org/2000/svg\" height=\"24px\"viewBox=\"0 0 24 24\"\n",
              "       width=\"24px\">\n",
              "    <path d=\"M0 0h24v24H0V0z\" fill=\"none\"/>\n",
              "    <path d=\"M18.56 5.44l.94 2.06.94-2.06 2.06-.94-2.06-.94-.94-2.06-.94 2.06-2.06.94zm-11 1L8.5 8.5l.94-2.06 2.06-.94-2.06-.94L8.5 2.5l-.94 2.06-2.06.94zm10 10l.94 2.06.94-2.06 2.06-.94-2.06-.94-.94-2.06-.94 2.06-2.06.94z\"/><path d=\"M17.41 7.96l-1.37-1.37c-.4-.4-.92-.59-1.43-.59-.52 0-1.04.2-1.43.59L10.3 9.45l-7.72 7.72c-.78.78-.78 2.05 0 2.83L4 21.41c.39.39.9.59 1.41.59.51 0 1.02-.2 1.41-.59l7.78-7.78 2.81-2.81c.8-.78.8-2.07 0-2.86zM5.41 20L4 18.59l7.72-7.72 1.47 1.35L5.41 20z\"/>\n",
              "  </svg>\n",
              "      </button>\n",
              "      \n",
              "  <style>\n",
              "    .colab-df-container {\n",
              "      display:flex;\n",
              "      flex-wrap:wrap;\n",
              "      gap: 12px;\n",
              "    }\n",
              "\n",
              "    .colab-df-convert {\n",
              "      background-color: #E8F0FE;\n",
              "      border: none;\n",
              "      border-radius: 50%;\n",
              "      cursor: pointer;\n",
              "      display: none;\n",
              "      fill: #1967D2;\n",
              "      height: 32px;\n",
              "      padding: 0 0 0 0;\n",
              "      width: 32px;\n",
              "    }\n",
              "\n",
              "    .colab-df-convert:hover {\n",
              "      background-color: #E2EBFA;\n",
              "      box-shadow: 0px 1px 2px rgba(60, 64, 67, 0.3), 0px 1px 3px 1px rgba(60, 64, 67, 0.15);\n",
              "      fill: #174EA6;\n",
              "    }\n",
              "\n",
              "    [theme=dark] .colab-df-convert {\n",
              "      background-color: #3B4455;\n",
              "      fill: #D2E3FC;\n",
              "    }\n",
              "\n",
              "    [theme=dark] .colab-df-convert:hover {\n",
              "      background-color: #434B5C;\n",
              "      box-shadow: 0px 1px 3px 1px rgba(0, 0, 0, 0.15);\n",
              "      filter: drop-shadow(0px 1px 2px rgba(0, 0, 0, 0.3));\n",
              "      fill: #FFFFFF;\n",
              "    }\n",
              "  </style>\n",
              "\n",
              "      <script>\n",
              "        const buttonEl =\n",
              "          document.querySelector('#df-333b559b-fff8-4aaa-a2e6-5e3135a275e6 button.colab-df-convert');\n",
              "        buttonEl.style.display =\n",
              "          google.colab.kernel.accessAllowed ? 'block' : 'none';\n",
              "\n",
              "        async function convertToInteractive(key) {\n",
              "          const element = document.querySelector('#df-333b559b-fff8-4aaa-a2e6-5e3135a275e6');\n",
              "          const dataTable =\n",
              "            await google.colab.kernel.invokeFunction('convertToInteractive',\n",
              "                                                     [key], {});\n",
              "          if (!dataTable) return;\n",
              "\n",
              "          const docLinkHtml = 'Like what you see? Visit the ' +\n",
              "            '<a target=\"_blank\" href=https://colab.research.google.com/notebooks/data_table.ipynb>data table notebook</a>'\n",
              "            + ' to learn more about interactive tables.';\n",
              "          element.innerHTML = '';\n",
              "          dataTable['output_type'] = 'display_data';\n",
              "          await google.colab.output.renderOutput(dataTable, element);\n",
              "          const docLink = document.createElement('div');\n",
              "          docLink.innerHTML = docLinkHtml;\n",
              "          element.appendChild(docLink);\n",
              "        }\n",
              "      </script>\n",
              "    </div>\n",
              "  </div>\n",
              "  "
            ]
          },
          "metadata": {},
          "execution_count": 69
        }
      ]
    },
    {
      "cell_type": "code",
      "source": [
        "df.head()"
      ],
      "metadata": {
        "id": "42EmgHilv7zX",
        "colab": {
          "base_uri": "https://localhost:8080/",
          "height": 237
        },
        "outputId": "2035a60a-ad9b-455c-feef-c94ad0078f7f"
      },
      "execution_count": null,
      "outputs": [
        {
          "output_type": "execute_result",
          "data": {
            "text/plain": [
              "                  Date  Close  Start   High    Low  Volume\n",
              "Date_new                                                  \n",
              "2018-07-02  2018-07-02  10100  10850  10900  10000  137977\n",
              "2018-06-29  2018-06-29  10700  10550  10900   9990  170253\n",
              "2018-06-28  2018-06-28  10400  10900  10950  10150  155769\n",
              "2018-06-27  2018-06-27  10900  10800  11050  10500  133548\n",
              "2018-06-26  2018-06-26  10800  10900  11000  10700   63039"
            ],
            "text/html": [
              "\n",
              "  <div id=\"df-557e334a-0c8c-4572-811a-466d957a32d6\">\n",
              "    <div class=\"colab-df-container\">\n",
              "      <div>\n",
              "<style scoped>\n",
              "    .dataframe tbody tr th:only-of-type {\n",
              "        vertical-align: middle;\n",
              "    }\n",
              "\n",
              "    .dataframe tbody tr th {\n",
              "        vertical-align: top;\n",
              "    }\n",
              "\n",
              "    .dataframe thead th {\n",
              "        text-align: right;\n",
              "    }\n",
              "</style>\n",
              "<table border=\"1\" class=\"dataframe\">\n",
              "  <thead>\n",
              "    <tr style=\"text-align: right;\">\n",
              "      <th></th>\n",
              "      <th>Date</th>\n",
              "      <th>Close</th>\n",
              "      <th>Start</th>\n",
              "      <th>High</th>\n",
              "      <th>Low</th>\n",
              "      <th>Volume</th>\n",
              "    </tr>\n",
              "    <tr>\n",
              "      <th>Date_new</th>\n",
              "      <th></th>\n",
              "      <th></th>\n",
              "      <th></th>\n",
              "      <th></th>\n",
              "      <th></th>\n",
              "      <th></th>\n",
              "    </tr>\n",
              "  </thead>\n",
              "  <tbody>\n",
              "    <tr>\n",
              "      <th>2018-07-02</th>\n",
              "      <td>2018-07-02</td>\n",
              "      <td>10100</td>\n",
              "      <td>10850</td>\n",
              "      <td>10900</td>\n",
              "      <td>10000</td>\n",
              "      <td>137977</td>\n",
              "    </tr>\n",
              "    <tr>\n",
              "      <th>2018-06-29</th>\n",
              "      <td>2018-06-29</td>\n",
              "      <td>10700</td>\n",
              "      <td>10550</td>\n",
              "      <td>10900</td>\n",
              "      <td>9990</td>\n",
              "      <td>170253</td>\n",
              "    </tr>\n",
              "    <tr>\n",
              "      <th>2018-06-28</th>\n",
              "      <td>2018-06-28</td>\n",
              "      <td>10400</td>\n",
              "      <td>10900</td>\n",
              "      <td>10950</td>\n",
              "      <td>10150</td>\n",
              "      <td>155769</td>\n",
              "    </tr>\n",
              "    <tr>\n",
              "      <th>2018-06-27</th>\n",
              "      <td>2018-06-27</td>\n",
              "      <td>10900</td>\n",
              "      <td>10800</td>\n",
              "      <td>11050</td>\n",
              "      <td>10500</td>\n",
              "      <td>133548</td>\n",
              "    </tr>\n",
              "    <tr>\n",
              "      <th>2018-06-26</th>\n",
              "      <td>2018-06-26</td>\n",
              "      <td>10800</td>\n",
              "      <td>10900</td>\n",
              "      <td>11000</td>\n",
              "      <td>10700</td>\n",
              "      <td>63039</td>\n",
              "    </tr>\n",
              "  </tbody>\n",
              "</table>\n",
              "</div>\n",
              "      <button class=\"colab-df-convert\" onclick=\"convertToInteractive('df-557e334a-0c8c-4572-811a-466d957a32d6')\"\n",
              "              title=\"Convert this dataframe to an interactive table.\"\n",
              "              style=\"display:none;\">\n",
              "        \n",
              "  <svg xmlns=\"http://www.w3.org/2000/svg\" height=\"24px\"viewBox=\"0 0 24 24\"\n",
              "       width=\"24px\">\n",
              "    <path d=\"M0 0h24v24H0V0z\" fill=\"none\"/>\n",
              "    <path d=\"M18.56 5.44l.94 2.06.94-2.06 2.06-.94-2.06-.94-.94-2.06-.94 2.06-2.06.94zm-11 1L8.5 8.5l.94-2.06 2.06-.94-2.06-.94L8.5 2.5l-.94 2.06-2.06.94zm10 10l.94 2.06.94-2.06 2.06-.94-2.06-.94-.94-2.06-.94 2.06-2.06.94z\"/><path d=\"M17.41 7.96l-1.37-1.37c-.4-.4-.92-.59-1.43-.59-.52 0-1.04.2-1.43.59L10.3 9.45l-7.72 7.72c-.78.78-.78 2.05 0 2.83L4 21.41c.39.39.9.59 1.41.59.51 0 1.02-.2 1.41-.59l7.78-7.78 2.81-2.81c.8-.78.8-2.07 0-2.86zM5.41 20L4 18.59l7.72-7.72 1.47 1.35L5.41 20z\"/>\n",
              "  </svg>\n",
              "      </button>\n",
              "      \n",
              "  <style>\n",
              "    .colab-df-container {\n",
              "      display:flex;\n",
              "      flex-wrap:wrap;\n",
              "      gap: 12px;\n",
              "    }\n",
              "\n",
              "    .colab-df-convert {\n",
              "      background-color: #E8F0FE;\n",
              "      border: none;\n",
              "      border-radius: 50%;\n",
              "      cursor: pointer;\n",
              "      display: none;\n",
              "      fill: #1967D2;\n",
              "      height: 32px;\n",
              "      padding: 0 0 0 0;\n",
              "      width: 32px;\n",
              "    }\n",
              "\n",
              "    .colab-df-convert:hover {\n",
              "      background-color: #E2EBFA;\n",
              "      box-shadow: 0px 1px 2px rgba(60, 64, 67, 0.3), 0px 1px 3px 1px rgba(60, 64, 67, 0.15);\n",
              "      fill: #174EA6;\n",
              "    }\n",
              "\n",
              "    [theme=dark] .colab-df-convert {\n",
              "      background-color: #3B4455;\n",
              "      fill: #D2E3FC;\n",
              "    }\n",
              "\n",
              "    [theme=dark] .colab-df-convert:hover {\n",
              "      background-color: #434B5C;\n",
              "      box-shadow: 0px 1px 3px 1px rgba(0, 0, 0, 0.15);\n",
              "      filter: drop-shadow(0px 1px 2px rgba(0, 0, 0, 0.3));\n",
              "      fill: #FFFFFF;\n",
              "    }\n",
              "  </style>\n",
              "\n",
              "      <script>\n",
              "        const buttonEl =\n",
              "          document.querySelector('#df-557e334a-0c8c-4572-811a-466d957a32d6 button.colab-df-convert');\n",
              "        buttonEl.style.display =\n",
              "          google.colab.kernel.accessAllowed ? 'block' : 'none';\n",
              "\n",
              "        async function convertToInteractive(key) {\n",
              "          const element = document.querySelector('#df-557e334a-0c8c-4572-811a-466d957a32d6');\n",
              "          const dataTable =\n",
              "            await google.colab.kernel.invokeFunction('convertToInteractive',\n",
              "                                                     [key], {});\n",
              "          if (!dataTable) return;\n",
              "\n",
              "          const docLinkHtml = 'Like what you see? Visit the ' +\n",
              "            '<a target=\"_blank\" href=https://colab.research.google.com/notebooks/data_table.ipynb>data table notebook</a>'\n",
              "            + ' to learn more about interactive tables.';\n",
              "          element.innerHTML = '';\n",
              "          dataTable['output_type'] = 'display_data';\n",
              "          await google.colab.output.renderOutput(dataTable, element);\n",
              "          const docLink = document.createElement('div');\n",
              "          docLink.innerHTML = docLinkHtml;\n",
              "          element.appendChild(docLink);\n",
              "        }\n",
              "      </script>\n",
              "    </div>\n",
              "  </div>\n",
              "  "
            ]
          },
          "metadata": {},
          "execution_count": 70
        }
      ]
    },
    {
      "cell_type": "code",
      "source": [
        "df.loc['2018-06','High':] # 연월 & High 열부터 끝까지"
      ],
      "metadata": {
        "id": "ZDyVyv6CwKTJ",
        "colab": {
          "base_uri": "https://localhost:8080/",
          "height": 676
        },
        "outputId": "f6b8df0e-4578-4da7-d9a3-844788e86048"
      },
      "execution_count": null,
      "outputs": [
        {
          "output_type": "execute_result",
          "data": {
            "text/plain": [
              "             High    Low  Volume\n",
              "Date_new                        \n",
              "2018-06-29  10900   9990  170253\n",
              "2018-06-28  10950  10150  155769\n",
              "2018-06-27  11050  10500  133548\n",
              "2018-06-26  11000  10700   63039\n",
              "2018-06-25  11450  11000   55519\n",
              "2018-06-22  11450  10750  134805\n",
              "2018-06-21  11750  11200  133002\n",
              "2018-06-20  11600  10900  308596\n",
              "2018-06-19  11950  11300  180656\n",
              "2018-06-18  13400  12000  309787\n",
              "2018-06-15  13600  12900  201376\n",
              "2018-06-14  13700  13150  347451\n",
              "2018-06-12  13300  12050  558148\n",
              "2018-06-11  12250  11950   62293\n",
              "2018-06-08  12200  11800   59258\n",
              "2018-06-07  12300  11900   49088\n",
              "2018-06-05  12250  11800   42485\n",
              "2018-06-04  12200  11700   25171\n",
              "2018-06-01  12100  11750   32062"
            ],
            "text/html": [
              "\n",
              "  <div id=\"df-f3072f7d-19e4-4efe-8105-0952d61f8be4\">\n",
              "    <div class=\"colab-df-container\">\n",
              "      <div>\n",
              "<style scoped>\n",
              "    .dataframe tbody tr th:only-of-type {\n",
              "        vertical-align: middle;\n",
              "    }\n",
              "\n",
              "    .dataframe tbody tr th {\n",
              "        vertical-align: top;\n",
              "    }\n",
              "\n",
              "    .dataframe thead th {\n",
              "        text-align: right;\n",
              "    }\n",
              "</style>\n",
              "<table border=\"1\" class=\"dataframe\">\n",
              "  <thead>\n",
              "    <tr style=\"text-align: right;\">\n",
              "      <th></th>\n",
              "      <th>High</th>\n",
              "      <th>Low</th>\n",
              "      <th>Volume</th>\n",
              "    </tr>\n",
              "    <tr>\n",
              "      <th>Date_new</th>\n",
              "      <th></th>\n",
              "      <th></th>\n",
              "      <th></th>\n",
              "    </tr>\n",
              "  </thead>\n",
              "  <tbody>\n",
              "    <tr>\n",
              "      <th>2018-06-29</th>\n",
              "      <td>10900</td>\n",
              "      <td>9990</td>\n",
              "      <td>170253</td>\n",
              "    </tr>\n",
              "    <tr>\n",
              "      <th>2018-06-28</th>\n",
              "      <td>10950</td>\n",
              "      <td>10150</td>\n",
              "      <td>155769</td>\n",
              "    </tr>\n",
              "    <tr>\n",
              "      <th>2018-06-27</th>\n",
              "      <td>11050</td>\n",
              "      <td>10500</td>\n",
              "      <td>133548</td>\n",
              "    </tr>\n",
              "    <tr>\n",
              "      <th>2018-06-26</th>\n",
              "      <td>11000</td>\n",
              "      <td>10700</td>\n",
              "      <td>63039</td>\n",
              "    </tr>\n",
              "    <tr>\n",
              "      <th>2018-06-25</th>\n",
              "      <td>11450</td>\n",
              "      <td>11000</td>\n",
              "      <td>55519</td>\n",
              "    </tr>\n",
              "    <tr>\n",
              "      <th>2018-06-22</th>\n",
              "      <td>11450</td>\n",
              "      <td>10750</td>\n",
              "      <td>134805</td>\n",
              "    </tr>\n",
              "    <tr>\n",
              "      <th>2018-06-21</th>\n",
              "      <td>11750</td>\n",
              "      <td>11200</td>\n",
              "      <td>133002</td>\n",
              "    </tr>\n",
              "    <tr>\n",
              "      <th>2018-06-20</th>\n",
              "      <td>11600</td>\n",
              "      <td>10900</td>\n",
              "      <td>308596</td>\n",
              "    </tr>\n",
              "    <tr>\n",
              "      <th>2018-06-19</th>\n",
              "      <td>11950</td>\n",
              "      <td>11300</td>\n",
              "      <td>180656</td>\n",
              "    </tr>\n",
              "    <tr>\n",
              "      <th>2018-06-18</th>\n",
              "      <td>13400</td>\n",
              "      <td>12000</td>\n",
              "      <td>309787</td>\n",
              "    </tr>\n",
              "    <tr>\n",
              "      <th>2018-06-15</th>\n",
              "      <td>13600</td>\n",
              "      <td>12900</td>\n",
              "      <td>201376</td>\n",
              "    </tr>\n",
              "    <tr>\n",
              "      <th>2018-06-14</th>\n",
              "      <td>13700</td>\n",
              "      <td>13150</td>\n",
              "      <td>347451</td>\n",
              "    </tr>\n",
              "    <tr>\n",
              "      <th>2018-06-12</th>\n",
              "      <td>13300</td>\n",
              "      <td>12050</td>\n",
              "      <td>558148</td>\n",
              "    </tr>\n",
              "    <tr>\n",
              "      <th>2018-06-11</th>\n",
              "      <td>12250</td>\n",
              "      <td>11950</td>\n",
              "      <td>62293</td>\n",
              "    </tr>\n",
              "    <tr>\n",
              "      <th>2018-06-08</th>\n",
              "      <td>12200</td>\n",
              "      <td>11800</td>\n",
              "      <td>59258</td>\n",
              "    </tr>\n",
              "    <tr>\n",
              "      <th>2018-06-07</th>\n",
              "      <td>12300</td>\n",
              "      <td>11900</td>\n",
              "      <td>49088</td>\n",
              "    </tr>\n",
              "    <tr>\n",
              "      <th>2018-06-05</th>\n",
              "      <td>12250</td>\n",
              "      <td>11800</td>\n",
              "      <td>42485</td>\n",
              "    </tr>\n",
              "    <tr>\n",
              "      <th>2018-06-04</th>\n",
              "      <td>12200</td>\n",
              "      <td>11700</td>\n",
              "      <td>25171</td>\n",
              "    </tr>\n",
              "    <tr>\n",
              "      <th>2018-06-01</th>\n",
              "      <td>12100</td>\n",
              "      <td>11750</td>\n",
              "      <td>32062</td>\n",
              "    </tr>\n",
              "  </tbody>\n",
              "</table>\n",
              "</div>\n",
              "      <button class=\"colab-df-convert\" onclick=\"convertToInteractive('df-f3072f7d-19e4-4efe-8105-0952d61f8be4')\"\n",
              "              title=\"Convert this dataframe to an interactive table.\"\n",
              "              style=\"display:none;\">\n",
              "        \n",
              "  <svg xmlns=\"http://www.w3.org/2000/svg\" height=\"24px\"viewBox=\"0 0 24 24\"\n",
              "       width=\"24px\">\n",
              "    <path d=\"M0 0h24v24H0V0z\" fill=\"none\"/>\n",
              "    <path d=\"M18.56 5.44l.94 2.06.94-2.06 2.06-.94-2.06-.94-.94-2.06-.94 2.06-2.06.94zm-11 1L8.5 8.5l.94-2.06 2.06-.94-2.06-.94L8.5 2.5l-.94 2.06-2.06.94zm10 10l.94 2.06.94-2.06 2.06-.94-2.06-.94-.94-2.06-.94 2.06-2.06.94z\"/><path d=\"M17.41 7.96l-1.37-1.37c-.4-.4-.92-.59-1.43-.59-.52 0-1.04.2-1.43.59L10.3 9.45l-7.72 7.72c-.78.78-.78 2.05 0 2.83L4 21.41c.39.39.9.59 1.41.59.51 0 1.02-.2 1.41-.59l7.78-7.78 2.81-2.81c.8-.78.8-2.07 0-2.86zM5.41 20L4 18.59l7.72-7.72 1.47 1.35L5.41 20z\"/>\n",
              "  </svg>\n",
              "      </button>\n",
              "      \n",
              "  <style>\n",
              "    .colab-df-container {\n",
              "      display:flex;\n",
              "      flex-wrap:wrap;\n",
              "      gap: 12px;\n",
              "    }\n",
              "\n",
              "    .colab-df-convert {\n",
              "      background-color: #E8F0FE;\n",
              "      border: none;\n",
              "      border-radius: 50%;\n",
              "      cursor: pointer;\n",
              "      display: none;\n",
              "      fill: #1967D2;\n",
              "      height: 32px;\n",
              "      padding: 0 0 0 0;\n",
              "      width: 32px;\n",
              "    }\n",
              "\n",
              "    .colab-df-convert:hover {\n",
              "      background-color: #E2EBFA;\n",
              "      box-shadow: 0px 1px 2px rgba(60, 64, 67, 0.3), 0px 1px 3px 1px rgba(60, 64, 67, 0.15);\n",
              "      fill: #174EA6;\n",
              "    }\n",
              "\n",
              "    [theme=dark] .colab-df-convert {\n",
              "      background-color: #3B4455;\n",
              "      fill: #D2E3FC;\n",
              "    }\n",
              "\n",
              "    [theme=dark] .colab-df-convert:hover {\n",
              "      background-color: #434B5C;\n",
              "      box-shadow: 0px 1px 3px 1px rgba(0, 0, 0, 0.15);\n",
              "      filter: drop-shadow(0px 1px 2px rgba(0, 0, 0, 0.3));\n",
              "      fill: #FFFFFF;\n",
              "    }\n",
              "  </style>\n",
              "\n",
              "      <script>\n",
              "        const buttonEl =\n",
              "          document.querySelector('#df-f3072f7d-19e4-4efe-8105-0952d61f8be4 button.colab-df-convert');\n",
              "        buttonEl.style.display =\n",
              "          google.colab.kernel.accessAllowed ? 'block' : 'none';\n",
              "\n",
              "        async function convertToInteractive(key) {\n",
              "          const element = document.querySelector('#df-f3072f7d-19e4-4efe-8105-0952d61f8be4');\n",
              "          const dataTable =\n",
              "            await google.colab.kernel.invokeFunction('convertToInteractive',\n",
              "                                                     [key], {});\n",
              "          if (!dataTable) return;\n",
              "\n",
              "          const docLinkHtml = 'Like what you see? Visit the ' +\n",
              "            '<a target=\"_blank\" href=https://colab.research.google.com/notebooks/data_table.ipynb>data table notebook</a>'\n",
              "            + ' to learn more about interactive tables.';\n",
              "          element.innerHTML = '';\n",
              "          dataTable['output_type'] = 'display_data';\n",
              "          await google.colab.output.renderOutput(dataTable, element);\n",
              "          const docLink = document.createElement('div');\n",
              "          docLink.innerHTML = docLinkHtml;\n",
              "          element.appendChild(docLink);\n",
              "        }\n",
              "      </script>\n",
              "    </div>\n",
              "  </div>\n",
              "  "
            ]
          },
          "metadata": {},
          "execution_count": 71
        }
      ]
    },
    {
      "cell_type": "code",
      "source": [
        "df.loc['2018-06','High':'Low'] # 연월 & High 열부터 Low 열까지"
      ],
      "metadata": {
        "id": "X9T0mS7Owf_G",
        "colab": {
          "base_uri": "https://localhost:8080/",
          "height": 676
        },
        "outputId": "39f47248-89e9-411f-e219-f696505e97db"
      },
      "execution_count": null,
      "outputs": [
        {
          "output_type": "execute_result",
          "data": {
            "text/plain": [
              "             High    Low\n",
              "Date_new                \n",
              "2018-06-29  10900   9990\n",
              "2018-06-28  10950  10150\n",
              "2018-06-27  11050  10500\n",
              "2018-06-26  11000  10700\n",
              "2018-06-25  11450  11000\n",
              "2018-06-22  11450  10750\n",
              "2018-06-21  11750  11200\n",
              "2018-06-20  11600  10900\n",
              "2018-06-19  11950  11300\n",
              "2018-06-18  13400  12000\n",
              "2018-06-15  13600  12900\n",
              "2018-06-14  13700  13150\n",
              "2018-06-12  13300  12050\n",
              "2018-06-11  12250  11950\n",
              "2018-06-08  12200  11800\n",
              "2018-06-07  12300  11900\n",
              "2018-06-05  12250  11800\n",
              "2018-06-04  12200  11700\n",
              "2018-06-01  12100  11750"
            ],
            "text/html": [
              "\n",
              "  <div id=\"df-3743df4b-e5fd-49a0-9404-da887e73f2a4\">\n",
              "    <div class=\"colab-df-container\">\n",
              "      <div>\n",
              "<style scoped>\n",
              "    .dataframe tbody tr th:only-of-type {\n",
              "        vertical-align: middle;\n",
              "    }\n",
              "\n",
              "    .dataframe tbody tr th {\n",
              "        vertical-align: top;\n",
              "    }\n",
              "\n",
              "    .dataframe thead th {\n",
              "        text-align: right;\n",
              "    }\n",
              "</style>\n",
              "<table border=\"1\" class=\"dataframe\">\n",
              "  <thead>\n",
              "    <tr style=\"text-align: right;\">\n",
              "      <th></th>\n",
              "      <th>High</th>\n",
              "      <th>Low</th>\n",
              "    </tr>\n",
              "    <tr>\n",
              "      <th>Date_new</th>\n",
              "      <th></th>\n",
              "      <th></th>\n",
              "    </tr>\n",
              "  </thead>\n",
              "  <tbody>\n",
              "    <tr>\n",
              "      <th>2018-06-29</th>\n",
              "      <td>10900</td>\n",
              "      <td>9990</td>\n",
              "    </tr>\n",
              "    <tr>\n",
              "      <th>2018-06-28</th>\n",
              "      <td>10950</td>\n",
              "      <td>10150</td>\n",
              "    </tr>\n",
              "    <tr>\n",
              "      <th>2018-06-27</th>\n",
              "      <td>11050</td>\n",
              "      <td>10500</td>\n",
              "    </tr>\n",
              "    <tr>\n",
              "      <th>2018-06-26</th>\n",
              "      <td>11000</td>\n",
              "      <td>10700</td>\n",
              "    </tr>\n",
              "    <tr>\n",
              "      <th>2018-06-25</th>\n",
              "      <td>11450</td>\n",
              "      <td>11000</td>\n",
              "    </tr>\n",
              "    <tr>\n",
              "      <th>2018-06-22</th>\n",
              "      <td>11450</td>\n",
              "      <td>10750</td>\n",
              "    </tr>\n",
              "    <tr>\n",
              "      <th>2018-06-21</th>\n",
              "      <td>11750</td>\n",
              "      <td>11200</td>\n",
              "    </tr>\n",
              "    <tr>\n",
              "      <th>2018-06-20</th>\n",
              "      <td>11600</td>\n",
              "      <td>10900</td>\n",
              "    </tr>\n",
              "    <tr>\n",
              "      <th>2018-06-19</th>\n",
              "      <td>11950</td>\n",
              "      <td>11300</td>\n",
              "    </tr>\n",
              "    <tr>\n",
              "      <th>2018-06-18</th>\n",
              "      <td>13400</td>\n",
              "      <td>12000</td>\n",
              "    </tr>\n",
              "    <tr>\n",
              "      <th>2018-06-15</th>\n",
              "      <td>13600</td>\n",
              "      <td>12900</td>\n",
              "    </tr>\n",
              "    <tr>\n",
              "      <th>2018-06-14</th>\n",
              "      <td>13700</td>\n",
              "      <td>13150</td>\n",
              "    </tr>\n",
              "    <tr>\n",
              "      <th>2018-06-12</th>\n",
              "      <td>13300</td>\n",
              "      <td>12050</td>\n",
              "    </tr>\n",
              "    <tr>\n",
              "      <th>2018-06-11</th>\n",
              "      <td>12250</td>\n",
              "      <td>11950</td>\n",
              "    </tr>\n",
              "    <tr>\n",
              "      <th>2018-06-08</th>\n",
              "      <td>12200</td>\n",
              "      <td>11800</td>\n",
              "    </tr>\n",
              "    <tr>\n",
              "      <th>2018-06-07</th>\n",
              "      <td>12300</td>\n",
              "      <td>11900</td>\n",
              "    </tr>\n",
              "    <tr>\n",
              "      <th>2018-06-05</th>\n",
              "      <td>12250</td>\n",
              "      <td>11800</td>\n",
              "    </tr>\n",
              "    <tr>\n",
              "      <th>2018-06-04</th>\n",
              "      <td>12200</td>\n",
              "      <td>11700</td>\n",
              "    </tr>\n",
              "    <tr>\n",
              "      <th>2018-06-01</th>\n",
              "      <td>12100</td>\n",
              "      <td>11750</td>\n",
              "    </tr>\n",
              "  </tbody>\n",
              "</table>\n",
              "</div>\n",
              "      <button class=\"colab-df-convert\" onclick=\"convertToInteractive('df-3743df4b-e5fd-49a0-9404-da887e73f2a4')\"\n",
              "              title=\"Convert this dataframe to an interactive table.\"\n",
              "              style=\"display:none;\">\n",
              "        \n",
              "  <svg xmlns=\"http://www.w3.org/2000/svg\" height=\"24px\"viewBox=\"0 0 24 24\"\n",
              "       width=\"24px\">\n",
              "    <path d=\"M0 0h24v24H0V0z\" fill=\"none\"/>\n",
              "    <path d=\"M18.56 5.44l.94 2.06.94-2.06 2.06-.94-2.06-.94-.94-2.06-.94 2.06-2.06.94zm-11 1L8.5 8.5l.94-2.06 2.06-.94-2.06-.94L8.5 2.5l-.94 2.06-2.06.94zm10 10l.94 2.06.94-2.06 2.06-.94-2.06-.94-.94-2.06-.94 2.06-2.06.94z\"/><path d=\"M17.41 7.96l-1.37-1.37c-.4-.4-.92-.59-1.43-.59-.52 0-1.04.2-1.43.59L10.3 9.45l-7.72 7.72c-.78.78-.78 2.05 0 2.83L4 21.41c.39.39.9.59 1.41.59.51 0 1.02-.2 1.41-.59l7.78-7.78 2.81-2.81c.8-.78.8-2.07 0-2.86zM5.41 20L4 18.59l7.72-7.72 1.47 1.35L5.41 20z\"/>\n",
              "  </svg>\n",
              "      </button>\n",
              "      \n",
              "  <style>\n",
              "    .colab-df-container {\n",
              "      display:flex;\n",
              "      flex-wrap:wrap;\n",
              "      gap: 12px;\n",
              "    }\n",
              "\n",
              "    .colab-df-convert {\n",
              "      background-color: #E8F0FE;\n",
              "      border: none;\n",
              "      border-radius: 50%;\n",
              "      cursor: pointer;\n",
              "      display: none;\n",
              "      fill: #1967D2;\n",
              "      height: 32px;\n",
              "      padding: 0 0 0 0;\n",
              "      width: 32px;\n",
              "    }\n",
              "\n",
              "    .colab-df-convert:hover {\n",
              "      background-color: #E2EBFA;\n",
              "      box-shadow: 0px 1px 2px rgba(60, 64, 67, 0.3), 0px 1px 3px 1px rgba(60, 64, 67, 0.15);\n",
              "      fill: #174EA6;\n",
              "    }\n",
              "\n",
              "    [theme=dark] .colab-df-convert {\n",
              "      background-color: #3B4455;\n",
              "      fill: #D2E3FC;\n",
              "    }\n",
              "\n",
              "    [theme=dark] .colab-df-convert:hover {\n",
              "      background-color: #434B5C;\n",
              "      box-shadow: 0px 1px 3px 1px rgba(0, 0, 0, 0.15);\n",
              "      filter: drop-shadow(0px 1px 2px rgba(0, 0, 0, 0.3));\n",
              "      fill: #FFFFFF;\n",
              "    }\n",
              "  </style>\n",
              "\n",
              "      <script>\n",
              "        const buttonEl =\n",
              "          document.querySelector('#df-3743df4b-e5fd-49a0-9404-da887e73f2a4 button.colab-df-convert');\n",
              "        buttonEl.style.display =\n",
              "          google.colab.kernel.accessAllowed ? 'block' : 'none';\n",
              "\n",
              "        async function convertToInteractive(key) {\n",
              "          const element = document.querySelector('#df-3743df4b-e5fd-49a0-9404-da887e73f2a4');\n",
              "          const dataTable =\n",
              "            await google.colab.kernel.invokeFunction('convertToInteractive',\n",
              "                                                     [key], {});\n",
              "          if (!dataTable) return;\n",
              "\n",
              "          const docLinkHtml = 'Like what you see? Visit the ' +\n",
              "            '<a target=\"_blank\" href=https://colab.research.google.com/notebooks/data_table.ipynb>data table notebook</a>'\n",
              "            + ' to learn more about interactive tables.';\n",
              "          element.innerHTML = '';\n",
              "          dataTable['output_type'] = 'display_data';\n",
              "          await google.colab.output.renderOutput(dataTable, element);\n",
              "          const docLink = document.createElement('div');\n",
              "          docLink.innerHTML = docLinkHtml;\n",
              "          element.appendChild(docLink);\n",
              "        }\n",
              "      </script>\n",
              "    </div>\n",
              "  </div>\n",
              "  "
            ]
          },
          "metadata": {},
          "execution_count": 72
        }
      ]
    },
    {
      "cell_type": "code",
      "source": [
        "df.loc['2018-07-02'] # 연월일"
      ],
      "metadata": {
        "id": "YQMAHHfzxCg_",
        "colab": {
          "base_uri": "https://localhost:8080/"
        },
        "outputId": "b3e1e033-c765-478d-f54c-53ae065a157f"
      },
      "execution_count": null,
      "outputs": [
        {
          "output_type": "execute_result",
          "data": {
            "text/plain": [
              "Date      2018-07-02\n",
              "Close          10100\n",
              "Start          10850\n",
              "High           10900\n",
              "Low            10000\n",
              "Volume        137977\n",
              "Name: 2018-07-02 00:00:00, dtype: object"
            ]
          },
          "metadata": {},
          "execution_count": 73
        }
      ]
    },
    {
      "cell_type": "code",
      "source": [
        "df.loc[['2018-07-02']]"
      ],
      "metadata": {
        "id": "reIikWaexQGQ",
        "colab": {
          "base_uri": "https://localhost:8080/",
          "height": 112
        },
        "outputId": "fae3cbd6-d6e5-4d1b-bec6-5658b7999453"
      },
      "execution_count": null,
      "outputs": [
        {
          "output_type": "execute_result",
          "data": {
            "text/plain": [
              "                  Date  Close  Start   High    Low  Volume\n",
              "Date_new                                                  \n",
              "2018-07-02  2018-07-02  10100  10850  10900  10000  137977"
            ],
            "text/html": [
              "\n",
              "  <div id=\"df-f3a3e5af-167e-472b-87eb-b322ee078303\">\n",
              "    <div class=\"colab-df-container\">\n",
              "      <div>\n",
              "<style scoped>\n",
              "    .dataframe tbody tr th:only-of-type {\n",
              "        vertical-align: middle;\n",
              "    }\n",
              "\n",
              "    .dataframe tbody tr th {\n",
              "        vertical-align: top;\n",
              "    }\n",
              "\n",
              "    .dataframe thead th {\n",
              "        text-align: right;\n",
              "    }\n",
              "</style>\n",
              "<table border=\"1\" class=\"dataframe\">\n",
              "  <thead>\n",
              "    <tr style=\"text-align: right;\">\n",
              "      <th></th>\n",
              "      <th>Date</th>\n",
              "      <th>Close</th>\n",
              "      <th>Start</th>\n",
              "      <th>High</th>\n",
              "      <th>Low</th>\n",
              "      <th>Volume</th>\n",
              "    </tr>\n",
              "    <tr>\n",
              "      <th>Date_new</th>\n",
              "      <th></th>\n",
              "      <th></th>\n",
              "      <th></th>\n",
              "      <th></th>\n",
              "      <th></th>\n",
              "      <th></th>\n",
              "    </tr>\n",
              "  </thead>\n",
              "  <tbody>\n",
              "    <tr>\n",
              "      <th>2018-07-02</th>\n",
              "      <td>2018-07-02</td>\n",
              "      <td>10100</td>\n",
              "      <td>10850</td>\n",
              "      <td>10900</td>\n",
              "      <td>10000</td>\n",
              "      <td>137977</td>\n",
              "    </tr>\n",
              "  </tbody>\n",
              "</table>\n",
              "</div>\n",
              "      <button class=\"colab-df-convert\" onclick=\"convertToInteractive('df-f3a3e5af-167e-472b-87eb-b322ee078303')\"\n",
              "              title=\"Convert this dataframe to an interactive table.\"\n",
              "              style=\"display:none;\">\n",
              "        \n",
              "  <svg xmlns=\"http://www.w3.org/2000/svg\" height=\"24px\"viewBox=\"0 0 24 24\"\n",
              "       width=\"24px\">\n",
              "    <path d=\"M0 0h24v24H0V0z\" fill=\"none\"/>\n",
              "    <path d=\"M18.56 5.44l.94 2.06.94-2.06 2.06-.94-2.06-.94-.94-2.06-.94 2.06-2.06.94zm-11 1L8.5 8.5l.94-2.06 2.06-.94-2.06-.94L8.5 2.5l-.94 2.06-2.06.94zm10 10l.94 2.06.94-2.06 2.06-.94-2.06-.94-.94-2.06-.94 2.06-2.06.94z\"/><path d=\"M17.41 7.96l-1.37-1.37c-.4-.4-.92-.59-1.43-.59-.52 0-1.04.2-1.43.59L10.3 9.45l-7.72 7.72c-.78.78-.78 2.05 0 2.83L4 21.41c.39.39.9.59 1.41.59.51 0 1.02-.2 1.41-.59l7.78-7.78 2.81-2.81c.8-.78.8-2.07 0-2.86zM5.41 20L4 18.59l7.72-7.72 1.47 1.35L5.41 20z\"/>\n",
              "  </svg>\n",
              "      </button>\n",
              "      \n",
              "  <style>\n",
              "    .colab-df-container {\n",
              "      display:flex;\n",
              "      flex-wrap:wrap;\n",
              "      gap: 12px;\n",
              "    }\n",
              "\n",
              "    .colab-df-convert {\n",
              "      background-color: #E8F0FE;\n",
              "      border: none;\n",
              "      border-radius: 50%;\n",
              "      cursor: pointer;\n",
              "      display: none;\n",
              "      fill: #1967D2;\n",
              "      height: 32px;\n",
              "      padding: 0 0 0 0;\n",
              "      width: 32px;\n",
              "    }\n",
              "\n",
              "    .colab-df-convert:hover {\n",
              "      background-color: #E2EBFA;\n",
              "      box-shadow: 0px 1px 2px rgba(60, 64, 67, 0.3), 0px 1px 3px 1px rgba(60, 64, 67, 0.15);\n",
              "      fill: #174EA6;\n",
              "    }\n",
              "\n",
              "    [theme=dark] .colab-df-convert {\n",
              "      background-color: #3B4455;\n",
              "      fill: #D2E3FC;\n",
              "    }\n",
              "\n",
              "    [theme=dark] .colab-df-convert:hover {\n",
              "      background-color: #434B5C;\n",
              "      box-shadow: 0px 1px 3px 1px rgba(0, 0, 0, 0.15);\n",
              "      filter: drop-shadow(0px 1px 2px rgba(0, 0, 0, 0.3));\n",
              "      fill: #FFFFFF;\n",
              "    }\n",
              "  </style>\n",
              "\n",
              "      <script>\n",
              "        const buttonEl =\n",
              "          document.querySelector('#df-f3a3e5af-167e-472b-87eb-b322ee078303 button.colab-df-convert');\n",
              "        buttonEl.style.display =\n",
              "          google.colab.kernel.accessAllowed ? 'block' : 'none';\n",
              "\n",
              "        async function convertToInteractive(key) {\n",
              "          const element = document.querySelector('#df-f3a3e5af-167e-472b-87eb-b322ee078303');\n",
              "          const dataTable =\n",
              "            await google.colab.kernel.invokeFunction('convertToInteractive',\n",
              "                                                     [key], {});\n",
              "          if (!dataTable) return;\n",
              "\n",
              "          const docLinkHtml = 'Like what you see? Visit the ' +\n",
              "            '<a target=\"_blank\" href=https://colab.research.google.com/notebooks/data_table.ipynb>data table notebook</a>'\n",
              "            + ' to learn more about interactive tables.';\n",
              "          element.innerHTML = '';\n",
              "          dataTable['output_type'] = 'display_data';\n",
              "          await google.colab.output.renderOutput(dataTable, element);\n",
              "          const docLink = document.createElement('div');\n",
              "          docLink.innerHTML = docLinkHtml;\n",
              "          element.appendChild(docLink);\n",
              "        }\n",
              "      </script>\n",
              "    </div>\n",
              "  </div>\n",
              "  "
            ]
          },
          "metadata": {},
          "execution_count": 74
        }
      ]
    },
    {
      "cell_type": "code",
      "source": [
        "df.loc['2018-06-02':'2018-06-16']"
      ],
      "metadata": {
        "id": "DeVQ8bYvyASc",
        "colab": {
          "base_uri": "https://localhost:8080/",
          "height": 388
        },
        "outputId": "5af04313-beb0-44b1-e2e4-760d4b4425db"
      },
      "execution_count": null,
      "outputs": [
        {
          "output_type": "stream",
          "name": "stderr",
          "text": [
            "<ipython-input-75-750c281bfc61>:1: FutureWarning: Value based partial slicing on non-monotonic DatetimeIndexes with non-existing keys is deprecated and will raise a KeyError in a future Version.\n",
            "  df.loc['2018-06-02':'2018-06-16']\n"
          ]
        },
        {
          "output_type": "execute_result",
          "data": {
            "text/plain": [
              "                  Date  Close  Start   High    Low  Volume\n",
              "Date_new                                                  \n",
              "2018-06-15  2018-06-15  13400  13600  13600  12900  201376\n",
              "2018-06-14  2018-06-14  13450  13200  13700  13150  347451\n",
              "2018-06-12  2018-06-12  13200  12200  13300  12050  558148\n",
              "2018-06-11  2018-06-11  11950  12000  12250  11950   62293\n",
              "2018-06-08  2018-06-08  11950  11950  12200  11800   59258\n",
              "2018-06-07  2018-06-07  11950  12200  12300  11900   49088\n",
              "2018-06-05  2018-06-05  12150  11800  12250  11800   42485\n",
              "2018-06-04  2018-06-04  11900  11900  12200  11700   25171"
            ],
            "text/html": [
              "\n",
              "  <div id=\"df-0106077e-eb77-43b3-a43b-e3a2afe70f6d\">\n",
              "    <div class=\"colab-df-container\">\n",
              "      <div>\n",
              "<style scoped>\n",
              "    .dataframe tbody tr th:only-of-type {\n",
              "        vertical-align: middle;\n",
              "    }\n",
              "\n",
              "    .dataframe tbody tr th {\n",
              "        vertical-align: top;\n",
              "    }\n",
              "\n",
              "    .dataframe thead th {\n",
              "        text-align: right;\n",
              "    }\n",
              "</style>\n",
              "<table border=\"1\" class=\"dataframe\">\n",
              "  <thead>\n",
              "    <tr style=\"text-align: right;\">\n",
              "      <th></th>\n",
              "      <th>Date</th>\n",
              "      <th>Close</th>\n",
              "      <th>Start</th>\n",
              "      <th>High</th>\n",
              "      <th>Low</th>\n",
              "      <th>Volume</th>\n",
              "    </tr>\n",
              "    <tr>\n",
              "      <th>Date_new</th>\n",
              "      <th></th>\n",
              "      <th></th>\n",
              "      <th></th>\n",
              "      <th></th>\n",
              "      <th></th>\n",
              "      <th></th>\n",
              "    </tr>\n",
              "  </thead>\n",
              "  <tbody>\n",
              "    <tr>\n",
              "      <th>2018-06-15</th>\n",
              "      <td>2018-06-15</td>\n",
              "      <td>13400</td>\n",
              "      <td>13600</td>\n",
              "      <td>13600</td>\n",
              "      <td>12900</td>\n",
              "      <td>201376</td>\n",
              "    </tr>\n",
              "    <tr>\n",
              "      <th>2018-06-14</th>\n",
              "      <td>2018-06-14</td>\n",
              "      <td>13450</td>\n",
              "      <td>13200</td>\n",
              "      <td>13700</td>\n",
              "      <td>13150</td>\n",
              "      <td>347451</td>\n",
              "    </tr>\n",
              "    <tr>\n",
              "      <th>2018-06-12</th>\n",
              "      <td>2018-06-12</td>\n",
              "      <td>13200</td>\n",
              "      <td>12200</td>\n",
              "      <td>13300</td>\n",
              "      <td>12050</td>\n",
              "      <td>558148</td>\n",
              "    </tr>\n",
              "    <tr>\n",
              "      <th>2018-06-11</th>\n",
              "      <td>2018-06-11</td>\n",
              "      <td>11950</td>\n",
              "      <td>12000</td>\n",
              "      <td>12250</td>\n",
              "      <td>11950</td>\n",
              "      <td>62293</td>\n",
              "    </tr>\n",
              "    <tr>\n",
              "      <th>2018-06-08</th>\n",
              "      <td>2018-06-08</td>\n",
              "      <td>11950</td>\n",
              "      <td>11950</td>\n",
              "      <td>12200</td>\n",
              "      <td>11800</td>\n",
              "      <td>59258</td>\n",
              "    </tr>\n",
              "    <tr>\n",
              "      <th>2018-06-07</th>\n",
              "      <td>2018-06-07</td>\n",
              "      <td>11950</td>\n",
              "      <td>12200</td>\n",
              "      <td>12300</td>\n",
              "      <td>11900</td>\n",
              "      <td>49088</td>\n",
              "    </tr>\n",
              "    <tr>\n",
              "      <th>2018-06-05</th>\n",
              "      <td>2018-06-05</td>\n",
              "      <td>12150</td>\n",
              "      <td>11800</td>\n",
              "      <td>12250</td>\n",
              "      <td>11800</td>\n",
              "      <td>42485</td>\n",
              "    </tr>\n",
              "    <tr>\n",
              "      <th>2018-06-04</th>\n",
              "      <td>2018-06-04</td>\n",
              "      <td>11900</td>\n",
              "      <td>11900</td>\n",
              "      <td>12200</td>\n",
              "      <td>11700</td>\n",
              "      <td>25171</td>\n",
              "    </tr>\n",
              "  </tbody>\n",
              "</table>\n",
              "</div>\n",
              "      <button class=\"colab-df-convert\" onclick=\"convertToInteractive('df-0106077e-eb77-43b3-a43b-e3a2afe70f6d')\"\n",
              "              title=\"Convert this dataframe to an interactive table.\"\n",
              "              style=\"display:none;\">\n",
              "        \n",
              "  <svg xmlns=\"http://www.w3.org/2000/svg\" height=\"24px\"viewBox=\"0 0 24 24\"\n",
              "       width=\"24px\">\n",
              "    <path d=\"M0 0h24v24H0V0z\" fill=\"none\"/>\n",
              "    <path d=\"M18.56 5.44l.94 2.06.94-2.06 2.06-.94-2.06-.94-.94-2.06-.94 2.06-2.06.94zm-11 1L8.5 8.5l.94-2.06 2.06-.94-2.06-.94L8.5 2.5l-.94 2.06-2.06.94zm10 10l.94 2.06.94-2.06 2.06-.94-2.06-.94-.94-2.06-.94 2.06-2.06.94z\"/><path d=\"M17.41 7.96l-1.37-1.37c-.4-.4-.92-.59-1.43-.59-.52 0-1.04.2-1.43.59L10.3 9.45l-7.72 7.72c-.78.78-.78 2.05 0 2.83L4 21.41c.39.39.9.59 1.41.59.51 0 1.02-.2 1.41-.59l7.78-7.78 2.81-2.81c.8-.78.8-2.07 0-2.86zM5.41 20L4 18.59l7.72-7.72 1.47 1.35L5.41 20z\"/>\n",
              "  </svg>\n",
              "      </button>\n",
              "      \n",
              "  <style>\n",
              "    .colab-df-container {\n",
              "      display:flex;\n",
              "      flex-wrap:wrap;\n",
              "      gap: 12px;\n",
              "    }\n",
              "\n",
              "    .colab-df-convert {\n",
              "      background-color: #E8F0FE;\n",
              "      border: none;\n",
              "      border-radius: 50%;\n",
              "      cursor: pointer;\n",
              "      display: none;\n",
              "      fill: #1967D2;\n",
              "      height: 32px;\n",
              "      padding: 0 0 0 0;\n",
              "      width: 32px;\n",
              "    }\n",
              "\n",
              "    .colab-df-convert:hover {\n",
              "      background-color: #E2EBFA;\n",
              "      box-shadow: 0px 1px 2px rgba(60, 64, 67, 0.3), 0px 1px 3px 1px rgba(60, 64, 67, 0.15);\n",
              "      fill: #174EA6;\n",
              "    }\n",
              "\n",
              "    [theme=dark] .colab-df-convert {\n",
              "      background-color: #3B4455;\n",
              "      fill: #D2E3FC;\n",
              "    }\n",
              "\n",
              "    [theme=dark] .colab-df-convert:hover {\n",
              "      background-color: #434B5C;\n",
              "      box-shadow: 0px 1px 3px 1px rgba(0, 0, 0, 0.15);\n",
              "      filter: drop-shadow(0px 1px 2px rgba(0, 0, 0, 0.3));\n",
              "      fill: #FFFFFF;\n",
              "    }\n",
              "  </style>\n",
              "\n",
              "      <script>\n",
              "        const buttonEl =\n",
              "          document.querySelector('#df-0106077e-eb77-43b3-a43b-e3a2afe70f6d button.colab-df-convert');\n",
              "        buttonEl.style.display =\n",
              "          google.colab.kernel.accessAllowed ? 'block' : 'none';\n",
              "\n",
              "        async function convertToInteractive(key) {\n",
              "          const element = document.querySelector('#df-0106077e-eb77-43b3-a43b-e3a2afe70f6d');\n",
              "          const dataTable =\n",
              "            await google.colab.kernel.invokeFunction('convertToInteractive',\n",
              "                                                     [key], {});\n",
              "          if (!dataTable) return;\n",
              "\n",
              "          const docLinkHtml = 'Like what you see? Visit the ' +\n",
              "            '<a target=\"_blank\" href=https://colab.research.google.com/notebooks/data_table.ipynb>data table notebook</a>'\n",
              "            + ' to learn more about interactive tables.';\n",
              "          element.innerHTML = '';\n",
              "          dataTable['output_type'] = 'display_data';\n",
              "          await google.colab.output.renderOutput(dataTable, element);\n",
              "          const docLink = document.createElement('div');\n",
              "          docLink.innerHTML = docLinkHtml;\n",
              "          element.appendChild(docLink);\n",
              "        }\n",
              "      </script>\n",
              "    </div>\n",
              "  </div>\n",
              "  "
            ]
          },
          "metadata": {},
          "execution_count": 75
        }
      ]
    },
    {
      "cell_type": "code",
      "source": [
        "# 끝나는 날짜 포함\n",
        "df.loc['2018-06-02':'2018-06-18']"
      ],
      "metadata": {
        "id": "9E4lgBHhyOLT",
        "colab": {
          "base_uri": "https://localhost:8080/",
          "height": 419
        },
        "outputId": "88a74fe8-522d-4f87-9fa0-ae1b33af3f03"
      },
      "execution_count": null,
      "outputs": [
        {
          "output_type": "stream",
          "name": "stderr",
          "text": [
            "<ipython-input-76-ceba5cbd6e52>:2: FutureWarning: Value based partial slicing on non-monotonic DatetimeIndexes with non-existing keys is deprecated and will raise a KeyError in a future Version.\n",
            "  df.loc['2018-06-02':'2018-06-18']\n"
          ]
        },
        {
          "output_type": "execute_result",
          "data": {
            "text/plain": [
              "                  Date  Close  Start   High    Low  Volume\n",
              "Date_new                                                  \n",
              "2018-06-18  2018-06-18  12000  13400  13400  12000  309787\n",
              "2018-06-15  2018-06-15  13400  13600  13600  12900  201376\n",
              "2018-06-14  2018-06-14  13450  13200  13700  13150  347451\n",
              "2018-06-12  2018-06-12  13200  12200  13300  12050  558148\n",
              "2018-06-11  2018-06-11  11950  12000  12250  11950   62293\n",
              "2018-06-08  2018-06-08  11950  11950  12200  11800   59258\n",
              "2018-06-07  2018-06-07  11950  12200  12300  11900   49088\n",
              "2018-06-05  2018-06-05  12150  11800  12250  11800   42485\n",
              "2018-06-04  2018-06-04  11900  11900  12200  11700   25171"
            ],
            "text/html": [
              "\n",
              "  <div id=\"df-0fa1363c-00d0-4045-bb3b-9f759b8313b8\">\n",
              "    <div class=\"colab-df-container\">\n",
              "      <div>\n",
              "<style scoped>\n",
              "    .dataframe tbody tr th:only-of-type {\n",
              "        vertical-align: middle;\n",
              "    }\n",
              "\n",
              "    .dataframe tbody tr th {\n",
              "        vertical-align: top;\n",
              "    }\n",
              "\n",
              "    .dataframe thead th {\n",
              "        text-align: right;\n",
              "    }\n",
              "</style>\n",
              "<table border=\"1\" class=\"dataframe\">\n",
              "  <thead>\n",
              "    <tr style=\"text-align: right;\">\n",
              "      <th></th>\n",
              "      <th>Date</th>\n",
              "      <th>Close</th>\n",
              "      <th>Start</th>\n",
              "      <th>High</th>\n",
              "      <th>Low</th>\n",
              "      <th>Volume</th>\n",
              "    </tr>\n",
              "    <tr>\n",
              "      <th>Date_new</th>\n",
              "      <th></th>\n",
              "      <th></th>\n",
              "      <th></th>\n",
              "      <th></th>\n",
              "      <th></th>\n",
              "      <th></th>\n",
              "    </tr>\n",
              "  </thead>\n",
              "  <tbody>\n",
              "    <tr>\n",
              "      <th>2018-06-18</th>\n",
              "      <td>2018-06-18</td>\n",
              "      <td>12000</td>\n",
              "      <td>13400</td>\n",
              "      <td>13400</td>\n",
              "      <td>12000</td>\n",
              "      <td>309787</td>\n",
              "    </tr>\n",
              "    <tr>\n",
              "      <th>2018-06-15</th>\n",
              "      <td>2018-06-15</td>\n",
              "      <td>13400</td>\n",
              "      <td>13600</td>\n",
              "      <td>13600</td>\n",
              "      <td>12900</td>\n",
              "      <td>201376</td>\n",
              "    </tr>\n",
              "    <tr>\n",
              "      <th>2018-06-14</th>\n",
              "      <td>2018-06-14</td>\n",
              "      <td>13450</td>\n",
              "      <td>13200</td>\n",
              "      <td>13700</td>\n",
              "      <td>13150</td>\n",
              "      <td>347451</td>\n",
              "    </tr>\n",
              "    <tr>\n",
              "      <th>2018-06-12</th>\n",
              "      <td>2018-06-12</td>\n",
              "      <td>13200</td>\n",
              "      <td>12200</td>\n",
              "      <td>13300</td>\n",
              "      <td>12050</td>\n",
              "      <td>558148</td>\n",
              "    </tr>\n",
              "    <tr>\n",
              "      <th>2018-06-11</th>\n",
              "      <td>2018-06-11</td>\n",
              "      <td>11950</td>\n",
              "      <td>12000</td>\n",
              "      <td>12250</td>\n",
              "      <td>11950</td>\n",
              "      <td>62293</td>\n",
              "    </tr>\n",
              "    <tr>\n",
              "      <th>2018-06-08</th>\n",
              "      <td>2018-06-08</td>\n",
              "      <td>11950</td>\n",
              "      <td>11950</td>\n",
              "      <td>12200</td>\n",
              "      <td>11800</td>\n",
              "      <td>59258</td>\n",
              "    </tr>\n",
              "    <tr>\n",
              "      <th>2018-06-07</th>\n",
              "      <td>2018-06-07</td>\n",
              "      <td>11950</td>\n",
              "      <td>12200</td>\n",
              "      <td>12300</td>\n",
              "      <td>11900</td>\n",
              "      <td>49088</td>\n",
              "    </tr>\n",
              "    <tr>\n",
              "      <th>2018-06-05</th>\n",
              "      <td>2018-06-05</td>\n",
              "      <td>12150</td>\n",
              "      <td>11800</td>\n",
              "      <td>12250</td>\n",
              "      <td>11800</td>\n",
              "      <td>42485</td>\n",
              "    </tr>\n",
              "    <tr>\n",
              "      <th>2018-06-04</th>\n",
              "      <td>2018-06-04</td>\n",
              "      <td>11900</td>\n",
              "      <td>11900</td>\n",
              "      <td>12200</td>\n",
              "      <td>11700</td>\n",
              "      <td>25171</td>\n",
              "    </tr>\n",
              "  </tbody>\n",
              "</table>\n",
              "</div>\n",
              "      <button class=\"colab-df-convert\" onclick=\"convertToInteractive('df-0fa1363c-00d0-4045-bb3b-9f759b8313b8')\"\n",
              "              title=\"Convert this dataframe to an interactive table.\"\n",
              "              style=\"display:none;\">\n",
              "        \n",
              "  <svg xmlns=\"http://www.w3.org/2000/svg\" height=\"24px\"viewBox=\"0 0 24 24\"\n",
              "       width=\"24px\">\n",
              "    <path d=\"M0 0h24v24H0V0z\" fill=\"none\"/>\n",
              "    <path d=\"M18.56 5.44l.94 2.06.94-2.06 2.06-.94-2.06-.94-.94-2.06-.94 2.06-2.06.94zm-11 1L8.5 8.5l.94-2.06 2.06-.94-2.06-.94L8.5 2.5l-.94 2.06-2.06.94zm10 10l.94 2.06.94-2.06 2.06-.94-2.06-.94-.94-2.06-.94 2.06-2.06.94z\"/><path d=\"M17.41 7.96l-1.37-1.37c-.4-.4-.92-.59-1.43-.59-.52 0-1.04.2-1.43.59L10.3 9.45l-7.72 7.72c-.78.78-.78 2.05 0 2.83L4 21.41c.39.39.9.59 1.41.59.51 0 1.02-.2 1.41-.59l7.78-7.78 2.81-2.81c.8-.78.8-2.07 0-2.86zM5.41 20L4 18.59l7.72-7.72 1.47 1.35L5.41 20z\"/>\n",
              "  </svg>\n",
              "      </button>\n",
              "      \n",
              "  <style>\n",
              "    .colab-df-container {\n",
              "      display:flex;\n",
              "      flex-wrap:wrap;\n",
              "      gap: 12px;\n",
              "    }\n",
              "\n",
              "    .colab-df-convert {\n",
              "      background-color: #E8F0FE;\n",
              "      border: none;\n",
              "      border-radius: 50%;\n",
              "      cursor: pointer;\n",
              "      display: none;\n",
              "      fill: #1967D2;\n",
              "      height: 32px;\n",
              "      padding: 0 0 0 0;\n",
              "      width: 32px;\n",
              "    }\n",
              "\n",
              "    .colab-df-convert:hover {\n",
              "      background-color: #E2EBFA;\n",
              "      box-shadow: 0px 1px 2px rgba(60, 64, 67, 0.3), 0px 1px 3px 1px rgba(60, 64, 67, 0.15);\n",
              "      fill: #174EA6;\n",
              "    }\n",
              "\n",
              "    [theme=dark] .colab-df-convert {\n",
              "      background-color: #3B4455;\n",
              "      fill: #D2E3FC;\n",
              "    }\n",
              "\n",
              "    [theme=dark] .colab-df-convert:hover {\n",
              "      background-color: #434B5C;\n",
              "      box-shadow: 0px 1px 3px 1px rgba(0, 0, 0, 0.15);\n",
              "      filter: drop-shadow(0px 1px 2px rgba(0, 0, 0, 0.3));\n",
              "      fill: #FFFFFF;\n",
              "    }\n",
              "  </style>\n",
              "\n",
              "      <script>\n",
              "        const buttonEl =\n",
              "          document.querySelector('#df-0fa1363c-00d0-4045-bb3b-9f759b8313b8 button.colab-df-convert');\n",
              "        buttonEl.style.display =\n",
              "          google.colab.kernel.accessAllowed ? 'block' : 'none';\n",
              "\n",
              "        async function convertToInteractive(key) {\n",
              "          const element = document.querySelector('#df-0fa1363c-00d0-4045-bb3b-9f759b8313b8');\n",
              "          const dataTable =\n",
              "            await google.colab.kernel.invokeFunction('convertToInteractive',\n",
              "                                                     [key], {});\n",
              "          if (!dataTable) return;\n",
              "\n",
              "          const docLinkHtml = 'Like what you see? Visit the ' +\n",
              "            '<a target=\"_blank\" href=https://colab.research.google.com/notebooks/data_table.ipynb>data table notebook</a>'\n",
              "            + ' to learn more about interactive tables.';\n",
              "          element.innerHTML = '';\n",
              "          dataTable['output_type'] = 'display_data';\n",
              "          await google.colab.output.renderOutput(dataTable, element);\n",
              "          const docLink = document.createElement('div');\n",
              "          docLink.innerHTML = docLinkHtml;\n",
              "          element.appendChild(docLink);\n",
              "        }\n",
              "      </script>\n",
              "    </div>\n",
              "  </div>\n",
              "  "
            ]
          },
          "metadata": {},
          "execution_count": 76
        }
      ]
    },
    {
      "cell_type": "code",
      "source": [
        "# difference\n",
        "today = pd.to_datetime('2023-06-02')\n",
        "df['day_diff'] = today - df.index"
      ],
      "metadata": {
        "id": "XuWy9KamylgI"
      },
      "execution_count": null,
      "outputs": []
    },
    {
      "cell_type": "code",
      "source": [
        "df.set_index('day_diff', inplace = True)"
      ],
      "metadata": {
        "id": "Dy-UBsfjzS4N"
      },
      "execution_count": null,
      "outputs": []
    },
    {
      "cell_type": "code",
      "source": [
        "df['1801 days':'1810 days']"
      ],
      "metadata": {
        "id": "N1yyCJjbzl4r",
        "colab": {
          "base_uri": "https://localhost:8080/",
          "height": 331
        },
        "outputId": "c0144486-0754-4262-e4de-a6bc7556eeb9"
      },
      "execution_count": null,
      "outputs": [
        {
          "output_type": "execute_result",
          "data": {
            "text/plain": [
              "                 Date  Close  Start   High    Low  Volume\n",
              "day_diff                                                 \n",
              "1801 days  2018-06-27  10900  10800  11050  10500  133548\n",
              "1802 days  2018-06-26  10800  10900  11000  10700   63039\n",
              "1803 days  2018-06-25  11150  11400  11450  11000   55519\n",
              "1806 days  2018-06-22  11300  11250  11450  10750  134805\n",
              "1807 days  2018-06-21  11200  11350  11750  11200  133002\n",
              "1808 days  2018-06-20  11550  11200  11600  10900  308596\n",
              "1809 days  2018-06-19  11300  11850  11950  11300  180656\n",
              "1810 days  2018-06-18  12000  13400  13400  12000  309787"
            ],
            "text/html": [
              "\n",
              "  <div id=\"df-b79d7b09-db22-46eb-adb6-e9398ffd6db3\">\n",
              "    <div class=\"colab-df-container\">\n",
              "      <div>\n",
              "<style scoped>\n",
              "    .dataframe tbody tr th:only-of-type {\n",
              "        vertical-align: middle;\n",
              "    }\n",
              "\n",
              "    .dataframe tbody tr th {\n",
              "        vertical-align: top;\n",
              "    }\n",
              "\n",
              "    .dataframe thead th {\n",
              "        text-align: right;\n",
              "    }\n",
              "</style>\n",
              "<table border=\"1\" class=\"dataframe\">\n",
              "  <thead>\n",
              "    <tr style=\"text-align: right;\">\n",
              "      <th></th>\n",
              "      <th>Date</th>\n",
              "      <th>Close</th>\n",
              "      <th>Start</th>\n",
              "      <th>High</th>\n",
              "      <th>Low</th>\n",
              "      <th>Volume</th>\n",
              "    </tr>\n",
              "    <tr>\n",
              "      <th>day_diff</th>\n",
              "      <th></th>\n",
              "      <th></th>\n",
              "      <th></th>\n",
              "      <th></th>\n",
              "      <th></th>\n",
              "      <th></th>\n",
              "    </tr>\n",
              "  </thead>\n",
              "  <tbody>\n",
              "    <tr>\n",
              "      <th>1801 days</th>\n",
              "      <td>2018-06-27</td>\n",
              "      <td>10900</td>\n",
              "      <td>10800</td>\n",
              "      <td>11050</td>\n",
              "      <td>10500</td>\n",
              "      <td>133548</td>\n",
              "    </tr>\n",
              "    <tr>\n",
              "      <th>1802 days</th>\n",
              "      <td>2018-06-26</td>\n",
              "      <td>10800</td>\n",
              "      <td>10900</td>\n",
              "      <td>11000</td>\n",
              "      <td>10700</td>\n",
              "      <td>63039</td>\n",
              "    </tr>\n",
              "    <tr>\n",
              "      <th>1803 days</th>\n",
              "      <td>2018-06-25</td>\n",
              "      <td>11150</td>\n",
              "      <td>11400</td>\n",
              "      <td>11450</td>\n",
              "      <td>11000</td>\n",
              "      <td>55519</td>\n",
              "    </tr>\n",
              "    <tr>\n",
              "      <th>1806 days</th>\n",
              "      <td>2018-06-22</td>\n",
              "      <td>11300</td>\n",
              "      <td>11250</td>\n",
              "      <td>11450</td>\n",
              "      <td>10750</td>\n",
              "      <td>134805</td>\n",
              "    </tr>\n",
              "    <tr>\n",
              "      <th>1807 days</th>\n",
              "      <td>2018-06-21</td>\n",
              "      <td>11200</td>\n",
              "      <td>11350</td>\n",
              "      <td>11750</td>\n",
              "      <td>11200</td>\n",
              "      <td>133002</td>\n",
              "    </tr>\n",
              "    <tr>\n",
              "      <th>1808 days</th>\n",
              "      <td>2018-06-20</td>\n",
              "      <td>11550</td>\n",
              "      <td>11200</td>\n",
              "      <td>11600</td>\n",
              "      <td>10900</td>\n",
              "      <td>308596</td>\n",
              "    </tr>\n",
              "    <tr>\n",
              "      <th>1809 days</th>\n",
              "      <td>2018-06-19</td>\n",
              "      <td>11300</td>\n",
              "      <td>11850</td>\n",
              "      <td>11950</td>\n",
              "      <td>11300</td>\n",
              "      <td>180656</td>\n",
              "    </tr>\n",
              "    <tr>\n",
              "      <th>1810 days</th>\n",
              "      <td>2018-06-18</td>\n",
              "      <td>12000</td>\n",
              "      <td>13400</td>\n",
              "      <td>13400</td>\n",
              "      <td>12000</td>\n",
              "      <td>309787</td>\n",
              "    </tr>\n",
              "  </tbody>\n",
              "</table>\n",
              "</div>\n",
              "      <button class=\"colab-df-convert\" onclick=\"convertToInteractive('df-b79d7b09-db22-46eb-adb6-e9398ffd6db3')\"\n",
              "              title=\"Convert this dataframe to an interactive table.\"\n",
              "              style=\"display:none;\">\n",
              "        \n",
              "  <svg xmlns=\"http://www.w3.org/2000/svg\" height=\"24px\"viewBox=\"0 0 24 24\"\n",
              "       width=\"24px\">\n",
              "    <path d=\"M0 0h24v24H0V0z\" fill=\"none\"/>\n",
              "    <path d=\"M18.56 5.44l.94 2.06.94-2.06 2.06-.94-2.06-.94-.94-2.06-.94 2.06-2.06.94zm-11 1L8.5 8.5l.94-2.06 2.06-.94-2.06-.94L8.5 2.5l-.94 2.06-2.06.94zm10 10l.94 2.06.94-2.06 2.06-.94-2.06-.94-.94-2.06-.94 2.06-2.06.94z\"/><path d=\"M17.41 7.96l-1.37-1.37c-.4-.4-.92-.59-1.43-.59-.52 0-1.04.2-1.43.59L10.3 9.45l-7.72 7.72c-.78.78-.78 2.05 0 2.83L4 21.41c.39.39.9.59 1.41.59.51 0 1.02-.2 1.41-.59l7.78-7.78 2.81-2.81c.8-.78.8-2.07 0-2.86zM5.41 20L4 18.59l7.72-7.72 1.47 1.35L5.41 20z\"/>\n",
              "  </svg>\n",
              "      </button>\n",
              "      \n",
              "  <style>\n",
              "    .colab-df-container {\n",
              "      display:flex;\n",
              "      flex-wrap:wrap;\n",
              "      gap: 12px;\n",
              "    }\n",
              "\n",
              "    .colab-df-convert {\n",
              "      background-color: #E8F0FE;\n",
              "      border: none;\n",
              "      border-radius: 50%;\n",
              "      cursor: pointer;\n",
              "      display: none;\n",
              "      fill: #1967D2;\n",
              "      height: 32px;\n",
              "      padding: 0 0 0 0;\n",
              "      width: 32px;\n",
              "    }\n",
              "\n",
              "    .colab-df-convert:hover {\n",
              "      background-color: #E2EBFA;\n",
              "      box-shadow: 0px 1px 2px rgba(60, 64, 67, 0.3), 0px 1px 3px 1px rgba(60, 64, 67, 0.15);\n",
              "      fill: #174EA6;\n",
              "    }\n",
              "\n",
              "    [theme=dark] .colab-df-convert {\n",
              "      background-color: #3B4455;\n",
              "      fill: #D2E3FC;\n",
              "    }\n",
              "\n",
              "    [theme=dark] .colab-df-convert:hover {\n",
              "      background-color: #434B5C;\n",
              "      box-shadow: 0px 1px 3px 1px rgba(0, 0, 0, 0.15);\n",
              "      filter: drop-shadow(0px 1px 2px rgba(0, 0, 0, 0.3));\n",
              "      fill: #FFFFFF;\n",
              "    }\n",
              "  </style>\n",
              "\n",
              "      <script>\n",
              "        const buttonEl =\n",
              "          document.querySelector('#df-b79d7b09-db22-46eb-adb6-e9398ffd6db3 button.colab-df-convert');\n",
              "        buttonEl.style.display =\n",
              "          google.colab.kernel.accessAllowed ? 'block' : 'none';\n",
              "\n",
              "        async function convertToInteractive(key) {\n",
              "          const element = document.querySelector('#df-b79d7b09-db22-46eb-adb6-e9398ffd6db3');\n",
              "          const dataTable =\n",
              "            await google.colab.kernel.invokeFunction('convertToInteractive',\n",
              "                                                     [key], {});\n",
              "          if (!dataTable) return;\n",
              "\n",
              "          const docLinkHtml = 'Like what you see? Visit the ' +\n",
              "            '<a target=\"_blank\" href=https://colab.research.google.com/notebooks/data_table.ipynb>data table notebook</a>'\n",
              "            + ' to learn more about interactive tables.';\n",
              "          element.innerHTML = '';\n",
              "          dataTable['output_type'] = 'display_data';\n",
              "          await google.colab.output.renderOutput(dataTable, element);\n",
              "          const docLink = document.createElement('div');\n",
              "          docLink.innerHTML = docLinkHtml;\n",
              "          element.appendChild(docLink);\n",
              "        }\n",
              "      </script>\n",
              "    </div>\n",
              "  </div>\n",
              "  "
            ]
          },
          "metadata": {},
          "execution_count": 79
        }
      ]
    },
    {
      "cell_type": "markdown",
      "source": [
        "# 데이터프레임 응용"
      ],
      "metadata": {
        "id": "VExGeN2a04HQ"
      }
    },
    {
      "cell_type": "markdown",
      "source": [
        "## 함수 매핑"
      ],
      "metadata": {
        "id": "LO8MlSVS063x"
      }
    },
    {
      "cell_type": "markdown",
      "source": [
        "### 개별 원소에 적용"
      ],
      "metadata": {
        "id": "fGLivTRN1Bwz"
      }
    },
    {
      "cell_type": "code",
      "source": [
        "import seaborn as sns\n",
        "# 시리즈 원소\n",
        "titanic = sns.load_dataset('titanic')\n",
        "titanic.head()"
      ],
      "metadata": {
        "id": "lPPNp95f0-in",
        "colab": {
          "base_uri": "https://localhost:8080/",
          "height": 270
        },
        "outputId": "a9e090bf-14a4-4486-bb13-00db25f8f6be"
      },
      "execution_count": null,
      "outputs": [
        {
          "output_type": "execute_result",
          "data": {
            "text/plain": [
              "   survived  pclass     sex   age  sibsp  parch     fare embarked  class  \\\n",
              "0         0       3    male  22.0      1      0   7.2500        S  Third   \n",
              "1         1       1  female  38.0      1      0  71.2833        C  First   \n",
              "2         1       3  female  26.0      0      0   7.9250        S  Third   \n",
              "3         1       1  female  35.0      1      0  53.1000        S  First   \n",
              "4         0       3    male  35.0      0      0   8.0500        S  Third   \n",
              "\n",
              "     who  adult_male deck  embark_town alive  alone  \n",
              "0    man        True  NaN  Southampton    no  False  \n",
              "1  woman       False    C    Cherbourg   yes  False  \n",
              "2  woman       False  NaN  Southampton   yes   True  \n",
              "3  woman       False    C  Southampton   yes  False  \n",
              "4    man        True  NaN  Southampton    no   True  "
            ],
            "text/html": [
              "\n",
              "  <div id=\"df-34b22674-3a2d-4f2b-83db-c5bf6aca4afa\">\n",
              "    <div class=\"colab-df-container\">\n",
              "      <div>\n",
              "<style scoped>\n",
              "    .dataframe tbody tr th:only-of-type {\n",
              "        vertical-align: middle;\n",
              "    }\n",
              "\n",
              "    .dataframe tbody tr th {\n",
              "        vertical-align: top;\n",
              "    }\n",
              "\n",
              "    .dataframe thead th {\n",
              "        text-align: right;\n",
              "    }\n",
              "</style>\n",
              "<table border=\"1\" class=\"dataframe\">\n",
              "  <thead>\n",
              "    <tr style=\"text-align: right;\">\n",
              "      <th></th>\n",
              "      <th>survived</th>\n",
              "      <th>pclass</th>\n",
              "      <th>sex</th>\n",
              "      <th>age</th>\n",
              "      <th>sibsp</th>\n",
              "      <th>parch</th>\n",
              "      <th>fare</th>\n",
              "      <th>embarked</th>\n",
              "      <th>class</th>\n",
              "      <th>who</th>\n",
              "      <th>adult_male</th>\n",
              "      <th>deck</th>\n",
              "      <th>embark_town</th>\n",
              "      <th>alive</th>\n",
              "      <th>alone</th>\n",
              "    </tr>\n",
              "  </thead>\n",
              "  <tbody>\n",
              "    <tr>\n",
              "      <th>0</th>\n",
              "      <td>0</td>\n",
              "      <td>3</td>\n",
              "      <td>male</td>\n",
              "      <td>22.0</td>\n",
              "      <td>1</td>\n",
              "      <td>0</td>\n",
              "      <td>7.2500</td>\n",
              "      <td>S</td>\n",
              "      <td>Third</td>\n",
              "      <td>man</td>\n",
              "      <td>True</td>\n",
              "      <td>NaN</td>\n",
              "      <td>Southampton</td>\n",
              "      <td>no</td>\n",
              "      <td>False</td>\n",
              "    </tr>\n",
              "    <tr>\n",
              "      <th>1</th>\n",
              "      <td>1</td>\n",
              "      <td>1</td>\n",
              "      <td>female</td>\n",
              "      <td>38.0</td>\n",
              "      <td>1</td>\n",
              "      <td>0</td>\n",
              "      <td>71.2833</td>\n",
              "      <td>C</td>\n",
              "      <td>First</td>\n",
              "      <td>woman</td>\n",
              "      <td>False</td>\n",
              "      <td>C</td>\n",
              "      <td>Cherbourg</td>\n",
              "      <td>yes</td>\n",
              "      <td>False</td>\n",
              "    </tr>\n",
              "    <tr>\n",
              "      <th>2</th>\n",
              "      <td>1</td>\n",
              "      <td>3</td>\n",
              "      <td>female</td>\n",
              "      <td>26.0</td>\n",
              "      <td>0</td>\n",
              "      <td>0</td>\n",
              "      <td>7.9250</td>\n",
              "      <td>S</td>\n",
              "      <td>Third</td>\n",
              "      <td>woman</td>\n",
              "      <td>False</td>\n",
              "      <td>NaN</td>\n",
              "      <td>Southampton</td>\n",
              "      <td>yes</td>\n",
              "      <td>True</td>\n",
              "    </tr>\n",
              "    <tr>\n",
              "      <th>3</th>\n",
              "      <td>1</td>\n",
              "      <td>1</td>\n",
              "      <td>female</td>\n",
              "      <td>35.0</td>\n",
              "      <td>1</td>\n",
              "      <td>0</td>\n",
              "      <td>53.1000</td>\n",
              "      <td>S</td>\n",
              "      <td>First</td>\n",
              "      <td>woman</td>\n",
              "      <td>False</td>\n",
              "      <td>C</td>\n",
              "      <td>Southampton</td>\n",
              "      <td>yes</td>\n",
              "      <td>False</td>\n",
              "    </tr>\n",
              "    <tr>\n",
              "      <th>4</th>\n",
              "      <td>0</td>\n",
              "      <td>3</td>\n",
              "      <td>male</td>\n",
              "      <td>35.0</td>\n",
              "      <td>0</td>\n",
              "      <td>0</td>\n",
              "      <td>8.0500</td>\n",
              "      <td>S</td>\n",
              "      <td>Third</td>\n",
              "      <td>man</td>\n",
              "      <td>True</td>\n",
              "      <td>NaN</td>\n",
              "      <td>Southampton</td>\n",
              "      <td>no</td>\n",
              "      <td>True</td>\n",
              "    </tr>\n",
              "  </tbody>\n",
              "</table>\n",
              "</div>\n",
              "      <button class=\"colab-df-convert\" onclick=\"convertToInteractive('df-34b22674-3a2d-4f2b-83db-c5bf6aca4afa')\"\n",
              "              title=\"Convert this dataframe to an interactive table.\"\n",
              "              style=\"display:none;\">\n",
              "        \n",
              "  <svg xmlns=\"http://www.w3.org/2000/svg\" height=\"24px\"viewBox=\"0 0 24 24\"\n",
              "       width=\"24px\">\n",
              "    <path d=\"M0 0h24v24H0V0z\" fill=\"none\"/>\n",
              "    <path d=\"M18.56 5.44l.94 2.06.94-2.06 2.06-.94-2.06-.94-.94-2.06-.94 2.06-2.06.94zm-11 1L8.5 8.5l.94-2.06 2.06-.94-2.06-.94L8.5 2.5l-.94 2.06-2.06.94zm10 10l.94 2.06.94-2.06 2.06-.94-2.06-.94-.94-2.06-.94 2.06-2.06.94z\"/><path d=\"M17.41 7.96l-1.37-1.37c-.4-.4-.92-.59-1.43-.59-.52 0-1.04.2-1.43.59L10.3 9.45l-7.72 7.72c-.78.78-.78 2.05 0 2.83L4 21.41c.39.39.9.59 1.41.59.51 0 1.02-.2 1.41-.59l7.78-7.78 2.81-2.81c.8-.78.8-2.07 0-2.86zM5.41 20L4 18.59l7.72-7.72 1.47 1.35L5.41 20z\"/>\n",
              "  </svg>\n",
              "      </button>\n",
              "      \n",
              "  <style>\n",
              "    .colab-df-container {\n",
              "      display:flex;\n",
              "      flex-wrap:wrap;\n",
              "      gap: 12px;\n",
              "    }\n",
              "\n",
              "    .colab-df-convert {\n",
              "      background-color: #E8F0FE;\n",
              "      border: none;\n",
              "      border-radius: 50%;\n",
              "      cursor: pointer;\n",
              "      display: none;\n",
              "      fill: #1967D2;\n",
              "      height: 32px;\n",
              "      padding: 0 0 0 0;\n",
              "      width: 32px;\n",
              "    }\n",
              "\n",
              "    .colab-df-convert:hover {\n",
              "      background-color: #E2EBFA;\n",
              "      box-shadow: 0px 1px 2px rgba(60, 64, 67, 0.3), 0px 1px 3px 1px rgba(60, 64, 67, 0.15);\n",
              "      fill: #174EA6;\n",
              "    }\n",
              "\n",
              "    [theme=dark] .colab-df-convert {\n",
              "      background-color: #3B4455;\n",
              "      fill: #D2E3FC;\n",
              "    }\n",
              "\n",
              "    [theme=dark] .colab-df-convert:hover {\n",
              "      background-color: #434B5C;\n",
              "      box-shadow: 0px 1px 3px 1px rgba(0, 0, 0, 0.15);\n",
              "      filter: drop-shadow(0px 1px 2px rgba(0, 0, 0, 0.3));\n",
              "      fill: #FFFFFF;\n",
              "    }\n",
              "  </style>\n",
              "\n",
              "      <script>\n",
              "        const buttonEl =\n",
              "          document.querySelector('#df-34b22674-3a2d-4f2b-83db-c5bf6aca4afa button.colab-df-convert');\n",
              "        buttonEl.style.display =\n",
              "          google.colab.kernel.accessAllowed ? 'block' : 'none';\n",
              "\n",
              "        async function convertToInteractive(key) {\n",
              "          const element = document.querySelector('#df-34b22674-3a2d-4f2b-83db-c5bf6aca4afa');\n",
              "          const dataTable =\n",
              "            await google.colab.kernel.invokeFunction('convertToInteractive',\n",
              "                                                     [key], {});\n",
              "          if (!dataTable) return;\n",
              "\n",
              "          const docLinkHtml = 'Like what you see? Visit the ' +\n",
              "            '<a target=\"_blank\" href=https://colab.research.google.com/notebooks/data_table.ipynb>data table notebook</a>'\n",
              "            + ' to learn more about interactive tables.';\n",
              "          element.innerHTML = '';\n",
              "          dataTable['output_type'] = 'display_data';\n",
              "          await google.colab.output.renderOutput(dataTable, element);\n",
              "          const docLink = document.createElement('div');\n",
              "          docLink.innerHTML = docLinkHtml;\n",
              "          element.appendChild(docLink);\n",
              "        }\n",
              "      </script>\n",
              "    </div>\n",
              "  </div>\n",
              "  "
            ]
          },
          "metadata": {},
          "execution_count": 80
        }
      ]
    },
    {
      "cell_type": "code",
      "source": [
        "\n",
        "# age, fare 열 추출 + 모든 행\n",
        "df = titanic.loc[:,['age','fare']]"
      ],
      "metadata": {
        "id": "wO_DgOel1UVW"
      },
      "execution_count": null,
      "outputs": []
    },
    {
      "cell_type": "code",
      "source": [
        "df['five'] = 5\n",
        "df.head()"
      ],
      "metadata": {
        "id": "vtH_7V0C1r2o",
        "colab": {
          "base_uri": "https://localhost:8080/",
          "height": 206
        },
        "outputId": "00e3513e-d0a9-4be5-e94d-0a2766ea3cb7"
      },
      "execution_count": null,
      "outputs": [
        {
          "output_type": "execute_result",
          "data": {
            "text/plain": [
              "    age     fare  five\n",
              "0  22.0   7.2500     5\n",
              "1  38.0  71.2833     5\n",
              "2  26.0   7.9250     5\n",
              "3  35.0  53.1000     5\n",
              "4  35.0   8.0500     5"
            ],
            "text/html": [
              "\n",
              "  <div id=\"df-cdb5a17e-685a-47d7-9ed2-46119d176661\">\n",
              "    <div class=\"colab-df-container\">\n",
              "      <div>\n",
              "<style scoped>\n",
              "    .dataframe tbody tr th:only-of-type {\n",
              "        vertical-align: middle;\n",
              "    }\n",
              "\n",
              "    .dataframe tbody tr th {\n",
              "        vertical-align: top;\n",
              "    }\n",
              "\n",
              "    .dataframe thead th {\n",
              "        text-align: right;\n",
              "    }\n",
              "</style>\n",
              "<table border=\"1\" class=\"dataframe\">\n",
              "  <thead>\n",
              "    <tr style=\"text-align: right;\">\n",
              "      <th></th>\n",
              "      <th>age</th>\n",
              "      <th>fare</th>\n",
              "      <th>five</th>\n",
              "    </tr>\n",
              "  </thead>\n",
              "  <tbody>\n",
              "    <tr>\n",
              "      <th>0</th>\n",
              "      <td>22.0</td>\n",
              "      <td>7.2500</td>\n",
              "      <td>5</td>\n",
              "    </tr>\n",
              "    <tr>\n",
              "      <th>1</th>\n",
              "      <td>38.0</td>\n",
              "      <td>71.2833</td>\n",
              "      <td>5</td>\n",
              "    </tr>\n",
              "    <tr>\n",
              "      <th>2</th>\n",
              "      <td>26.0</td>\n",
              "      <td>7.9250</td>\n",
              "      <td>5</td>\n",
              "    </tr>\n",
              "    <tr>\n",
              "      <th>3</th>\n",
              "      <td>35.0</td>\n",
              "      <td>53.1000</td>\n",
              "      <td>5</td>\n",
              "    </tr>\n",
              "    <tr>\n",
              "      <th>4</th>\n",
              "      <td>35.0</td>\n",
              "      <td>8.0500</td>\n",
              "      <td>5</td>\n",
              "    </tr>\n",
              "  </tbody>\n",
              "</table>\n",
              "</div>\n",
              "      <button class=\"colab-df-convert\" onclick=\"convertToInteractive('df-cdb5a17e-685a-47d7-9ed2-46119d176661')\"\n",
              "              title=\"Convert this dataframe to an interactive table.\"\n",
              "              style=\"display:none;\">\n",
              "        \n",
              "  <svg xmlns=\"http://www.w3.org/2000/svg\" height=\"24px\"viewBox=\"0 0 24 24\"\n",
              "       width=\"24px\">\n",
              "    <path d=\"M0 0h24v24H0V0z\" fill=\"none\"/>\n",
              "    <path d=\"M18.56 5.44l.94 2.06.94-2.06 2.06-.94-2.06-.94-.94-2.06-.94 2.06-2.06.94zm-11 1L8.5 8.5l.94-2.06 2.06-.94-2.06-.94L8.5 2.5l-.94 2.06-2.06.94zm10 10l.94 2.06.94-2.06 2.06-.94-2.06-.94-.94-2.06-.94 2.06-2.06.94z\"/><path d=\"M17.41 7.96l-1.37-1.37c-.4-.4-.92-.59-1.43-.59-.52 0-1.04.2-1.43.59L10.3 9.45l-7.72 7.72c-.78.78-.78 2.05 0 2.83L4 21.41c.39.39.9.59 1.41.59.51 0 1.02-.2 1.41-.59l7.78-7.78 2.81-2.81c.8-.78.8-2.07 0-2.86zM5.41 20L4 18.59l7.72-7.72 1.47 1.35L5.41 20z\"/>\n",
              "  </svg>\n",
              "      </button>\n",
              "      \n",
              "  <style>\n",
              "    .colab-df-container {\n",
              "      display:flex;\n",
              "      flex-wrap:wrap;\n",
              "      gap: 12px;\n",
              "    }\n",
              "\n",
              "    .colab-df-convert {\n",
              "      background-color: #E8F0FE;\n",
              "      border: none;\n",
              "      border-radius: 50%;\n",
              "      cursor: pointer;\n",
              "      display: none;\n",
              "      fill: #1967D2;\n",
              "      height: 32px;\n",
              "      padding: 0 0 0 0;\n",
              "      width: 32px;\n",
              "    }\n",
              "\n",
              "    .colab-df-convert:hover {\n",
              "      background-color: #E2EBFA;\n",
              "      box-shadow: 0px 1px 2px rgba(60, 64, 67, 0.3), 0px 1px 3px 1px rgba(60, 64, 67, 0.15);\n",
              "      fill: #174EA6;\n",
              "    }\n",
              "\n",
              "    [theme=dark] .colab-df-convert {\n",
              "      background-color: #3B4455;\n",
              "      fill: #D2E3FC;\n",
              "    }\n",
              "\n",
              "    [theme=dark] .colab-df-convert:hover {\n",
              "      background-color: #434B5C;\n",
              "      box-shadow: 0px 1px 3px 1px rgba(0, 0, 0, 0.15);\n",
              "      filter: drop-shadow(0px 1px 2px rgba(0, 0, 0, 0.3));\n",
              "      fill: #FFFFFF;\n",
              "    }\n",
              "  </style>\n",
              "\n",
              "      <script>\n",
              "        const buttonEl =\n",
              "          document.querySelector('#df-cdb5a17e-685a-47d7-9ed2-46119d176661 button.colab-df-convert');\n",
              "        buttonEl.style.display =\n",
              "          google.colab.kernel.accessAllowed ? 'block' : 'none';\n",
              "\n",
              "        async function convertToInteractive(key) {\n",
              "          const element = document.querySelector('#df-cdb5a17e-685a-47d7-9ed2-46119d176661');\n",
              "          const dataTable =\n",
              "            await google.colab.kernel.invokeFunction('convertToInteractive',\n",
              "                                                     [key], {});\n",
              "          if (!dataTable) return;\n",
              "\n",
              "          const docLinkHtml = 'Like what you see? Visit the ' +\n",
              "            '<a target=\"_blank\" href=https://colab.research.google.com/notebooks/data_table.ipynb>data table notebook</a>'\n",
              "            + ' to learn more about interactive tables.';\n",
              "          element.innerHTML = '';\n",
              "          dataTable['output_type'] = 'display_data';\n",
              "          await google.colab.output.renderOutput(dataTable, element);\n",
              "          const docLink = document.createElement('div');\n",
              "          docLink.innerHTML = docLinkHtml;\n",
              "          element.appendChild(docLink);\n",
              "        }\n",
              "      </script>\n",
              "    </div>\n",
              "  </div>\n",
              "  "
            ]
          },
          "metadata": {},
          "execution_count": 82
        }
      ]
    },
    {
      "cell_type": "code",
      "source": [
        "# 사용자 정의 함수\n",
        "# 5를 더하는 함수\n",
        "def add5(x):\n",
        "  return x + 5\n",
        "# 두 객체를 더하는 함수\n",
        "def add_two(a, b):\n",
        "  return a + b"
      ],
      "metadata": {
        "id": "25K6FVay1zX4"
      },
      "execution_count": null,
      "outputs": []
    },
    {
      "cell_type": "code",
      "source": [
        "add5(4)"
      ],
      "metadata": {
        "id": "7sUy51Af2OCZ",
        "colab": {
          "base_uri": "https://localhost:8080/"
        },
        "outputId": "1b041429-7e80-46cd-c2ce-bae73e2cebd3"
      },
      "execution_count": null,
      "outputs": [
        {
          "output_type": "execute_result",
          "data": {
            "text/plain": [
              "9"
            ]
          },
          "metadata": {},
          "execution_count": 84
        }
      ]
    },
    {
      "cell_type": "code",
      "source": [
        "add_two(3,4)"
      ],
      "metadata": {
        "id": "kaJ_s5QD2Uwx",
        "colab": {
          "base_uri": "https://localhost:8080/"
        },
        "outputId": "1a9f4b70-92e1-495b-d1ec-cb6d805dcb53"
      },
      "execution_count": null,
      "outputs": [
        {
          "output_type": "execute_result",
          "data": {
            "text/plain": [
              "7"
            ]
          },
          "metadata": {},
          "execution_count": 85
        }
      ]
    },
    {
      "cell_type": "code",
      "source": [
        "print(df['age'])\n",
        "df['age'].apply(add5)"
      ],
      "metadata": {
        "id": "OXftyu3g2aDl",
        "colab": {
          "base_uri": "https://localhost:8080/"
        },
        "outputId": "4cefad33-1dbe-486e-b873-91c1de5b053c"
      },
      "execution_count": null,
      "outputs": [
        {
          "output_type": "stream",
          "name": "stdout",
          "text": [
            "0      22.0\n",
            "1      38.0\n",
            "2      26.0\n",
            "3      35.0\n",
            "4      35.0\n",
            "       ... \n",
            "886    27.0\n",
            "887    19.0\n",
            "888     NaN\n",
            "889    26.0\n",
            "890    32.0\n",
            "Name: age, Length: 891, dtype: float64\n"
          ]
        },
        {
          "output_type": "execute_result",
          "data": {
            "text/plain": [
              "0      27.0\n",
              "1      43.0\n",
              "2      31.0\n",
              "3      40.0\n",
              "4      40.0\n",
              "       ... \n",
              "886    32.0\n",
              "887    24.0\n",
              "888     NaN\n",
              "889    31.0\n",
              "890    37.0\n",
              "Name: age, Length: 891, dtype: float64"
            ]
          },
          "metadata": {},
          "execution_count": 86
        }
      ]
    },
    {
      "cell_type": "code",
      "source": [
        "print(df['age'])\n",
        "df['age'].apply(add_two, b = 3)"
      ],
      "metadata": {
        "id": "VNHEMBww7On-",
        "colab": {
          "base_uri": "https://localhost:8080/"
        },
        "outputId": "2da50d58-b43d-4fb8-8717-487176c498ba"
      },
      "execution_count": null,
      "outputs": [
        {
          "output_type": "stream",
          "name": "stdout",
          "text": [
            "0      22.0\n",
            "1      38.0\n",
            "2      26.0\n",
            "3      35.0\n",
            "4      35.0\n",
            "       ... \n",
            "886    27.0\n",
            "887    19.0\n",
            "888     NaN\n",
            "889    26.0\n",
            "890    32.0\n",
            "Name: age, Length: 891, dtype: float64\n"
          ]
        },
        {
          "output_type": "execute_result",
          "data": {
            "text/plain": [
              "0      25.0\n",
              "1      41.0\n",
              "2      29.0\n",
              "3      38.0\n",
              "4      38.0\n",
              "       ... \n",
              "886    30.0\n",
              "887    22.0\n",
              "888     NaN\n",
              "889    29.0\n",
              "890    35.0\n",
              "Name: age, Length: 891, dtype: float64"
            ]
          },
          "metadata": {},
          "execution_count": 87
        }
      ]
    },
    {
      "cell_type": "code",
      "source": [
        "print(df['age'])\n",
        "# add5 함수와 같음\n",
        "df['age'].apply(lambda x: x + 5)"
      ],
      "metadata": {
        "id": "bTykdZ_J7wth",
        "colab": {
          "base_uri": "https://localhost:8080/"
        },
        "outputId": "a7c6aa10-ef9b-41d9-dc5e-5171e36087d7"
      },
      "execution_count": null,
      "outputs": [
        {
          "output_type": "stream",
          "name": "stdout",
          "text": [
            "0      22.0\n",
            "1      38.0\n",
            "2      26.0\n",
            "3      35.0\n",
            "4      35.0\n",
            "       ... \n",
            "886    27.0\n",
            "887    19.0\n",
            "888     NaN\n",
            "889    26.0\n",
            "890    32.0\n",
            "Name: age, Length: 891, dtype: float64\n"
          ]
        },
        {
          "output_type": "execute_result",
          "data": {
            "text/plain": [
              "0      27.0\n",
              "1      43.0\n",
              "2      31.0\n",
              "3      40.0\n",
              "4      40.0\n",
              "       ... \n",
              "886    32.0\n",
              "887    24.0\n",
              "888     NaN\n",
              "889    31.0\n",
              "890    37.0\n",
              "Name: age, Length: 891, dtype: float64"
            ]
          },
          "metadata": {},
          "execution_count": 88
        }
      ]
    },
    {
      "cell_type": "code",
      "source": [
        "print(df['age'])\n",
        "df['age'].apply(lambda x: add5(x))"
      ],
      "metadata": {
        "id": "DcR1Pf3v8NXl",
        "colab": {
          "base_uri": "https://localhost:8080/"
        },
        "outputId": "f77bac66-80bd-4883-933d-3b595dbda9e8"
      },
      "execution_count": null,
      "outputs": [
        {
          "output_type": "stream",
          "name": "stdout",
          "text": [
            "0      22.0\n",
            "1      38.0\n",
            "2      26.0\n",
            "3      35.0\n",
            "4      35.0\n",
            "       ... \n",
            "886    27.0\n",
            "887    19.0\n",
            "888     NaN\n",
            "889    26.0\n",
            "890    32.0\n",
            "Name: age, Length: 891, dtype: float64\n"
          ]
        },
        {
          "output_type": "execute_result",
          "data": {
            "text/plain": [
              "0      27.0\n",
              "1      43.0\n",
              "2      31.0\n",
              "3      40.0\n",
              "4      40.0\n",
              "       ... \n",
              "886    32.0\n",
              "887    24.0\n",
              "888     NaN\n",
              "889    31.0\n",
              "890    37.0\n",
              "Name: age, Length: 891, dtype: float64"
            ]
          },
          "metadata": {},
          "execution_count": 89
        }
      ]
    },
    {
      "cell_type": "code",
      "source": [
        "print(df['age'])\n",
        "df['age'].apply(lambda x: add_two(x, b = 3))"
      ],
      "metadata": {
        "id": "QfPztYzd8Tt2",
        "colab": {
          "base_uri": "https://localhost:8080/"
        },
        "outputId": "e19876eb-24d1-4e81-db06-b001f5c319c5"
      },
      "execution_count": null,
      "outputs": [
        {
          "output_type": "stream",
          "name": "stdout",
          "text": [
            "0      22.0\n",
            "1      38.0\n",
            "2      26.0\n",
            "3      35.0\n",
            "4      35.0\n",
            "       ... \n",
            "886    27.0\n",
            "887    19.0\n",
            "888     NaN\n",
            "889    26.0\n",
            "890    32.0\n",
            "Name: age, Length: 891, dtype: float64\n"
          ]
        },
        {
          "output_type": "execute_result",
          "data": {
            "text/plain": [
              "0      25.0\n",
              "1      41.0\n",
              "2      29.0\n",
              "3      38.0\n",
              "4      38.0\n",
              "       ... \n",
              "886    30.0\n",
              "887    22.0\n",
              "888     NaN\n",
              "889    29.0\n",
              "890    35.0\n",
              "Name: age, Length: 891, dtype: float64"
            ]
          },
          "metadata": {},
          "execution_count": 90
        }
      ]
    },
    {
      "cell_type": "code",
      "source": [
        "# 데이터프레임 원소\n",
        "print(df)\n",
        "df.applymap(add5)"
      ],
      "metadata": {
        "id": "1VzrkckC8lY3",
        "colab": {
          "base_uri": "https://localhost:8080/",
          "height": 681
        },
        "outputId": "b7c6f164-ebdb-484e-d37e-eab44a48ca5f"
      },
      "execution_count": null,
      "outputs": [
        {
          "output_type": "stream",
          "name": "stdout",
          "text": [
            "      age     fare  five\n",
            "0    22.0   7.2500     5\n",
            "1    38.0  71.2833     5\n",
            "2    26.0   7.9250     5\n",
            "3    35.0  53.1000     5\n",
            "4    35.0   8.0500     5\n",
            "..    ...      ...   ...\n",
            "886  27.0  13.0000     5\n",
            "887  19.0  30.0000     5\n",
            "888   NaN  23.4500     5\n",
            "889  26.0  30.0000     5\n",
            "890  32.0   7.7500     5\n",
            "\n",
            "[891 rows x 3 columns]\n"
          ]
        },
        {
          "output_type": "execute_result",
          "data": {
            "text/plain": [
              "      age     fare  five\n",
              "0    27.0  12.2500    10\n",
              "1    43.0  76.2833    10\n",
              "2    31.0  12.9250    10\n",
              "3    40.0  58.1000    10\n",
              "4    40.0  13.0500    10\n",
              "..    ...      ...   ...\n",
              "886  32.0  18.0000    10\n",
              "887  24.0  35.0000    10\n",
              "888   NaN  28.4500    10\n",
              "889  31.0  35.0000    10\n",
              "890  37.0  12.7500    10\n",
              "\n",
              "[891 rows x 3 columns]"
            ],
            "text/html": [
              "\n",
              "  <div id=\"df-d9956c43-174d-4a74-b021-b506f941ef8b\">\n",
              "    <div class=\"colab-df-container\">\n",
              "      <div>\n",
              "<style scoped>\n",
              "    .dataframe tbody tr th:only-of-type {\n",
              "        vertical-align: middle;\n",
              "    }\n",
              "\n",
              "    .dataframe tbody tr th {\n",
              "        vertical-align: top;\n",
              "    }\n",
              "\n",
              "    .dataframe thead th {\n",
              "        text-align: right;\n",
              "    }\n",
              "</style>\n",
              "<table border=\"1\" class=\"dataframe\">\n",
              "  <thead>\n",
              "    <tr style=\"text-align: right;\">\n",
              "      <th></th>\n",
              "      <th>age</th>\n",
              "      <th>fare</th>\n",
              "      <th>five</th>\n",
              "    </tr>\n",
              "  </thead>\n",
              "  <tbody>\n",
              "    <tr>\n",
              "      <th>0</th>\n",
              "      <td>27.0</td>\n",
              "      <td>12.2500</td>\n",
              "      <td>10</td>\n",
              "    </tr>\n",
              "    <tr>\n",
              "      <th>1</th>\n",
              "      <td>43.0</td>\n",
              "      <td>76.2833</td>\n",
              "      <td>10</td>\n",
              "    </tr>\n",
              "    <tr>\n",
              "      <th>2</th>\n",
              "      <td>31.0</td>\n",
              "      <td>12.9250</td>\n",
              "      <td>10</td>\n",
              "    </tr>\n",
              "    <tr>\n",
              "      <th>3</th>\n",
              "      <td>40.0</td>\n",
              "      <td>58.1000</td>\n",
              "      <td>10</td>\n",
              "    </tr>\n",
              "    <tr>\n",
              "      <th>4</th>\n",
              "      <td>40.0</td>\n",
              "      <td>13.0500</td>\n",
              "      <td>10</td>\n",
              "    </tr>\n",
              "    <tr>\n",
              "      <th>...</th>\n",
              "      <td>...</td>\n",
              "      <td>...</td>\n",
              "      <td>...</td>\n",
              "    </tr>\n",
              "    <tr>\n",
              "      <th>886</th>\n",
              "      <td>32.0</td>\n",
              "      <td>18.0000</td>\n",
              "      <td>10</td>\n",
              "    </tr>\n",
              "    <tr>\n",
              "      <th>887</th>\n",
              "      <td>24.0</td>\n",
              "      <td>35.0000</td>\n",
              "      <td>10</td>\n",
              "    </tr>\n",
              "    <tr>\n",
              "      <th>888</th>\n",
              "      <td>NaN</td>\n",
              "      <td>28.4500</td>\n",
              "      <td>10</td>\n",
              "    </tr>\n",
              "    <tr>\n",
              "      <th>889</th>\n",
              "      <td>31.0</td>\n",
              "      <td>35.0000</td>\n",
              "      <td>10</td>\n",
              "    </tr>\n",
              "    <tr>\n",
              "      <th>890</th>\n",
              "      <td>37.0</td>\n",
              "      <td>12.7500</td>\n",
              "      <td>10</td>\n",
              "    </tr>\n",
              "  </tbody>\n",
              "</table>\n",
              "<p>891 rows × 3 columns</p>\n",
              "</div>\n",
              "      <button class=\"colab-df-convert\" onclick=\"convertToInteractive('df-d9956c43-174d-4a74-b021-b506f941ef8b')\"\n",
              "              title=\"Convert this dataframe to an interactive table.\"\n",
              "              style=\"display:none;\">\n",
              "        \n",
              "  <svg xmlns=\"http://www.w3.org/2000/svg\" height=\"24px\"viewBox=\"0 0 24 24\"\n",
              "       width=\"24px\">\n",
              "    <path d=\"M0 0h24v24H0V0z\" fill=\"none\"/>\n",
              "    <path d=\"M18.56 5.44l.94 2.06.94-2.06 2.06-.94-2.06-.94-.94-2.06-.94 2.06-2.06.94zm-11 1L8.5 8.5l.94-2.06 2.06-.94-2.06-.94L8.5 2.5l-.94 2.06-2.06.94zm10 10l.94 2.06.94-2.06 2.06-.94-2.06-.94-.94-2.06-.94 2.06-2.06.94z\"/><path d=\"M17.41 7.96l-1.37-1.37c-.4-.4-.92-.59-1.43-.59-.52 0-1.04.2-1.43.59L10.3 9.45l-7.72 7.72c-.78.78-.78 2.05 0 2.83L4 21.41c.39.39.9.59 1.41.59.51 0 1.02-.2 1.41-.59l7.78-7.78 2.81-2.81c.8-.78.8-2.07 0-2.86zM5.41 20L4 18.59l7.72-7.72 1.47 1.35L5.41 20z\"/>\n",
              "  </svg>\n",
              "      </button>\n",
              "      \n",
              "  <style>\n",
              "    .colab-df-container {\n",
              "      display:flex;\n",
              "      flex-wrap:wrap;\n",
              "      gap: 12px;\n",
              "    }\n",
              "\n",
              "    .colab-df-convert {\n",
              "      background-color: #E8F0FE;\n",
              "      border: none;\n",
              "      border-radius: 50%;\n",
              "      cursor: pointer;\n",
              "      display: none;\n",
              "      fill: #1967D2;\n",
              "      height: 32px;\n",
              "      padding: 0 0 0 0;\n",
              "      width: 32px;\n",
              "    }\n",
              "\n",
              "    .colab-df-convert:hover {\n",
              "      background-color: #E2EBFA;\n",
              "      box-shadow: 0px 1px 2px rgba(60, 64, 67, 0.3), 0px 1px 3px 1px rgba(60, 64, 67, 0.15);\n",
              "      fill: #174EA6;\n",
              "    }\n",
              "\n",
              "    [theme=dark] .colab-df-convert {\n",
              "      background-color: #3B4455;\n",
              "      fill: #D2E3FC;\n",
              "    }\n",
              "\n",
              "    [theme=dark] .colab-df-convert:hover {\n",
              "      background-color: #434B5C;\n",
              "      box-shadow: 0px 1px 3px 1px rgba(0, 0, 0, 0.15);\n",
              "      filter: drop-shadow(0px 1px 2px rgba(0, 0, 0, 0.3));\n",
              "      fill: #FFFFFF;\n",
              "    }\n",
              "  </style>\n",
              "\n",
              "      <script>\n",
              "        const buttonEl =\n",
              "          document.querySelector('#df-d9956c43-174d-4a74-b021-b506f941ef8b button.colab-df-convert');\n",
              "        buttonEl.style.display =\n",
              "          google.colab.kernel.accessAllowed ? 'block' : 'none';\n",
              "\n",
              "        async function convertToInteractive(key) {\n",
              "          const element = document.querySelector('#df-d9956c43-174d-4a74-b021-b506f941ef8b');\n",
              "          const dataTable =\n",
              "            await google.colab.kernel.invokeFunction('convertToInteractive',\n",
              "                                                     [key], {});\n",
              "          if (!dataTable) return;\n",
              "\n",
              "          const docLinkHtml = 'Like what you see? Visit the ' +\n",
              "            '<a target=\"_blank\" href=https://colab.research.google.com/notebooks/data_table.ipynb>data table notebook</a>'\n",
              "            + ' to learn more about interactive tables.';\n",
              "          element.innerHTML = '';\n",
              "          dataTable['output_type'] = 'display_data';\n",
              "          await google.colab.output.renderOutput(dataTable, element);\n",
              "          const docLink = document.createElement('div');\n",
              "          docLink.innerHTML = docLinkHtml;\n",
              "          element.appendChild(docLink);\n",
              "        }\n",
              "      </script>\n",
              "    </div>\n",
              "  </div>\n",
              "  "
            ]
          },
          "metadata": {},
          "execution_count": 91
        }
      ]
    },
    {
      "cell_type": "code",
      "source": [
        "print(df)\n",
        "print(df.applymap(lambda x: x + 5))\n",
        "print(df.applymap(lambda x: add5(x)))"
      ],
      "metadata": {
        "id": "qLle9oXo8vrC",
        "colab": {
          "base_uri": "https://localhost:8080/"
        },
        "outputId": "22d8d033-70c1-4e60-a47a-33d9018895c0"
      },
      "execution_count": null,
      "outputs": [
        {
          "output_type": "stream",
          "name": "stdout",
          "text": [
            "      age     fare  five\n",
            "0    22.0   7.2500     5\n",
            "1    38.0  71.2833     5\n",
            "2    26.0   7.9250     5\n",
            "3    35.0  53.1000     5\n",
            "4    35.0   8.0500     5\n",
            "..    ...      ...   ...\n",
            "886  27.0  13.0000     5\n",
            "887  19.0  30.0000     5\n",
            "888   NaN  23.4500     5\n",
            "889  26.0  30.0000     5\n",
            "890  32.0   7.7500     5\n",
            "\n",
            "[891 rows x 3 columns]\n",
            "      age     fare  five\n",
            "0    27.0  12.2500    10\n",
            "1    43.0  76.2833    10\n",
            "2    31.0  12.9250    10\n",
            "3    40.0  58.1000    10\n",
            "4    40.0  13.0500    10\n",
            "..    ...      ...   ...\n",
            "886  32.0  18.0000    10\n",
            "887  24.0  35.0000    10\n",
            "888   NaN  28.4500    10\n",
            "889  31.0  35.0000    10\n",
            "890  37.0  12.7500    10\n",
            "\n",
            "[891 rows x 3 columns]\n",
            "      age     fare  five\n",
            "0    27.0  12.2500    10\n",
            "1    43.0  76.2833    10\n",
            "2    31.0  12.9250    10\n",
            "3    40.0  58.1000    10\n",
            "4    40.0  13.0500    10\n",
            "..    ...      ...   ...\n",
            "886  32.0  18.0000    10\n",
            "887  24.0  35.0000    10\n",
            "888   NaN  28.4500    10\n",
            "889  31.0  35.0000    10\n",
            "890  37.0  12.7500    10\n",
            "\n",
            "[891 rows x 3 columns]\n"
          ]
        }
      ]
    },
    {
      "cell_type": "markdown",
      "source": [
        "### 시리즈 객체에 적용"
      ],
      "metadata": {
        "id": "lkXAuQCd-Gl9"
      }
    },
    {
      "cell_type": "code",
      "source": [
        "# 1) 반환하는 값이 여러 개인 경우\n",
        "# 널값에 대한 불 인덱스를 반환하는 함수\n",
        "def mv_find(series):\n",
        "  return series.isnull()"
      ],
      "metadata": {
        "id": "AJ2zEPGH9NKz"
      },
      "execution_count": null,
      "outputs": []
    },
    {
      "cell_type": "code",
      "source": [
        "# 열 단위 = 시리즈 객체\n",
        "df.apply(mv_find, axis = 0)"
      ],
      "metadata": {
        "id": "bdKrsD1T-if3",
        "colab": {
          "base_uri": "https://localhost:8080/",
          "height": 423
        },
        "outputId": "bf1a3dc3-4b40-4482-a16a-87ae72223404"
      },
      "execution_count": null,
      "outputs": [
        {
          "output_type": "execute_result",
          "data": {
            "text/plain": [
              "       age   fare   five\n",
              "0    False  False  False\n",
              "1    False  False  False\n",
              "2    False  False  False\n",
              "3    False  False  False\n",
              "4    False  False  False\n",
              "..     ...    ...    ...\n",
              "886  False  False  False\n",
              "887  False  False  False\n",
              "888   True  False  False\n",
              "889  False  False  False\n",
              "890  False  False  False\n",
              "\n",
              "[891 rows x 3 columns]"
            ],
            "text/html": [
              "\n",
              "  <div id=\"df-2ffc2ac3-e71f-46e6-b23a-7288b9124abf\">\n",
              "    <div class=\"colab-df-container\">\n",
              "      <div>\n",
              "<style scoped>\n",
              "    .dataframe tbody tr th:only-of-type {\n",
              "        vertical-align: middle;\n",
              "    }\n",
              "\n",
              "    .dataframe tbody tr th {\n",
              "        vertical-align: top;\n",
              "    }\n",
              "\n",
              "    .dataframe thead th {\n",
              "        text-align: right;\n",
              "    }\n",
              "</style>\n",
              "<table border=\"1\" class=\"dataframe\">\n",
              "  <thead>\n",
              "    <tr style=\"text-align: right;\">\n",
              "      <th></th>\n",
              "      <th>age</th>\n",
              "      <th>fare</th>\n",
              "      <th>five</th>\n",
              "    </tr>\n",
              "  </thead>\n",
              "  <tbody>\n",
              "    <tr>\n",
              "      <th>0</th>\n",
              "      <td>False</td>\n",
              "      <td>False</td>\n",
              "      <td>False</td>\n",
              "    </tr>\n",
              "    <tr>\n",
              "      <th>1</th>\n",
              "      <td>False</td>\n",
              "      <td>False</td>\n",
              "      <td>False</td>\n",
              "    </tr>\n",
              "    <tr>\n",
              "      <th>2</th>\n",
              "      <td>False</td>\n",
              "      <td>False</td>\n",
              "      <td>False</td>\n",
              "    </tr>\n",
              "    <tr>\n",
              "      <th>3</th>\n",
              "      <td>False</td>\n",
              "      <td>False</td>\n",
              "      <td>False</td>\n",
              "    </tr>\n",
              "    <tr>\n",
              "      <th>4</th>\n",
              "      <td>False</td>\n",
              "      <td>False</td>\n",
              "      <td>False</td>\n",
              "    </tr>\n",
              "    <tr>\n",
              "      <th>...</th>\n",
              "      <td>...</td>\n",
              "      <td>...</td>\n",
              "      <td>...</td>\n",
              "    </tr>\n",
              "    <tr>\n",
              "      <th>886</th>\n",
              "      <td>False</td>\n",
              "      <td>False</td>\n",
              "      <td>False</td>\n",
              "    </tr>\n",
              "    <tr>\n",
              "      <th>887</th>\n",
              "      <td>False</td>\n",
              "      <td>False</td>\n",
              "      <td>False</td>\n",
              "    </tr>\n",
              "    <tr>\n",
              "      <th>888</th>\n",
              "      <td>True</td>\n",
              "      <td>False</td>\n",
              "      <td>False</td>\n",
              "    </tr>\n",
              "    <tr>\n",
              "      <th>889</th>\n",
              "      <td>False</td>\n",
              "      <td>False</td>\n",
              "      <td>False</td>\n",
              "    </tr>\n",
              "    <tr>\n",
              "      <th>890</th>\n",
              "      <td>False</td>\n",
              "      <td>False</td>\n",
              "      <td>False</td>\n",
              "    </tr>\n",
              "  </tbody>\n",
              "</table>\n",
              "<p>891 rows × 3 columns</p>\n",
              "</div>\n",
              "      <button class=\"colab-df-convert\" onclick=\"convertToInteractive('df-2ffc2ac3-e71f-46e6-b23a-7288b9124abf')\"\n",
              "              title=\"Convert this dataframe to an interactive table.\"\n",
              "              style=\"display:none;\">\n",
              "        \n",
              "  <svg xmlns=\"http://www.w3.org/2000/svg\" height=\"24px\"viewBox=\"0 0 24 24\"\n",
              "       width=\"24px\">\n",
              "    <path d=\"M0 0h24v24H0V0z\" fill=\"none\"/>\n",
              "    <path d=\"M18.56 5.44l.94 2.06.94-2.06 2.06-.94-2.06-.94-.94-2.06-.94 2.06-2.06.94zm-11 1L8.5 8.5l.94-2.06 2.06-.94-2.06-.94L8.5 2.5l-.94 2.06-2.06.94zm10 10l.94 2.06.94-2.06 2.06-.94-2.06-.94-.94-2.06-.94 2.06-2.06.94z\"/><path d=\"M17.41 7.96l-1.37-1.37c-.4-.4-.92-.59-1.43-.59-.52 0-1.04.2-1.43.59L10.3 9.45l-7.72 7.72c-.78.78-.78 2.05 0 2.83L4 21.41c.39.39.9.59 1.41.59.51 0 1.02-.2 1.41-.59l7.78-7.78 2.81-2.81c.8-.78.8-2.07 0-2.86zM5.41 20L4 18.59l7.72-7.72 1.47 1.35L5.41 20z\"/>\n",
              "  </svg>\n",
              "      </button>\n",
              "      \n",
              "  <style>\n",
              "    .colab-df-container {\n",
              "      display:flex;\n",
              "      flex-wrap:wrap;\n",
              "      gap: 12px;\n",
              "    }\n",
              "\n",
              "    .colab-df-convert {\n",
              "      background-color: #E8F0FE;\n",
              "      border: none;\n",
              "      border-radius: 50%;\n",
              "      cursor: pointer;\n",
              "      display: none;\n",
              "      fill: #1967D2;\n",
              "      height: 32px;\n",
              "      padding: 0 0 0 0;\n",
              "      width: 32px;\n",
              "    }\n",
              "\n",
              "    .colab-df-convert:hover {\n",
              "      background-color: #E2EBFA;\n",
              "      box-shadow: 0px 1px 2px rgba(60, 64, 67, 0.3), 0px 1px 3px 1px rgba(60, 64, 67, 0.15);\n",
              "      fill: #174EA6;\n",
              "    }\n",
              "\n",
              "    [theme=dark] .colab-df-convert {\n",
              "      background-color: #3B4455;\n",
              "      fill: #D2E3FC;\n",
              "    }\n",
              "\n",
              "    [theme=dark] .colab-df-convert:hover {\n",
              "      background-color: #434B5C;\n",
              "      box-shadow: 0px 1px 3px 1px rgba(0, 0, 0, 0.15);\n",
              "      filter: drop-shadow(0px 1px 2px rgba(0, 0, 0, 0.3));\n",
              "      fill: #FFFFFF;\n",
              "    }\n",
              "  </style>\n",
              "\n",
              "      <script>\n",
              "        const buttonEl =\n",
              "          document.querySelector('#df-2ffc2ac3-e71f-46e6-b23a-7288b9124abf button.colab-df-convert');\n",
              "        buttonEl.style.display =\n",
              "          google.colab.kernel.accessAllowed ? 'block' : 'none';\n",
              "\n",
              "        async function convertToInteractive(key) {\n",
              "          const element = document.querySelector('#df-2ffc2ac3-e71f-46e6-b23a-7288b9124abf');\n",
              "          const dataTable =\n",
              "            await google.colab.kernel.invokeFunction('convertToInteractive',\n",
              "                                                     [key], {});\n",
              "          if (!dataTable) return;\n",
              "\n",
              "          const docLinkHtml = 'Like what you see? Visit the ' +\n",
              "            '<a target=\"_blank\" href=https://colab.research.google.com/notebooks/data_table.ipynb>data table notebook</a>'\n",
              "            + ' to learn more about interactive tables.';\n",
              "          element.innerHTML = '';\n",
              "          dataTable['output_type'] = 'display_data';\n",
              "          await google.colab.output.renderOutput(dataTable, element);\n",
              "          const docLink = document.createElement('div');\n",
              "          docLink.innerHTML = docLinkHtml;\n",
              "          element.appendChild(docLink);\n",
              "        }\n",
              "      </script>\n",
              "    </div>\n",
              "  </div>\n",
              "  "
            ]
          },
          "metadata": {},
          "execution_count": 94
        }
      ]
    },
    {
      "cell_type": "code",
      "source": [
        "# 2) 반환하는 값이 하나인 경우\n",
        "# 범위를 구하는 함수\n",
        "def range_xy(series):\n",
        "  return series.max() - series.min()"
      ],
      "metadata": {
        "id": "81F2dRc2-5S2"
      },
      "execution_count": null,
      "outputs": []
    },
    {
      "cell_type": "code",
      "source": [
        "# 열 단위 = 시리즈 객체\n",
        "df.apply(range_xy, axis = 0)"
      ],
      "metadata": {
        "id": "JPE1H4do_LmG",
        "colab": {
          "base_uri": "https://localhost:8080/"
        },
        "outputId": "60ae9c62-575c-40e9-8a66-72c7a027fd4f"
      },
      "execution_count": null,
      "outputs": [
        {
          "output_type": "execute_result",
          "data": {
            "text/plain": [
              "age      79.5800\n",
              "fare    512.3292\n",
              "five      0.0000\n",
              "dtype: float64"
            ]
          },
          "metadata": {},
          "execution_count": 96
        }
      ]
    },
    {
      "cell_type": "code",
      "source": [
        "# 행 단위\n",
        "df['age_plus_five'] = df.apply(lambda x: x['age'] + x['five'], axis = 1)"
      ],
      "metadata": {
        "id": "sxsKt3b8AULW"
      },
      "execution_count": null,
      "outputs": []
    },
    {
      "cell_type": "code",
      "source": [
        "df.apply(lambda x: add_two(x['age'], x['five']), axis = 1)"
      ],
      "metadata": {
        "id": "EdJ8IV6IBOVp",
        "colab": {
          "base_uri": "https://localhost:8080/"
        },
        "outputId": "ceae8740-2ab4-46d3-d60c-01b79306f6d0"
      },
      "execution_count": null,
      "outputs": [
        {
          "output_type": "execute_result",
          "data": {
            "text/plain": [
              "0      27.0\n",
              "1      43.0\n",
              "2      31.0\n",
              "3      40.0\n",
              "4      40.0\n",
              "       ... \n",
              "886    32.0\n",
              "887    24.0\n",
              "888     NaN\n",
              "889    31.0\n",
              "890    37.0\n",
              "Length: 891, dtype: float64"
            ]
          },
          "metadata": {},
          "execution_count": 98
        }
      ]
    },
    {
      "cell_type": "markdown",
      "source": [
        "### 데이터프레임 객체에 적용"
      ],
      "metadata": {
        "id": "mSDACFs2CS-i"
      }
    },
    {
      "cell_type": "code",
      "source": [
        "df = df.loc[:, 'age':'fare']"
      ],
      "metadata": {
        "id": "UhPrWxu_Bzpu"
      },
      "execution_count": null,
      "outputs": []
    },
    {
      "cell_type": "code",
      "source": [
        "df1 = df.pipe(mv_find)"
      ],
      "metadata": {
        "id": "iz5LQwV_CmXb"
      },
      "execution_count": null,
      "outputs": []
    },
    {
      "cell_type": "code",
      "source": [
        "type(df1) # 데이터프레임 = 함수 적용된 결과는 시리즈 개수와 일치 (= 891개)"
      ],
      "metadata": {
        "id": "jw4fCLomC0oE",
        "colab": {
          "base_uri": "https://localhost:8080/"
        },
        "outputId": "02e37c2f-6569-4a49-fc2c-8fcd5655f87c"
      },
      "execution_count": null,
      "outputs": [
        {
          "output_type": "execute_result",
          "data": {
            "text/plain": [
              "pandas.core.frame.DataFrame"
            ]
          },
          "metadata": {},
          "execution_count": 101
        }
      ]
    },
    {
      "cell_type": "code",
      "source": [
        "\n",
        "def mv_count(series):\n",
        "  return mv_find(series).sum()"
      ],
      "metadata": {
        "id": "gmp9AuQtDEbN"
      },
      "execution_count": null,
      "outputs": []
    },
    {
      "cell_type": "code",
      "source": [
        "df2 = df.pipe(mv_count)"
      ],
      "metadata": {
        "id": "n7kyLeqgDVku"
      },
      "execution_count": null,
      "outputs": []
    },
    {
      "cell_type": "code",
      "source": [
        "type(df2) # 시리즈 = 함수 적용된 결과가 하나(열마다) = 열 개수"
      ],
      "metadata": {
        "id": "PnvWp8LEDmL8",
        "colab": {
          "base_uri": "https://localhost:8080/"
        },
        "outputId": "89ae7db3-fdac-4e1a-9243-68f552f3e56b"
      },
      "execution_count": null,
      "outputs": [
        {
          "output_type": "execute_result",
          "data": {
            "text/plain": [
              "pandas.core.series.Series"
            ]
          },
          "metadata": {},
          "execution_count": 104
        }
      ]
    },
    {
      "cell_type": "code",
      "source": [
        "def mv_count_total(series):\n",
        "  return mv_count(series).sum()"
      ],
      "metadata": {
        "id": "d-uxV8LUDogI"
      },
      "execution_count": null,
      "outputs": []
    },
    {
      "cell_type": "code",
      "source": [
        "df3 = df.pipe(mv_count_total)"
      ],
      "metadata": {
        "id": "McuOOddeEAxr"
      },
      "execution_count": null,
      "outputs": []
    },
    {
      "cell_type": "code",
      "source": [
        "type(df3) # 개별값 = 함수 적용된 결과가 하나(전체) = 전체가 하나"
      ],
      "metadata": {
        "id": "dOemw7wAEJ1K",
        "colab": {
          "base_uri": "https://localhost:8080/"
        },
        "outputId": "3cbcf99e-1a2c-4159-8dda-abf73ca92acf"
      },
      "execution_count": null,
      "outputs": [
        {
          "output_type": "execute_result",
          "data": {
            "text/plain": [
              "numpy.int64"
            ]
          },
          "metadata": {},
          "execution_count": 107
        }
      ]
    },
    {
      "cell_type": "code",
      "source": [],
      "metadata": {
        "id": "9RpQFCU9KSbX"
      },
      "execution_count": null,
      "outputs": []
    }
  ]
}