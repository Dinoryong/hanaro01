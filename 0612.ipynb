{
  "nbformat": 4,
  "nbformat_minor": 0,
  "metadata": {
    "colab": {
      "provenance": [],
      "include_colab_link": true
    },
    "kernelspec": {
      "name": "python3",
      "display_name": "Python 3"
    },
    "language_info": {
      "name": "python"
    }
  },
  "cells": [
    {
      "cell_type": "markdown",
      "metadata": {
        "id": "view-in-github",
        "colab_type": "text"
      },
      "source": [
        "<a href=\"https://colab.research.google.com/github/Dinoryong/hanaro01/blob/main/0612.ipynb\" target=\"_parent\"><img src=\"https://colab.research.google.com/assets/colab-badge.svg\" alt=\"Open In Colab\"/></a>"
      ]
    },
    {
      "cell_type": "markdown",
      "source": [
        "# 기술통계"
      ],
      "metadata": {
        "id": "o9B2dqTHCw0d"
      }
    },
    {
      "cell_type": "code",
      "execution_count": 1,
      "metadata": {
        "id": "lfgXS7w1Cdim"
      },
      "outputs": [],
      "source": [
        "# 라이브러리 불러오기\n",
        "import pandas as pd"
      ]
    },
    {
      "cell_type": "code",
      "source": [
        "# 데이터프레임 만들기\n",
        "df = pd.DataFrame({'name': [\"Richard\", \"Sara\", \"Andrea\", \"Steven\", \"Jordan\", \"Pam\", \n",
        "                            \"Michael\", \"Liz\", \"Nicole\", \"Mike\", \"Kent\", \"Elizabeth\", \n",
        "                            \"Bill\", \"Hadley\", \"Buffy\", \"Chip\", \"Homer\", \"Margaret\", \n",
        "                            \"Courtney\", \"Leonard\", \"Jeffrey\", \"Emily\"],\n",
        "                   'major': [\"교육학\", \"심리학\", \"교육학\", \"심리학\", \"교육학\", \"교육학\", \n",
        "                             \"심리학\", \"심리학\", \"화학\", \"간호학\", \"역사학\", \"영어영문학\", \n",
        "                             \"심리학\", \"심리학\", \"교육학\", \"교육학\", \"심리학\", \"영어영문학\", \n",
        "                             \"심리학\", \"심리학\", \"화학\", \"스페인어\"],\n",
        "                   'age': [19, 18, 19, 21, 20, 24, 21, 19, 19, 20, 18, 21, 22, 23, 21, 19, \n",
        "                           18, 22, 24, 21, 18, 19]})\n",
        "df"
      ],
      "metadata": {
        "id": "N87uHSV7C5nC",
        "colab": {
          "base_uri": "https://localhost:8080/",
          "height": 739
        },
        "outputId": "93eac43e-af01-49f4-b135-6f5a4e398c49"
      },
      "execution_count": 2,
      "outputs": [
        {
          "output_type": "execute_result",
          "data": {
            "text/plain": [
              "         name  major  age\n",
              "0     Richard    교육학   19\n",
              "1        Sara    심리학   18\n",
              "2      Andrea    교육학   19\n",
              "3      Steven    심리학   21\n",
              "4      Jordan    교육학   20\n",
              "5         Pam    교육학   24\n",
              "6     Michael    심리학   21\n",
              "7         Liz    심리학   19\n",
              "8      Nicole     화학   19\n",
              "9        Mike    간호학   20\n",
              "10       Kent    역사학   18\n",
              "11  Elizabeth  영어영문학   21\n",
              "12       Bill    심리학   22\n",
              "13     Hadley    심리학   23\n",
              "14      Buffy    교육학   21\n",
              "15       Chip    교육학   19\n",
              "16      Homer    심리학   18\n",
              "17   Margaret  영어영문학   22\n",
              "18   Courtney    심리학   24\n",
              "19    Leonard    심리학   21\n",
              "20    Jeffrey     화학   18\n",
              "21      Emily   스페인어   19"
            ],
            "text/html": [
              "\n",
              "  <div id=\"df-712bd9ca-4b62-42fb-88ef-715e41efcf9f\">\n",
              "    <div class=\"colab-df-container\">\n",
              "      <div>\n",
              "<style scoped>\n",
              "    .dataframe tbody tr th:only-of-type {\n",
              "        vertical-align: middle;\n",
              "    }\n",
              "\n",
              "    .dataframe tbody tr th {\n",
              "        vertical-align: top;\n",
              "    }\n",
              "\n",
              "    .dataframe thead th {\n",
              "        text-align: right;\n",
              "    }\n",
              "</style>\n",
              "<table border=\"1\" class=\"dataframe\">\n",
              "  <thead>\n",
              "    <tr style=\"text-align: right;\">\n",
              "      <th></th>\n",
              "      <th>name</th>\n",
              "      <th>major</th>\n",
              "      <th>age</th>\n",
              "    </tr>\n",
              "  </thead>\n",
              "  <tbody>\n",
              "    <tr>\n",
              "      <th>0</th>\n",
              "      <td>Richard</td>\n",
              "      <td>교육학</td>\n",
              "      <td>19</td>\n",
              "    </tr>\n",
              "    <tr>\n",
              "      <th>1</th>\n",
              "      <td>Sara</td>\n",
              "      <td>심리학</td>\n",
              "      <td>18</td>\n",
              "    </tr>\n",
              "    <tr>\n",
              "      <th>2</th>\n",
              "      <td>Andrea</td>\n",
              "      <td>교육학</td>\n",
              "      <td>19</td>\n",
              "    </tr>\n",
              "    <tr>\n",
              "      <th>3</th>\n",
              "      <td>Steven</td>\n",
              "      <td>심리학</td>\n",
              "      <td>21</td>\n",
              "    </tr>\n",
              "    <tr>\n",
              "      <th>4</th>\n",
              "      <td>Jordan</td>\n",
              "      <td>교육학</td>\n",
              "      <td>20</td>\n",
              "    </tr>\n",
              "    <tr>\n",
              "      <th>5</th>\n",
              "      <td>Pam</td>\n",
              "      <td>교육학</td>\n",
              "      <td>24</td>\n",
              "    </tr>\n",
              "    <tr>\n",
              "      <th>6</th>\n",
              "      <td>Michael</td>\n",
              "      <td>심리학</td>\n",
              "      <td>21</td>\n",
              "    </tr>\n",
              "    <tr>\n",
              "      <th>7</th>\n",
              "      <td>Liz</td>\n",
              "      <td>심리학</td>\n",
              "      <td>19</td>\n",
              "    </tr>\n",
              "    <tr>\n",
              "      <th>8</th>\n",
              "      <td>Nicole</td>\n",
              "      <td>화학</td>\n",
              "      <td>19</td>\n",
              "    </tr>\n",
              "    <tr>\n",
              "      <th>9</th>\n",
              "      <td>Mike</td>\n",
              "      <td>간호학</td>\n",
              "      <td>20</td>\n",
              "    </tr>\n",
              "    <tr>\n",
              "      <th>10</th>\n",
              "      <td>Kent</td>\n",
              "      <td>역사학</td>\n",
              "      <td>18</td>\n",
              "    </tr>\n",
              "    <tr>\n",
              "      <th>11</th>\n",
              "      <td>Elizabeth</td>\n",
              "      <td>영어영문학</td>\n",
              "      <td>21</td>\n",
              "    </tr>\n",
              "    <tr>\n",
              "      <th>12</th>\n",
              "      <td>Bill</td>\n",
              "      <td>심리학</td>\n",
              "      <td>22</td>\n",
              "    </tr>\n",
              "    <tr>\n",
              "      <th>13</th>\n",
              "      <td>Hadley</td>\n",
              "      <td>심리학</td>\n",
              "      <td>23</td>\n",
              "    </tr>\n",
              "    <tr>\n",
              "      <th>14</th>\n",
              "      <td>Buffy</td>\n",
              "      <td>교육학</td>\n",
              "      <td>21</td>\n",
              "    </tr>\n",
              "    <tr>\n",
              "      <th>15</th>\n",
              "      <td>Chip</td>\n",
              "      <td>교육학</td>\n",
              "      <td>19</td>\n",
              "    </tr>\n",
              "    <tr>\n",
              "      <th>16</th>\n",
              "      <td>Homer</td>\n",
              "      <td>심리학</td>\n",
              "      <td>18</td>\n",
              "    </tr>\n",
              "    <tr>\n",
              "      <th>17</th>\n",
              "      <td>Margaret</td>\n",
              "      <td>영어영문학</td>\n",
              "      <td>22</td>\n",
              "    </tr>\n",
              "    <tr>\n",
              "      <th>18</th>\n",
              "      <td>Courtney</td>\n",
              "      <td>심리학</td>\n",
              "      <td>24</td>\n",
              "    </tr>\n",
              "    <tr>\n",
              "      <th>19</th>\n",
              "      <td>Leonard</td>\n",
              "      <td>심리학</td>\n",
              "      <td>21</td>\n",
              "    </tr>\n",
              "    <tr>\n",
              "      <th>20</th>\n",
              "      <td>Jeffrey</td>\n",
              "      <td>화학</td>\n",
              "      <td>18</td>\n",
              "    </tr>\n",
              "    <tr>\n",
              "      <th>21</th>\n",
              "      <td>Emily</td>\n",
              "      <td>스페인어</td>\n",
              "      <td>19</td>\n",
              "    </tr>\n",
              "  </tbody>\n",
              "</table>\n",
              "</div>\n",
              "      <button class=\"colab-df-convert\" onclick=\"convertToInteractive('df-712bd9ca-4b62-42fb-88ef-715e41efcf9f')\"\n",
              "              title=\"Convert this dataframe to an interactive table.\"\n",
              "              style=\"display:none;\">\n",
              "        \n",
              "  <svg xmlns=\"http://www.w3.org/2000/svg\" height=\"24px\"viewBox=\"0 0 24 24\"\n",
              "       width=\"24px\">\n",
              "    <path d=\"M0 0h24v24H0V0z\" fill=\"none\"/>\n",
              "    <path d=\"M18.56 5.44l.94 2.06.94-2.06 2.06-.94-2.06-.94-.94-2.06-.94 2.06-2.06.94zm-11 1L8.5 8.5l.94-2.06 2.06-.94-2.06-.94L8.5 2.5l-.94 2.06-2.06.94zm10 10l.94 2.06.94-2.06 2.06-.94-2.06-.94-.94-2.06-.94 2.06-2.06.94z\"/><path d=\"M17.41 7.96l-1.37-1.37c-.4-.4-.92-.59-1.43-.59-.52 0-1.04.2-1.43.59L10.3 9.45l-7.72 7.72c-.78.78-.78 2.05 0 2.83L4 21.41c.39.39.9.59 1.41.59.51 0 1.02-.2 1.41-.59l7.78-7.78 2.81-2.81c.8-.78.8-2.07 0-2.86zM5.41 20L4 18.59l7.72-7.72 1.47 1.35L5.41 20z\"/>\n",
              "  </svg>\n",
              "      </button>\n",
              "      \n",
              "  <style>\n",
              "    .colab-df-container {\n",
              "      display:flex;\n",
              "      flex-wrap:wrap;\n",
              "      gap: 12px;\n",
              "    }\n",
              "\n",
              "    .colab-df-convert {\n",
              "      background-color: #E8F0FE;\n",
              "      border: none;\n",
              "      border-radius: 50%;\n",
              "      cursor: pointer;\n",
              "      display: none;\n",
              "      fill: #1967D2;\n",
              "      height: 32px;\n",
              "      padding: 0 0 0 0;\n",
              "      width: 32px;\n",
              "    }\n",
              "\n",
              "    .colab-df-convert:hover {\n",
              "      background-color: #E2EBFA;\n",
              "      box-shadow: 0px 1px 2px rgba(60, 64, 67, 0.3), 0px 1px 3px 1px rgba(60, 64, 67, 0.15);\n",
              "      fill: #174EA6;\n",
              "    }\n",
              "\n",
              "    [theme=dark] .colab-df-convert {\n",
              "      background-color: #3B4455;\n",
              "      fill: #D2E3FC;\n",
              "    }\n",
              "\n",
              "    [theme=dark] .colab-df-convert:hover {\n",
              "      background-color: #434B5C;\n",
              "      box-shadow: 0px 1px 3px 1px rgba(0, 0, 0, 0.15);\n",
              "      filter: drop-shadow(0px 1px 2px rgba(0, 0, 0, 0.3));\n",
              "      fill: #FFFFFF;\n",
              "    }\n",
              "  </style>\n",
              "\n",
              "      <script>\n",
              "        const buttonEl =\n",
              "          document.querySelector('#df-712bd9ca-4b62-42fb-88ef-715e41efcf9f button.colab-df-convert');\n",
              "        buttonEl.style.display =\n",
              "          google.colab.kernel.accessAllowed ? 'block' : 'none';\n",
              "\n",
              "        async function convertToInteractive(key) {\n",
              "          const element = document.querySelector('#df-712bd9ca-4b62-42fb-88ef-715e41efcf9f');\n",
              "          const dataTable =\n",
              "            await google.colab.kernel.invokeFunction('convertToInteractive',\n",
              "                                                     [key], {});\n",
              "          if (!dataTable) return;\n",
              "\n",
              "          const docLinkHtml = 'Like what you see? Visit the ' +\n",
              "            '<a target=\"_blank\" href=https://colab.research.google.com/notebooks/data_table.ipynb>data table notebook</a>'\n",
              "            + ' to learn more about interactive tables.';\n",
              "          element.innerHTML = '';\n",
              "          dataTable['output_type'] = 'display_data';\n",
              "          await google.colab.output.renderOutput(dataTable, element);\n",
              "          const docLink = document.createElement('div');\n",
              "          docLink.innerHTML = docLinkHtml;\n",
              "          element.appendChild(docLink);\n",
              "        }\n",
              "      </script>\n",
              "    </div>\n",
              "  </div>\n",
              "  "
            ]
          },
          "metadata": {},
          "execution_count": 2
        }
      ]
    },
    {
      "cell_type": "code",
      "source": [
        "# 전공 = 범주형 변수 => 빈도\n",
        "# 최빈값 => 심리학\n",
        "df['major'].value_counts()"
      ],
      "metadata": {
        "id": "40pv-Zh9EKDJ",
        "outputId": "ca5b0023-4f87-4af2-c375-d9224cfd03dd",
        "colab": {
          "base_uri": "https://localhost:8080/"
        }
      },
      "execution_count": 3,
      "outputs": [
        {
          "output_type": "execute_result",
          "data": {
            "text/plain": [
              "심리학      9\n",
              "교육학      6\n",
              "화학       2\n",
              "영어영문학    2\n",
              "간호학      1\n",
              "역사학      1\n",
              "스페인어     1\n",
              "Name: major, dtype: int64"
            ]
          },
          "metadata": {},
          "execution_count": 3
        }
      ]
    },
    {
      "cell_type": "code",
      "source": [
        "# 나이 = 연속형 변수 => 평균\n",
        "# 평균\n",
        "df['age'].mean()"
      ],
      "metadata": {
        "colab": {
          "base_uri": "https://localhost:8080/"
        },
        "id": "iKKbKYniETPm",
        "outputId": "af6d9143-ccca-468b-ed46-4dc219803a18"
      },
      "execution_count": 4,
      "outputs": [
        {
          "output_type": "execute_result",
          "data": {
            "text/plain": [
              "20.272727272727273"
            ]
          },
          "metadata": {},
          "execution_count": 4
        }
      ]
    },
    {
      "cell_type": "markdown",
      "source": [
        "## 평균"
      ],
      "metadata": {
        "id": "PYYtF5CqWxai"
      }
    },
    {
      "cell_type": "code",
      "source": [
        "customers = [2150, 1534, 3564]"
      ],
      "metadata": {
        "id": "y2_rOEp7EepN"
      },
      "execution_count": 5,
      "outputs": []
    },
    {
      "cell_type": "code",
      "source": [
        "(2150 + 1534 + 3564)/3"
      ],
      "metadata": {
        "id": "IpVD_G72W7Sg",
        "outputId": "a35e4ce0-45a2-4584-a255-578d2460455a",
        "colab": {
          "base_uri": "https://localhost:8080/"
        }
      },
      "execution_count": 6,
      "outputs": [
        {
          "output_type": "execute_result",
          "data": {
            "text/plain": [
              "2416.0"
            ]
          },
          "metadata": {},
          "execution_count": 6
        }
      ]
    },
    {
      "cell_type": "code",
      "source": [
        "import numpy as np"
      ],
      "metadata": {
        "id": "FsmYpKtjXD7L"
      },
      "execution_count": 7,
      "outputs": []
    },
    {
      "cell_type": "code",
      "source": [
        "np.mean(customers)"
      ],
      "metadata": {
        "id": "Ksl8Hn3IXJvH",
        "outputId": "9c618531-5bf0-4353-de07-84ef5e37ecd2",
        "colab": {
          "base_uri": "https://localhost:8080/"
        }
      },
      "execution_count": 8,
      "outputs": [
        {
          "output_type": "execute_result",
          "data": {
            "text/plain": [
              "2416.0"
            ]
          },
          "metadata": {},
          "execution_count": 8
        }
      ]
    },
    {
      "cell_type": "code",
      "source": [
        "sum(customers)"
      ],
      "metadata": {
        "id": "0eBO4uUjXOTf",
        "outputId": "1cde2156-c8f6-4dbf-f035-d06ea9dee70a",
        "colab": {
          "base_uri": "https://localhost:8080/"
        }
      },
      "execution_count": 9,
      "outputs": [
        {
          "output_type": "execute_result",
          "data": {
            "text/plain": [
              "7248"
            ]
          },
          "metadata": {},
          "execution_count": 9
        }
      ]
    },
    {
      "cell_type": "code",
      "source": [
        "len(customers)"
      ],
      "metadata": {
        "id": "ex2wwqrzXTdC",
        "outputId": "71a49dee-e2db-441f-d25f-2ebac1f20b29",
        "colab": {
          "base_uri": "https://localhost:8080/"
        }
      },
      "execution_count": 10,
      "outputs": [
        {
          "output_type": "execute_result",
          "data": {
            "text/plain": [
              "3"
            ]
          },
          "metadata": {},
          "execution_count": 10
        }
      ]
    },
    {
      "cell_type": "code",
      "source": [
        "sum(customers)/len(customers)"
      ],
      "metadata": {
        "id": "wuISATP0XVQ3",
        "outputId": "a14efa1c-40e6-428d-feb6-570e2580b634",
        "colab": {
          "base_uri": "https://localhost:8080/"
        }
      },
      "execution_count": 11,
      "outputs": [
        {
          "output_type": "execute_result",
          "data": {
            "text/plain": [
              "2416.0"
            ]
          },
          "metadata": {},
          "execution_count": 11
        }
      ]
    },
    {
      "cell_type": "code",
      "source": [
        "# 편차\n",
        "x = [3,4,5]"
      ],
      "metadata": {
        "id": "m-z_P6GrZ6bB"
      },
      "execution_count": 12,
      "outputs": []
    },
    {
      "cell_type": "code",
      "source": [
        "x_bar = np.mean(x);x_bar"
      ],
      "metadata": {
        "colab": {
          "base_uri": "https://localhost:8080/"
        },
        "id": "zGcd_WzsZ9bh",
        "outputId": "88954a55-9f06-44a9-e689-af63d6725701"
      },
      "execution_count": 13,
      "outputs": [
        {
          "output_type": "execute_result",
          "data": {
            "text/plain": [
              "4.0"
            ]
          },
          "metadata": {},
          "execution_count": 13
        }
      ]
    },
    {
      "cell_type": "code",
      "source": [
        "x_dev = x - x_bar;x_dev"
      ],
      "metadata": {
        "colab": {
          "base_uri": "https://localhost:8080/"
        },
        "id": "Dem8dIThaD2l",
        "outputId": "da0a6d66-6f68-454e-e7be-5c05f0bea907"
      },
      "execution_count": 14,
      "outputs": [
        {
          "output_type": "execute_result",
          "data": {
            "text/plain": [
              "array([-1.,  0.,  1.])"
            ]
          },
          "metadata": {},
          "execution_count": 14
        }
      ]
    },
    {
      "cell_type": "code",
      "source": [
        "sum(x_dev)"
      ],
      "metadata": {
        "colab": {
          "base_uri": "https://localhost:8080/"
        },
        "id": "5Z1uogJUaJZ5",
        "outputId": "6c669459-3c2d-4fe1-b86b-7c6e3c938f36"
      },
      "execution_count": 15,
      "outputs": [
        {
          "output_type": "execute_result",
          "data": {
            "text/plain": [
              "0.0"
            ]
          },
          "metadata": {},
          "execution_count": 15
        }
      ]
    },
    {
      "cell_type": "code",
      "source": [
        "# 가중평균\n",
        "score = pd.Series([97, 94, 92, 91, 90, 89, 78, 60])\n",
        "freq = pd.Series([4, 11, 12, 21, 30, 12, 9, 1])"
      ],
      "metadata": {
        "id": "rHEqNB2Jb1Fd"
      },
      "execution_count": 16,
      "outputs": []
    },
    {
      "cell_type": "code",
      "source": [
        "# 점수*빈도\n",
        "score_freq = score*freq"
      ],
      "metadata": {
        "id": "H0zKDsyucNR8"
      },
      "execution_count": 17,
      "outputs": []
    },
    {
      "cell_type": "code",
      "source": [
        "# 분자\n",
        "sum(score_freq)"
      ],
      "metadata": {
        "id": "eiaeYMvocboj",
        "outputId": "531f44de-d30b-4f36-cfad-87c69bf09cac",
        "colab": {
          "base_uri": "https://localhost:8080/"
        }
      },
      "execution_count": 18,
      "outputs": [
        {
          "output_type": "execute_result",
          "data": {
            "text/plain": [
              "8967"
            ]
          },
          "metadata": {},
          "execution_count": 18
        }
      ]
    },
    {
      "cell_type": "code",
      "source": [
        "# 분모\n",
        "sum(freq)"
      ],
      "metadata": {
        "id": "eU6vU5WXchZS",
        "outputId": "6373c117-c595-42a1-e8ee-cbd8b48aba19",
        "colab": {
          "base_uri": "https://localhost:8080/"
        }
      },
      "execution_count": 19,
      "outputs": [
        {
          "output_type": "execute_result",
          "data": {
            "text/plain": [
              "100"
            ]
          },
          "metadata": {},
          "execution_count": 19
        }
      ]
    },
    {
      "cell_type": "code",
      "source": [
        "# 가중 평균 = 분자 / 분모\n",
        "sum(score_freq)/sum(freq)"
      ],
      "metadata": {
        "id": "VCHEEXytcmdB",
        "outputId": "1cd28a6b-2ddc-45ed-890e-74256edeb500",
        "colab": {
          "base_uri": "https://localhost:8080/"
        }
      },
      "execution_count": 20,
      "outputs": [
        {
          "output_type": "execute_result",
          "data": {
            "text/plain": [
              "89.67"
            ]
          },
          "metadata": {},
          "execution_count": 20
        }
      ]
    },
    {
      "cell_type": "code",
      "source": [
        "# 산술평균\n",
        "score.mean()"
      ],
      "metadata": {
        "colab": {
          "base_uri": "https://localhost:8080/"
        },
        "id": "A4ECqssqcs5Q",
        "outputId": "dec430b0-aaa7-4a92-8129-fecbf97c3554"
      },
      "execution_count": 21,
      "outputs": [
        {
          "output_type": "execute_result",
          "data": {
            "text/plain": [
              "86.375"
            ]
          },
          "metadata": {},
          "execution_count": 21
        }
      ]
    },
    {
      "cell_type": "markdown",
      "source": [
        "## 중앙값"
      ],
      "metadata": {
        "id": "HRnHGZs9zEXB"
      }
    },
    {
      "cell_type": "code",
      "source": [
        "x = pd.Series([135456, 54365, 37668, 32456, 25500])"
      ],
      "metadata": {
        "id": "30aQWxEJzGhU"
      },
      "execution_count": 22,
      "outputs": []
    },
    {
      "cell_type": "code",
      "source": [
        "# 오름 차순 정렬\n",
        "x1 = x.sort_values()"
      ],
      "metadata": {
        "id": "oXUFOYCRzUIe"
      },
      "execution_count": 23,
      "outputs": []
    },
    {
      "cell_type": "code",
      "source": [
        "# 중앙값\n",
        "x1[2]"
      ],
      "metadata": {
        "id": "QjRvK9Xpze8m",
        "outputId": "28328be8-5fb8-49b3-b6d5-9b8b3851fba7",
        "colab": {
          "base_uri": "https://localhost:8080/"
        }
      },
      "execution_count": 24,
      "outputs": [
        {
          "output_type": "execute_result",
          "data": {
            "text/plain": [
              "37668"
            ]
          },
          "metadata": {},
          "execution_count": 24
        }
      ]
    },
    {
      "cell_type": "code",
      "source": [
        "# 함수로 찾아보기\n",
        "x.median()"
      ],
      "metadata": {
        "id": "fJpDuAI30GEx",
        "outputId": "ccff056e-ef71-4783-d814-4f5e5f6fa771",
        "colab": {
          "base_uri": "https://localhost:8080/"
        }
      },
      "execution_count": 25,
      "outputs": [
        {
          "output_type": "execute_result",
          "data": {
            "text/plain": [
              "37668.0"
            ]
          },
          "metadata": {},
          "execution_count": 25
        }
      ]
    },
    {
      "cell_type": "code",
      "source": [
        "x = pd.Series([135456, 54365, 37668, 34500, 32456, 25500])"
      ],
      "metadata": {
        "id": "C2BG41URztHZ"
      },
      "execution_count": 26,
      "outputs": []
    },
    {
      "cell_type": "code",
      "source": [
        "# 오름 차순 정렬\n",
        "x1 = x.sort_values()"
      ],
      "metadata": {
        "id": "r67nYbfWztHa"
      },
      "execution_count": 27,
      "outputs": []
    },
    {
      "cell_type": "code",
      "source": [
        "# 중앙값\n",
        "(x1[3] + x1[2])/2"
      ],
      "metadata": {
        "id": "TeEE61KlztHa",
        "outputId": "c5a3a903-ac7b-4e85-b548-926f79d90cd5",
        "colab": {
          "base_uri": "https://localhost:8080/"
        }
      },
      "execution_count": 28,
      "outputs": [
        {
          "output_type": "execute_result",
          "data": {
            "text/plain": [
              "36084.0"
            ]
          },
          "metadata": {},
          "execution_count": 28
        }
      ]
    },
    {
      "cell_type": "code",
      "source": [
        "# 함수로 찾아보기\n",
        "x.median()"
      ],
      "metadata": {
        "id": "UaOqDUum0V41",
        "outputId": "1bee053a-10ea-4add-ac72-a2c406e26853",
        "colab": {
          "base_uri": "https://localhost:8080/"
        }
      },
      "execution_count": 29,
      "outputs": [
        {
          "output_type": "execute_result",
          "data": {
            "text/plain": [
              "36084.0"
            ]
          },
          "metadata": {},
          "execution_count": 29
        }
      ]
    },
    {
      "cell_type": "code",
      "source": [
        "# 이상치와 평균\n",
        "x = pd.Series([135456, 54365, 37668, 34500, 32456, 25500])"
      ],
      "metadata": {
        "id": "nn5f_nwz3XtX"
      },
      "execution_count": 30,
      "outputs": []
    },
    {
      "cell_type": "code",
      "source": [
        "# 요약통계량\n",
        "x.describe()"
      ],
      "metadata": {
        "id": "PGQQ5m633aJc",
        "outputId": "6ad2fb9e-b2a7-44bd-f3de-a51be504347a",
        "colab": {
          "base_uri": "https://localhost:8080/"
        }
      },
      "execution_count": 31,
      "outputs": [
        {
          "output_type": "execute_result",
          "data": {
            "text/plain": [
              "count         6.000000\n",
              "mean      53324.166667\n",
              "std       41366.292599\n",
              "min       25500.000000\n",
              "25%       32967.000000\n",
              "50%       36084.000000\n",
              "75%       50190.750000\n",
              "max      135456.000000\n",
              "dtype: float64"
            ]
          },
          "metadata": {},
          "execution_count": 31
        }
      ]
    },
    {
      "cell_type": "code",
      "source": [
        "x.max()"
      ],
      "metadata": {
        "id": "f__Or_-w3jY6",
        "outputId": "a57b1aec-82e2-4b43-8aa0-7924e146ded5",
        "colab": {
          "base_uri": "https://localhost:8080/"
        }
      },
      "execution_count": 32,
      "outputs": [
        {
          "output_type": "execute_result",
          "data": {
            "text/plain": [
              "135456"
            ]
          },
          "metadata": {},
          "execution_count": 32
        }
      ]
    },
    {
      "cell_type": "code",
      "source": [
        "x[1:].mean()"
      ],
      "metadata": {
        "id": "O3gy1ObY3rm2",
        "outputId": "c03a525a-2aba-4d89-fc90-71357683271d",
        "colab": {
          "base_uri": "https://localhost:8080/"
        }
      },
      "execution_count": 33,
      "outputs": [
        {
          "output_type": "execute_result",
          "data": {
            "text/plain": [
              "36897.8"
            ]
          },
          "metadata": {},
          "execution_count": 33
        }
      ]
    },
    {
      "cell_type": "markdown",
      "source": [
        "## 최빈값"
      ],
      "metadata": {
        "id": "FXAzE_PD6K5O"
      }
    },
    {
      "cell_type": "code",
      "source": [
        "# 1=민주당\n",
        "# 2=공화당\n",
        "# 3=무소속\n",
        "party = pd.Series([1, 2, 3, 3, 3, 2, 2, 1, 1, 1, 1, 1, 2, 2, 2, 2, 1, 1, 1])"
      ],
      "metadata": {
        "id": "ZyJqV6FW32Xc"
      },
      "execution_count": 34,
      "outputs": []
    },
    {
      "cell_type": "code",
      "source": [
        "# 범주형 변수 = 빈도표\n",
        "party.value_counts()\n",
        "# 최빈값 = 1=민주당"
      ],
      "metadata": {
        "id": "TSNxYvhv6as3",
        "outputId": "3bac6812-912d-43df-c5d5-a93ff65dd5a2",
        "colab": {
          "base_uri": "https://localhost:8080/"
        }
      },
      "execution_count": 35,
      "outputs": [
        {
          "output_type": "execute_result",
          "data": {
            "text/plain": [
              "1    9\n",
              "2    7\n",
              "3    3\n",
              "dtype: int64"
            ]
          },
          "metadata": {},
          "execution_count": 35
        }
      ]
    },
    {
      "cell_type": "code",
      "source": [
        "# 1=빨간머리\n",
        "# 2=금색머리\n",
        "# 3=검정머리\n",
        "# 4=갈색머리\n",
        "hair = pd.Series([1, 1, 1, 2, 2, 2, 2, 2, 3, 3, 3, 3, 3, 3, 3, 3, 4, 4, 4, 4, 4, 4, 4, 4])"
      ],
      "metadata": {
        "id": "5Z3TmRN56n8Z"
      },
      "execution_count": 36,
      "outputs": []
    },
    {
      "cell_type": "code",
      "source": [
        "# 범주형 변수 = 빈도표\n",
        "hair.value_counts()\n",
        "# 최빈값\n",
        "# 3=검정머리\n",
        "# 4=갈색머리"
      ],
      "metadata": {
        "id": "vDI_Gn7M_d2R",
        "outputId": "59acc927-e377-4acc-9e57-2088258be419",
        "colab": {
          "base_uri": "https://localhost:8080/"
        }
      },
      "execution_count": 37,
      "outputs": [
        {
          "output_type": "execute_result",
          "data": {
            "text/plain": [
              "3    8\n",
              "4    8\n",
              "2    5\n",
              "1    3\n",
              "dtype: int64"
            ]
          },
          "metadata": {},
          "execution_count": 37
        }
      ]
    },
    {
      "cell_type": "code",
      "source": [
        "# 최빈값을 찾아주는 함수\n",
        "from scipy.stats import mode\n",
        "mode(party)"
      ],
      "metadata": {
        "id": "a-iQD9Nn6jO4",
        "outputId": "f685a70f-2df7-4ff0-f86c-c73141defea1",
        "colab": {
          "base_uri": "https://localhost:8080/"
        }
      },
      "execution_count": 38,
      "outputs": [
        {
          "output_type": "stream",
          "name": "stderr",
          "text": [
            "<ipython-input-38-2b11971952b4>:3: FutureWarning: Unlike other reduction functions (e.g. `skew`, `kurtosis`), the default behavior of `mode` typically preserves the axis it acts along. In SciPy 1.11.0, this behavior will change: the default value of `keepdims` will become False, the `axis` over which the statistic is taken will be eliminated, and the value None will no longer be accepted. Set `keepdims` to True or False to avoid this warning.\n",
            "  mode(party)\n"
          ]
        },
        {
          "output_type": "execute_result",
          "data": {
            "text/plain": [
              "ModeResult(mode=array([1]), count=array([9]))"
            ]
          },
          "metadata": {},
          "execution_count": 38
        }
      ]
    },
    {
      "cell_type": "code",
      "source": [
        "mode(hair)\n",
        "# 최빈값이 2개임에도 불구하고 3 하나만 알려줌"
      ],
      "metadata": {
        "id": "AYrplEMm_2O6",
        "outputId": "5eecbce8-5f9f-41d7-cbb5-f46d6aa5c1a4",
        "colab": {
          "base_uri": "https://localhost:8080/"
        }
      },
      "execution_count": 39,
      "outputs": [
        {
          "output_type": "stream",
          "name": "stderr",
          "text": [
            "<ipython-input-39-1c4eac183bb8>:1: FutureWarning: Unlike other reduction functions (e.g. `skew`, `kurtosis`), the default behavior of `mode` typically preserves the axis it acts along. In SciPy 1.11.0, this behavior will change: the default value of `keepdims` will become False, the `axis` over which the statistic is taken will be eliminated, and the value None will no longer be accepted. Set `keepdims` to True or False to avoid this warning.\n",
            "  mode(hair)\n"
          ]
        },
        {
          "output_type": "execute_result",
          "data": {
            "text/plain": [
              "ModeResult(mode=array([3]), count=array([8]))"
            ]
          },
          "metadata": {},
          "execution_count": 39
        }
      ]
    },
    {
      "cell_type": "code",
      "source": [
        "# 최빈값이 2개 이상인 경우\n",
        "from collections import Counter\n",
        "count = Counter(hair)\n",
        "count"
      ],
      "metadata": {
        "colab": {
          "base_uri": "https://localhost:8080/"
        },
        "id": "UEIKcdzV_-94",
        "outputId": "1f61a638-0eb4-471f-e9d2-e6e5105f4b86"
      },
      "execution_count": 40,
      "outputs": [
        {
          "output_type": "execute_result",
          "data": {
            "text/plain": [
              "Counter({1: 3, 2: 5, 3: 8, 4: 8})"
            ]
          },
          "metadata": {},
          "execution_count": 40
        }
      ]
    },
    {
      "cell_type": "code",
      "source": [
        "freq = count.most_common()\n",
        "freq"
      ],
      "metadata": {
        "colab": {
          "base_uri": "https://localhost:8080/"
        },
        "id": "Bk9lGvU2AkBK",
        "outputId": "9284abe0-05a6-44cc-c635-f575d95817a3"
      },
      "execution_count": 41,
      "outputs": [
        {
          "output_type": "execute_result",
          "data": {
            "text/plain": [
              "[(3, 8), (4, 8), (2, 5), (1, 3)]"
            ]
          },
          "metadata": {},
          "execution_count": 41
        }
      ]
    },
    {
      "cell_type": "code",
      "source": [
        "# 값\n",
        "freq[0][0]\n",
        "freq[1][0]"
      ],
      "metadata": {
        "colab": {
          "base_uri": "https://localhost:8080/"
        },
        "id": "0iJ6yxLfA0zX",
        "outputId": "48a98c32-35b7-4fb5-92d1-49dc08afc9b3"
      },
      "execution_count": 42,
      "outputs": [
        {
          "output_type": "execute_result",
          "data": {
            "text/plain": [
              "4"
            ]
          },
          "metadata": {},
          "execution_count": 42
        }
      ]
    },
    {
      "cell_type": "code",
      "source": [
        "# 빈도\n",
        "freq[0][1]\n",
        "freq[1][1]"
      ],
      "metadata": {
        "colab": {
          "base_uri": "https://localhost:8080/"
        },
        "id": "u8SWVWBlA7xe",
        "outputId": "1fa9bb76-013d-40d6-9380-17dc6945aba0"
      },
      "execution_count": 43,
      "outputs": [
        {
          "output_type": "execute_result",
          "data": {
            "text/plain": [
              "8"
            ]
          },
          "metadata": {},
          "execution_count": 43
        }
      ]
    },
    {
      "cell_type": "code",
      "source": [
        "max = freq[0][1]\n",
        "max"
      ],
      "metadata": {
        "colab": {
          "base_uri": "https://localhost:8080/"
        },
        "id": "AqpTFXpKA-Gx",
        "outputId": "95f86eb7-399a-410e-8cd1-3d77e0b11cd9"
      },
      "execution_count": 44,
      "outputs": [
        {
          "output_type": "execute_result",
          "data": {
            "text/plain": [
              "8"
            ]
          },
          "metadata": {},
          "execution_count": 44
        }
      ]
    },
    {
      "cell_type": "code",
      "source": [
        "mode = []\n",
        "for i in freq:\n",
        "  if i[1] == max:\n",
        "    mode.append(i[0])\n",
        "print(mode)"
      ],
      "metadata": {
        "colab": {
          "base_uri": "https://localhost:8080/"
        },
        "id": "A9wilUkYBdJh",
        "outputId": "e9259762-2b0f-4be3-c0b4-ce1b9c9cd9ba"
      },
      "execution_count": 45,
      "outputs": [
        {
          "output_type": "stream",
          "name": "stdout",
          "text": [
            "[3, 4]\n"
          ]
        }
      ]
    },
    {
      "cell_type": "code",
      "source": [
        "# 최빈값을 알려주는 함수\n",
        "from collections import Counter\n",
        "def mode_mtp(data):\n",
        "  count = Counter(data)\n",
        "  freq = count.most_common()\n",
        "  max = freq[0][1]\n",
        "  mode = []\n",
        "  for i in freq:\n",
        "    if i[1] == max:\n",
        "      mode.append(i[0])\n",
        "  return mode"
      ],
      "metadata": {
        "id": "22omAkKeAtif"
      },
      "execution_count": 46,
      "outputs": []
    },
    {
      "cell_type": "code",
      "source": [
        "mode_mtp(hair)"
      ],
      "metadata": {
        "colab": {
          "base_uri": "https://localhost:8080/"
        },
        "id": "WB_QZ1laAdDr",
        "outputId": "9ad11741-a388-4d25-cd22-d84d63b39365"
      },
      "execution_count": 47,
      "outputs": [
        {
          "output_type": "execute_result",
          "data": {
            "text/plain": [
              "[3, 4]"
            ]
          },
          "metadata": {},
          "execution_count": 47
        }
      ]
    },
    {
      "cell_type": "markdown",
      "source": [
        "## 요약통계량"
      ],
      "metadata": {
        "id": "oKxRvG3yElMi"
      }
    },
    {
      "cell_type": "code",
      "source": [
        "x = pd.Series([135456, 54365, 37668, 34500, 32456, 25500])"
      ],
      "metadata": {
        "id": "UpNJz_WsCyyx"
      },
      "execution_count": 48,
      "outputs": []
    },
    {
      "cell_type": "code",
      "source": [
        "x.describe()"
      ],
      "metadata": {
        "colab": {
          "base_uri": "https://localhost:8080/"
        },
        "id": "1Wo0kyqjEoXq",
        "outputId": "e25aff7e-424b-4ee5-a4d3-6a572dcfe2dc"
      },
      "execution_count": 49,
      "outputs": [
        {
          "output_type": "execute_result",
          "data": {
            "text/plain": [
              "count         6.000000\n",
              "mean      53324.166667\n",
              "std       41366.292599\n",
              "min       25500.000000\n",
              "25%       32967.000000\n",
              "50%       36084.000000\n",
              "75%       50190.750000\n",
              "max      135456.000000\n",
              "dtype: float64"
            ]
          },
          "metadata": {},
          "execution_count": 49
        }
      ]
    },
    {
      "cell_type": "code",
      "source": [
        "# 표준편차\n",
        "x.std()"
      ],
      "metadata": {
        "colab": {
          "base_uri": "https://localhost:8080/"
        },
        "id": "9F0o8S6mEqM8",
        "outputId": "2c86b2ec-6a64-40d6-c4e3-b1011b47f0ac"
      },
      "execution_count": 50,
      "outputs": [
        {
          "output_type": "execute_result",
          "data": {
            "text/plain": [
              "41366.29259876533"
            ]
          },
          "metadata": {},
          "execution_count": 50
        }
      ]
    },
    {
      "cell_type": "code",
      "source": [
        "# 분산 = 표준편차 제곱\n",
        "x.var()"
      ],
      "metadata": {
        "colab": {
          "base_uri": "https://localhost:8080/"
        },
        "id": "9mU6Rj36Ez7S",
        "outputId": "e3c43f77-ddda-4613-e276-987a6f295bbb"
      },
      "execution_count": 51,
      "outputs": [
        {
          "output_type": "execute_result",
          "data": {
            "text/plain": [
              "1711170163.366667"
            ]
          },
          "metadata": {},
          "execution_count": 51
        }
      ]
    },
    {
      "cell_type": "code",
      "source": [
        "# 중앙값\n",
        "x.median()"
      ],
      "metadata": {
        "colab": {
          "base_uri": "https://localhost:8080/"
        },
        "id": "Rh1Fxi3rE4cu",
        "outputId": "b9367342-0f30-4d91-ffb7-eaf49e4c45ac"
      },
      "execution_count": 52,
      "outputs": [
        {
          "output_type": "execute_result",
          "data": {
            "text/plain": [
              "36084.0"
            ]
          },
          "metadata": {},
          "execution_count": 52
        }
      ]
    },
    {
      "cell_type": "code",
      "source": [
        "# 첨도, 왜도\n",
        "from scipy.stats import skew, kurtosis\n",
        "# 왜도\n",
        "skew(x, bias = False)"
      ],
      "metadata": {
        "colab": {
          "base_uri": "https://localhost:8080/"
        },
        "id": "57LZl14qFIAj",
        "outputId": "7d8f1b78-e33a-47c3-9b98-c23de488556a"
      },
      "execution_count": 53,
      "outputs": [
        {
          "output_type": "execute_result",
          "data": {
            "text/plain": [
              "2.1737564620024954"
            ]
          },
          "metadata": {},
          "execution_count": 53
        }
      ]
    },
    {
      "cell_type": "code",
      "source": [
        "# 첨도\n",
        "kurtosis(x, bias = False)"
      ],
      "metadata": {
        "colab": {
          "base_uri": "https://localhost:8080/"
        },
        "id": "qVGfn2fBFmxa",
        "outputId": "d9d42820-1a19-4064-8227-81df69b14c1b"
      },
      "execution_count": 54,
      "outputs": [
        {
          "output_type": "execute_result",
          "data": {
            "text/plain": [
              "4.861219327469506"
            ]
          },
          "metadata": {},
          "execution_count": 54
        }
      ]
    },
    {
      "cell_type": "code",
      "source": [
        "# 범위\n",
        "x.max() - x.min()"
      ],
      "metadata": {
        "colab": {
          "base_uri": "https://localhost:8080/"
        },
        "id": "lKOJ72_KGH4D",
        "outputId": "85e614f3-79ad-4341-c0de-f5f11e1e1be2"
      },
      "execution_count": 55,
      "outputs": [
        {
          "output_type": "execute_result",
          "data": {
            "text/plain": [
              "109956"
            ]
          },
          "metadata": {},
          "execution_count": 55
        }
      ]
    },
    {
      "cell_type": "code",
      "source": [
        "# min\n",
        "# max\n",
        "# sum\n",
        "# len"
      ],
      "metadata": {
        "id": "GmzGW-elFyLi"
      },
      "execution_count": 56,
      "outputs": []
    },
    {
      "cell_type": "markdown",
      "source": [
        "## 문제 풀이"
      ],
      "metadata": {
        "id": "joGSnxFZTKCX"
      }
    },
    {
      "cell_type": "code",
      "source": [
        "# 1\n",
        "score1 = pd.Series([3, 7, 5, 4, 5, 6, 7, 8, 6, 5])\n",
        "score2 = pd.Series([34, 54, 17, 26, 34, 25, 14, 24, 25, 23])\n",
        "score3 = pd.Series([154, 167, 132, 145, 154, 145, 113, 156, 154, 123])"
      ],
      "metadata": {
        "id": "ZXJhg5EJTNOv"
      },
      "execution_count": 57,
      "outputs": []
    },
    {
      "cell_type": "code",
      "source": [
        "# 평균\n",
        "print(score1.mean(), score2.mean(), score3.mean())"
      ],
      "metadata": {
        "colab": {
          "base_uri": "https://localhost:8080/"
        },
        "id": "Hc9fWcN3TvdQ",
        "outputId": "d5d10ae8-d65c-486a-8303-e8c4adbe64cf"
      },
      "execution_count": 58,
      "outputs": [
        {
          "output_type": "stream",
          "name": "stdout",
          "text": [
            "5.6 27.6 144.3\n"
          ]
        }
      ]
    },
    {
      "cell_type": "code",
      "source": [
        "# 중앙값\n",
        "print(score1.median(), score2.median(), score3.median())"
      ],
      "metadata": {
        "colab": {
          "base_uri": "https://localhost:8080/"
        },
        "id": "NhPrZXIzT7he",
        "outputId": "d9c14ae9-0334-4020-bb99-e7f25fa5a065"
      },
      "execution_count": 59,
      "outputs": [
        {
          "output_type": "stream",
          "name": "stdout",
          "text": [
            "5.5 25.0 149.5\n"
          ]
        }
      ]
    },
    {
      "cell_type": "code",
      "source": [
        "# 최빈값\n",
        "print(score1.value_counts(), score2.value_counts(), score3.value_counts())"
      ],
      "metadata": {
        "id": "lNafbprSUCSi",
        "outputId": "7b1c0438-9814-4fc1-d270-bb89a9efd49e",
        "colab": {
          "base_uri": "https://localhost:8080/"
        }
      },
      "execution_count": 60,
      "outputs": [
        {
          "output_type": "stream",
          "name": "stdout",
          "text": [
            "5    3\n",
            "7    2\n",
            "6    2\n",
            "3    1\n",
            "4    1\n",
            "8    1\n",
            "dtype: int64 34    2\n",
            "25    2\n",
            "54    1\n",
            "17    1\n",
            "26    1\n",
            "14    1\n",
            "24    1\n",
            "23    1\n",
            "dtype: int64 154    3\n",
            "145    2\n",
            "167    1\n",
            "132    1\n",
            "113    1\n",
            "156    1\n",
            "123    1\n",
            "dtype: int64\n"
          ]
        }
      ]
    },
    {
      "cell_type": "code",
      "source": [
        "print(mode_mtp(score1), mode_mtp(score2), mode_mtp(score3))"
      ],
      "metadata": {
        "colab": {
          "base_uri": "https://localhost:8080/"
        },
        "id": "u9l79pPdULEQ",
        "outputId": "ff1d6d22-68ba-4232-dbf9-426aed1d093b"
      },
      "execution_count": 61,
      "outputs": [
        {
          "output_type": "stream",
          "name": "stdout",
          "text": [
            "[5] [34, 25] [154]\n"
          ]
        }
      ]
    },
    {
      "cell_type": "code",
      "source": [
        "# 2\n",
        "class1 = [23,15,34,32,33]\n",
        "class2 = [32,44,15,44,36]\n",
        "class3 = [17,12,27,19,23]"
      ],
      "metadata": {
        "id": "6xLshzS7V_tg"
      },
      "execution_count": 62,
      "outputs": []
    },
    {
      "cell_type": "code",
      "source": [
        "# 평균\n",
        "print(np.mean(class1), np.mean(class2), np.mean(class3))"
      ],
      "metadata": {
        "colab": {
          "base_uri": "https://localhost:8080/"
        },
        "id": "668eQnjgWDQd",
        "outputId": "4eeeba03-5eb4-48f4-abaf-2de54e336209"
      },
      "execution_count": 63,
      "outputs": [
        {
          "output_type": "stream",
          "name": "stdout",
          "text": [
            "27.4 34.2 19.6\n"
          ]
        }
      ]
    },
    {
      "cell_type": "code",
      "source": [
        "# 중앙값\n",
        "print(np.median(class1), np.median(class2), np.median(class3))"
      ],
      "metadata": {
        "colab": {
          "base_uri": "https://localhost:8080/"
        },
        "id": "DWkUQSrAWOds",
        "outputId": "e1bebee8-4128-4b2c-e0c6-b2623ba038e0"
      },
      "execution_count": 64,
      "outputs": [
        {
          "output_type": "stream",
          "name": "stdout",
          "text": [
            "32.0 36.0 19.0\n"
          ]
        }
      ]
    },
    {
      "cell_type": "code",
      "source": [
        "# 3\n",
        "data = pd.DataFrame({'burger': [\"빅 버거\",\"어린이 버거\",\"치킨 버거\",\"불고기 버거\",\n",
        "                                \"일품 버거\",\"핫도그\"],\n",
        "                     'quantity': [20,18,25,19,17,20],\n",
        "                     'price': [2.95,1.49,3.50,2.95,1.99,1.99]})"
      ],
      "metadata": {
        "id": "OVoM_U3UWW2H"
      },
      "execution_count": 65,
      "outputs": []
    },
    {
      "cell_type": "code",
      "source": [
        "# 판매금액\n",
        "data['sales'] = data['quantity'] * data['price']"
      ],
      "metadata": {
        "id": "xu56Ne0has1d"
      },
      "execution_count": 66,
      "outputs": []
    },
    {
      "cell_type": "code",
      "source": [
        "# 1) 가장 많이 팔린 버거는 치킨버거\n",
        "data[data['sales'] == data['sales'].max()]"
      ],
      "metadata": {
        "id": "Zi1rkItba5ei",
        "outputId": "7fe99887-0b86-4004-f435-2215a79e52a1",
        "colab": {
          "base_uri": "https://localhost:8080/",
          "height": 80
        }
      },
      "execution_count": 67,
      "outputs": [
        {
          "output_type": "execute_result",
          "data": {
            "text/plain": [
              "  burger  quantity  price  sales\n",
              "2  치킨 버거        25    3.5   87.5"
            ],
            "text/html": [
              "\n",
              "  <div id=\"df-92d15901-f181-4845-811c-0ce46af48b41\">\n",
              "    <div class=\"colab-df-container\">\n",
              "      <div>\n",
              "<style scoped>\n",
              "    .dataframe tbody tr th:only-of-type {\n",
              "        vertical-align: middle;\n",
              "    }\n",
              "\n",
              "    .dataframe tbody tr th {\n",
              "        vertical-align: top;\n",
              "    }\n",
              "\n",
              "    .dataframe thead th {\n",
              "        text-align: right;\n",
              "    }\n",
              "</style>\n",
              "<table border=\"1\" class=\"dataframe\">\n",
              "  <thead>\n",
              "    <tr style=\"text-align: right;\">\n",
              "      <th></th>\n",
              "      <th>burger</th>\n",
              "      <th>quantity</th>\n",
              "      <th>price</th>\n",
              "      <th>sales</th>\n",
              "    </tr>\n",
              "  </thead>\n",
              "  <tbody>\n",
              "    <tr>\n",
              "      <th>2</th>\n",
              "      <td>치킨 버거</td>\n",
              "      <td>25</td>\n",
              "      <td>3.5</td>\n",
              "      <td>87.5</td>\n",
              "    </tr>\n",
              "  </tbody>\n",
              "</table>\n",
              "</div>\n",
              "      <button class=\"colab-df-convert\" onclick=\"convertToInteractive('df-92d15901-f181-4845-811c-0ce46af48b41')\"\n",
              "              title=\"Convert this dataframe to an interactive table.\"\n",
              "              style=\"display:none;\">\n",
              "        \n",
              "  <svg xmlns=\"http://www.w3.org/2000/svg\" height=\"24px\"viewBox=\"0 0 24 24\"\n",
              "       width=\"24px\">\n",
              "    <path d=\"M0 0h24v24H0V0z\" fill=\"none\"/>\n",
              "    <path d=\"M18.56 5.44l.94 2.06.94-2.06 2.06-.94-2.06-.94-.94-2.06-.94 2.06-2.06.94zm-11 1L8.5 8.5l.94-2.06 2.06-.94-2.06-.94L8.5 2.5l-.94 2.06-2.06.94zm10 10l.94 2.06.94-2.06 2.06-.94-2.06-.94-.94-2.06-.94 2.06-2.06.94z\"/><path d=\"M17.41 7.96l-1.37-1.37c-.4-.4-.92-.59-1.43-.59-.52 0-1.04.2-1.43.59L10.3 9.45l-7.72 7.72c-.78.78-.78 2.05 0 2.83L4 21.41c.39.39.9.59 1.41.59.51 0 1.02-.2 1.41-.59l7.78-7.78 2.81-2.81c.8-.78.8-2.07 0-2.86zM5.41 20L4 18.59l7.72-7.72 1.47 1.35L5.41 20z\"/>\n",
              "  </svg>\n",
              "      </button>\n",
              "      \n",
              "  <style>\n",
              "    .colab-df-container {\n",
              "      display:flex;\n",
              "      flex-wrap:wrap;\n",
              "      gap: 12px;\n",
              "    }\n",
              "\n",
              "    .colab-df-convert {\n",
              "      background-color: #E8F0FE;\n",
              "      border: none;\n",
              "      border-radius: 50%;\n",
              "      cursor: pointer;\n",
              "      display: none;\n",
              "      fill: #1967D2;\n",
              "      height: 32px;\n",
              "      padding: 0 0 0 0;\n",
              "      width: 32px;\n",
              "    }\n",
              "\n",
              "    .colab-df-convert:hover {\n",
              "      background-color: #E2EBFA;\n",
              "      box-shadow: 0px 1px 2px rgba(60, 64, 67, 0.3), 0px 1px 3px 1px rgba(60, 64, 67, 0.15);\n",
              "      fill: #174EA6;\n",
              "    }\n",
              "\n",
              "    [theme=dark] .colab-df-convert {\n",
              "      background-color: #3B4455;\n",
              "      fill: #D2E3FC;\n",
              "    }\n",
              "\n",
              "    [theme=dark] .colab-df-convert:hover {\n",
              "      background-color: #434B5C;\n",
              "      box-shadow: 0px 1px 3px 1px rgba(0, 0, 0, 0.15);\n",
              "      filter: drop-shadow(0px 1px 2px rgba(0, 0, 0, 0.3));\n",
              "      fill: #FFFFFF;\n",
              "    }\n",
              "  </style>\n",
              "\n",
              "      <script>\n",
              "        const buttonEl =\n",
              "          document.querySelector('#df-92d15901-f181-4845-811c-0ce46af48b41 button.colab-df-convert');\n",
              "        buttonEl.style.display =\n",
              "          google.colab.kernel.accessAllowed ? 'block' : 'none';\n",
              "\n",
              "        async function convertToInteractive(key) {\n",
              "          const element = document.querySelector('#df-92d15901-f181-4845-811c-0ce46af48b41');\n",
              "          const dataTable =\n",
              "            await google.colab.kernel.invokeFunction('convertToInteractive',\n",
              "                                                     [key], {});\n",
              "          if (!dataTable) return;\n",
              "\n",
              "          const docLinkHtml = 'Like what you see? Visit the ' +\n",
              "            '<a target=\"_blank\" href=https://colab.research.google.com/notebooks/data_table.ipynb>data table notebook</a>'\n",
              "            + ' to learn more about interactive tables.';\n",
              "          element.innerHTML = '';\n",
              "          dataTable['output_type'] = 'display_data';\n",
              "          await google.colab.output.renderOutput(dataTable, element);\n",
              "          const docLink = document.createElement('div');\n",
              "          docLink.innerHTML = docLinkHtml;\n",
              "          element.appendChild(docLink);\n",
              "        }\n",
              "      </script>\n",
              "    </div>\n",
              "  </div>\n",
              "  "
            ]
          },
          "metadata": {},
          "execution_count": 67
        }
      ]
    },
    {
      "cell_type": "code",
      "source": [
        "# 2) 총 판매금액은 303 달러\n",
        "data['sales'].sum()"
      ],
      "metadata": {
        "id": "s9kkMskFbFBy",
        "outputId": "98d084eb-c40e-4a4a-8dc7-2c47122d2c33",
        "colab": {
          "base_uri": "https://localhost:8080/"
        }
      },
      "execution_count": 68,
      "outputs": [
        {
          "output_type": "execute_result",
          "data": {
            "text/plain": [
              "303.0"
            ]
          },
          "metadata": {},
          "execution_count": 68
        }
      ]
    },
    {
      "cell_type": "code",
      "source": [
        "# 3) 버거 하나당 평균 판매금액은 2.55 달러\n",
        "round(data['sales'].sum() / data['quantity'].sum(), 2)"
      ],
      "metadata": {
        "colab": {
          "base_uri": "https://localhost:8080/"
        },
        "id": "kAmHQb5dbWwa",
        "outputId": "e5c3f7b6-eb5a-4433-8715-15dffd52ec77"
      },
      "execution_count": 69,
      "outputs": [
        {
          "output_type": "execute_result",
          "data": {
            "text/plain": [
              "2.55"
            ]
          },
          "metadata": {},
          "execution_count": 69
        }
      ]
    },
    {
      "cell_type": "code",
      "source": [
        "# 6, 7\n",
        "df = pd.DataFrame({'toys': [\"슬래머\",\"레이더총\",\"감자총\"],\n",
        "                   'month_7': [12345, 31454, 3253],\n",
        "                   'month_8': [14453, 34567, 3121],\n",
        "                   'month_9': [15435, 29678, 5131]})"
      ],
      "metadata": {
        "id": "cFKsJ7U6bmHq"
      },
      "execution_count": 70,
      "outputs": []
    },
    {
      "cell_type": "code",
      "source": [
        "# 장난감평균매출액\n",
        "df.mean(axis = 1)"
      ],
      "metadata": {
        "id": "SR39KKaihpVz",
        "outputId": "c2772357-a276-4d73-f4ac-2573a20cb7fc",
        "colab": {
          "base_uri": "https://localhost:8080/"
        }
      },
      "execution_count": 71,
      "outputs": [
        {
          "output_type": "stream",
          "name": "stderr",
          "text": [
            "<ipython-input-71-7b387fbd6b68>:2: FutureWarning: Dropping of nuisance columns in DataFrame reductions (with 'numeric_only=None') is deprecated; in a future version this will raise TypeError.  Select only valid columns before calling the reduction.\n",
            "  df.mean(axis = 1)\n"
          ]
        },
        {
          "output_type": "execute_result",
          "data": {
            "text/plain": [
              "0    14077.666667\n",
              "1    31899.666667\n",
              "2     3835.000000\n",
              "dtype: float64"
            ]
          },
          "metadata": {},
          "execution_count": 71
        }
      ]
    },
    {
      "cell_type": "code",
      "source": [
        "# 월 평균매출액\n",
        "df.mean()\n",
        "# df.mean(axis = 0)"
      ],
      "metadata": {
        "id": "ipzwUNW9iBg-",
        "outputId": "7bf2ca27-8c32-4a87-aa7f-0b01b5238fe4",
        "colab": {
          "base_uri": "https://localhost:8080/"
        }
      },
      "execution_count": 72,
      "outputs": [
        {
          "output_type": "stream",
          "name": "stderr",
          "text": [
            "<ipython-input-72-b7846b5391b2>:2: FutureWarning: The default value of numeric_only in DataFrame.mean is deprecated. In a future version, it will default to False. In addition, specifying 'numeric_only=None' is deprecated. Select only valid columns or specify the value of numeric_only to silence this warning.\n",
            "  df.mean()\n"
          ]
        },
        {
          "output_type": "execute_result",
          "data": {
            "text/plain": [
              "month_7    15684.000000\n",
              "month_8    17380.333333\n",
              "month_9    16748.000000\n",
              "dtype: float64"
            ]
          },
          "metadata": {},
          "execution_count": 72
        }
      ]
    },
    {
      "cell_type": "code",
      "source": [
        "# 장남감 중앙값\n",
        "df.median(axis = 1)"
      ],
      "metadata": {
        "id": "6EFGIzzRiEbu",
        "outputId": "aac64a9b-c0b5-4b20-8845-0451a457797c",
        "colab": {
          "base_uri": "https://localhost:8080/"
        }
      },
      "execution_count": 73,
      "outputs": [
        {
          "output_type": "stream",
          "name": "stderr",
          "text": [
            "<ipython-input-73-cdbf1393437e>:2: FutureWarning: Dropping of nuisance columns in DataFrame reductions (with 'numeric_only=None') is deprecated; in a future version this will raise TypeError.  Select only valid columns before calling the reduction.\n",
            "  df.median(axis = 1)\n"
          ]
        },
        {
          "output_type": "execute_result",
          "data": {
            "text/plain": [
              "0    14453.0\n",
              "1    31454.0\n",
              "2     3253.0\n",
              "dtype: float64"
            ]
          },
          "metadata": {},
          "execution_count": 73
        }
      ]
    },
    {
      "cell_type": "code",
      "source": [
        "# 9\n",
        "df = pd.DataFrame({'agegroup': [\"0 ~ 4 세\", \"5 ~ 9 세\", \"10 ~ 14 세\", \"15 ~ 19 세\"],\n",
        "                   'week1': [12, 15, 12, 38],\n",
        "                   'week2': [14, 12, 24, 12],\n",
        "                   'week3': [15, 14, 21, 19]})"
      ],
      "metadata": {
        "id": "FlofoI6Hjo46"
      },
      "execution_count": 74,
      "outputs": []
    },
    {
      "cell_type": "code",
      "source": [
        "# 평균\n",
        "df.mean()"
      ],
      "metadata": {
        "id": "o9tNC3Usj1Gz",
        "outputId": "44dca34c-b6d7-48ee-8dfe-eb7428f514c0",
        "colab": {
          "base_uri": "https://localhost:8080/"
        }
      },
      "execution_count": 75,
      "outputs": [
        {
          "output_type": "stream",
          "name": "stderr",
          "text": [
            "<ipython-input-75-15aebfaeff61>:2: FutureWarning: The default value of numeric_only in DataFrame.mean is deprecated. In a future version, it will default to False. In addition, specifying 'numeric_only=None' is deprecated. Select only valid columns or specify the value of numeric_only to silence this warning.\n",
            "  df.mean()\n"
          ]
        },
        {
          "output_type": "execute_result",
          "data": {
            "text/plain": [
              "week1    19.25\n",
              "week2    15.50\n",
              "week3    17.25\n",
              "dtype: float64"
            ]
          },
          "metadata": {},
          "execution_count": 75
        }
      ]
    },
    {
      "cell_type": "code",
      "source": [
        "# 중앙값\n",
        "df.median()"
      ],
      "metadata": {
        "id": "tirXvxYyj9gJ",
        "outputId": "b7b05745-81d7-4090-bc60-20f86a23831b",
        "colab": {
          "base_uri": "https://localhost:8080/"
        }
      },
      "execution_count": 76,
      "outputs": [
        {
          "output_type": "stream",
          "name": "stderr",
          "text": [
            "<ipython-input-76-266dd7a3c1db>:2: FutureWarning: The default value of numeric_only in DataFrame.median is deprecated. In a future version, it will default to False. In addition, specifying 'numeric_only=None' is deprecated. Select only valid columns or specify the value of numeric_only to silence this warning.\n",
            "  df.median()\n"
          ]
        },
        {
          "output_type": "execute_result",
          "data": {
            "text/plain": [
              "week1    13.5\n",
              "week2    13.0\n",
              "week3    17.0\n",
              "dtype: float64"
            ]
          },
          "metadata": {},
          "execution_count": 76
        }
      ]
    },
    {
      "cell_type": "code",
      "source": [
        "# 10\n",
        "df = pd.DataFrame({'학생': [1,2,3,4,5,6,7,8,9,10],\n",
        "                     '퐁당과자': [1,5,7,1,5,6,2,5,7,3],\n",
        "                     '컵케이크': [1,2,4,4,5,6,6,1,2,3],\n",
        "                     '아이싱': [6,3,4,3,1,6,3,6,3,5],\n",
        "                     '조립': [5,2,2,4,5,4,5,3,5,6],\n",
        "                     '질감': [3,7,1,3,7,5,4,6,2,5]})"
      ],
      "metadata": {
        "id": "ioDz2ygrkclu"
      },
      "execution_count": 77,
      "outputs": []
    },
    {
      "cell_type": "code",
      "source": [
        "# 요약통계량\n",
        "df.describe()"
      ],
      "metadata": {
        "id": "poT9_MJqkgaD",
        "outputId": "8f176bdf-5114-467a-f07e-6613739ed98a",
        "colab": {
          "base_uri": "https://localhost:8080/",
          "height": 300
        }
      },
      "execution_count": 78,
      "outputs": [
        {
          "output_type": "execute_result",
          "data": {
            "text/plain": [
              "             학생       퐁당과자       컵케이크        아이싱        조립         질감\n",
              "count  10.00000  10.000000  10.000000  10.000000  10.00000  10.000000\n",
              "mean    5.50000   4.200000   3.400000   4.000000   4.10000   4.300000\n",
              "std     3.02765   2.299758   1.897367   1.699673   1.37032   2.057507\n",
              "min     1.00000   1.000000   1.000000   1.000000   2.00000   1.000000\n",
              "25%     3.25000   2.250000   2.000000   3.000000   3.25000   3.000000\n",
              "50%     5.50000   5.000000   3.500000   3.500000   4.50000   4.500000\n",
              "75%     7.75000   5.750000   4.750000   5.750000   5.00000   5.750000\n",
              "max    10.00000   7.000000   6.000000   6.000000   6.00000   7.000000"
            ],
            "text/html": [
              "\n",
              "  <div id=\"df-6743278d-ab93-4673-926d-2b4fefa4d232\">\n",
              "    <div class=\"colab-df-container\">\n",
              "      <div>\n",
              "<style scoped>\n",
              "    .dataframe tbody tr th:only-of-type {\n",
              "        vertical-align: middle;\n",
              "    }\n",
              "\n",
              "    .dataframe tbody tr th {\n",
              "        vertical-align: top;\n",
              "    }\n",
              "\n",
              "    .dataframe thead th {\n",
              "        text-align: right;\n",
              "    }\n",
              "</style>\n",
              "<table border=\"1\" class=\"dataframe\">\n",
              "  <thead>\n",
              "    <tr style=\"text-align: right;\">\n",
              "      <th></th>\n",
              "      <th>학생</th>\n",
              "      <th>퐁당과자</th>\n",
              "      <th>컵케이크</th>\n",
              "      <th>아이싱</th>\n",
              "      <th>조립</th>\n",
              "      <th>질감</th>\n",
              "    </tr>\n",
              "  </thead>\n",
              "  <tbody>\n",
              "    <tr>\n",
              "      <th>count</th>\n",
              "      <td>10.00000</td>\n",
              "      <td>10.000000</td>\n",
              "      <td>10.000000</td>\n",
              "      <td>10.000000</td>\n",
              "      <td>10.00000</td>\n",
              "      <td>10.000000</td>\n",
              "    </tr>\n",
              "    <tr>\n",
              "      <th>mean</th>\n",
              "      <td>5.50000</td>\n",
              "      <td>4.200000</td>\n",
              "      <td>3.400000</td>\n",
              "      <td>4.000000</td>\n",
              "      <td>4.10000</td>\n",
              "      <td>4.300000</td>\n",
              "    </tr>\n",
              "    <tr>\n",
              "      <th>std</th>\n",
              "      <td>3.02765</td>\n",
              "      <td>2.299758</td>\n",
              "      <td>1.897367</td>\n",
              "      <td>1.699673</td>\n",
              "      <td>1.37032</td>\n",
              "      <td>2.057507</td>\n",
              "    </tr>\n",
              "    <tr>\n",
              "      <th>min</th>\n",
              "      <td>1.00000</td>\n",
              "      <td>1.000000</td>\n",
              "      <td>1.000000</td>\n",
              "      <td>1.000000</td>\n",
              "      <td>2.00000</td>\n",
              "      <td>1.000000</td>\n",
              "    </tr>\n",
              "    <tr>\n",
              "      <th>25%</th>\n",
              "      <td>3.25000</td>\n",
              "      <td>2.250000</td>\n",
              "      <td>2.000000</td>\n",
              "      <td>3.000000</td>\n",
              "      <td>3.25000</td>\n",
              "      <td>3.000000</td>\n",
              "    </tr>\n",
              "    <tr>\n",
              "      <th>50%</th>\n",
              "      <td>5.50000</td>\n",
              "      <td>5.000000</td>\n",
              "      <td>3.500000</td>\n",
              "      <td>3.500000</td>\n",
              "      <td>4.50000</td>\n",
              "      <td>4.500000</td>\n",
              "    </tr>\n",
              "    <tr>\n",
              "      <th>75%</th>\n",
              "      <td>7.75000</td>\n",
              "      <td>5.750000</td>\n",
              "      <td>4.750000</td>\n",
              "      <td>5.750000</td>\n",
              "      <td>5.00000</td>\n",
              "      <td>5.750000</td>\n",
              "    </tr>\n",
              "    <tr>\n",
              "      <th>max</th>\n",
              "      <td>10.00000</td>\n",
              "      <td>7.000000</td>\n",
              "      <td>6.000000</td>\n",
              "      <td>6.000000</td>\n",
              "      <td>6.00000</td>\n",
              "      <td>7.000000</td>\n",
              "    </tr>\n",
              "  </tbody>\n",
              "</table>\n",
              "</div>\n",
              "      <button class=\"colab-df-convert\" onclick=\"convertToInteractive('df-6743278d-ab93-4673-926d-2b4fefa4d232')\"\n",
              "              title=\"Convert this dataframe to an interactive table.\"\n",
              "              style=\"display:none;\">\n",
              "        \n",
              "  <svg xmlns=\"http://www.w3.org/2000/svg\" height=\"24px\"viewBox=\"0 0 24 24\"\n",
              "       width=\"24px\">\n",
              "    <path d=\"M0 0h24v24H0V0z\" fill=\"none\"/>\n",
              "    <path d=\"M18.56 5.44l.94 2.06.94-2.06 2.06-.94-2.06-.94-.94-2.06-.94 2.06-2.06.94zm-11 1L8.5 8.5l.94-2.06 2.06-.94-2.06-.94L8.5 2.5l-.94 2.06-2.06.94zm10 10l.94 2.06.94-2.06 2.06-.94-2.06-.94-.94-2.06-.94 2.06-2.06.94z\"/><path d=\"M17.41 7.96l-1.37-1.37c-.4-.4-.92-.59-1.43-.59-.52 0-1.04.2-1.43.59L10.3 9.45l-7.72 7.72c-.78.78-.78 2.05 0 2.83L4 21.41c.39.39.9.59 1.41.59.51 0 1.02-.2 1.41-.59l7.78-7.78 2.81-2.81c.8-.78.8-2.07 0-2.86zM5.41 20L4 18.59l7.72-7.72 1.47 1.35L5.41 20z\"/>\n",
              "  </svg>\n",
              "      </button>\n",
              "      \n",
              "  <style>\n",
              "    .colab-df-container {\n",
              "      display:flex;\n",
              "      flex-wrap:wrap;\n",
              "      gap: 12px;\n",
              "    }\n",
              "\n",
              "    .colab-df-convert {\n",
              "      background-color: #E8F0FE;\n",
              "      border: none;\n",
              "      border-radius: 50%;\n",
              "      cursor: pointer;\n",
              "      display: none;\n",
              "      fill: #1967D2;\n",
              "      height: 32px;\n",
              "      padding: 0 0 0 0;\n",
              "      width: 32px;\n",
              "    }\n",
              "\n",
              "    .colab-df-convert:hover {\n",
              "      background-color: #E2EBFA;\n",
              "      box-shadow: 0px 1px 2px rgba(60, 64, 67, 0.3), 0px 1px 3px 1px rgba(60, 64, 67, 0.15);\n",
              "      fill: #174EA6;\n",
              "    }\n",
              "\n",
              "    [theme=dark] .colab-df-convert {\n",
              "      background-color: #3B4455;\n",
              "      fill: #D2E3FC;\n",
              "    }\n",
              "\n",
              "    [theme=dark] .colab-df-convert:hover {\n",
              "      background-color: #434B5C;\n",
              "      box-shadow: 0px 1px 3px 1px rgba(0, 0, 0, 0.15);\n",
              "      filter: drop-shadow(0px 1px 2px rgba(0, 0, 0, 0.3));\n",
              "      fill: #FFFFFF;\n",
              "    }\n",
              "  </style>\n",
              "\n",
              "      <script>\n",
              "        const buttonEl =\n",
              "          document.querySelector('#df-6743278d-ab93-4673-926d-2b4fefa4d232 button.colab-df-convert');\n",
              "        buttonEl.style.display =\n",
              "          google.colab.kernel.accessAllowed ? 'block' : 'none';\n",
              "\n",
              "        async function convertToInteractive(key) {\n",
              "          const element = document.querySelector('#df-6743278d-ab93-4673-926d-2b4fefa4d232');\n",
              "          const dataTable =\n",
              "            await google.colab.kernel.invokeFunction('convertToInteractive',\n",
              "                                                     [key], {});\n",
              "          if (!dataTable) return;\n",
              "\n",
              "          const docLinkHtml = 'Like what you see? Visit the ' +\n",
              "            '<a target=\"_blank\" href=https://colab.research.google.com/notebooks/data_table.ipynb>data table notebook</a>'\n",
              "            + ' to learn more about interactive tables.';\n",
              "          element.innerHTML = '';\n",
              "          dataTable['output_type'] = 'display_data';\n",
              "          await google.colab.output.renderOutput(dataTable, element);\n",
              "          const docLink = document.createElement('div');\n",
              "          docLink.innerHTML = docLinkHtml;\n",
              "          element.appendChild(docLink);\n",
              "        }\n",
              "      </script>\n",
              "    </div>\n",
              "  </div>\n",
              "  "
            ]
          },
          "metadata": {},
          "execution_count": 78
        }
      ]
    },
    {
      "cell_type": "code",
      "source": [
        "# 표준편차\n",
        "df.std()"
      ],
      "metadata": {
        "id": "YoKPuc35kk93",
        "outputId": "407c6c07-78c7-4afd-c97a-d824c37bbf39",
        "colab": {
          "base_uri": "https://localhost:8080/"
        }
      },
      "execution_count": 79,
      "outputs": [
        {
          "output_type": "execute_result",
          "data": {
            "text/plain": [
              "학생      3.027650\n",
              "퐁당과자    2.299758\n",
              "컵케이크    1.897367\n",
              "아이싱     1.699673\n",
              "조립      1.370320\n",
              "질감      2.057507\n",
              "dtype: float64"
            ]
          },
          "metadata": {},
          "execution_count": 79
        }
      ]
    },
    {
      "cell_type": "code",
      "source": [
        "# 분산\n",
        "df.var()"
      ],
      "metadata": {
        "id": "NG0yjisjkro-",
        "outputId": "5d72a04a-8f7b-483c-9e7f-c6b998f04e68",
        "colab": {
          "base_uri": "https://localhost:8080/"
        }
      },
      "execution_count": 80,
      "outputs": [
        {
          "output_type": "execute_result",
          "data": {
            "text/plain": [
              "학생      9.166667\n",
              "퐁당과자    5.288889\n",
              "컵케이크    3.600000\n",
              "아이싱     2.888889\n",
              "조립      1.877778\n",
              "질감      4.233333\n",
              "dtype: float64"
            ]
          },
          "metadata": {},
          "execution_count": 80
        }
      ]
    },
    {
      "cell_type": "code",
      "source": [
        "# 첨도, 왜도\n",
        "from scipy.stats import skew, kurtosis\n",
        "# 왜도\n",
        "skew(df, bias = False)"
      ],
      "metadata": {
        "id": "fNwc9Tq1k3bB",
        "outputId": "535bccb4-bd73-4e2e-924a-f7306d2a64c9",
        "colab": {
          "base_uri": "https://localhost:8080/"
        }
      },
      "execution_count": 81,
      "outputs": [
        {
          "output_type": "execute_result",
          "data": {
            "text/plain": [
              "array([ 0.        , -0.30419709,  0.13176157, -0.16971589, -0.54407872,\n",
              "       -0.12054955])"
            ]
          },
          "metadata": {},
          "execution_count": 81
        }
      ]
    },
    {
      "cell_type": "code",
      "source": [
        "# 첨도\n",
        "kurtosis(df, bias = False)"
      ],
      "metadata": {
        "id": "fNJ9sLRUk3bC",
        "outputId": "d2b14e14-bb65-4789-d42e-c2710c8572de",
        "colab": {
          "base_uri": "https://localhost:8080/"
        }
      },
      "execution_count": 82,
      "outputs": [
        {
          "output_type": "execute_result",
          "data": {
            "text/plain": [
              "array([-1.2       , -1.45336286, -1.43812463, -0.83495351, -0.87196827,\n",
              "       -1.08252217])"
            ]
          },
          "metadata": {},
          "execution_count": 82
        }
      ]
    },
    {
      "cell_type": "code",
      "source": [],
      "metadata": {
        "id": "ymUBnDjOqHdr"
      },
      "execution_count": 82,
      "outputs": []
    }
  ]
}