{
 "cells": [
  {
   "cell_type": "markdown",
   "id": "1b609995",
   "metadata": {},
   "source": [
    "# 뉴스기사 분류 : 다중 분류 문제\n",
    "- 토픽 : 46개\n",
    "- 1986년에 로이터에서 공개한 짧은 뉴스, 토픽의 집합\n",
    "- 특정 토픽은  다른것에 비해 많음\n",
    "- 각 토픽은 훈련 세트에 최소한 10개 이상의 샘플을 가지고 있음\n",
    "- 훈련 데이터 : 8,982, 테스트 데이터 : 2,246"
   ]
  },
  {
   "cell_type": "code",
   "execution_count": 1,
   "id": "48df365e",
   "metadata": {},
   "outputs": [
    {
     "name": "stdout",
     "output_type": "stream",
     "text": [
      "Downloading data from https://storage.googleapis.com/tensorflow/tf-keras-datasets/reuters.npz\n",
      "2110848/2110848 [==============================] - 0s 0us/step\n"
     ]
    }
   ],
   "source": [
    "from tensorflow.keras.datasets import reuters\n",
    "\n",
    "(train_data, train_labels), (test_data, test_labels) = reuters.load_data(num_words=10000)"
   ]
  },
  {
   "cell_type": "code",
   "execution_count": null,
   "id": "4b3b134d",
   "metadata": {},
   "outputs": [],
   "source": []
  }
 ],
 "metadata": {
  "kernelspec": {
   "display_name": "Python 3 (ipykernel)",
   "language": "python",
   "name": "python3"
  },
  "language_info": {
   "codemirror_mode": {
    "name": "ipython",
    "version": 3
   },
   "file_extension": ".py",
   "mimetype": "text/x-python",
   "name": "python",
   "nbconvert_exporter": "python",
   "pygments_lexer": "ipython3",
   "version": "3.10.9"
  }
 },
 "nbformat": 4,
 "nbformat_minor": 5
}
